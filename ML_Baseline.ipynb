{
 "cells": [
  {
   "cell_type": "code",
   "execution_count": 1,
   "id": "84bcc22e",
   "metadata": {},
   "outputs": [],
   "source": [
    "import numpy as np\n",
    "import pandas as pd\n",
    "import matplotlib as plt"
   ]
  },
  {
   "cell_type": "code",
   "execution_count": 2,
   "id": "2ca01c20",
   "metadata": {},
   "outputs": [],
   "source": [
    "df=pd.read_csv('data/train_1_only_bookings.csv')"
   ]
  },
  {
   "cell_type": "code",
   "execution_count": 3,
   "id": "19a407ce",
   "metadata": {},
   "outputs": [
    {
     "data": {
      "application/vnd.microsoft.datawrangler.viewer.v0+json": {
       "columns": [
        {
         "name": "index",
         "rawType": "int64",
         "type": "integer"
        },
        {
         "name": "date_time",
         "rawType": "object",
         "type": "string"
        },
        {
         "name": "site_name",
         "rawType": "int64",
         "type": "integer"
        },
        {
         "name": "posa_continent",
         "rawType": "int64",
         "type": "integer"
        },
        {
         "name": "user_location_country",
         "rawType": "int64",
         "type": "integer"
        },
        {
         "name": "user_location_region",
         "rawType": "int64",
         "type": "integer"
        },
        {
         "name": "user_location_city",
         "rawType": "int64",
         "type": "integer"
        },
        {
         "name": "orig_destination_distance",
         "rawType": "float64",
         "type": "float"
        },
        {
         "name": "user_id",
         "rawType": "int64",
         "type": "integer"
        },
        {
         "name": "is_mobile",
         "rawType": "int64",
         "type": "integer"
        },
        {
         "name": "is_package",
         "rawType": "int64",
         "type": "integer"
        },
        {
         "name": "channel",
         "rawType": "int64",
         "type": "integer"
        },
        {
         "name": "srch_ci",
         "rawType": "object",
         "type": "string"
        },
        {
         "name": "srch_co",
         "rawType": "object",
         "type": "string"
        },
        {
         "name": "srch_adults_cnt",
         "rawType": "int64",
         "type": "integer"
        },
        {
         "name": "srch_children_cnt",
         "rawType": "int64",
         "type": "integer"
        },
        {
         "name": "srch_rm_cnt",
         "rawType": "int64",
         "type": "integer"
        },
        {
         "name": "srch_destination_id",
         "rawType": "int64",
         "type": "integer"
        },
        {
         "name": "srch_destination_type_id",
         "rawType": "int64",
         "type": "integer"
        },
        {
         "name": "is_booking",
         "rawType": "int64",
         "type": "integer"
        },
        {
         "name": "cnt",
         "rawType": "int64",
         "type": "integer"
        },
        {
         "name": "hotel_continent",
         "rawType": "int64",
         "type": "integer"
        },
        {
         "name": "hotel_country",
         "rawType": "int64",
         "type": "integer"
        },
        {
         "name": "hotel_market",
         "rawType": "int64",
         "type": "integer"
        },
        {
         "name": "hotel_cluster",
         "rawType": "int64",
         "type": "integer"
        }
       ],
       "ref": "0d2fdaa3-3d98-4737-8325-66e3bcb7a091",
       "rows": [
        [
         "0",
         "2014-08-11 07:46:59",
         "2",
         "3",
         "66",
         "348",
         "48862",
         "2234.2641",
         "12",
         "0",
         "1",
         "9",
         "2014-08-27",
         "2014-08-31",
         "2",
         "0",
         "1",
         "8250",
         "1",
         "0",
         "3",
         "2",
         "50",
         "628",
         "1"
        ],
        [
         "1",
         "2014-08-11 08:22:12",
         "2",
         "3",
         "66",
         "348",
         "48862",
         "2234.2641",
         "12",
         "0",
         "1",
         "9",
         "2014-08-29",
         "2014-09-02",
         "2",
         "0",
         "1",
         "8250",
         "1",
         "1",
         "1",
         "2",
         "50",
         "628",
         "1"
        ],
        [
         "2",
         "2014-02-27 18:01:32",
         "2",
         "3",
         "66",
         "318",
         "52078",
         null,
         "756",
         "0",
         "1",
         "4",
         "2014-04-18",
         "2014-04-20",
         "2",
         "0",
         "1",
         "8291",
         "1",
         "1",
         "1",
         "2",
         "50",
         "191",
         "2"
        ],
        [
         "3",
         "2013-06-15 15:38:05",
         "30",
         "4",
         "195",
         "548",
         "56440",
         null,
         "1048",
         "0",
         "1",
         "9",
         "2013-09-06",
         "2013-09-14",
         "2",
         "0",
         "1",
         "1385",
         "1",
         "1",
         "1",
         "0",
         "185",
         "185",
         "58"
        ],
        [
         "4",
         "2014-11-23 18:02:20",
         "30",
         "4",
         "195",
         "991",
         "47725",
         null,
         "1048",
         "0",
         "0",
         "9",
         "2015-06-26",
         "2015-06-28",
         "2",
         "0",
         "1",
         "8803",
         "1",
         "1",
         "1",
         "3",
         "151",
         "69",
         "36"
        ]
       ],
       "shape": {
        "columns": 24,
        "rows": 5
       }
      },
      "text/html": [
       "<div>\n",
       "<style scoped>\n",
       "    .dataframe tbody tr th:only-of-type {\n",
       "        vertical-align: middle;\n",
       "    }\n",
       "\n",
       "    .dataframe tbody tr th {\n",
       "        vertical-align: top;\n",
       "    }\n",
       "\n",
       "    .dataframe thead th {\n",
       "        text-align: right;\n",
       "    }\n",
       "</style>\n",
       "<table border=\"1\" class=\"dataframe\">\n",
       "  <thead>\n",
       "    <tr style=\"text-align: right;\">\n",
       "      <th></th>\n",
       "      <th>date_time</th>\n",
       "      <th>site_name</th>\n",
       "      <th>posa_continent</th>\n",
       "      <th>user_location_country</th>\n",
       "      <th>user_location_region</th>\n",
       "      <th>user_location_city</th>\n",
       "      <th>orig_destination_distance</th>\n",
       "      <th>user_id</th>\n",
       "      <th>is_mobile</th>\n",
       "      <th>is_package</th>\n",
       "      <th>...</th>\n",
       "      <th>srch_children_cnt</th>\n",
       "      <th>srch_rm_cnt</th>\n",
       "      <th>srch_destination_id</th>\n",
       "      <th>srch_destination_type_id</th>\n",
       "      <th>is_booking</th>\n",
       "      <th>cnt</th>\n",
       "      <th>hotel_continent</th>\n",
       "      <th>hotel_country</th>\n",
       "      <th>hotel_market</th>\n",
       "      <th>hotel_cluster</th>\n",
       "    </tr>\n",
       "  </thead>\n",
       "  <tbody>\n",
       "    <tr>\n",
       "      <th>0</th>\n",
       "      <td>2014-08-11 07:46:59</td>\n",
       "      <td>2</td>\n",
       "      <td>3</td>\n",
       "      <td>66</td>\n",
       "      <td>348</td>\n",
       "      <td>48862</td>\n",
       "      <td>2234.2641</td>\n",
       "      <td>12</td>\n",
       "      <td>0</td>\n",
       "      <td>1</td>\n",
       "      <td>...</td>\n",
       "      <td>0</td>\n",
       "      <td>1</td>\n",
       "      <td>8250</td>\n",
       "      <td>1</td>\n",
       "      <td>0</td>\n",
       "      <td>3</td>\n",
       "      <td>2</td>\n",
       "      <td>50</td>\n",
       "      <td>628</td>\n",
       "      <td>1</td>\n",
       "    </tr>\n",
       "    <tr>\n",
       "      <th>1</th>\n",
       "      <td>2014-08-11 08:22:12</td>\n",
       "      <td>2</td>\n",
       "      <td>3</td>\n",
       "      <td>66</td>\n",
       "      <td>348</td>\n",
       "      <td>48862</td>\n",
       "      <td>2234.2641</td>\n",
       "      <td>12</td>\n",
       "      <td>0</td>\n",
       "      <td>1</td>\n",
       "      <td>...</td>\n",
       "      <td>0</td>\n",
       "      <td>1</td>\n",
       "      <td>8250</td>\n",
       "      <td>1</td>\n",
       "      <td>1</td>\n",
       "      <td>1</td>\n",
       "      <td>2</td>\n",
       "      <td>50</td>\n",
       "      <td>628</td>\n",
       "      <td>1</td>\n",
       "    </tr>\n",
       "    <tr>\n",
       "      <th>2</th>\n",
       "      <td>2014-02-27 18:01:32</td>\n",
       "      <td>2</td>\n",
       "      <td>3</td>\n",
       "      <td>66</td>\n",
       "      <td>318</td>\n",
       "      <td>52078</td>\n",
       "      <td>NaN</td>\n",
       "      <td>756</td>\n",
       "      <td>0</td>\n",
       "      <td>1</td>\n",
       "      <td>...</td>\n",
       "      <td>0</td>\n",
       "      <td>1</td>\n",
       "      <td>8291</td>\n",
       "      <td>1</td>\n",
       "      <td>1</td>\n",
       "      <td>1</td>\n",
       "      <td>2</td>\n",
       "      <td>50</td>\n",
       "      <td>191</td>\n",
       "      <td>2</td>\n",
       "    </tr>\n",
       "    <tr>\n",
       "      <th>3</th>\n",
       "      <td>2013-06-15 15:38:05</td>\n",
       "      <td>30</td>\n",
       "      <td>4</td>\n",
       "      <td>195</td>\n",
       "      <td>548</td>\n",
       "      <td>56440</td>\n",
       "      <td>NaN</td>\n",
       "      <td>1048</td>\n",
       "      <td>0</td>\n",
       "      <td>1</td>\n",
       "      <td>...</td>\n",
       "      <td>0</td>\n",
       "      <td>1</td>\n",
       "      <td>1385</td>\n",
       "      <td>1</td>\n",
       "      <td>1</td>\n",
       "      <td>1</td>\n",
       "      <td>0</td>\n",
       "      <td>185</td>\n",
       "      <td>185</td>\n",
       "      <td>58</td>\n",
       "    </tr>\n",
       "    <tr>\n",
       "      <th>4</th>\n",
       "      <td>2014-11-23 18:02:20</td>\n",
       "      <td>30</td>\n",
       "      <td>4</td>\n",
       "      <td>195</td>\n",
       "      <td>991</td>\n",
       "      <td>47725</td>\n",
       "      <td>NaN</td>\n",
       "      <td>1048</td>\n",
       "      <td>0</td>\n",
       "      <td>0</td>\n",
       "      <td>...</td>\n",
       "      <td>0</td>\n",
       "      <td>1</td>\n",
       "      <td>8803</td>\n",
       "      <td>1</td>\n",
       "      <td>1</td>\n",
       "      <td>1</td>\n",
       "      <td>3</td>\n",
       "      <td>151</td>\n",
       "      <td>69</td>\n",
       "      <td>36</td>\n",
       "    </tr>\n",
       "  </tbody>\n",
       "</table>\n",
       "<p>5 rows × 24 columns</p>\n",
       "</div>"
      ],
      "text/plain": [
       "             date_time  site_name  posa_continent  user_location_country   \n",
       "0  2014-08-11 07:46:59          2               3                     66  \\\n",
       "1  2014-08-11 08:22:12          2               3                     66   \n",
       "2  2014-02-27 18:01:32          2               3                     66   \n",
       "3  2013-06-15 15:38:05         30               4                    195   \n",
       "4  2014-11-23 18:02:20         30               4                    195   \n",
       "\n",
       "   user_location_region  user_location_city  orig_destination_distance   \n",
       "0                   348               48862                  2234.2641  \\\n",
       "1                   348               48862                  2234.2641   \n",
       "2                   318               52078                        NaN   \n",
       "3                   548               56440                        NaN   \n",
       "4                   991               47725                        NaN   \n",
       "\n",
       "   user_id  is_mobile  is_package  ...  srch_children_cnt srch_rm_cnt   \n",
       "0       12          0           1  ...                  0           1  \\\n",
       "1       12          0           1  ...                  0           1   \n",
       "2      756          0           1  ...                  0           1   \n",
       "3     1048          0           1  ...                  0           1   \n",
       "4     1048          0           0  ...                  0           1   \n",
       "\n",
       "  srch_destination_id  srch_destination_type_id  is_booking  cnt   \n",
       "0                8250                         1           0    3  \\\n",
       "1                8250                         1           1    1   \n",
       "2                8291                         1           1    1   \n",
       "3                1385                         1           1    1   \n",
       "4                8803                         1           1    1   \n",
       "\n",
       "   hotel_continent  hotel_country  hotel_market  hotel_cluster  \n",
       "0                2             50           628              1  \n",
       "1                2             50           628              1  \n",
       "2                2             50           191              2  \n",
       "3                0            185           185             58  \n",
       "4                3            151            69             36  \n",
       "\n",
       "[5 rows x 24 columns]"
      ]
     },
     "execution_count": 3,
     "metadata": {},
     "output_type": "execute_result"
    }
   ],
   "source": [
    "df.head()"
   ]
  },
  {
   "cell_type": "code",
   "execution_count": 4,
   "id": "f2d9d4c9",
   "metadata": {},
   "outputs": [
    {
     "data": {
      "text/plain": [
       "0"
      ]
     },
     "execution_count": 4,
     "metadata": {},
     "output_type": "execute_result"
    }
   ],
   "source": [
    "df.duplicated().sum()"
   ]
  },
  {
   "cell_type": "code",
   "execution_count": 5,
   "id": "a432165e",
   "metadata": {},
   "outputs": [],
   "source": [
    "df = df.iloc[1:].reset_index(drop=True)"
   ]
  },
  {
   "cell_type": "code",
   "execution_count": 6,
   "id": "9e2d5faf",
   "metadata": {},
   "outputs": [
    {
     "data": {
      "application/vnd.microsoft.datawrangler.viewer.v0+json": {
       "columns": [
        {
         "name": "index",
         "rawType": "int64",
         "type": "integer"
        },
        {
         "name": "date_time",
         "rawType": "object",
         "type": "string"
        },
        {
         "name": "site_name",
         "rawType": "int64",
         "type": "integer"
        },
        {
         "name": "posa_continent",
         "rawType": "int64",
         "type": "integer"
        },
        {
         "name": "user_location_country",
         "rawType": "int64",
         "type": "integer"
        },
        {
         "name": "user_location_region",
         "rawType": "int64",
         "type": "integer"
        },
        {
         "name": "user_location_city",
         "rawType": "int64",
         "type": "integer"
        },
        {
         "name": "orig_destination_distance",
         "rawType": "float64",
         "type": "float"
        },
        {
         "name": "user_id",
         "rawType": "int64",
         "type": "integer"
        },
        {
         "name": "is_mobile",
         "rawType": "int64",
         "type": "integer"
        },
        {
         "name": "is_package",
         "rawType": "int64",
         "type": "integer"
        },
        {
         "name": "channel",
         "rawType": "int64",
         "type": "integer"
        },
        {
         "name": "srch_ci",
         "rawType": "object",
         "type": "string"
        },
        {
         "name": "srch_co",
         "rawType": "object",
         "type": "string"
        },
        {
         "name": "srch_adults_cnt",
         "rawType": "int64",
         "type": "integer"
        },
        {
         "name": "srch_children_cnt",
         "rawType": "int64",
         "type": "integer"
        },
        {
         "name": "srch_rm_cnt",
         "rawType": "int64",
         "type": "integer"
        },
        {
         "name": "srch_destination_id",
         "rawType": "int64",
         "type": "integer"
        },
        {
         "name": "srch_destination_type_id",
         "rawType": "int64",
         "type": "integer"
        },
        {
         "name": "is_booking",
         "rawType": "int64",
         "type": "integer"
        },
        {
         "name": "cnt",
         "rawType": "int64",
         "type": "integer"
        },
        {
         "name": "hotel_continent",
         "rawType": "int64",
         "type": "integer"
        },
        {
         "name": "hotel_country",
         "rawType": "int64",
         "type": "integer"
        },
        {
         "name": "hotel_market",
         "rawType": "int64",
         "type": "integer"
        },
        {
         "name": "hotel_cluster",
         "rawType": "int64",
         "type": "integer"
        }
       ],
       "ref": "f5597d4b-d721-4d00-a8ec-a1d4a8c198ab",
       "rows": [
        [
         "0",
         "2014-08-11 08:22:12",
         "2",
         "3",
         "66",
         "348",
         "48862",
         "2234.2641",
         "12",
         "0",
         "1",
         "9",
         "2014-08-29",
         "2014-09-02",
         "2",
         "0",
         "1",
         "8250",
         "1",
         "1",
         "1",
         "2",
         "50",
         "628",
         "1"
        ],
        [
         "1",
         "2014-02-27 18:01:32",
         "2",
         "3",
         "66",
         "318",
         "52078",
         null,
         "756",
         "0",
         "1",
         "4",
         "2014-04-18",
         "2014-04-20",
         "2",
         "0",
         "1",
         "8291",
         "1",
         "1",
         "1",
         "2",
         "50",
         "191",
         "2"
        ],
        [
         "2",
         "2013-06-15 15:38:05",
         "30",
         "4",
         "195",
         "548",
         "56440",
         null,
         "1048",
         "0",
         "1",
         "9",
         "2013-09-06",
         "2013-09-14",
         "2",
         "0",
         "1",
         "1385",
         "1",
         "1",
         "1",
         "0",
         "185",
         "185",
         "58"
        ],
        [
         "3",
         "2014-11-23 18:02:20",
         "30",
         "4",
         "195",
         "991",
         "47725",
         null,
         "1048",
         "0",
         "0",
         "9",
         "2015-06-26",
         "2015-06-28",
         "2",
         "0",
         "1",
         "8803",
         "1",
         "1",
         "1",
         "3",
         "151",
         "69",
         "36"
        ],
        [
         "4",
         "2014-01-03 16:30:17",
         "2",
         "3",
         "66",
         "462",
         "41898",
         "2454.8588",
         "1482",
         "0",
         "1",
         "1",
         "2014-02-22",
         "2014-02-27",
         "3",
         "0",
         "2",
         "12009",
         "1",
         "1",
         "1",
         "2",
         "50",
         "680",
         "95"
        ]
       ],
       "shape": {
        "columns": 24,
        "rows": 5
       }
      },
      "text/html": [
       "<div>\n",
       "<style scoped>\n",
       "    .dataframe tbody tr th:only-of-type {\n",
       "        vertical-align: middle;\n",
       "    }\n",
       "\n",
       "    .dataframe tbody tr th {\n",
       "        vertical-align: top;\n",
       "    }\n",
       "\n",
       "    .dataframe thead th {\n",
       "        text-align: right;\n",
       "    }\n",
       "</style>\n",
       "<table border=\"1\" class=\"dataframe\">\n",
       "  <thead>\n",
       "    <tr style=\"text-align: right;\">\n",
       "      <th></th>\n",
       "      <th>date_time</th>\n",
       "      <th>site_name</th>\n",
       "      <th>posa_continent</th>\n",
       "      <th>user_location_country</th>\n",
       "      <th>user_location_region</th>\n",
       "      <th>user_location_city</th>\n",
       "      <th>orig_destination_distance</th>\n",
       "      <th>user_id</th>\n",
       "      <th>is_mobile</th>\n",
       "      <th>is_package</th>\n",
       "      <th>...</th>\n",
       "      <th>srch_children_cnt</th>\n",
       "      <th>srch_rm_cnt</th>\n",
       "      <th>srch_destination_id</th>\n",
       "      <th>srch_destination_type_id</th>\n",
       "      <th>is_booking</th>\n",
       "      <th>cnt</th>\n",
       "      <th>hotel_continent</th>\n",
       "      <th>hotel_country</th>\n",
       "      <th>hotel_market</th>\n",
       "      <th>hotel_cluster</th>\n",
       "    </tr>\n",
       "  </thead>\n",
       "  <tbody>\n",
       "    <tr>\n",
       "      <th>0</th>\n",
       "      <td>2014-08-11 08:22:12</td>\n",
       "      <td>2</td>\n",
       "      <td>3</td>\n",
       "      <td>66</td>\n",
       "      <td>348</td>\n",
       "      <td>48862</td>\n",
       "      <td>2234.2641</td>\n",
       "      <td>12</td>\n",
       "      <td>0</td>\n",
       "      <td>1</td>\n",
       "      <td>...</td>\n",
       "      <td>0</td>\n",
       "      <td>1</td>\n",
       "      <td>8250</td>\n",
       "      <td>1</td>\n",
       "      <td>1</td>\n",
       "      <td>1</td>\n",
       "      <td>2</td>\n",
       "      <td>50</td>\n",
       "      <td>628</td>\n",
       "      <td>1</td>\n",
       "    </tr>\n",
       "    <tr>\n",
       "      <th>1</th>\n",
       "      <td>2014-02-27 18:01:32</td>\n",
       "      <td>2</td>\n",
       "      <td>3</td>\n",
       "      <td>66</td>\n",
       "      <td>318</td>\n",
       "      <td>52078</td>\n",
       "      <td>NaN</td>\n",
       "      <td>756</td>\n",
       "      <td>0</td>\n",
       "      <td>1</td>\n",
       "      <td>...</td>\n",
       "      <td>0</td>\n",
       "      <td>1</td>\n",
       "      <td>8291</td>\n",
       "      <td>1</td>\n",
       "      <td>1</td>\n",
       "      <td>1</td>\n",
       "      <td>2</td>\n",
       "      <td>50</td>\n",
       "      <td>191</td>\n",
       "      <td>2</td>\n",
       "    </tr>\n",
       "    <tr>\n",
       "      <th>2</th>\n",
       "      <td>2013-06-15 15:38:05</td>\n",
       "      <td>30</td>\n",
       "      <td>4</td>\n",
       "      <td>195</td>\n",
       "      <td>548</td>\n",
       "      <td>56440</td>\n",
       "      <td>NaN</td>\n",
       "      <td>1048</td>\n",
       "      <td>0</td>\n",
       "      <td>1</td>\n",
       "      <td>...</td>\n",
       "      <td>0</td>\n",
       "      <td>1</td>\n",
       "      <td>1385</td>\n",
       "      <td>1</td>\n",
       "      <td>1</td>\n",
       "      <td>1</td>\n",
       "      <td>0</td>\n",
       "      <td>185</td>\n",
       "      <td>185</td>\n",
       "      <td>58</td>\n",
       "    </tr>\n",
       "    <tr>\n",
       "      <th>3</th>\n",
       "      <td>2014-11-23 18:02:20</td>\n",
       "      <td>30</td>\n",
       "      <td>4</td>\n",
       "      <td>195</td>\n",
       "      <td>991</td>\n",
       "      <td>47725</td>\n",
       "      <td>NaN</td>\n",
       "      <td>1048</td>\n",
       "      <td>0</td>\n",
       "      <td>0</td>\n",
       "      <td>...</td>\n",
       "      <td>0</td>\n",
       "      <td>1</td>\n",
       "      <td>8803</td>\n",
       "      <td>1</td>\n",
       "      <td>1</td>\n",
       "      <td>1</td>\n",
       "      <td>3</td>\n",
       "      <td>151</td>\n",
       "      <td>69</td>\n",
       "      <td>36</td>\n",
       "    </tr>\n",
       "    <tr>\n",
       "      <th>4</th>\n",
       "      <td>2014-01-03 16:30:17</td>\n",
       "      <td>2</td>\n",
       "      <td>3</td>\n",
       "      <td>66</td>\n",
       "      <td>462</td>\n",
       "      <td>41898</td>\n",
       "      <td>2454.8588</td>\n",
       "      <td>1482</td>\n",
       "      <td>0</td>\n",
       "      <td>1</td>\n",
       "      <td>...</td>\n",
       "      <td>0</td>\n",
       "      <td>2</td>\n",
       "      <td>12009</td>\n",
       "      <td>1</td>\n",
       "      <td>1</td>\n",
       "      <td>1</td>\n",
       "      <td>2</td>\n",
       "      <td>50</td>\n",
       "      <td>680</td>\n",
       "      <td>95</td>\n",
       "    </tr>\n",
       "  </tbody>\n",
       "</table>\n",
       "<p>5 rows × 24 columns</p>\n",
       "</div>"
      ],
      "text/plain": [
       "             date_time  site_name  posa_continent  user_location_country   \n",
       "0  2014-08-11 08:22:12          2               3                     66  \\\n",
       "1  2014-02-27 18:01:32          2               3                     66   \n",
       "2  2013-06-15 15:38:05         30               4                    195   \n",
       "3  2014-11-23 18:02:20         30               4                    195   \n",
       "4  2014-01-03 16:30:17          2               3                     66   \n",
       "\n",
       "   user_location_region  user_location_city  orig_destination_distance   \n",
       "0                   348               48862                  2234.2641  \\\n",
       "1                   318               52078                        NaN   \n",
       "2                   548               56440                        NaN   \n",
       "3                   991               47725                        NaN   \n",
       "4                   462               41898                  2454.8588   \n",
       "\n",
       "   user_id  is_mobile  is_package  ...  srch_children_cnt srch_rm_cnt   \n",
       "0       12          0           1  ...                  0           1  \\\n",
       "1      756          0           1  ...                  0           1   \n",
       "2     1048          0           1  ...                  0           1   \n",
       "3     1048          0           0  ...                  0           1   \n",
       "4     1482          0           1  ...                  0           2   \n",
       "\n",
       "  srch_destination_id  srch_destination_type_id  is_booking  cnt   \n",
       "0                8250                         1           1    1  \\\n",
       "1                8291                         1           1    1   \n",
       "2                1385                         1           1    1   \n",
       "3                8803                         1           1    1   \n",
       "4               12009                         1           1    1   \n",
       "\n",
       "   hotel_continent  hotel_country  hotel_market  hotel_cluster  \n",
       "0                2             50           628              1  \n",
       "1                2             50           191              2  \n",
       "2                0            185           185             58  \n",
       "3                3            151            69             36  \n",
       "4                2             50           680             95  \n",
       "\n",
       "[5 rows x 24 columns]"
      ]
     },
     "execution_count": 6,
     "metadata": {},
     "output_type": "execute_result"
    }
   ],
   "source": [
    "df.head()"
   ]
  },
  {
   "cell_type": "code",
   "execution_count": 7,
   "id": "ee5eccb3",
   "metadata": {},
   "outputs": [
    {
     "data": {
      "application/vnd.microsoft.datawrangler.viewer.v0+json": {
       "columns": [
        {
         "name": "index",
         "rawType": "object",
         "type": "string"
        },
        {
         "name": "0",
         "rawType": "int64",
         "type": "integer"
        }
       ],
       "ref": "56de99b3-686d-493c-ad3e-74cc14d6c11c",
       "rows": [
        [
         "date_time",
         "0"
        ],
        [
         "site_name",
         "0"
        ],
        [
         "posa_continent",
         "0"
        ],
        [
         "user_location_country",
         "0"
        ],
        [
         "user_location_region",
         "0"
        ],
        [
         "user_location_city",
         "0"
        ],
        [
         "orig_destination_distance",
         "338779"
        ],
        [
         "user_id",
         "0"
        ],
        [
         "is_mobile",
         "0"
        ],
        [
         "is_package",
         "0"
        ],
        [
         "channel",
         "0"
        ],
        [
         "srch_ci",
         "0"
        ],
        [
         "srch_co",
         "0"
        ],
        [
         "srch_adults_cnt",
         "0"
        ],
        [
         "srch_children_cnt",
         "0"
        ],
        [
         "srch_rm_cnt",
         "0"
        ],
        [
         "srch_destination_id",
         "0"
        ],
        [
         "srch_destination_type_id",
         "0"
        ],
        [
         "is_booking",
         "0"
        ],
        [
         "cnt",
         "0"
        ],
        [
         "hotel_continent",
         "0"
        ],
        [
         "hotel_country",
         "0"
        ],
        [
         "hotel_market",
         "0"
        ],
        [
         "hotel_cluster",
         "0"
        ]
       ],
       "shape": {
        "columns": 1,
        "rows": 24
       }
      },
      "text/plain": [
       "date_time                         0\n",
       "site_name                         0\n",
       "posa_continent                    0\n",
       "user_location_country             0\n",
       "user_location_region              0\n",
       "user_location_city                0\n",
       "orig_destination_distance    338779\n",
       "user_id                           0\n",
       "is_mobile                         0\n",
       "is_package                        0\n",
       "channel                           0\n",
       "srch_ci                           0\n",
       "srch_co                           0\n",
       "srch_adults_cnt                   0\n",
       "srch_children_cnt                 0\n",
       "srch_rm_cnt                       0\n",
       "srch_destination_id               0\n",
       "srch_destination_type_id          0\n",
       "is_booking                        0\n",
       "cnt                               0\n",
       "hotel_continent                   0\n",
       "hotel_country                     0\n",
       "hotel_market                      0\n",
       "hotel_cluster                     0\n",
       "dtype: int64"
      ]
     },
     "execution_count": 7,
     "metadata": {},
     "output_type": "execute_result"
    }
   ],
   "source": [
    "df.isna().sum()"
   ]
  },
  {
   "cell_type": "code",
   "execution_count": 8,
   "id": "50b2cae7",
   "metadata": {},
   "outputs": [],
   "source": [
    "from sklearn.tree import DecisionTreeClassifier\n",
    "from sklearn.model_selection import train_test_split\n",
    "from sklearn.preprocessing import LabelEncoder\n",
    "import warnings\n",
    "warnings.filterwarnings(\"ignore\")   \n",
    "from sklearn.metrics import accuracy_score, classification_report, confusion_matrix, f1_score, precision_score, recall_score\n"
   ]
  },
  {
   "cell_type": "code",
   "execution_count": 9,
   "id": "37051a0a",
   "metadata": {},
   "outputs": [],
   "source": [
    "features = ['user_location_country', 'user_location_region', 'hotel_market', 'srch_destination_type_id']\n",
    "X_train = df[features]\n",
    "X_test = df[features]\n",
    "y_train = df['hotel_cluster']\n"
   ]
  },
  {
   "cell_type": "code",
   "execution_count": 10,
   "id": "9f9b3683",
   "metadata": {},
   "outputs": [],
   "source": [
    "model = DecisionTreeClassifier(max_depth=5)\n",
    "model.fit(X_train, y_train)\n",
    "y_pred = model.predict(X_test)"
   ]
  },
  {
   "cell_type": "code",
   "execution_count": 11,
   "id": "61866461",
   "metadata": {},
   "outputs": [
    {
     "name": "stdout",
     "output_type": "stream",
     "text": [
      "Accuracy: 0.0868\n"
     ]
    }
   ],
   "source": [
    "accuracy = accuracy_score(y_train, y_pred)\n",
    "print(f\"Accuracy: {accuracy:.4f}\")"
   ]
  },
  {
   "cell_type": "code",
   "execution_count": 12,
   "id": "dcd0887a",
   "metadata": {},
   "outputs": [
    {
     "name": "stdout",
     "output_type": "stream",
     "text": [
      "Precision (macro): 0.0202\n",
      "Precision (weighted): 0.0287\n",
      "Recall (macro): 0.0561\n",
      "Recall (weighted): 0.0868\n",
      "F1-score (macro): 0.0246\n",
      "F1-score (weighted): 0.0349\n",
      "Confusion Matrix:\n",
      "[[ 2054   268     0 ...     0     0     0]\n",
      " [    0 12686     0 ...     0     0     0]\n",
      " [  699     0  2482 ...     0  1056     0]\n",
      " ...\n",
      " [ 1443     0   321 ...     0  1610     0]\n",
      " [  761     0   148 ...     0  4605     0]\n",
      " [  590    27   621 ...     0   789     0]]\n",
      "Classification Report:\n",
      "              precision    recall  f1-score   support\n",
      "\n",
      "           0       0.04      0.32      0.07      6492\n",
      "           1       0.26      1.00      0.41     12704\n",
      "           2       0.08      0.16      0.11     15127\n",
      "           3       0.00      0.00      0.00      4131\n",
      "           4       0.00      0.00      0.00     11950\n",
      "           5       0.09      0.11      0.10     14328\n",
      "           6       0.00      0.00      0.00     14748\n",
      "           7       0.06      0.06      0.06     11655\n",
      "           8       0.00      0.00      0.00      7350\n",
      "           9       0.05      0.04      0.04     15091\n",
      "          10       0.00      0.00      0.00     10404\n",
      "          11       0.00      0.00      0.00      9339\n",
      "          12       0.00      0.00      0.00      5405\n",
      "          13       0.00      0.00      0.00     14399\n",
      "          14       0.00      0.00      0.00      5200\n",
      "          15       0.00      0.00      0.00     13117\n",
      "          16       0.00      0.00      0.00     18881\n",
      "          17       0.00      0.00      0.00      7005\n",
      "          18       0.00      0.00      0.00     18724\n",
      "          19       0.00      0.00      0.00     10588\n",
      "          20       0.00      0.00      0.00      4294\n",
      "          21       0.07      0.06      0.07     17202\n",
      "          22       0.09      0.22      0.13      7336\n",
      "          23       0.00      0.00      0.00      5435\n",
      "          24       0.00      0.00      0.00      4122\n",
      "          25       0.00      0.00      0.00     15361\n",
      "          26       0.00      0.00      0.00      5509\n",
      "          27       0.00      0.00      0.00       859\n",
      "          28       0.00      0.00      0.00     21108\n",
      "          29       0.13      0.06      0.08     11642\n",
      "          30       0.00      0.00      0.00      9351\n",
      "          31       0.00      0.00      0.00      4030\n",
      "          32       0.00      0.00      0.00     14027\n",
      "          33       0.00      0.00      0.00     12783\n",
      "          34       0.00      0.00      0.00      6348\n",
      "          35       0.00      0.00      0.00      2402\n",
      "          36       0.12      0.08      0.10     13399\n",
      "          37       0.00      0.00      0.00     13397\n",
      "          38       0.00      0.00      0.00      5469\n",
      "          39       0.00      0.00      0.00     12338\n",
      "          40       0.00      0.00      0.00     10183\n",
      "          41       0.00      0.00      0.00     16408\n",
      "          42       0.00      0.00      0.00     24499\n",
      "          43       0.08      0.09      0.08     10801\n",
      "          44       0.00      0.00      0.00      3654\n",
      "          45       0.00      0.00      0.00      6005\n",
      "          46       0.07      0.30      0.11     15360\n",
      "          47       0.00      0.00      0.00     14713\n",
      "          48       0.05      0.12      0.07     28908\n",
      "          49       0.00      0.00      0.00      7867\n",
      "          50       0.00      0.00      0.00     18213\n",
      "          51       0.00      0.00      0.00     10224\n",
      "          52       0.00      0.00      0.00      2792\n",
      "          53       0.00      0.00      0.00      1712\n",
      "          54       0.00      0.00      0.00      7102\n",
      "          55       0.00      0.00      0.00     11729\n",
      "          56       0.21      0.68      0.32      9576\n",
      "          57       0.00      0.00      0.00      4746\n",
      "          58       0.00      0.00      0.00     10434\n",
      "          59       0.09      0.02      0.04     22070\n",
      "          60       0.00      0.00      0.00      2727\n",
      "          61       0.00      0.00      0.00      9204\n",
      "          62       0.00      0.00      0.00     13589\n",
      "          63       0.09      0.09      0.09      5023\n",
      "          64       0.09      0.02      0.04     16045\n",
      "          65       0.09      0.96      0.16      7072\n",
      "          66       0.00      0.00      0.00      3180\n",
      "          67       0.00      0.00      0.00      7422\n",
      "          68       0.00      0.00      0.00     14179\n",
      "          69       0.00      0.00      0.00      6192\n",
      "          70       0.00      0.00      0.00     12268\n",
      "          71       0.00      0.00      0.00      3101\n",
      "          72       0.00      0.00      0.00     14414\n",
      "          73       0.00      0.00      0.00      4846\n",
      "          74       0.00      0.00      0.00       797\n",
      "          75       0.00      0.00      0.00      3752\n",
      "          76       0.00      0.00      0.00      6438\n",
      "          77       0.00      0.00      0.00     13204\n",
      "          78       0.00      0.00      0.00      8481\n",
      "          79       0.00      0.00      0.00      7106\n",
      "          80       0.00      0.00      0.00      2585\n",
      "          81       0.00      0.00      0.00     10260\n",
      "          82       0.11      0.18      0.14     18030\n",
      "          83       0.00      0.00      0.00     11057\n",
      "          84       0.00      0.00      0.00      3473\n",
      "          85       0.00      0.00      0.00      7871\n",
      "          86       0.00      0.00      0.00      2492\n",
      "          87       0.00      0.00      0.00      2094\n",
      "          88       0.00      0.00      0.00      2374\n",
      "          89       0.00      0.00      0.00      5036\n",
      "          90       0.00      0.00      0.00      7988\n",
      "          91       0.08      0.77      0.14     40385\n",
      "          92       0.00      0.00      0.00      2101\n",
      "          93       0.00      0.00      0.00      3019\n",
      "          94       0.00      0.00      0.00      9173\n",
      "          95       0.00      0.00      0.00     18367\n",
      "          96       0.00      0.00      0.00      5548\n",
      "          97       0.00      0.00      0.00      9697\n",
      "          98       0.07      0.28      0.11     16327\n",
      "          99       0.00      0.00      0.00     13037\n",
      "\n",
      "    accuracy                           0.09   1000000\n",
      "   macro avg       0.02      0.06      0.02   1000000\n",
      "weighted avg       0.03      0.09      0.03   1000000\n",
      "\n"
     ]
    }
   ],
   "source": [
    "# 4. Precision, Recall, F1 (macro and weighted)\n",
    "precision_macro = precision_score(y_train, y_pred, average='macro')\n",
    "precision_weighted = precision_score(y_train, y_pred, average='weighted')\n",
    "recall_macro = recall_score(y_train, y_pred, average='macro')\n",
    "recall_weighted = recall_score(y_train, y_pred, average='weighted')\n",
    "f1_macro = f1_score(y_train, y_pred, average='macro')\n",
    "f1_weighted = f1_score(y_train, y_pred, average='weighted')\n",
    "\n",
    "print(f\"Precision (macro): {precision_macro:.4f}\")\n",
    "print(f\"Precision (weighted): {precision_weighted:.4f}\")\n",
    "print(f\"Recall (macro): {recall_macro:.4f}\")\n",
    "print(f\"Recall (weighted): {recall_weighted:.4f}\")\n",
    "print(f\"F1-score (macro): {f1_macro:.4f}\")\n",
    "print(f\"F1-score (weighted): {f1_weighted:.4f}\")\n",
    "\n",
    "# 5. Confusion Matrix\n",
    "cm = confusion_matrix(y_train, y_pred)\n",
    "print(\"Confusion Matrix:\")\n",
    "print(cm)\n",
    "\n",
    "# 6. Full Classification Report\n",
    "print(\"Classification Report:\")\n",
    "print(classification_report(y_train, y_pred))"
   ]
  },
  {
   "cell_type": "code",
   "execution_count": 13,
   "id": "1f12a15f",
   "metadata": {},
   "outputs": [],
   "source": [
    "df['date_time'] = pd.to_datetime(df['date_time'], errors='coerce')\n",
    "\n",
    "# Now you can extract the year\n",
    "df['search_year'] = df['date_time'].dt.year"
   ]
  },
  {
   "cell_type": "code",
   "execution_count": 14,
   "id": "bb9ab5c0",
   "metadata": {},
   "outputs": [],
   "source": [
    "df['search_month'] = df['date_time'].dt.month\n",
    "df['search_dayofweek'] = df['date_time'].dt.dayofweek\n",
    "df['search_hour'] = df['date_time'].dt.hour"
   ]
  },
  {
   "cell_type": "code",
   "execution_count": 15,
   "id": "81f54ad2",
   "metadata": {},
   "outputs": [],
   "source": [
    "df['srch_ci']   = pd.to_datetime(df['srch_ci'], errors='coerce')\n",
    "df['lead_time'] = (df['srch_ci'] - df['date_time']).dt.days\n",
    "\n",
    "df['srch_co'] = pd.to_datetime(df['srch_co'], errors='coerce')\n",
    "df['stay_nights'] = (df['srch_co'] - df['srch_ci']).dt.days"
   ]
  },
  {
   "cell_type": "code",
   "execution_count": 16,
   "id": "62390827",
   "metadata": {},
   "outputs": [
    {
     "name": "stdout",
     "output_type": "stream",
     "text": [
      "       lead_time  stay_nights\n",
      "count 1000000.00   1000000.00\n",
      "mean       34.91         2.43\n",
      "std        51.87         2.02\n",
      "min        -5.00        -9.00\n",
      "25%         3.00         1.00\n",
      "50%        15.00         2.00\n",
      "75%        44.00         3.00\n",
      "max       495.00        33.00\n",
      "negative lead_time: 66321\n",
      "long stays >365: 0\n"
     ]
    }
   ],
   "source": [
    "\n",
    "# Set pandas to display floats in normal notation\n",
    "pd.set_option('display.float_format', '{:.2f}'.format)\n",
    "\n",
    "# Quick descriptive statistics\n",
    "print(df[['lead_time','stay_nights']].describe())\n",
    "\n",
    "# Negative/absurd values\n",
    "print('negative lead_time:', (df['lead_time'] < 0).sum())\n",
    "print('long stays >365:', (df['stay_nights'] > 365).sum())"
   ]
  },
  {
   "cell_type": "code",
   "execution_count": 17,
   "id": "924d6df5",
   "metadata": {},
   "outputs": [],
   "source": [
    "df = df[(df['lead_time'] >= 0) & (df['stay_nights'] >= 0)]\n"
   ]
  },
  {
   "cell_type": "code",
   "execution_count": 18,
   "id": "725dccf1",
   "metadata": {},
   "outputs": [
    {
     "data": {
      "application/vnd.microsoft.datawrangler.viewer.v0+json": {
       "columns": [
        {
         "name": "index",
         "rawType": "int64",
         "type": "integer"
        },
        {
         "name": "date_time",
         "rawType": "datetime64[ns]",
         "type": "datetime"
        },
        {
         "name": "site_name",
         "rawType": "int64",
         "type": "integer"
        },
        {
         "name": "posa_continent",
         "rawType": "int64",
         "type": "integer"
        },
        {
         "name": "user_location_country",
         "rawType": "int64",
         "type": "integer"
        },
        {
         "name": "user_location_region",
         "rawType": "int64",
         "type": "integer"
        },
        {
         "name": "user_location_city",
         "rawType": "int64",
         "type": "integer"
        },
        {
         "name": "orig_destination_distance",
         "rawType": "float64",
         "type": "float"
        },
        {
         "name": "user_id",
         "rawType": "int64",
         "type": "integer"
        },
        {
         "name": "is_mobile",
         "rawType": "int64",
         "type": "integer"
        },
        {
         "name": "is_package",
         "rawType": "int64",
         "type": "integer"
        },
        {
         "name": "channel",
         "rawType": "int64",
         "type": "integer"
        },
        {
         "name": "srch_ci",
         "rawType": "datetime64[ns]",
         "type": "datetime"
        },
        {
         "name": "srch_co",
         "rawType": "datetime64[ns]",
         "type": "datetime"
        },
        {
         "name": "srch_adults_cnt",
         "rawType": "int64",
         "type": "integer"
        },
        {
         "name": "srch_children_cnt",
         "rawType": "int64",
         "type": "integer"
        },
        {
         "name": "srch_rm_cnt",
         "rawType": "int64",
         "type": "integer"
        },
        {
         "name": "srch_destination_id",
         "rawType": "int64",
         "type": "integer"
        },
        {
         "name": "srch_destination_type_id",
         "rawType": "int64",
         "type": "integer"
        },
        {
         "name": "is_booking",
         "rawType": "int64",
         "type": "integer"
        },
        {
         "name": "cnt",
         "rawType": "int64",
         "type": "integer"
        },
        {
         "name": "hotel_continent",
         "rawType": "int64",
         "type": "integer"
        },
        {
         "name": "hotel_country",
         "rawType": "int64",
         "type": "integer"
        },
        {
         "name": "hotel_market",
         "rawType": "int64",
         "type": "integer"
        },
        {
         "name": "hotel_cluster",
         "rawType": "int64",
         "type": "integer"
        },
        {
         "name": "search_year",
         "rawType": "int32",
         "type": "integer"
        },
        {
         "name": "search_month",
         "rawType": "int32",
         "type": "integer"
        },
        {
         "name": "search_dayofweek",
         "rawType": "int32",
         "type": "integer"
        },
        {
         "name": "search_hour",
         "rawType": "int32",
         "type": "integer"
        },
        {
         "name": "lead_time",
         "rawType": "int64",
         "type": "integer"
        },
        {
         "name": "stay_nights",
         "rawType": "int64",
         "type": "integer"
        }
       ],
       "ref": "46e7c78e-03fd-4d66-b6ab-679251645d1d",
       "rows": [
        [
         "0",
         "2014-08-11 08:22:12",
         "2",
         "3",
         "66",
         "348",
         "48862",
         "2234.2641",
         "12",
         "0",
         "1",
         "9",
         "2014-08-29 00:00:00",
         "2014-09-02 00:00:00",
         "2",
         "0",
         "1",
         "8250",
         "1",
         "1",
         "1",
         "2",
         "50",
         "628",
         "1",
         "2014",
         "8",
         "0",
         "8",
         "17",
         "4"
        ],
        [
         "1",
         "2014-02-27 18:01:32",
         "2",
         "3",
         "66",
         "318",
         "52078",
         null,
         "756",
         "0",
         "1",
         "4",
         "2014-04-18 00:00:00",
         "2014-04-20 00:00:00",
         "2",
         "0",
         "1",
         "8291",
         "1",
         "1",
         "1",
         "2",
         "50",
         "191",
         "2",
         "2014",
         "2",
         "3",
         "18",
         "49",
         "2"
        ],
        [
         "2",
         "2013-06-15 15:38:05",
         "30",
         "4",
         "195",
         "548",
         "56440",
         null,
         "1048",
         "0",
         "1",
         "9",
         "2013-09-06 00:00:00",
         "2013-09-14 00:00:00",
         "2",
         "0",
         "1",
         "1385",
         "1",
         "1",
         "1",
         "0",
         "185",
         "185",
         "58",
         "2013",
         "6",
         "5",
         "15",
         "82",
         "8"
        ],
        [
         "3",
         "2014-11-23 18:02:20",
         "30",
         "4",
         "195",
         "991",
         "47725",
         null,
         "1048",
         "0",
         "0",
         "9",
         "2015-06-26 00:00:00",
         "2015-06-28 00:00:00",
         "2",
         "0",
         "1",
         "8803",
         "1",
         "1",
         "1",
         "3",
         "151",
         "69",
         "36",
         "2014",
         "11",
         "6",
         "18",
         "214",
         "2"
        ],
        [
         "4",
         "2014-01-03 16:30:17",
         "2",
         "3",
         "66",
         "462",
         "41898",
         "2454.8588",
         "1482",
         "0",
         "1",
         "1",
         "2014-02-22 00:00:00",
         "2014-02-27 00:00:00",
         "3",
         "0",
         "2",
         "12009",
         "1",
         "1",
         "1",
         "2",
         "50",
         "680",
         "95",
         "2014",
         "1",
         "4",
         "16",
         "49",
         "5"
        ]
       ],
       "shape": {
        "columns": 30,
        "rows": 5
       }
      },
      "text/html": [
       "<div>\n",
       "<style scoped>\n",
       "    .dataframe tbody tr th:only-of-type {\n",
       "        vertical-align: middle;\n",
       "    }\n",
       "\n",
       "    .dataframe tbody tr th {\n",
       "        vertical-align: top;\n",
       "    }\n",
       "\n",
       "    .dataframe thead th {\n",
       "        text-align: right;\n",
       "    }\n",
       "</style>\n",
       "<table border=\"1\" class=\"dataframe\">\n",
       "  <thead>\n",
       "    <tr style=\"text-align: right;\">\n",
       "      <th></th>\n",
       "      <th>date_time</th>\n",
       "      <th>site_name</th>\n",
       "      <th>posa_continent</th>\n",
       "      <th>user_location_country</th>\n",
       "      <th>user_location_region</th>\n",
       "      <th>user_location_city</th>\n",
       "      <th>orig_destination_distance</th>\n",
       "      <th>user_id</th>\n",
       "      <th>is_mobile</th>\n",
       "      <th>is_package</th>\n",
       "      <th>...</th>\n",
       "      <th>hotel_continent</th>\n",
       "      <th>hotel_country</th>\n",
       "      <th>hotel_market</th>\n",
       "      <th>hotel_cluster</th>\n",
       "      <th>search_year</th>\n",
       "      <th>search_month</th>\n",
       "      <th>search_dayofweek</th>\n",
       "      <th>search_hour</th>\n",
       "      <th>lead_time</th>\n",
       "      <th>stay_nights</th>\n",
       "    </tr>\n",
       "  </thead>\n",
       "  <tbody>\n",
       "    <tr>\n",
       "      <th>0</th>\n",
       "      <td>2014-08-11 08:22:12</td>\n",
       "      <td>2</td>\n",
       "      <td>3</td>\n",
       "      <td>66</td>\n",
       "      <td>348</td>\n",
       "      <td>48862</td>\n",
       "      <td>2234.26</td>\n",
       "      <td>12</td>\n",
       "      <td>0</td>\n",
       "      <td>1</td>\n",
       "      <td>...</td>\n",
       "      <td>2</td>\n",
       "      <td>50</td>\n",
       "      <td>628</td>\n",
       "      <td>1</td>\n",
       "      <td>2014</td>\n",
       "      <td>8</td>\n",
       "      <td>0</td>\n",
       "      <td>8</td>\n",
       "      <td>17</td>\n",
       "      <td>4</td>\n",
       "    </tr>\n",
       "    <tr>\n",
       "      <th>1</th>\n",
       "      <td>2014-02-27 18:01:32</td>\n",
       "      <td>2</td>\n",
       "      <td>3</td>\n",
       "      <td>66</td>\n",
       "      <td>318</td>\n",
       "      <td>52078</td>\n",
       "      <td>NaN</td>\n",
       "      <td>756</td>\n",
       "      <td>0</td>\n",
       "      <td>1</td>\n",
       "      <td>...</td>\n",
       "      <td>2</td>\n",
       "      <td>50</td>\n",
       "      <td>191</td>\n",
       "      <td>2</td>\n",
       "      <td>2014</td>\n",
       "      <td>2</td>\n",
       "      <td>3</td>\n",
       "      <td>18</td>\n",
       "      <td>49</td>\n",
       "      <td>2</td>\n",
       "    </tr>\n",
       "    <tr>\n",
       "      <th>2</th>\n",
       "      <td>2013-06-15 15:38:05</td>\n",
       "      <td>30</td>\n",
       "      <td>4</td>\n",
       "      <td>195</td>\n",
       "      <td>548</td>\n",
       "      <td>56440</td>\n",
       "      <td>NaN</td>\n",
       "      <td>1048</td>\n",
       "      <td>0</td>\n",
       "      <td>1</td>\n",
       "      <td>...</td>\n",
       "      <td>0</td>\n",
       "      <td>185</td>\n",
       "      <td>185</td>\n",
       "      <td>58</td>\n",
       "      <td>2013</td>\n",
       "      <td>6</td>\n",
       "      <td>5</td>\n",
       "      <td>15</td>\n",
       "      <td>82</td>\n",
       "      <td>8</td>\n",
       "    </tr>\n",
       "    <tr>\n",
       "      <th>3</th>\n",
       "      <td>2014-11-23 18:02:20</td>\n",
       "      <td>30</td>\n",
       "      <td>4</td>\n",
       "      <td>195</td>\n",
       "      <td>991</td>\n",
       "      <td>47725</td>\n",
       "      <td>NaN</td>\n",
       "      <td>1048</td>\n",
       "      <td>0</td>\n",
       "      <td>0</td>\n",
       "      <td>...</td>\n",
       "      <td>3</td>\n",
       "      <td>151</td>\n",
       "      <td>69</td>\n",
       "      <td>36</td>\n",
       "      <td>2014</td>\n",
       "      <td>11</td>\n",
       "      <td>6</td>\n",
       "      <td>18</td>\n",
       "      <td>214</td>\n",
       "      <td>2</td>\n",
       "    </tr>\n",
       "    <tr>\n",
       "      <th>4</th>\n",
       "      <td>2014-01-03 16:30:17</td>\n",
       "      <td>2</td>\n",
       "      <td>3</td>\n",
       "      <td>66</td>\n",
       "      <td>462</td>\n",
       "      <td>41898</td>\n",
       "      <td>2454.86</td>\n",
       "      <td>1482</td>\n",
       "      <td>0</td>\n",
       "      <td>1</td>\n",
       "      <td>...</td>\n",
       "      <td>2</td>\n",
       "      <td>50</td>\n",
       "      <td>680</td>\n",
       "      <td>95</td>\n",
       "      <td>2014</td>\n",
       "      <td>1</td>\n",
       "      <td>4</td>\n",
       "      <td>16</td>\n",
       "      <td>49</td>\n",
       "      <td>5</td>\n",
       "    </tr>\n",
       "  </tbody>\n",
       "</table>\n",
       "<p>5 rows × 30 columns</p>\n",
       "</div>"
      ],
      "text/plain": [
       "            date_time  site_name  posa_continent  user_location_country   \n",
       "0 2014-08-11 08:22:12          2               3                     66  \\\n",
       "1 2014-02-27 18:01:32          2               3                     66   \n",
       "2 2013-06-15 15:38:05         30               4                    195   \n",
       "3 2014-11-23 18:02:20         30               4                    195   \n",
       "4 2014-01-03 16:30:17          2               3                     66   \n",
       "\n",
       "   user_location_region  user_location_city  orig_destination_distance   \n",
       "0                   348               48862                    2234.26  \\\n",
       "1                   318               52078                        NaN   \n",
       "2                   548               56440                        NaN   \n",
       "3                   991               47725                        NaN   \n",
       "4                   462               41898                    2454.86   \n",
       "\n",
       "   user_id  is_mobile  is_package  ...  hotel_continent hotel_country   \n",
       "0       12          0           1  ...                2            50  \\\n",
       "1      756          0           1  ...                2            50   \n",
       "2     1048          0           1  ...                0           185   \n",
       "3     1048          0           0  ...                3           151   \n",
       "4     1482          0           1  ...                2            50   \n",
       "\n",
       "  hotel_market  hotel_cluster  search_year  search_month  search_dayofweek   \n",
       "0          628              1         2014             8                 0  \\\n",
       "1          191              2         2014             2                 3   \n",
       "2          185             58         2013             6                 5   \n",
       "3           69             36         2014            11                 6   \n",
       "4          680             95         2014             1                 4   \n",
       "\n",
       "   search_hour  lead_time  stay_nights  \n",
       "0            8         17            4  \n",
       "1           18         49            2  \n",
       "2           15         82            8  \n",
       "3           18        214            2  \n",
       "4           16         49            5  \n",
       "\n",
       "[5 rows x 30 columns]"
      ]
     },
     "execution_count": 18,
     "metadata": {},
     "output_type": "execute_result"
    }
   ],
   "source": [
    "df.head()"
   ]
  },
  {
   "cell_type": "code",
   "execution_count": 19,
   "id": "7df5516c",
   "metadata": {},
   "outputs": [],
   "source": [
    "df=df.drop(columns=['date_time'])"
   ]
  },
  {
   "cell_type": "code",
   "execution_count": 20,
   "id": "78e57d0c",
   "metadata": {},
   "outputs": [
    {
     "data": {
      "application/vnd.microsoft.datawrangler.viewer.v0+json": {
       "columns": [
        {
         "name": "index",
         "rawType": "int64",
         "type": "integer"
        },
        {
         "name": "site_name",
         "rawType": "int64",
         "type": "integer"
        },
        {
         "name": "posa_continent",
         "rawType": "int64",
         "type": "integer"
        },
        {
         "name": "user_location_country",
         "rawType": "int64",
         "type": "integer"
        },
        {
         "name": "user_location_region",
         "rawType": "int64",
         "type": "integer"
        },
        {
         "name": "user_location_city",
         "rawType": "int64",
         "type": "integer"
        },
        {
         "name": "orig_destination_distance",
         "rawType": "float64",
         "type": "float"
        },
        {
         "name": "user_id",
         "rawType": "int64",
         "type": "integer"
        },
        {
         "name": "is_mobile",
         "rawType": "int64",
         "type": "integer"
        },
        {
         "name": "is_package",
         "rawType": "int64",
         "type": "integer"
        },
        {
         "name": "channel",
         "rawType": "int64",
         "type": "integer"
        },
        {
         "name": "srch_ci",
         "rawType": "datetime64[ns]",
         "type": "datetime"
        },
        {
         "name": "srch_co",
         "rawType": "datetime64[ns]",
         "type": "datetime"
        },
        {
         "name": "srch_adults_cnt",
         "rawType": "int64",
         "type": "integer"
        },
        {
         "name": "srch_children_cnt",
         "rawType": "int64",
         "type": "integer"
        },
        {
         "name": "srch_rm_cnt",
         "rawType": "int64",
         "type": "integer"
        },
        {
         "name": "srch_destination_id",
         "rawType": "int64",
         "type": "integer"
        },
        {
         "name": "srch_destination_type_id",
         "rawType": "int64",
         "type": "integer"
        },
        {
         "name": "is_booking",
         "rawType": "int64",
         "type": "integer"
        },
        {
         "name": "cnt",
         "rawType": "int64",
         "type": "integer"
        },
        {
         "name": "hotel_continent",
         "rawType": "int64",
         "type": "integer"
        },
        {
         "name": "hotel_country",
         "rawType": "int64",
         "type": "integer"
        },
        {
         "name": "hotel_market",
         "rawType": "int64",
         "type": "integer"
        },
        {
         "name": "hotel_cluster",
         "rawType": "int64",
         "type": "integer"
        },
        {
         "name": "search_year",
         "rawType": "int32",
         "type": "integer"
        },
        {
         "name": "search_month",
         "rawType": "int32",
         "type": "integer"
        },
        {
         "name": "search_dayofweek",
         "rawType": "int32",
         "type": "integer"
        },
        {
         "name": "search_hour",
         "rawType": "int32",
         "type": "integer"
        },
        {
         "name": "lead_time",
         "rawType": "int64",
         "type": "integer"
        },
        {
         "name": "stay_nights",
         "rawType": "int64",
         "type": "integer"
        }
       ],
       "ref": "d26110e7-6e73-4d41-8d79-512fbedd0a97",
       "rows": [
        [
         "0",
         "2",
         "3",
         "66",
         "348",
         "48862",
         "2234.2641",
         "12",
         "0",
         "1",
         "9",
         "2014-08-29 00:00:00",
         "2014-09-02 00:00:00",
         "2",
         "0",
         "1",
         "8250",
         "1",
         "1",
         "1",
         "2",
         "50",
         "628",
         "1",
         "2014",
         "8",
         "0",
         "8",
         "17",
         "4"
        ],
        [
         "1",
         "2",
         "3",
         "66",
         "318",
         "52078",
         null,
         "756",
         "0",
         "1",
         "4",
         "2014-04-18 00:00:00",
         "2014-04-20 00:00:00",
         "2",
         "0",
         "1",
         "8291",
         "1",
         "1",
         "1",
         "2",
         "50",
         "191",
         "2",
         "2014",
         "2",
         "3",
         "18",
         "49",
         "2"
        ],
        [
         "2",
         "30",
         "4",
         "195",
         "548",
         "56440",
         null,
         "1048",
         "0",
         "1",
         "9",
         "2013-09-06 00:00:00",
         "2013-09-14 00:00:00",
         "2",
         "0",
         "1",
         "1385",
         "1",
         "1",
         "1",
         "0",
         "185",
         "185",
         "58",
         "2013",
         "6",
         "5",
         "15",
         "82",
         "8"
        ],
        [
         "3",
         "30",
         "4",
         "195",
         "991",
         "47725",
         null,
         "1048",
         "0",
         "0",
         "9",
         "2015-06-26 00:00:00",
         "2015-06-28 00:00:00",
         "2",
         "0",
         "1",
         "8803",
         "1",
         "1",
         "1",
         "3",
         "151",
         "69",
         "36",
         "2014",
         "11",
         "6",
         "18",
         "214",
         "2"
        ],
        [
         "4",
         "2",
         "3",
         "66",
         "462",
         "41898",
         "2454.8588",
         "1482",
         "0",
         "1",
         "1",
         "2014-02-22 00:00:00",
         "2014-02-27 00:00:00",
         "3",
         "0",
         "2",
         "12009",
         "1",
         "1",
         "1",
         "2",
         "50",
         "680",
         "95",
         "2014",
         "1",
         "4",
         "16",
         "49",
         "5"
        ]
       ],
       "shape": {
        "columns": 29,
        "rows": 5
       }
      },
      "text/html": [
       "<div>\n",
       "<style scoped>\n",
       "    .dataframe tbody tr th:only-of-type {\n",
       "        vertical-align: middle;\n",
       "    }\n",
       "\n",
       "    .dataframe tbody tr th {\n",
       "        vertical-align: top;\n",
       "    }\n",
       "\n",
       "    .dataframe thead th {\n",
       "        text-align: right;\n",
       "    }\n",
       "</style>\n",
       "<table border=\"1\" class=\"dataframe\">\n",
       "  <thead>\n",
       "    <tr style=\"text-align: right;\">\n",
       "      <th></th>\n",
       "      <th>site_name</th>\n",
       "      <th>posa_continent</th>\n",
       "      <th>user_location_country</th>\n",
       "      <th>user_location_region</th>\n",
       "      <th>user_location_city</th>\n",
       "      <th>orig_destination_distance</th>\n",
       "      <th>user_id</th>\n",
       "      <th>is_mobile</th>\n",
       "      <th>is_package</th>\n",
       "      <th>channel</th>\n",
       "      <th>...</th>\n",
       "      <th>hotel_continent</th>\n",
       "      <th>hotel_country</th>\n",
       "      <th>hotel_market</th>\n",
       "      <th>hotel_cluster</th>\n",
       "      <th>search_year</th>\n",
       "      <th>search_month</th>\n",
       "      <th>search_dayofweek</th>\n",
       "      <th>search_hour</th>\n",
       "      <th>lead_time</th>\n",
       "      <th>stay_nights</th>\n",
       "    </tr>\n",
       "  </thead>\n",
       "  <tbody>\n",
       "    <tr>\n",
       "      <th>0</th>\n",
       "      <td>2</td>\n",
       "      <td>3</td>\n",
       "      <td>66</td>\n",
       "      <td>348</td>\n",
       "      <td>48862</td>\n",
       "      <td>2234.26</td>\n",
       "      <td>12</td>\n",
       "      <td>0</td>\n",
       "      <td>1</td>\n",
       "      <td>9</td>\n",
       "      <td>...</td>\n",
       "      <td>2</td>\n",
       "      <td>50</td>\n",
       "      <td>628</td>\n",
       "      <td>1</td>\n",
       "      <td>2014</td>\n",
       "      <td>8</td>\n",
       "      <td>0</td>\n",
       "      <td>8</td>\n",
       "      <td>17</td>\n",
       "      <td>4</td>\n",
       "    </tr>\n",
       "    <tr>\n",
       "      <th>1</th>\n",
       "      <td>2</td>\n",
       "      <td>3</td>\n",
       "      <td>66</td>\n",
       "      <td>318</td>\n",
       "      <td>52078</td>\n",
       "      <td>NaN</td>\n",
       "      <td>756</td>\n",
       "      <td>0</td>\n",
       "      <td>1</td>\n",
       "      <td>4</td>\n",
       "      <td>...</td>\n",
       "      <td>2</td>\n",
       "      <td>50</td>\n",
       "      <td>191</td>\n",
       "      <td>2</td>\n",
       "      <td>2014</td>\n",
       "      <td>2</td>\n",
       "      <td>3</td>\n",
       "      <td>18</td>\n",
       "      <td>49</td>\n",
       "      <td>2</td>\n",
       "    </tr>\n",
       "    <tr>\n",
       "      <th>2</th>\n",
       "      <td>30</td>\n",
       "      <td>4</td>\n",
       "      <td>195</td>\n",
       "      <td>548</td>\n",
       "      <td>56440</td>\n",
       "      <td>NaN</td>\n",
       "      <td>1048</td>\n",
       "      <td>0</td>\n",
       "      <td>1</td>\n",
       "      <td>9</td>\n",
       "      <td>...</td>\n",
       "      <td>0</td>\n",
       "      <td>185</td>\n",
       "      <td>185</td>\n",
       "      <td>58</td>\n",
       "      <td>2013</td>\n",
       "      <td>6</td>\n",
       "      <td>5</td>\n",
       "      <td>15</td>\n",
       "      <td>82</td>\n",
       "      <td>8</td>\n",
       "    </tr>\n",
       "    <tr>\n",
       "      <th>3</th>\n",
       "      <td>30</td>\n",
       "      <td>4</td>\n",
       "      <td>195</td>\n",
       "      <td>991</td>\n",
       "      <td>47725</td>\n",
       "      <td>NaN</td>\n",
       "      <td>1048</td>\n",
       "      <td>0</td>\n",
       "      <td>0</td>\n",
       "      <td>9</td>\n",
       "      <td>...</td>\n",
       "      <td>3</td>\n",
       "      <td>151</td>\n",
       "      <td>69</td>\n",
       "      <td>36</td>\n",
       "      <td>2014</td>\n",
       "      <td>11</td>\n",
       "      <td>6</td>\n",
       "      <td>18</td>\n",
       "      <td>214</td>\n",
       "      <td>2</td>\n",
       "    </tr>\n",
       "    <tr>\n",
       "      <th>4</th>\n",
       "      <td>2</td>\n",
       "      <td>3</td>\n",
       "      <td>66</td>\n",
       "      <td>462</td>\n",
       "      <td>41898</td>\n",
       "      <td>2454.86</td>\n",
       "      <td>1482</td>\n",
       "      <td>0</td>\n",
       "      <td>1</td>\n",
       "      <td>1</td>\n",
       "      <td>...</td>\n",
       "      <td>2</td>\n",
       "      <td>50</td>\n",
       "      <td>680</td>\n",
       "      <td>95</td>\n",
       "      <td>2014</td>\n",
       "      <td>1</td>\n",
       "      <td>4</td>\n",
       "      <td>16</td>\n",
       "      <td>49</td>\n",
       "      <td>5</td>\n",
       "    </tr>\n",
       "  </tbody>\n",
       "</table>\n",
       "<p>5 rows × 29 columns</p>\n",
       "</div>"
      ],
      "text/plain": [
       "   site_name  posa_continent  user_location_country  user_location_region   \n",
       "0          2               3                     66                   348  \\\n",
       "1          2               3                     66                   318   \n",
       "2         30               4                    195                   548   \n",
       "3         30               4                    195                   991   \n",
       "4          2               3                     66                   462   \n",
       "\n",
       "   user_location_city  orig_destination_distance  user_id  is_mobile   \n",
       "0               48862                    2234.26       12          0  \\\n",
       "1               52078                        NaN      756          0   \n",
       "2               56440                        NaN     1048          0   \n",
       "3               47725                        NaN     1048          0   \n",
       "4               41898                    2454.86     1482          0   \n",
       "\n",
       "   is_package  channel  ... hotel_continent hotel_country  hotel_market   \n",
       "0           1        9  ...               2            50           628  \\\n",
       "1           1        4  ...               2            50           191   \n",
       "2           1        9  ...               0           185           185   \n",
       "3           0        9  ...               3           151            69   \n",
       "4           1        1  ...               2            50           680   \n",
       "\n",
       "   hotel_cluster  search_year  search_month  search_dayofweek  search_hour   \n",
       "0              1         2014             8                 0            8  \\\n",
       "1              2         2014             2                 3           18   \n",
       "2             58         2013             6                 5           15   \n",
       "3             36         2014            11                 6           18   \n",
       "4             95         2014             1                 4           16   \n",
       "\n",
       "   lead_time  stay_nights  \n",
       "0         17            4  \n",
       "1         49            2  \n",
       "2         82            8  \n",
       "3        214            2  \n",
       "4         49            5  \n",
       "\n",
       "[5 rows x 29 columns]"
      ]
     },
     "execution_count": 20,
     "metadata": {},
     "output_type": "execute_result"
    }
   ],
   "source": [
    "df.head()"
   ]
  },
  {
   "cell_type": "code",
   "execution_count": 21,
   "id": "e8b6f125",
   "metadata": {},
   "outputs": [],
   "source": [
    "df=df.drop(columns=['is_booking','cnt'])"
   ]
  },
  {
   "cell_type": "code",
   "execution_count": 22,
   "id": "63a32ed9",
   "metadata": {},
   "outputs": [],
   "source": [
    "\n",
    "# Convert srch_ci and srch_co to datetime (if not already)\n",
    "df['srch_ci'] = pd.to_datetime(df['srch_ci'], errors='coerce')\n",
    "df['srch_co'] = pd.to_datetime(df['srch_co'], errors='coerce')\n",
    "\n",
    "# Extract year, month, day from check-in\n",
    "df['ci_year'] = df['srch_ci'].dt.year\n",
    "df['ci_month'] = df['srch_ci'].dt.month\n",
    "df['ci_day'] = df['srch_ci'].dt.day\n",
    "df['ci_weekday'] = df['srch_ci'].dt.weekday  # 0=Monday, 6=Sunday\n",
    "\n",
    "# Extract year, month, day from check-out (optional)\n",
    "df['co_year'] = df['srch_co'].dt.year\n",
    "df['co_month'] = df['srch_co'].dt.month\n",
    "df['co_day'] = df['srch_co'].dt.day\n",
    "df['co_weekday'] = df['srch_co'].dt.weekday\n",
    "\n",
    "# Stay length in days\n",
    "df['stay_length'] = (df['srch_co'] - df['srch_ci']).dt.days\n",
    "\n",
    "# Drop original date columns (if not needed)\n",
    "df = df.drop(['srch_ci', 'srch_co'], axis=1)\n"
   ]
  },
  {
   "cell_type": "code",
   "execution_count": 23,
   "id": "71277791",
   "metadata": {},
   "outputs": [],
   "source": [
    "df=df.drop(columns=['stay_length'], axis=1)"
   ]
  },
  {
   "cell_type": "code",
   "execution_count": 23,
   "id": "db215f95",
   "metadata": {},
   "outputs": [
    {
     "data": {
      "application/vnd.microsoft.datawrangler.viewer.v0+json": {
       "columns": [
        {
         "name": "index",
         "rawType": "int64",
         "type": "integer"
        },
        {
         "name": "site_name",
         "rawType": "int64",
         "type": "integer"
        },
        {
         "name": "posa_continent",
         "rawType": "int64",
         "type": "integer"
        },
        {
         "name": "user_location_country",
         "rawType": "int64",
         "type": "integer"
        },
        {
         "name": "user_location_region",
         "rawType": "int64",
         "type": "integer"
        },
        {
         "name": "user_location_city",
         "rawType": "int64",
         "type": "integer"
        },
        {
         "name": "orig_destination_distance",
         "rawType": "float64",
         "type": "float"
        },
        {
         "name": "user_id",
         "rawType": "int64",
         "type": "integer"
        },
        {
         "name": "is_mobile",
         "rawType": "int64",
         "type": "integer"
        },
        {
         "name": "is_package",
         "rawType": "int64",
         "type": "integer"
        },
        {
         "name": "channel",
         "rawType": "int64",
         "type": "integer"
        },
        {
         "name": "srch_adults_cnt",
         "rawType": "int64",
         "type": "integer"
        },
        {
         "name": "srch_children_cnt",
         "rawType": "int64",
         "type": "integer"
        },
        {
         "name": "srch_rm_cnt",
         "rawType": "int64",
         "type": "integer"
        },
        {
         "name": "srch_destination_id",
         "rawType": "int64",
         "type": "integer"
        },
        {
         "name": "srch_destination_type_id",
         "rawType": "int64",
         "type": "integer"
        },
        {
         "name": "hotel_continent",
         "rawType": "int64",
         "type": "integer"
        },
        {
         "name": "hotel_country",
         "rawType": "int64",
         "type": "integer"
        },
        {
         "name": "hotel_market",
         "rawType": "int64",
         "type": "integer"
        },
        {
         "name": "hotel_cluster",
         "rawType": "int64",
         "type": "integer"
        },
        {
         "name": "search_year",
         "rawType": "int32",
         "type": "integer"
        },
        {
         "name": "search_month",
         "rawType": "int32",
         "type": "integer"
        },
        {
         "name": "search_dayofweek",
         "rawType": "int32",
         "type": "integer"
        },
        {
         "name": "search_hour",
         "rawType": "int32",
         "type": "integer"
        },
        {
         "name": "lead_time",
         "rawType": "int64",
         "type": "integer"
        },
        {
         "name": "stay_nights",
         "rawType": "int64",
         "type": "integer"
        },
        {
         "name": "ci_year",
         "rawType": "int32",
         "type": "integer"
        },
        {
         "name": "ci_month",
         "rawType": "int32",
         "type": "integer"
        },
        {
         "name": "ci_day",
         "rawType": "int32",
         "type": "integer"
        },
        {
         "name": "ci_weekday",
         "rawType": "int32",
         "type": "integer"
        },
        {
         "name": "co_year",
         "rawType": "int32",
         "type": "integer"
        },
        {
         "name": "co_month",
         "rawType": "int32",
         "type": "integer"
        },
        {
         "name": "co_day",
         "rawType": "int32",
         "type": "integer"
        },
        {
         "name": "co_weekday",
         "rawType": "int32",
         "type": "integer"
        }
       ],
       "ref": "bdf23f65-462e-4c7f-a9e6-f31674b6741a",
       "rows": [
        [
         "0",
         "2",
         "3",
         "66",
         "348",
         "48862",
         "2234.2641",
         "12",
         "0",
         "1",
         "9",
         "2",
         "0",
         "1",
         "8250",
         "1",
         "2",
         "50",
         "628",
         "1",
         "2014",
         "8",
         "0",
         "8",
         "17",
         "4",
         "2014",
         "8",
         "29",
         "4",
         "2014",
         "9",
         "2",
         "1"
        ],
        [
         "1",
         "2",
         "3",
         "66",
         "318",
         "52078",
         null,
         "756",
         "0",
         "1",
         "4",
         "2",
         "0",
         "1",
         "8291",
         "1",
         "2",
         "50",
         "191",
         "2",
         "2014",
         "2",
         "3",
         "18",
         "49",
         "2",
         "2014",
         "4",
         "18",
         "4",
         "2014",
         "4",
         "20",
         "6"
        ],
        [
         "2",
         "30",
         "4",
         "195",
         "548",
         "56440",
         null,
         "1048",
         "0",
         "1",
         "9",
         "2",
         "0",
         "1",
         "1385",
         "1",
         "0",
         "185",
         "185",
         "58",
         "2013",
         "6",
         "5",
         "15",
         "82",
         "8",
         "2013",
         "9",
         "6",
         "4",
         "2013",
         "9",
         "14",
         "5"
        ],
        [
         "3",
         "30",
         "4",
         "195",
         "991",
         "47725",
         null,
         "1048",
         "0",
         "0",
         "9",
         "2",
         "0",
         "1",
         "8803",
         "1",
         "3",
         "151",
         "69",
         "36",
         "2014",
         "11",
         "6",
         "18",
         "214",
         "2",
         "2015",
         "6",
         "26",
         "4",
         "2015",
         "6",
         "28",
         "6"
        ],
        [
         "4",
         "2",
         "3",
         "66",
         "462",
         "41898",
         "2454.8588",
         "1482",
         "0",
         "1",
         "1",
         "3",
         "0",
         "2",
         "12009",
         "1",
         "2",
         "50",
         "680",
         "95",
         "2014",
         "1",
         "4",
         "16",
         "49",
         "5",
         "2014",
         "2",
         "22",
         "5",
         "2014",
         "2",
         "27",
         "3"
        ]
       ],
       "shape": {
        "columns": 33,
        "rows": 5
       }
      },
      "text/html": [
       "<div>\n",
       "<style scoped>\n",
       "    .dataframe tbody tr th:only-of-type {\n",
       "        vertical-align: middle;\n",
       "    }\n",
       "\n",
       "    .dataframe tbody tr th {\n",
       "        vertical-align: top;\n",
       "    }\n",
       "\n",
       "    .dataframe thead th {\n",
       "        text-align: right;\n",
       "    }\n",
       "</style>\n",
       "<table border=\"1\" class=\"dataframe\">\n",
       "  <thead>\n",
       "    <tr style=\"text-align: right;\">\n",
       "      <th></th>\n",
       "      <th>site_name</th>\n",
       "      <th>posa_continent</th>\n",
       "      <th>user_location_country</th>\n",
       "      <th>user_location_region</th>\n",
       "      <th>user_location_city</th>\n",
       "      <th>orig_destination_distance</th>\n",
       "      <th>user_id</th>\n",
       "      <th>is_mobile</th>\n",
       "      <th>is_package</th>\n",
       "      <th>channel</th>\n",
       "      <th>...</th>\n",
       "      <th>lead_time</th>\n",
       "      <th>stay_nights</th>\n",
       "      <th>ci_year</th>\n",
       "      <th>ci_month</th>\n",
       "      <th>ci_day</th>\n",
       "      <th>ci_weekday</th>\n",
       "      <th>co_year</th>\n",
       "      <th>co_month</th>\n",
       "      <th>co_day</th>\n",
       "      <th>co_weekday</th>\n",
       "    </tr>\n",
       "  </thead>\n",
       "  <tbody>\n",
       "    <tr>\n",
       "      <th>0</th>\n",
       "      <td>2</td>\n",
       "      <td>3</td>\n",
       "      <td>66</td>\n",
       "      <td>348</td>\n",
       "      <td>48862</td>\n",
       "      <td>2234.26</td>\n",
       "      <td>12</td>\n",
       "      <td>0</td>\n",
       "      <td>1</td>\n",
       "      <td>9</td>\n",
       "      <td>...</td>\n",
       "      <td>17</td>\n",
       "      <td>4</td>\n",
       "      <td>2014</td>\n",
       "      <td>8</td>\n",
       "      <td>29</td>\n",
       "      <td>4</td>\n",
       "      <td>2014</td>\n",
       "      <td>9</td>\n",
       "      <td>2</td>\n",
       "      <td>1</td>\n",
       "    </tr>\n",
       "    <tr>\n",
       "      <th>1</th>\n",
       "      <td>2</td>\n",
       "      <td>3</td>\n",
       "      <td>66</td>\n",
       "      <td>318</td>\n",
       "      <td>52078</td>\n",
       "      <td>NaN</td>\n",
       "      <td>756</td>\n",
       "      <td>0</td>\n",
       "      <td>1</td>\n",
       "      <td>4</td>\n",
       "      <td>...</td>\n",
       "      <td>49</td>\n",
       "      <td>2</td>\n",
       "      <td>2014</td>\n",
       "      <td>4</td>\n",
       "      <td>18</td>\n",
       "      <td>4</td>\n",
       "      <td>2014</td>\n",
       "      <td>4</td>\n",
       "      <td>20</td>\n",
       "      <td>6</td>\n",
       "    </tr>\n",
       "    <tr>\n",
       "      <th>2</th>\n",
       "      <td>30</td>\n",
       "      <td>4</td>\n",
       "      <td>195</td>\n",
       "      <td>548</td>\n",
       "      <td>56440</td>\n",
       "      <td>NaN</td>\n",
       "      <td>1048</td>\n",
       "      <td>0</td>\n",
       "      <td>1</td>\n",
       "      <td>9</td>\n",
       "      <td>...</td>\n",
       "      <td>82</td>\n",
       "      <td>8</td>\n",
       "      <td>2013</td>\n",
       "      <td>9</td>\n",
       "      <td>6</td>\n",
       "      <td>4</td>\n",
       "      <td>2013</td>\n",
       "      <td>9</td>\n",
       "      <td>14</td>\n",
       "      <td>5</td>\n",
       "    </tr>\n",
       "    <tr>\n",
       "      <th>3</th>\n",
       "      <td>30</td>\n",
       "      <td>4</td>\n",
       "      <td>195</td>\n",
       "      <td>991</td>\n",
       "      <td>47725</td>\n",
       "      <td>NaN</td>\n",
       "      <td>1048</td>\n",
       "      <td>0</td>\n",
       "      <td>0</td>\n",
       "      <td>9</td>\n",
       "      <td>...</td>\n",
       "      <td>214</td>\n",
       "      <td>2</td>\n",
       "      <td>2015</td>\n",
       "      <td>6</td>\n",
       "      <td>26</td>\n",
       "      <td>4</td>\n",
       "      <td>2015</td>\n",
       "      <td>6</td>\n",
       "      <td>28</td>\n",
       "      <td>6</td>\n",
       "    </tr>\n",
       "    <tr>\n",
       "      <th>4</th>\n",
       "      <td>2</td>\n",
       "      <td>3</td>\n",
       "      <td>66</td>\n",
       "      <td>462</td>\n",
       "      <td>41898</td>\n",
       "      <td>2454.86</td>\n",
       "      <td>1482</td>\n",
       "      <td>0</td>\n",
       "      <td>1</td>\n",
       "      <td>1</td>\n",
       "      <td>...</td>\n",
       "      <td>49</td>\n",
       "      <td>5</td>\n",
       "      <td>2014</td>\n",
       "      <td>2</td>\n",
       "      <td>22</td>\n",
       "      <td>5</td>\n",
       "      <td>2014</td>\n",
       "      <td>2</td>\n",
       "      <td>27</td>\n",
       "      <td>3</td>\n",
       "    </tr>\n",
       "  </tbody>\n",
       "</table>\n",
       "<p>5 rows × 33 columns</p>\n",
       "</div>"
      ],
      "text/plain": [
       "   site_name  posa_continent  user_location_country  user_location_region   \n",
       "0          2               3                     66                   348  \\\n",
       "1          2               3                     66                   318   \n",
       "2         30               4                    195                   548   \n",
       "3         30               4                    195                   991   \n",
       "4          2               3                     66                   462   \n",
       "\n",
       "   user_location_city  orig_destination_distance  user_id  is_mobile   \n",
       "0               48862                    2234.26       12          0  \\\n",
       "1               52078                        NaN      756          0   \n",
       "2               56440                        NaN     1048          0   \n",
       "3               47725                        NaN     1048          0   \n",
       "4               41898                    2454.86     1482          0   \n",
       "\n",
       "   is_package  channel  ...  lead_time  stay_nights  ci_year  ci_month   \n",
       "0           1        9  ...         17            4     2014         8  \\\n",
       "1           1        4  ...         49            2     2014         4   \n",
       "2           1        9  ...         82            8     2013         9   \n",
       "3           0        9  ...        214            2     2015         6   \n",
       "4           1        1  ...         49            5     2014         2   \n",
       "\n",
       "   ci_day  ci_weekday  co_year  co_month  co_day  co_weekday  \n",
       "0      29           4     2014         9       2           1  \n",
       "1      18           4     2014         4      20           6  \n",
       "2       6           4     2013         9      14           5  \n",
       "3      26           4     2015         6      28           6  \n",
       "4      22           5     2014         2      27           3  \n",
       "\n",
       "[5 rows x 33 columns]"
      ]
     },
     "execution_count": 23,
     "metadata": {},
     "output_type": "execute_result"
    }
   ],
   "source": [
    "df.head()"
   ]
  },
  {
   "cell_type": "code",
   "execution_count": 24,
   "id": "252159b8",
   "metadata": {},
   "outputs": [],
   "source": [
    "X= df.drop(['hotel_cluster','orig_destination_distance'], axis=1)\n",
    "y= df['hotel_cluster']"
   ]
  },
  {
   "cell_type": "code",
   "execution_count": 25,
   "id": "637f9ebf",
   "metadata": {},
   "outputs": [],
   "source": [
    "X_train, X_test, y_train, y_test = train_test_split(X, y, test_size=0.2, random_state=42)"
   ]
  },
  {
   "cell_type": "code",
   "execution_count": 26,
   "id": "573d63ac",
   "metadata": {},
   "outputs": [],
   "source": [
    "model1=DecisionTreeClassifier(max_depth=5)\n",
    "model1.fit(X_train, y_train)\n",
    "y_pred = model1.predict(X_test)"
   ]
  },
  {
   "cell_type": "code",
   "execution_count": 27,
   "id": "d6a72ee0",
   "metadata": {},
   "outputs": [
    {
     "name": "stdout",
     "output_type": "stream",
     "text": [
      "DecisionTreeClassifier Accuracy: 0.0959\n"
     ]
    }
   ],
   "source": [
    "accuracy = accuracy_score(y_test, y_pred)\n",
    "print(f\"DecisionTreeClassifier Accuracy: {accuracy:.4f}\")"
   ]
  },
  {
   "cell_type": "markdown",
   "id": "04e19301",
   "metadata": {},
   "source": [
    "# Simple Logistic regression"
   ]
  },
  {
   "cell_type": "code",
   "execution_count": 28,
   "id": "d8d4fecd",
   "metadata": {},
   "outputs": [],
   "source": [
    "from sklearn.linear_model import LogisticRegression\n"
   ]
  },
  {
   "cell_type": "code",
   "execution_count": 29,
   "id": "1abd862d",
   "metadata": {},
   "outputs": [],
   "source": [
    "model2 = LogisticRegression(multi_class='multinomial', max_iter=100, solver='lbfgs')\n",
    "model2.fit(X_train, y_train)\n",
    "probs = model2.predict_proba(X_test)\n",
    "top5 = np.argsort(probs, axis=1)[:, -5:]"
   ]
  },
  {
   "cell_type": "code",
   "execution_count": 30,
   "id": "31afc2cd",
   "metadata": {},
   "outputs": [
    {
     "name": "stdout",
     "output_type": "stream",
     "text": [
      "LogisticRegression Top-1 Accuracy: 0.0396\n"
     ]
    }
   ],
   "source": [
    "y_pred = model2.predict(X_test)\n",
    "acc = accuracy_score(y_test, y_pred)\n",
    "print(f\"LogisticRegression Top-1 Accuracy: {acc:.4f}\")"
   ]
  },
  {
   "cell_type": "code",
   "execution_count": 31,
   "id": "5a94db39",
   "metadata": {},
   "outputs": [
    {
     "data": {
      "application/vnd.microsoft.datawrangler.viewer.v0+json": {
       "columns": [
        {
         "name": "index",
         "rawType": "int64",
         "type": "integer"
        },
        {
         "name": "site_name",
         "rawType": "int64",
         "type": "integer"
        },
        {
         "name": "posa_continent",
         "rawType": "int64",
         "type": "integer"
        },
        {
         "name": "user_location_country",
         "rawType": "int64",
         "type": "integer"
        },
        {
         "name": "user_location_region",
         "rawType": "int64",
         "type": "integer"
        },
        {
         "name": "user_location_city",
         "rawType": "int64",
         "type": "integer"
        },
        {
         "name": "orig_destination_distance",
         "rawType": "float64",
         "type": "float"
        },
        {
         "name": "user_id",
         "rawType": "int64",
         "type": "integer"
        },
        {
         "name": "is_mobile",
         "rawType": "int64",
         "type": "integer"
        },
        {
         "name": "is_package",
         "rawType": "int64",
         "type": "integer"
        },
        {
         "name": "channel",
         "rawType": "int64",
         "type": "integer"
        },
        {
         "name": "srch_adults_cnt",
         "rawType": "int64",
         "type": "integer"
        },
        {
         "name": "srch_children_cnt",
         "rawType": "int64",
         "type": "integer"
        },
        {
         "name": "srch_rm_cnt",
         "rawType": "int64",
         "type": "integer"
        },
        {
         "name": "srch_destination_id",
         "rawType": "int64",
         "type": "integer"
        },
        {
         "name": "srch_destination_type_id",
         "rawType": "int64",
         "type": "integer"
        },
        {
         "name": "hotel_continent",
         "rawType": "int64",
         "type": "integer"
        },
        {
         "name": "hotel_country",
         "rawType": "int64",
         "type": "integer"
        },
        {
         "name": "hotel_market",
         "rawType": "int64",
         "type": "integer"
        },
        {
         "name": "hotel_cluster",
         "rawType": "int64",
         "type": "integer"
        },
        {
         "name": "search_year",
         "rawType": "int32",
         "type": "integer"
        },
        {
         "name": "search_month",
         "rawType": "int32",
         "type": "integer"
        },
        {
         "name": "search_dayofweek",
         "rawType": "int32",
         "type": "integer"
        },
        {
         "name": "search_hour",
         "rawType": "int32",
         "type": "integer"
        },
        {
         "name": "lead_time",
         "rawType": "int64",
         "type": "integer"
        },
        {
         "name": "stay_nights",
         "rawType": "int64",
         "type": "integer"
        },
        {
         "name": "ci_year",
         "rawType": "int32",
         "type": "integer"
        },
        {
         "name": "ci_month",
         "rawType": "int32",
         "type": "integer"
        },
        {
         "name": "ci_day",
         "rawType": "int32",
         "type": "integer"
        },
        {
         "name": "ci_weekday",
         "rawType": "int32",
         "type": "integer"
        },
        {
         "name": "co_year",
         "rawType": "int32",
         "type": "integer"
        },
        {
         "name": "co_month",
         "rawType": "int32",
         "type": "integer"
        },
        {
         "name": "co_day",
         "rawType": "int32",
         "type": "integer"
        },
        {
         "name": "co_weekday",
         "rawType": "int32",
         "type": "integer"
        }
       ],
       "ref": "2e971cd8-a407-46c0-b11c-93d686fd99c5",
       "rows": [
        [
         "0",
         "2",
         "3",
         "66",
         "348",
         "48862",
         "2234.2641",
         "12",
         "0",
         "1",
         "9",
         "2",
         "0",
         "1",
         "8250",
         "1",
         "2",
         "50",
         "628",
         "1",
         "2014",
         "8",
         "0",
         "8",
         "17",
         "4",
         "2014",
         "8",
         "29",
         "4",
         "2014",
         "9",
         "2",
         "1"
        ],
        [
         "1",
         "2",
         "3",
         "66",
         "318",
         "52078",
         null,
         "756",
         "0",
         "1",
         "4",
         "2",
         "0",
         "1",
         "8291",
         "1",
         "2",
         "50",
         "191",
         "2",
         "2014",
         "2",
         "3",
         "18",
         "49",
         "2",
         "2014",
         "4",
         "18",
         "4",
         "2014",
         "4",
         "20",
         "6"
        ],
        [
         "2",
         "30",
         "4",
         "195",
         "548",
         "56440",
         null,
         "1048",
         "0",
         "1",
         "9",
         "2",
         "0",
         "1",
         "1385",
         "1",
         "0",
         "185",
         "185",
         "58",
         "2013",
         "6",
         "5",
         "15",
         "82",
         "8",
         "2013",
         "9",
         "6",
         "4",
         "2013",
         "9",
         "14",
         "5"
        ],
        [
         "3",
         "30",
         "4",
         "195",
         "991",
         "47725",
         null,
         "1048",
         "0",
         "0",
         "9",
         "2",
         "0",
         "1",
         "8803",
         "1",
         "3",
         "151",
         "69",
         "36",
         "2014",
         "11",
         "6",
         "18",
         "214",
         "2",
         "2015",
         "6",
         "26",
         "4",
         "2015",
         "6",
         "28",
         "6"
        ],
        [
         "4",
         "2",
         "3",
         "66",
         "462",
         "41898",
         "2454.8588",
         "1482",
         "0",
         "1",
         "1",
         "3",
         "0",
         "2",
         "12009",
         "1",
         "2",
         "50",
         "680",
         "95",
         "2014",
         "1",
         "4",
         "16",
         "49",
         "5",
         "2014",
         "2",
         "22",
         "5",
         "2014",
         "2",
         "27",
         "3"
        ]
       ],
       "shape": {
        "columns": 33,
        "rows": 5
       }
      },
      "text/html": [
       "<div>\n",
       "<style scoped>\n",
       "    .dataframe tbody tr th:only-of-type {\n",
       "        vertical-align: middle;\n",
       "    }\n",
       "\n",
       "    .dataframe tbody tr th {\n",
       "        vertical-align: top;\n",
       "    }\n",
       "\n",
       "    .dataframe thead th {\n",
       "        text-align: right;\n",
       "    }\n",
       "</style>\n",
       "<table border=\"1\" class=\"dataframe\">\n",
       "  <thead>\n",
       "    <tr style=\"text-align: right;\">\n",
       "      <th></th>\n",
       "      <th>site_name</th>\n",
       "      <th>posa_continent</th>\n",
       "      <th>user_location_country</th>\n",
       "      <th>user_location_region</th>\n",
       "      <th>user_location_city</th>\n",
       "      <th>orig_destination_distance</th>\n",
       "      <th>user_id</th>\n",
       "      <th>is_mobile</th>\n",
       "      <th>is_package</th>\n",
       "      <th>channel</th>\n",
       "      <th>...</th>\n",
       "      <th>lead_time</th>\n",
       "      <th>stay_nights</th>\n",
       "      <th>ci_year</th>\n",
       "      <th>ci_month</th>\n",
       "      <th>ci_day</th>\n",
       "      <th>ci_weekday</th>\n",
       "      <th>co_year</th>\n",
       "      <th>co_month</th>\n",
       "      <th>co_day</th>\n",
       "      <th>co_weekday</th>\n",
       "    </tr>\n",
       "  </thead>\n",
       "  <tbody>\n",
       "    <tr>\n",
       "      <th>0</th>\n",
       "      <td>2</td>\n",
       "      <td>3</td>\n",
       "      <td>66</td>\n",
       "      <td>348</td>\n",
       "      <td>48862</td>\n",
       "      <td>2234.26</td>\n",
       "      <td>12</td>\n",
       "      <td>0</td>\n",
       "      <td>1</td>\n",
       "      <td>9</td>\n",
       "      <td>...</td>\n",
       "      <td>17</td>\n",
       "      <td>4</td>\n",
       "      <td>2014</td>\n",
       "      <td>8</td>\n",
       "      <td>29</td>\n",
       "      <td>4</td>\n",
       "      <td>2014</td>\n",
       "      <td>9</td>\n",
       "      <td>2</td>\n",
       "      <td>1</td>\n",
       "    </tr>\n",
       "    <tr>\n",
       "      <th>1</th>\n",
       "      <td>2</td>\n",
       "      <td>3</td>\n",
       "      <td>66</td>\n",
       "      <td>318</td>\n",
       "      <td>52078</td>\n",
       "      <td>NaN</td>\n",
       "      <td>756</td>\n",
       "      <td>0</td>\n",
       "      <td>1</td>\n",
       "      <td>4</td>\n",
       "      <td>...</td>\n",
       "      <td>49</td>\n",
       "      <td>2</td>\n",
       "      <td>2014</td>\n",
       "      <td>4</td>\n",
       "      <td>18</td>\n",
       "      <td>4</td>\n",
       "      <td>2014</td>\n",
       "      <td>4</td>\n",
       "      <td>20</td>\n",
       "      <td>6</td>\n",
       "    </tr>\n",
       "    <tr>\n",
       "      <th>2</th>\n",
       "      <td>30</td>\n",
       "      <td>4</td>\n",
       "      <td>195</td>\n",
       "      <td>548</td>\n",
       "      <td>56440</td>\n",
       "      <td>NaN</td>\n",
       "      <td>1048</td>\n",
       "      <td>0</td>\n",
       "      <td>1</td>\n",
       "      <td>9</td>\n",
       "      <td>...</td>\n",
       "      <td>82</td>\n",
       "      <td>8</td>\n",
       "      <td>2013</td>\n",
       "      <td>9</td>\n",
       "      <td>6</td>\n",
       "      <td>4</td>\n",
       "      <td>2013</td>\n",
       "      <td>9</td>\n",
       "      <td>14</td>\n",
       "      <td>5</td>\n",
       "    </tr>\n",
       "    <tr>\n",
       "      <th>3</th>\n",
       "      <td>30</td>\n",
       "      <td>4</td>\n",
       "      <td>195</td>\n",
       "      <td>991</td>\n",
       "      <td>47725</td>\n",
       "      <td>NaN</td>\n",
       "      <td>1048</td>\n",
       "      <td>0</td>\n",
       "      <td>0</td>\n",
       "      <td>9</td>\n",
       "      <td>...</td>\n",
       "      <td>214</td>\n",
       "      <td>2</td>\n",
       "      <td>2015</td>\n",
       "      <td>6</td>\n",
       "      <td>26</td>\n",
       "      <td>4</td>\n",
       "      <td>2015</td>\n",
       "      <td>6</td>\n",
       "      <td>28</td>\n",
       "      <td>6</td>\n",
       "    </tr>\n",
       "    <tr>\n",
       "      <th>4</th>\n",
       "      <td>2</td>\n",
       "      <td>3</td>\n",
       "      <td>66</td>\n",
       "      <td>462</td>\n",
       "      <td>41898</td>\n",
       "      <td>2454.86</td>\n",
       "      <td>1482</td>\n",
       "      <td>0</td>\n",
       "      <td>1</td>\n",
       "      <td>1</td>\n",
       "      <td>...</td>\n",
       "      <td>49</td>\n",
       "      <td>5</td>\n",
       "      <td>2014</td>\n",
       "      <td>2</td>\n",
       "      <td>22</td>\n",
       "      <td>5</td>\n",
       "      <td>2014</td>\n",
       "      <td>2</td>\n",
       "      <td>27</td>\n",
       "      <td>3</td>\n",
       "    </tr>\n",
       "  </tbody>\n",
       "</table>\n",
       "<p>5 rows × 33 columns</p>\n",
       "</div>"
      ],
      "text/plain": [
       "   site_name  posa_continent  user_location_country  user_location_region   \n",
       "0          2               3                     66                   348  \\\n",
       "1          2               3                     66                   318   \n",
       "2         30               4                    195                   548   \n",
       "3         30               4                    195                   991   \n",
       "4          2               3                     66                   462   \n",
       "\n",
       "   user_location_city  orig_destination_distance  user_id  is_mobile   \n",
       "0               48862                    2234.26       12          0  \\\n",
       "1               52078                        NaN      756          0   \n",
       "2               56440                        NaN     1048          0   \n",
       "3               47725                        NaN     1048          0   \n",
       "4               41898                    2454.86     1482          0   \n",
       "\n",
       "   is_package  channel  ...  lead_time  stay_nights  ci_year  ci_month   \n",
       "0           1        9  ...         17            4     2014         8  \\\n",
       "1           1        4  ...         49            2     2014         4   \n",
       "2           1        9  ...         82            8     2013         9   \n",
       "3           0        9  ...        214            2     2015         6   \n",
       "4           1        1  ...         49            5     2014         2   \n",
       "\n",
       "   ci_day  ci_weekday  co_year  co_month  co_day  co_weekday  \n",
       "0      29           4     2014         9       2           1  \n",
       "1      18           4     2014         4      20           6  \n",
       "2       6           4     2013         9      14           5  \n",
       "3      26           4     2015         6      28           6  \n",
       "4      22           5     2014         2      27           3  \n",
       "\n",
       "[5 rows x 33 columns]"
      ]
     },
     "execution_count": 31,
     "metadata": {},
     "output_type": "execute_result"
    }
   ],
   "source": [
    "df.head()"
   ]
  },
  {
   "cell_type": "code",
   "execution_count": 31,
   "id": "7b0842a6",
   "metadata": {},
   "outputs": [
    {
     "data": {
      "text/plain": [
       "322733"
      ]
     },
     "execution_count": 31,
     "metadata": {},
     "output_type": "execute_result"
    }
   ],
   "source": [
    "df['orig_destination_distance'].isna().sum()"
   ]
  },
  {
   "cell_type": "code",
   "execution_count": 32,
   "id": "d8620f92",
   "metadata": {},
   "outputs": [],
   "source": [
    "df['orig_destination_distance'] = df['orig_destination_distance'].fillna(df['orig_destination_distance'].median())"
   ]
  },
  {
   "cell_type": "code",
   "execution_count": 33,
   "id": "7ca56f2a",
   "metadata": {},
   "outputs": [
    {
     "data": {
      "application/vnd.microsoft.datawrangler.viewer.v0+json": {
       "columns": [
        {
         "name": "index",
         "rawType": "object",
         "type": "string"
        },
        {
         "name": "0",
         "rawType": "int64",
         "type": "integer"
        }
       ],
       "ref": "dd0caadc-779c-482e-a0da-c2d9d0150427",
       "rows": [
        [
         "site_name",
         "0"
        ],
        [
         "posa_continent",
         "0"
        ],
        [
         "user_location_country",
         "0"
        ],
        [
         "user_location_region",
         "0"
        ],
        [
         "user_location_city",
         "0"
        ],
        [
         "orig_destination_distance",
         "0"
        ],
        [
         "user_id",
         "0"
        ],
        [
         "is_mobile",
         "0"
        ],
        [
         "is_package",
         "0"
        ],
        [
         "channel",
         "0"
        ],
        [
         "srch_adults_cnt",
         "0"
        ],
        [
         "srch_children_cnt",
         "0"
        ],
        [
         "srch_rm_cnt",
         "0"
        ],
        [
         "srch_destination_id",
         "0"
        ],
        [
         "srch_destination_type_id",
         "0"
        ],
        [
         "hotel_continent",
         "0"
        ],
        [
         "hotel_country",
         "0"
        ],
        [
         "hotel_market",
         "0"
        ],
        [
         "hotel_cluster",
         "0"
        ],
        [
         "search_year",
         "0"
        ],
        [
         "search_month",
         "0"
        ],
        [
         "search_dayofweek",
         "0"
        ],
        [
         "search_hour",
         "0"
        ],
        [
         "lead_time",
         "0"
        ],
        [
         "stay_nights",
         "0"
        ],
        [
         "ci_year",
         "0"
        ],
        [
         "ci_month",
         "0"
        ],
        [
         "ci_day",
         "0"
        ],
        [
         "ci_weekday",
         "0"
        ],
        [
         "co_year",
         "0"
        ],
        [
         "co_month",
         "0"
        ],
        [
         "co_day",
         "0"
        ],
        [
         "co_weekday",
         "0"
        ]
       ],
       "shape": {
        "columns": 1,
        "rows": 33
       }
      },
      "text/plain": [
       "site_name                    0\n",
       "posa_continent               0\n",
       "user_location_country        0\n",
       "user_location_region         0\n",
       "user_location_city           0\n",
       "orig_destination_distance    0\n",
       "user_id                      0\n",
       "is_mobile                    0\n",
       "is_package                   0\n",
       "channel                      0\n",
       "srch_adults_cnt              0\n",
       "srch_children_cnt            0\n",
       "srch_rm_cnt                  0\n",
       "srch_destination_id          0\n",
       "srch_destination_type_id     0\n",
       "hotel_continent              0\n",
       "hotel_country                0\n",
       "hotel_market                 0\n",
       "hotel_cluster                0\n",
       "search_year                  0\n",
       "search_month                 0\n",
       "search_dayofweek             0\n",
       "search_hour                  0\n",
       "lead_time                    0\n",
       "stay_nights                  0\n",
       "ci_year                      0\n",
       "ci_month                     0\n",
       "ci_day                       0\n",
       "ci_weekday                   0\n",
       "co_year                      0\n",
       "co_month                     0\n",
       "co_day                       0\n",
       "co_weekday                   0\n",
       "dtype: int64"
      ]
     },
     "execution_count": 33,
     "metadata": {},
     "output_type": "execute_result"
    }
   ],
   "source": [
    "df.isna().sum()"
   ]
  },
  {
   "cell_type": "code",
   "execution_count": null,
   "id": "2b31129f",
   "metadata": {},
   "outputs": [],
   "source": []
  },
  {
   "cell_type": "markdown",
   "id": "a1cd499e",
   "metadata": {},
   "source": [
    "# Model 2 : Decision tree after imputation"
   ]
  },
  {
   "cell_type": "code",
   "execution_count": 34,
   "id": "6e828999",
   "metadata": {},
   "outputs": [
    {
     "data": {
      "application/vnd.microsoft.datawrangler.viewer.v0+json": {
       "columns": [
        {
         "name": "index",
         "rawType": "int64",
         "type": "integer"
        },
        {
         "name": "site_name",
         "rawType": "int64",
         "type": "integer"
        },
        {
         "name": "posa_continent",
         "rawType": "int64",
         "type": "integer"
        },
        {
         "name": "user_location_country",
         "rawType": "int64",
         "type": "integer"
        },
        {
         "name": "user_location_region",
         "rawType": "int64",
         "type": "integer"
        },
        {
         "name": "user_location_city",
         "rawType": "int64",
         "type": "integer"
        },
        {
         "name": "orig_destination_distance",
         "rawType": "float64",
         "type": "float"
        },
        {
         "name": "user_id",
         "rawType": "int64",
         "type": "integer"
        },
        {
         "name": "is_mobile",
         "rawType": "int64",
         "type": "integer"
        },
        {
         "name": "is_package",
         "rawType": "int64",
         "type": "integer"
        },
        {
         "name": "channel",
         "rawType": "int64",
         "type": "integer"
        },
        {
         "name": "srch_adults_cnt",
         "rawType": "int64",
         "type": "integer"
        },
        {
         "name": "srch_children_cnt",
         "rawType": "int64",
         "type": "integer"
        },
        {
         "name": "srch_rm_cnt",
         "rawType": "int64",
         "type": "integer"
        },
        {
         "name": "srch_destination_id",
         "rawType": "int64",
         "type": "integer"
        },
        {
         "name": "srch_destination_type_id",
         "rawType": "int64",
         "type": "integer"
        },
        {
         "name": "hotel_continent",
         "rawType": "int64",
         "type": "integer"
        },
        {
         "name": "hotel_country",
         "rawType": "int64",
         "type": "integer"
        },
        {
         "name": "hotel_market",
         "rawType": "int64",
         "type": "integer"
        },
        {
         "name": "hotel_cluster",
         "rawType": "int64",
         "type": "integer"
        },
        {
         "name": "search_year",
         "rawType": "int32",
         "type": "integer"
        },
        {
         "name": "search_month",
         "rawType": "int32",
         "type": "integer"
        },
        {
         "name": "search_dayofweek",
         "rawType": "int32",
         "type": "integer"
        },
        {
         "name": "search_hour",
         "rawType": "int32",
         "type": "integer"
        },
        {
         "name": "lead_time",
         "rawType": "int64",
         "type": "integer"
        },
        {
         "name": "stay_nights",
         "rawType": "int64",
         "type": "integer"
        },
        {
         "name": "ci_year",
         "rawType": "int32",
         "type": "integer"
        },
        {
         "name": "ci_month",
         "rawType": "int32",
         "type": "integer"
        },
        {
         "name": "ci_day",
         "rawType": "int32",
         "type": "integer"
        },
        {
         "name": "ci_weekday",
         "rawType": "int32",
         "type": "integer"
        },
        {
         "name": "co_year",
         "rawType": "int32",
         "type": "integer"
        },
        {
         "name": "co_month",
         "rawType": "int32",
         "type": "integer"
        },
        {
         "name": "co_day",
         "rawType": "int32",
         "type": "integer"
        },
        {
         "name": "co_weekday",
         "rawType": "int32",
         "type": "integer"
        }
       ],
       "ref": "340484b0-eb77-4611-aeda-10292a454e38",
       "rows": [
        [
         "0",
         "2",
         "3",
         "66",
         "348",
         "48862",
         "2234.2641",
         "12",
         "0",
         "1",
         "9",
         "2",
         "0",
         "1",
         "8250",
         "1",
         "2",
         "50",
         "628",
         "1",
         "2014",
         "8",
         "0",
         "8",
         "17",
         "4",
         "2014",
         "8",
         "29",
         "4",
         "2014",
         "9",
         "2",
         "1"
        ],
        [
         "1",
         "2",
         "3",
         "66",
         "318",
         "52078",
         "907.0869",
         "756",
         "0",
         "1",
         "4",
         "2",
         "0",
         "1",
         "8291",
         "1",
         "2",
         "50",
         "191",
         "2",
         "2014",
         "2",
         "3",
         "18",
         "49",
         "2",
         "2014",
         "4",
         "18",
         "4",
         "2014",
         "4",
         "20",
         "6"
        ],
        [
         "2",
         "30",
         "4",
         "195",
         "548",
         "56440",
         "907.0869",
         "1048",
         "0",
         "1",
         "9",
         "2",
         "0",
         "1",
         "1385",
         "1",
         "0",
         "185",
         "185",
         "58",
         "2013",
         "6",
         "5",
         "15",
         "82",
         "8",
         "2013",
         "9",
         "6",
         "4",
         "2013",
         "9",
         "14",
         "5"
        ],
        [
         "3",
         "30",
         "4",
         "195",
         "991",
         "47725",
         "907.0869",
         "1048",
         "0",
         "0",
         "9",
         "2",
         "0",
         "1",
         "8803",
         "1",
         "3",
         "151",
         "69",
         "36",
         "2014",
         "11",
         "6",
         "18",
         "214",
         "2",
         "2015",
         "6",
         "26",
         "4",
         "2015",
         "6",
         "28",
         "6"
        ],
        [
         "4",
         "2",
         "3",
         "66",
         "462",
         "41898",
         "2454.8588",
         "1482",
         "0",
         "1",
         "1",
         "3",
         "0",
         "2",
         "12009",
         "1",
         "2",
         "50",
         "680",
         "95",
         "2014",
         "1",
         "4",
         "16",
         "49",
         "5",
         "2014",
         "2",
         "22",
         "5",
         "2014",
         "2",
         "27",
         "3"
        ]
       ],
       "shape": {
        "columns": 33,
        "rows": 5
       }
      },
      "text/html": [
       "<div>\n",
       "<style scoped>\n",
       "    .dataframe tbody tr th:only-of-type {\n",
       "        vertical-align: middle;\n",
       "    }\n",
       "\n",
       "    .dataframe tbody tr th {\n",
       "        vertical-align: top;\n",
       "    }\n",
       "\n",
       "    .dataframe thead th {\n",
       "        text-align: right;\n",
       "    }\n",
       "</style>\n",
       "<table border=\"1\" class=\"dataframe\">\n",
       "  <thead>\n",
       "    <tr style=\"text-align: right;\">\n",
       "      <th></th>\n",
       "      <th>site_name</th>\n",
       "      <th>posa_continent</th>\n",
       "      <th>user_location_country</th>\n",
       "      <th>user_location_region</th>\n",
       "      <th>user_location_city</th>\n",
       "      <th>orig_destination_distance</th>\n",
       "      <th>user_id</th>\n",
       "      <th>is_mobile</th>\n",
       "      <th>is_package</th>\n",
       "      <th>channel</th>\n",
       "      <th>...</th>\n",
       "      <th>lead_time</th>\n",
       "      <th>stay_nights</th>\n",
       "      <th>ci_year</th>\n",
       "      <th>ci_month</th>\n",
       "      <th>ci_day</th>\n",
       "      <th>ci_weekday</th>\n",
       "      <th>co_year</th>\n",
       "      <th>co_month</th>\n",
       "      <th>co_day</th>\n",
       "      <th>co_weekday</th>\n",
       "    </tr>\n",
       "  </thead>\n",
       "  <tbody>\n",
       "    <tr>\n",
       "      <th>0</th>\n",
       "      <td>2</td>\n",
       "      <td>3</td>\n",
       "      <td>66</td>\n",
       "      <td>348</td>\n",
       "      <td>48862</td>\n",
       "      <td>2234.26</td>\n",
       "      <td>12</td>\n",
       "      <td>0</td>\n",
       "      <td>1</td>\n",
       "      <td>9</td>\n",
       "      <td>...</td>\n",
       "      <td>17</td>\n",
       "      <td>4</td>\n",
       "      <td>2014</td>\n",
       "      <td>8</td>\n",
       "      <td>29</td>\n",
       "      <td>4</td>\n",
       "      <td>2014</td>\n",
       "      <td>9</td>\n",
       "      <td>2</td>\n",
       "      <td>1</td>\n",
       "    </tr>\n",
       "    <tr>\n",
       "      <th>1</th>\n",
       "      <td>2</td>\n",
       "      <td>3</td>\n",
       "      <td>66</td>\n",
       "      <td>318</td>\n",
       "      <td>52078</td>\n",
       "      <td>907.09</td>\n",
       "      <td>756</td>\n",
       "      <td>0</td>\n",
       "      <td>1</td>\n",
       "      <td>4</td>\n",
       "      <td>...</td>\n",
       "      <td>49</td>\n",
       "      <td>2</td>\n",
       "      <td>2014</td>\n",
       "      <td>4</td>\n",
       "      <td>18</td>\n",
       "      <td>4</td>\n",
       "      <td>2014</td>\n",
       "      <td>4</td>\n",
       "      <td>20</td>\n",
       "      <td>6</td>\n",
       "    </tr>\n",
       "    <tr>\n",
       "      <th>2</th>\n",
       "      <td>30</td>\n",
       "      <td>4</td>\n",
       "      <td>195</td>\n",
       "      <td>548</td>\n",
       "      <td>56440</td>\n",
       "      <td>907.09</td>\n",
       "      <td>1048</td>\n",
       "      <td>0</td>\n",
       "      <td>1</td>\n",
       "      <td>9</td>\n",
       "      <td>...</td>\n",
       "      <td>82</td>\n",
       "      <td>8</td>\n",
       "      <td>2013</td>\n",
       "      <td>9</td>\n",
       "      <td>6</td>\n",
       "      <td>4</td>\n",
       "      <td>2013</td>\n",
       "      <td>9</td>\n",
       "      <td>14</td>\n",
       "      <td>5</td>\n",
       "    </tr>\n",
       "    <tr>\n",
       "      <th>3</th>\n",
       "      <td>30</td>\n",
       "      <td>4</td>\n",
       "      <td>195</td>\n",
       "      <td>991</td>\n",
       "      <td>47725</td>\n",
       "      <td>907.09</td>\n",
       "      <td>1048</td>\n",
       "      <td>0</td>\n",
       "      <td>0</td>\n",
       "      <td>9</td>\n",
       "      <td>...</td>\n",
       "      <td>214</td>\n",
       "      <td>2</td>\n",
       "      <td>2015</td>\n",
       "      <td>6</td>\n",
       "      <td>26</td>\n",
       "      <td>4</td>\n",
       "      <td>2015</td>\n",
       "      <td>6</td>\n",
       "      <td>28</td>\n",
       "      <td>6</td>\n",
       "    </tr>\n",
       "    <tr>\n",
       "      <th>4</th>\n",
       "      <td>2</td>\n",
       "      <td>3</td>\n",
       "      <td>66</td>\n",
       "      <td>462</td>\n",
       "      <td>41898</td>\n",
       "      <td>2454.86</td>\n",
       "      <td>1482</td>\n",
       "      <td>0</td>\n",
       "      <td>1</td>\n",
       "      <td>1</td>\n",
       "      <td>...</td>\n",
       "      <td>49</td>\n",
       "      <td>5</td>\n",
       "      <td>2014</td>\n",
       "      <td>2</td>\n",
       "      <td>22</td>\n",
       "      <td>5</td>\n",
       "      <td>2014</td>\n",
       "      <td>2</td>\n",
       "      <td>27</td>\n",
       "      <td>3</td>\n",
       "    </tr>\n",
       "  </tbody>\n",
       "</table>\n",
       "<p>5 rows × 33 columns</p>\n",
       "</div>"
      ],
      "text/plain": [
       "   site_name  posa_continent  user_location_country  user_location_region   \n",
       "0          2               3                     66                   348  \\\n",
       "1          2               3                     66                   318   \n",
       "2         30               4                    195                   548   \n",
       "3         30               4                    195                   991   \n",
       "4          2               3                     66                   462   \n",
       "\n",
       "   user_location_city  orig_destination_distance  user_id  is_mobile   \n",
       "0               48862                    2234.26       12          0  \\\n",
       "1               52078                     907.09      756          0   \n",
       "2               56440                     907.09     1048          0   \n",
       "3               47725                     907.09     1048          0   \n",
       "4               41898                    2454.86     1482          0   \n",
       "\n",
       "   is_package  channel  ...  lead_time  stay_nights  ci_year  ci_month   \n",
       "0           1        9  ...         17            4     2014         8  \\\n",
       "1           1        4  ...         49            2     2014         4   \n",
       "2           1        9  ...         82            8     2013         9   \n",
       "3           0        9  ...        214            2     2015         6   \n",
       "4           1        1  ...         49            5     2014         2   \n",
       "\n",
       "   ci_day  ci_weekday  co_year  co_month  co_day  co_weekday  \n",
       "0      29           4     2014         9       2           1  \n",
       "1      18           4     2014         4      20           6  \n",
       "2       6           4     2013         9      14           5  \n",
       "3      26           4     2015         6      28           6  \n",
       "4      22           5     2014         2      27           3  \n",
       "\n",
       "[5 rows x 33 columns]"
      ]
     },
     "execution_count": 34,
     "metadata": {},
     "output_type": "execute_result"
    }
   ],
   "source": [
    "df.head()"
   ]
  },
  {
   "cell_type": "code",
   "execution_count": 35,
   "id": "7bde0816",
   "metadata": {},
   "outputs": [],
   "source": [
    "X= df.drop(['hotel_cluster'], axis=1)\n",
    "y= df['hotel_cluster']"
   ]
  },
  {
   "cell_type": "code",
   "execution_count": 36,
   "id": "ed0eb130",
   "metadata": {},
   "outputs": [],
   "source": [
    "model2=DecisionTreeClassifier(max_depth=5)\n",
    "model2.fit(X_train, y_train)\n",
    "y_pred_model2 = model2.predict(X_test)"
   ]
  },
  {
   "cell_type": "code",
   "execution_count": 37,
   "id": "aaf8722e",
   "metadata": {},
   "outputs": [
    {
     "name": "stdout",
     "output_type": "stream",
     "text": [
      "DecisionTreeClassifier Accuracy: 0.0959\n"
     ]
    }
   ],
   "source": [
    "accuracy = accuracy_score(y_test, y_pred_model2)\n",
    "print(f\"DecisionTreeClassifier Accuracy: {accuracy:.4f}\")"
   ]
  },
  {
   "cell_type": "markdown",
   "id": "9c2d1908",
   "metadata": {},
   "source": [
    "# Decision tree classifier with more depth"
   ]
  },
  {
   "cell_type": "code",
   "execution_count": 38,
   "id": "535cc038",
   "metadata": {},
   "outputs": [
    {
     "data": {
      "text/html": [
       "<style>#sk-container-id-1 {color: black;background-color: white;}#sk-container-id-1 pre{padding: 0;}#sk-container-id-1 div.sk-toggleable {background-color: white;}#sk-container-id-1 label.sk-toggleable__label {cursor: pointer;display: block;width: 100%;margin-bottom: 0;padding: 0.3em;box-sizing: border-box;text-align: center;}#sk-container-id-1 label.sk-toggleable__label-arrow:before {content: \"▸\";float: left;margin-right: 0.25em;color: #696969;}#sk-container-id-1 label.sk-toggleable__label-arrow:hover:before {color: black;}#sk-container-id-1 div.sk-estimator:hover label.sk-toggleable__label-arrow:before {color: black;}#sk-container-id-1 div.sk-toggleable__content {max-height: 0;max-width: 0;overflow: hidden;text-align: left;background-color: #f0f8ff;}#sk-container-id-1 div.sk-toggleable__content pre {margin: 0.2em;color: black;border-radius: 0.25em;background-color: #f0f8ff;}#sk-container-id-1 input.sk-toggleable__control:checked~div.sk-toggleable__content {max-height: 200px;max-width: 100%;overflow: auto;}#sk-container-id-1 input.sk-toggleable__control:checked~label.sk-toggleable__label-arrow:before {content: \"▾\";}#sk-container-id-1 div.sk-estimator input.sk-toggleable__control:checked~label.sk-toggleable__label {background-color: #d4ebff;}#sk-container-id-1 div.sk-label input.sk-toggleable__control:checked~label.sk-toggleable__label {background-color: #d4ebff;}#sk-container-id-1 input.sk-hidden--visually {border: 0;clip: rect(1px 1px 1px 1px);clip: rect(1px, 1px, 1px, 1px);height: 1px;margin: -1px;overflow: hidden;padding: 0;position: absolute;width: 1px;}#sk-container-id-1 div.sk-estimator {font-family: monospace;background-color: #f0f8ff;border: 1px dotted black;border-radius: 0.25em;box-sizing: border-box;margin-bottom: 0.5em;}#sk-container-id-1 div.sk-estimator:hover {background-color: #d4ebff;}#sk-container-id-1 div.sk-parallel-item::after {content: \"\";width: 100%;border-bottom: 1px solid gray;flex-grow: 1;}#sk-container-id-1 div.sk-label:hover label.sk-toggleable__label {background-color: #d4ebff;}#sk-container-id-1 div.sk-serial::before {content: \"\";position: absolute;border-left: 1px solid gray;box-sizing: border-box;top: 0;bottom: 0;left: 50%;z-index: 0;}#sk-container-id-1 div.sk-serial {display: flex;flex-direction: column;align-items: center;background-color: white;padding-right: 0.2em;padding-left: 0.2em;position: relative;}#sk-container-id-1 div.sk-item {position: relative;z-index: 1;}#sk-container-id-1 div.sk-parallel {display: flex;align-items: stretch;justify-content: center;background-color: white;position: relative;}#sk-container-id-1 div.sk-item::before, #sk-container-id-1 div.sk-parallel-item::before {content: \"\";position: absolute;border-left: 1px solid gray;box-sizing: border-box;top: 0;bottom: 0;left: 50%;z-index: -1;}#sk-container-id-1 div.sk-parallel-item {display: flex;flex-direction: column;z-index: 1;position: relative;background-color: white;}#sk-container-id-1 div.sk-parallel-item:first-child::after {align-self: flex-end;width: 50%;}#sk-container-id-1 div.sk-parallel-item:last-child::after {align-self: flex-start;width: 50%;}#sk-container-id-1 div.sk-parallel-item:only-child::after {width: 0;}#sk-container-id-1 div.sk-dashed-wrapped {border: 1px dashed gray;margin: 0 0.4em 0.5em 0.4em;box-sizing: border-box;padding-bottom: 0.4em;background-color: white;}#sk-container-id-1 div.sk-label label {font-family: monospace;font-weight: bold;display: inline-block;line-height: 1.2em;}#sk-container-id-1 div.sk-label-container {text-align: center;}#sk-container-id-1 div.sk-container {/* jupyter's `normalize.less` sets `[hidden] { display: none; }` but bootstrap.min.css set `[hidden] { display: none !important; }` so we also need the `!important` here to be able to override the default hidden behavior on the sphinx rendered scikit-learn.org. See: https://github.com/scikit-learn/scikit-learn/issues/21755 */display: inline-block !important;position: relative;}#sk-container-id-1 div.sk-text-repr-fallback {display: none;}</style><div id=\"sk-container-id-1\" class=\"sk-top-container\"><div class=\"sk-text-repr-fallback\"><pre>DecisionTreeClassifier(max_depth=20, min_samples_split=50, random_state=42)</pre><b>In a Jupyter environment, please rerun this cell to show the HTML representation or trust the notebook. <br />On GitHub, the HTML representation is unable to render, please try loading this page with nbviewer.org.</b></div><div class=\"sk-container\" hidden><div class=\"sk-item\"><div class=\"sk-estimator sk-toggleable\"><input class=\"sk-toggleable__control sk-hidden--visually\" id=\"sk-estimator-id-1\" type=\"checkbox\" checked><label for=\"sk-estimator-id-1\" class=\"sk-toggleable__label sk-toggleable__label-arrow\">DecisionTreeClassifier</label><div class=\"sk-toggleable__content\"><pre>DecisionTreeClassifier(max_depth=20, min_samples_split=50, random_state=42)</pre></div></div></div></div></div>"
      ],
      "text/plain": [
       "DecisionTreeClassifier(max_depth=20, min_samples_split=50, random_state=42)"
      ]
     },
     "execution_count": 38,
     "metadata": {},
     "output_type": "execute_result"
    }
   ],
   "source": [
    "model3 = DecisionTreeClassifier(max_depth=20, min_samples_split=50, random_state=42)\n",
    "model3.fit(X_train, y_train)\n"
   ]
  },
  {
   "cell_type": "code",
   "execution_count": 39,
   "id": "ff036df7",
   "metadata": {},
   "outputs": [],
   "source": [
    "y_pred_model3 = model3.predict(X_test)"
   ]
  },
  {
   "cell_type": "code",
   "execution_count": 40,
   "id": "6c6e6725",
   "metadata": {},
   "outputs": [
    {
     "name": "stdout",
     "output_type": "stream",
     "text": [
      "DecisionTreeClassifier Accuracy: 0.1764\n"
     ]
    }
   ],
   "source": [
    "accuracy = accuracy_score(y_test, y_pred_model3)\n",
    "print(f\"DecisionTreeClassifier Accuracy: {accuracy:.4f}\")"
   ]
  },
  {
   "cell_type": "markdown",
   "id": "d9bd584f",
   "metadata": {},
   "source": [
    "# Decision tree classifier after log transformation"
   ]
  },
  {
   "cell_type": "code",
   "execution_count": 41,
   "id": "2e15ebca",
   "metadata": {},
   "outputs": [],
   "source": [
    "df['orig_destination_distance_log'] = np.log1p(df['orig_destination_distance'])"
   ]
  },
  {
   "cell_type": "code",
   "execution_count": 42,
   "id": "1bebb715",
   "metadata": {},
   "outputs": [
    {
     "data": {
      "application/vnd.microsoft.datawrangler.viewer.v0+json": {
       "columns": [
        {
         "name": "index",
         "rawType": "int64",
         "type": "integer"
        },
        {
         "name": "site_name",
         "rawType": "int64",
         "type": "integer"
        },
        {
         "name": "posa_continent",
         "rawType": "int64",
         "type": "integer"
        },
        {
         "name": "user_location_country",
         "rawType": "int64",
         "type": "integer"
        },
        {
         "name": "user_location_region",
         "rawType": "int64",
         "type": "integer"
        },
        {
         "name": "user_location_city",
         "rawType": "int64",
         "type": "integer"
        },
        {
         "name": "orig_destination_distance",
         "rawType": "float64",
         "type": "float"
        },
        {
         "name": "user_id",
         "rawType": "int64",
         "type": "integer"
        },
        {
         "name": "is_mobile",
         "rawType": "int64",
         "type": "integer"
        },
        {
         "name": "is_package",
         "rawType": "int64",
         "type": "integer"
        },
        {
         "name": "channel",
         "rawType": "int64",
         "type": "integer"
        },
        {
         "name": "srch_adults_cnt",
         "rawType": "int64",
         "type": "integer"
        },
        {
         "name": "srch_children_cnt",
         "rawType": "int64",
         "type": "integer"
        },
        {
         "name": "srch_rm_cnt",
         "rawType": "int64",
         "type": "integer"
        },
        {
         "name": "srch_destination_id",
         "rawType": "int64",
         "type": "integer"
        },
        {
         "name": "srch_destination_type_id",
         "rawType": "int64",
         "type": "integer"
        },
        {
         "name": "hotel_continent",
         "rawType": "int64",
         "type": "integer"
        },
        {
         "name": "hotel_country",
         "rawType": "int64",
         "type": "integer"
        },
        {
         "name": "hotel_market",
         "rawType": "int64",
         "type": "integer"
        },
        {
         "name": "hotel_cluster",
         "rawType": "int64",
         "type": "integer"
        },
        {
         "name": "search_year",
         "rawType": "int32",
         "type": "integer"
        },
        {
         "name": "search_month",
         "rawType": "int32",
         "type": "integer"
        },
        {
         "name": "search_dayofweek",
         "rawType": "int32",
         "type": "integer"
        },
        {
         "name": "search_hour",
         "rawType": "int32",
         "type": "integer"
        },
        {
         "name": "lead_time",
         "rawType": "int64",
         "type": "integer"
        },
        {
         "name": "stay_nights",
         "rawType": "int64",
         "type": "integer"
        },
        {
         "name": "ci_year",
         "rawType": "int32",
         "type": "integer"
        },
        {
         "name": "ci_month",
         "rawType": "int32",
         "type": "integer"
        },
        {
         "name": "ci_day",
         "rawType": "int32",
         "type": "integer"
        },
        {
         "name": "ci_weekday",
         "rawType": "int32",
         "type": "integer"
        },
        {
         "name": "co_year",
         "rawType": "int32",
         "type": "integer"
        },
        {
         "name": "co_month",
         "rawType": "int32",
         "type": "integer"
        },
        {
         "name": "co_day",
         "rawType": "int32",
         "type": "integer"
        },
        {
         "name": "co_weekday",
         "rawType": "int32",
         "type": "integer"
        },
        {
         "name": "orig_destination_distance_log",
         "rawType": "float64",
         "type": "float"
        }
       ],
       "ref": "98ce8038-50d4-4293-b65d-4c10d20222b5",
       "rows": [
        [
         "0",
         "2",
         "3",
         "66",
         "348",
         "48862",
         "2234.2641",
         "12",
         "0",
         "1",
         "9",
         "2",
         "0",
         "1",
         "8250",
         "1",
         "2",
         "50",
         "628",
         "1",
         "2014",
         "8",
         "0",
         "8",
         "17",
         "4",
         "2014",
         "8",
         "29",
         "4",
         "2014",
         "9",
         "2",
         "1",
         "7.712114665614769"
        ],
        [
         "1",
         "2",
         "3",
         "66",
         "318",
         "52078",
         "907.0869",
         "756",
         "0",
         "1",
         "4",
         "2",
         "0",
         "1",
         "8291",
         "1",
         "2",
         "50",
         "191",
         "2",
         "2014",
         "2",
         "3",
         "18",
         "49",
         "2",
         "2014",
         "4",
         "18",
         "4",
         "2014",
         "4",
         "20",
         "6",
         "6.811340078867691"
        ],
        [
         "2",
         "30",
         "4",
         "195",
         "548",
         "56440",
         "907.0869",
         "1048",
         "0",
         "1",
         "9",
         "2",
         "0",
         "1",
         "1385",
         "1",
         "0",
         "185",
         "185",
         "58",
         "2013",
         "6",
         "5",
         "15",
         "82",
         "8",
         "2013",
         "9",
         "6",
         "4",
         "2013",
         "9",
         "14",
         "5",
         "6.811340078867691"
        ],
        [
         "3",
         "30",
         "4",
         "195",
         "991",
         "47725",
         "907.0869",
         "1048",
         "0",
         "0",
         "9",
         "2",
         "0",
         "1",
         "8803",
         "1",
         "3",
         "151",
         "69",
         "36",
         "2014",
         "11",
         "6",
         "18",
         "214",
         "2",
         "2015",
         "6",
         "26",
         "4",
         "2015",
         "6",
         "28",
         "6",
         "6.811340078867691"
        ],
        [
         "4",
         "2",
         "3",
         "66",
         "462",
         "41898",
         "2454.8588",
         "1482",
         "0",
         "1",
         "1",
         "3",
         "0",
         "2",
         "12009",
         "1",
         "2",
         "50",
         "680",
         "95",
         "2014",
         "1",
         "4",
         "16",
         "49",
         "5",
         "2014",
         "2",
         "22",
         "5",
         "2014",
         "2",
         "27",
         "3",
         "7.806231795757635"
        ]
       ],
       "shape": {
        "columns": 34,
        "rows": 5
       }
      },
      "text/html": [
       "<div>\n",
       "<style scoped>\n",
       "    .dataframe tbody tr th:only-of-type {\n",
       "        vertical-align: middle;\n",
       "    }\n",
       "\n",
       "    .dataframe tbody tr th {\n",
       "        vertical-align: top;\n",
       "    }\n",
       "\n",
       "    .dataframe thead th {\n",
       "        text-align: right;\n",
       "    }\n",
       "</style>\n",
       "<table border=\"1\" class=\"dataframe\">\n",
       "  <thead>\n",
       "    <tr style=\"text-align: right;\">\n",
       "      <th></th>\n",
       "      <th>site_name</th>\n",
       "      <th>posa_continent</th>\n",
       "      <th>user_location_country</th>\n",
       "      <th>user_location_region</th>\n",
       "      <th>user_location_city</th>\n",
       "      <th>orig_destination_distance</th>\n",
       "      <th>user_id</th>\n",
       "      <th>is_mobile</th>\n",
       "      <th>is_package</th>\n",
       "      <th>channel</th>\n",
       "      <th>...</th>\n",
       "      <th>stay_nights</th>\n",
       "      <th>ci_year</th>\n",
       "      <th>ci_month</th>\n",
       "      <th>ci_day</th>\n",
       "      <th>ci_weekday</th>\n",
       "      <th>co_year</th>\n",
       "      <th>co_month</th>\n",
       "      <th>co_day</th>\n",
       "      <th>co_weekday</th>\n",
       "      <th>orig_destination_distance_log</th>\n",
       "    </tr>\n",
       "  </thead>\n",
       "  <tbody>\n",
       "    <tr>\n",
       "      <th>0</th>\n",
       "      <td>2</td>\n",
       "      <td>3</td>\n",
       "      <td>66</td>\n",
       "      <td>348</td>\n",
       "      <td>48862</td>\n",
       "      <td>2234.26</td>\n",
       "      <td>12</td>\n",
       "      <td>0</td>\n",
       "      <td>1</td>\n",
       "      <td>9</td>\n",
       "      <td>...</td>\n",
       "      <td>4</td>\n",
       "      <td>2014</td>\n",
       "      <td>8</td>\n",
       "      <td>29</td>\n",
       "      <td>4</td>\n",
       "      <td>2014</td>\n",
       "      <td>9</td>\n",
       "      <td>2</td>\n",
       "      <td>1</td>\n",
       "      <td>7.71</td>\n",
       "    </tr>\n",
       "    <tr>\n",
       "      <th>1</th>\n",
       "      <td>2</td>\n",
       "      <td>3</td>\n",
       "      <td>66</td>\n",
       "      <td>318</td>\n",
       "      <td>52078</td>\n",
       "      <td>907.09</td>\n",
       "      <td>756</td>\n",
       "      <td>0</td>\n",
       "      <td>1</td>\n",
       "      <td>4</td>\n",
       "      <td>...</td>\n",
       "      <td>2</td>\n",
       "      <td>2014</td>\n",
       "      <td>4</td>\n",
       "      <td>18</td>\n",
       "      <td>4</td>\n",
       "      <td>2014</td>\n",
       "      <td>4</td>\n",
       "      <td>20</td>\n",
       "      <td>6</td>\n",
       "      <td>6.81</td>\n",
       "    </tr>\n",
       "    <tr>\n",
       "      <th>2</th>\n",
       "      <td>30</td>\n",
       "      <td>4</td>\n",
       "      <td>195</td>\n",
       "      <td>548</td>\n",
       "      <td>56440</td>\n",
       "      <td>907.09</td>\n",
       "      <td>1048</td>\n",
       "      <td>0</td>\n",
       "      <td>1</td>\n",
       "      <td>9</td>\n",
       "      <td>...</td>\n",
       "      <td>8</td>\n",
       "      <td>2013</td>\n",
       "      <td>9</td>\n",
       "      <td>6</td>\n",
       "      <td>4</td>\n",
       "      <td>2013</td>\n",
       "      <td>9</td>\n",
       "      <td>14</td>\n",
       "      <td>5</td>\n",
       "      <td>6.81</td>\n",
       "    </tr>\n",
       "    <tr>\n",
       "      <th>3</th>\n",
       "      <td>30</td>\n",
       "      <td>4</td>\n",
       "      <td>195</td>\n",
       "      <td>991</td>\n",
       "      <td>47725</td>\n",
       "      <td>907.09</td>\n",
       "      <td>1048</td>\n",
       "      <td>0</td>\n",
       "      <td>0</td>\n",
       "      <td>9</td>\n",
       "      <td>...</td>\n",
       "      <td>2</td>\n",
       "      <td>2015</td>\n",
       "      <td>6</td>\n",
       "      <td>26</td>\n",
       "      <td>4</td>\n",
       "      <td>2015</td>\n",
       "      <td>6</td>\n",
       "      <td>28</td>\n",
       "      <td>6</td>\n",
       "      <td>6.81</td>\n",
       "    </tr>\n",
       "    <tr>\n",
       "      <th>4</th>\n",
       "      <td>2</td>\n",
       "      <td>3</td>\n",
       "      <td>66</td>\n",
       "      <td>462</td>\n",
       "      <td>41898</td>\n",
       "      <td>2454.86</td>\n",
       "      <td>1482</td>\n",
       "      <td>0</td>\n",
       "      <td>1</td>\n",
       "      <td>1</td>\n",
       "      <td>...</td>\n",
       "      <td>5</td>\n",
       "      <td>2014</td>\n",
       "      <td>2</td>\n",
       "      <td>22</td>\n",
       "      <td>5</td>\n",
       "      <td>2014</td>\n",
       "      <td>2</td>\n",
       "      <td>27</td>\n",
       "      <td>3</td>\n",
       "      <td>7.81</td>\n",
       "    </tr>\n",
       "  </tbody>\n",
       "</table>\n",
       "<p>5 rows × 34 columns</p>\n",
       "</div>"
      ],
      "text/plain": [
       "   site_name  posa_continent  user_location_country  user_location_region   \n",
       "0          2               3                     66                   348  \\\n",
       "1          2               3                     66                   318   \n",
       "2         30               4                    195                   548   \n",
       "3         30               4                    195                   991   \n",
       "4          2               3                     66                   462   \n",
       "\n",
       "   user_location_city  orig_destination_distance  user_id  is_mobile   \n",
       "0               48862                    2234.26       12          0  \\\n",
       "1               52078                     907.09      756          0   \n",
       "2               56440                     907.09     1048          0   \n",
       "3               47725                     907.09     1048          0   \n",
       "4               41898                    2454.86     1482          0   \n",
       "\n",
       "   is_package  channel  ...  stay_nights  ci_year  ci_month  ci_day   \n",
       "0           1        9  ...            4     2014         8      29  \\\n",
       "1           1        4  ...            2     2014         4      18   \n",
       "2           1        9  ...            8     2013         9       6   \n",
       "3           0        9  ...            2     2015         6      26   \n",
       "4           1        1  ...            5     2014         2      22   \n",
       "\n",
       "   ci_weekday  co_year  co_month  co_day  co_weekday   \n",
       "0           4     2014         9       2           1  \\\n",
       "1           4     2014         4      20           6   \n",
       "2           4     2013         9      14           5   \n",
       "3           4     2015         6      28           6   \n",
       "4           5     2014         2      27           3   \n",
       "\n",
       "   orig_destination_distance_log  \n",
       "0                           7.71  \n",
       "1                           6.81  \n",
       "2                           6.81  \n",
       "3                           6.81  \n",
       "4                           7.81  \n",
       "\n",
       "[5 rows x 34 columns]"
      ]
     },
     "execution_count": 42,
     "metadata": {},
     "output_type": "execute_result"
    }
   ],
   "source": [
    "df.head()"
   ]
  },
  {
   "cell_type": "code",
   "execution_count": 43,
   "id": "29ac5c4a",
   "metadata": {},
   "outputs": [
    {
     "data": {
      "application/vnd.microsoft.datawrangler.viewer.v0+json": {
       "columns": [
        {
         "name": "posa_continent",
         "rawType": "int64",
         "type": "integer"
        },
        {
         "name": "count",
         "rawType": "int64",
         "type": "integer"
        }
       ],
       "ref": "3c4d968c-da44-483d-ac68-4a56adbed707",
       "rows": [
        [
         "3",
         "721067"
        ],
        [
         "1",
         "113666"
        ],
        [
         "2",
         "67098"
        ],
        [
         "4",
         "25792"
        ],
        [
         "0",
         "6055"
        ]
       ],
       "shape": {
        "columns": 1,
        "rows": 5
       }
      },
      "text/plain": [
       "posa_continent\n",
       "3    721067\n",
       "1    113666\n",
       "2     67098\n",
       "4     25792\n",
       "0      6055\n",
       "Name: count, dtype: int64"
      ]
     },
     "execution_count": 43,
     "metadata": {},
     "output_type": "execute_result"
    }
   ],
   "source": [
    "df['posa_continent'].value_counts()"
   ]
  },
  {
   "cell_type": "code",
   "execution_count": 44,
   "id": "d971798c",
   "metadata": {},
   "outputs": [],
   "source": [
    "X= df.drop(['orig_destination_distance','hotel_cluster','user_id'], axis=1)\n",
    "y= df['hotel_cluster']"
   ]
  },
  {
   "cell_type": "code",
   "execution_count": 45,
   "id": "84c1f483",
   "metadata": {},
   "outputs": [],
   "source": [
    "X_train, X_test, y_train, y_test = train_test_split(X, y, test_size=0.2, random_state=42)"
   ]
  },
  {
   "cell_type": "code",
   "execution_count": 46,
   "id": "9ce96cbb",
   "metadata": {},
   "outputs": [
    {
     "data": {
      "text/html": [
       "<style>#sk-container-id-2 {color: black;background-color: white;}#sk-container-id-2 pre{padding: 0;}#sk-container-id-2 div.sk-toggleable {background-color: white;}#sk-container-id-2 label.sk-toggleable__label {cursor: pointer;display: block;width: 100%;margin-bottom: 0;padding: 0.3em;box-sizing: border-box;text-align: center;}#sk-container-id-2 label.sk-toggleable__label-arrow:before {content: \"▸\";float: left;margin-right: 0.25em;color: #696969;}#sk-container-id-2 label.sk-toggleable__label-arrow:hover:before {color: black;}#sk-container-id-2 div.sk-estimator:hover label.sk-toggleable__label-arrow:before {color: black;}#sk-container-id-2 div.sk-toggleable__content {max-height: 0;max-width: 0;overflow: hidden;text-align: left;background-color: #f0f8ff;}#sk-container-id-2 div.sk-toggleable__content pre {margin: 0.2em;color: black;border-radius: 0.25em;background-color: #f0f8ff;}#sk-container-id-2 input.sk-toggleable__control:checked~div.sk-toggleable__content {max-height: 200px;max-width: 100%;overflow: auto;}#sk-container-id-2 input.sk-toggleable__control:checked~label.sk-toggleable__label-arrow:before {content: \"▾\";}#sk-container-id-2 div.sk-estimator input.sk-toggleable__control:checked~label.sk-toggleable__label {background-color: #d4ebff;}#sk-container-id-2 div.sk-label input.sk-toggleable__control:checked~label.sk-toggleable__label {background-color: #d4ebff;}#sk-container-id-2 input.sk-hidden--visually {border: 0;clip: rect(1px 1px 1px 1px);clip: rect(1px, 1px, 1px, 1px);height: 1px;margin: -1px;overflow: hidden;padding: 0;position: absolute;width: 1px;}#sk-container-id-2 div.sk-estimator {font-family: monospace;background-color: #f0f8ff;border: 1px dotted black;border-radius: 0.25em;box-sizing: border-box;margin-bottom: 0.5em;}#sk-container-id-2 div.sk-estimator:hover {background-color: #d4ebff;}#sk-container-id-2 div.sk-parallel-item::after {content: \"\";width: 100%;border-bottom: 1px solid gray;flex-grow: 1;}#sk-container-id-2 div.sk-label:hover label.sk-toggleable__label {background-color: #d4ebff;}#sk-container-id-2 div.sk-serial::before {content: \"\";position: absolute;border-left: 1px solid gray;box-sizing: border-box;top: 0;bottom: 0;left: 50%;z-index: 0;}#sk-container-id-2 div.sk-serial {display: flex;flex-direction: column;align-items: center;background-color: white;padding-right: 0.2em;padding-left: 0.2em;position: relative;}#sk-container-id-2 div.sk-item {position: relative;z-index: 1;}#sk-container-id-2 div.sk-parallel {display: flex;align-items: stretch;justify-content: center;background-color: white;position: relative;}#sk-container-id-2 div.sk-item::before, #sk-container-id-2 div.sk-parallel-item::before {content: \"\";position: absolute;border-left: 1px solid gray;box-sizing: border-box;top: 0;bottom: 0;left: 50%;z-index: -1;}#sk-container-id-2 div.sk-parallel-item {display: flex;flex-direction: column;z-index: 1;position: relative;background-color: white;}#sk-container-id-2 div.sk-parallel-item:first-child::after {align-self: flex-end;width: 50%;}#sk-container-id-2 div.sk-parallel-item:last-child::after {align-self: flex-start;width: 50%;}#sk-container-id-2 div.sk-parallel-item:only-child::after {width: 0;}#sk-container-id-2 div.sk-dashed-wrapped {border: 1px dashed gray;margin: 0 0.4em 0.5em 0.4em;box-sizing: border-box;padding-bottom: 0.4em;background-color: white;}#sk-container-id-2 div.sk-label label {font-family: monospace;font-weight: bold;display: inline-block;line-height: 1.2em;}#sk-container-id-2 div.sk-label-container {text-align: center;}#sk-container-id-2 div.sk-container {/* jupyter's `normalize.less` sets `[hidden] { display: none; }` but bootstrap.min.css set `[hidden] { display: none !important; }` so we also need the `!important` here to be able to override the default hidden behavior on the sphinx rendered scikit-learn.org. See: https://github.com/scikit-learn/scikit-learn/issues/21755 */display: inline-block !important;position: relative;}#sk-container-id-2 div.sk-text-repr-fallback {display: none;}</style><div id=\"sk-container-id-2\" class=\"sk-top-container\"><div class=\"sk-text-repr-fallback\"><pre>DecisionTreeClassifier(max_depth=20, min_samples_split=50, random_state=42)</pre><b>In a Jupyter environment, please rerun this cell to show the HTML representation or trust the notebook. <br />On GitHub, the HTML representation is unable to render, please try loading this page with nbviewer.org.</b></div><div class=\"sk-container\" hidden><div class=\"sk-item\"><div class=\"sk-estimator sk-toggleable\"><input class=\"sk-toggleable__control sk-hidden--visually\" id=\"sk-estimator-id-2\" type=\"checkbox\" checked><label for=\"sk-estimator-id-2\" class=\"sk-toggleable__label sk-toggleable__label-arrow\">DecisionTreeClassifier</label><div class=\"sk-toggleable__content\"><pre>DecisionTreeClassifier(max_depth=20, min_samples_split=50, random_state=42)</pre></div></div></div></div></div>"
      ],
      "text/plain": [
       "DecisionTreeClassifier(max_depth=20, min_samples_split=50, random_state=42)"
      ]
     },
     "execution_count": 46,
     "metadata": {},
     "output_type": "execute_result"
    }
   ],
   "source": [
    "model4 = DecisionTreeClassifier(max_depth=20, min_samples_split=50, random_state=42)\n",
    "model4.fit(X_train, y_train)"
   ]
  },
  {
   "cell_type": "code",
   "execution_count": 49,
   "id": "3ecaedcc",
   "metadata": {},
   "outputs": [
    {
     "name": "stdout",
     "output_type": "stream",
     "text": [
      "<class 'pandas.core.frame.DataFrame'>\n",
      "Index: 933678 entries, 0 to 999999\n",
      "Data columns (total 31 columns):\n",
      " #   Column                         Non-Null Count   Dtype  \n",
      "---  ------                         --------------   -----  \n",
      " 0   site_name                      933678 non-null  int64  \n",
      " 1   posa_continent                 933678 non-null  int64  \n",
      " 2   user_location_country          933678 non-null  int64  \n",
      " 3   user_location_region           933678 non-null  int64  \n",
      " 4   user_location_city             933678 non-null  int64  \n",
      " 5   is_mobile                      933678 non-null  int64  \n",
      " 6   is_package                     933678 non-null  int64  \n",
      " 7   channel                        933678 non-null  int64  \n",
      " 8   srch_adults_cnt                933678 non-null  int64  \n",
      " 9   srch_children_cnt              933678 non-null  int64  \n",
      " 10  srch_rm_cnt                    933678 non-null  int64  \n",
      " 11  srch_destination_id            933678 non-null  int64  \n",
      " 12  srch_destination_type_id       933678 non-null  int64  \n",
      " 13  hotel_continent                933678 non-null  int64  \n",
      " 14  hotel_country                  933678 non-null  int64  \n",
      " 15  hotel_market                   933678 non-null  int64  \n",
      " 16  search_year                    933678 non-null  int32  \n",
      " 17  search_month                   933678 non-null  int32  \n",
      " 18  search_dayofweek               933678 non-null  int32  \n",
      " 19  search_hour                    933678 non-null  int32  \n",
      " 20  lead_time                      933678 non-null  int64  \n",
      " 21  stay_nights                    933678 non-null  int64  \n",
      " 22  ci_year                        933678 non-null  int32  \n",
      " 23  ci_month                       933678 non-null  int32  \n",
      " 24  ci_day                         933678 non-null  int32  \n",
      " 25  ci_weekday                     933678 non-null  int32  \n",
      " 26  co_year                        933678 non-null  int32  \n",
      " 27  co_month                       933678 non-null  int32  \n",
      " 28  co_day                         933678 non-null  int32  \n",
      " 29  co_weekday                     933678 non-null  int32  \n",
      " 30  orig_destination_distance_log  933678 non-null  float64\n",
      "dtypes: float64(1), int32(12), int64(18)\n",
      "memory usage: 185.2 MB\n"
     ]
    }
   ],
   "source": [
    "X.info()"
   ]
  },
  {
   "cell_type": "code",
   "execution_count": 47,
   "id": "058c5a23",
   "metadata": {},
   "outputs": [],
   "source": [
    "y_pred_model4 = model4.predict(X_test)"
   ]
  },
  {
   "cell_type": "code",
   "execution_count": 48,
   "id": "9493f6af",
   "metadata": {},
   "outputs": [
    {
     "name": "stdout",
     "output_type": "stream",
     "text": [
      "DecisionTreeClassifier Accuracy: 0.1768\n"
     ]
    }
   ],
   "source": [
    "accuracy = accuracy_score(y_test, y_pred_model4)\n",
    "print(f\"DecisionTreeClassifier Accuracy: {accuracy:.4f}\")"
   ]
  },
  {
   "cell_type": "markdown",
   "id": "77002312",
   "metadata": {},
   "source": [
    "# Example: aggregate search-related ratios"
   ]
  },
  {
   "cell_type": "code",
   "execution_count": 50,
   "id": "6a17252c",
   "metadata": {},
   "outputs": [],
   "source": [
    "X['people_count'] = X['srch_adults_cnt'] + X['srch_children_cnt']\n",
    "X['adults_per_room'] = X['srch_adults_cnt'] / (X['srch_rm_cnt'] + 1)\n",
    "X['children_per_room'] = X['srch_children_cnt'] / (X['srch_rm_cnt'] + 1)"
   ]
  },
  {
   "cell_type": "code",
   "execution_count": 51,
   "id": "97c5511e",
   "metadata": {},
   "outputs": [],
   "source": [
    "X['weekend_stay'] = ((X['ci_weekday'] >= 5) | (X['co_weekday'] >= 5)).astype(int)\n",
    "\n"
   ]
  },
  {
   "cell_type": "code",
   "execution_count": 52,
   "id": "19563c41",
   "metadata": {},
   "outputs": [],
   "source": [
    "X['long_stay'] = (X['stay_nights'] > 7).astype(int)\n"
   ]
  },
  {
   "cell_type": "code",
   "execution_count": 53,
   "id": "4f6d7cc9",
   "metadata": {},
   "outputs": [],
   "source": [
    "X['search_season'] = X['search_month'] % 12 // 3  # 0=winter,1=spring,2=summer,3=fall\n",
    "X['checkin_season'] = X['ci_month'] % 12 // 3"
   ]
  },
  {
   "cell_type": "code",
   "execution_count": 54,
   "id": "d2722272",
   "metadata": {},
   "outputs": [],
   "source": [
    "X['lead_time_log'] = np.log1p(X['lead_time'])\n",
    "X['stay_nights_log'] = np.log1p(X['stay_nights'])"
   ]
  },
  {
   "cell_type": "code",
   "execution_count": 55,
   "id": "5fa7c5c7",
   "metadata": {},
   "outputs": [],
   "source": [
    "X_train, X_val, y_train, y_val = train_test_split(\n",
    "    X, y, test_size=0.2, random_state=42, stratify=y\n",
    ")"
   ]
  },
  {
   "cell_type": "code",
   "execution_count": 56,
   "id": "dce21acd",
   "metadata": {},
   "outputs": [],
   "source": [
    "model5 = DecisionTreeClassifier(\n",
    "    max_depth=50,            # deeper tree to capture non-linearities\n",
    "    min_samples_split=200,   # prevent overfitting\n",
    "    min_samples_leaf=100,    # smooth leaf nodes\n",
    "    random_state=42,\n",
    "    class_weight=\"balanced\"  # handle class imbalance\n",
    ")"
   ]
  },
  {
   "cell_type": "code",
   "execution_count": 57,
   "id": "f1341bc8",
   "metadata": {},
   "outputs": [
    {
     "data": {
      "text/html": [
       "<style>#sk-container-id-3 {color: black;background-color: white;}#sk-container-id-3 pre{padding: 0;}#sk-container-id-3 div.sk-toggleable {background-color: white;}#sk-container-id-3 label.sk-toggleable__label {cursor: pointer;display: block;width: 100%;margin-bottom: 0;padding: 0.3em;box-sizing: border-box;text-align: center;}#sk-container-id-3 label.sk-toggleable__label-arrow:before {content: \"▸\";float: left;margin-right: 0.25em;color: #696969;}#sk-container-id-3 label.sk-toggleable__label-arrow:hover:before {color: black;}#sk-container-id-3 div.sk-estimator:hover label.sk-toggleable__label-arrow:before {color: black;}#sk-container-id-3 div.sk-toggleable__content {max-height: 0;max-width: 0;overflow: hidden;text-align: left;background-color: #f0f8ff;}#sk-container-id-3 div.sk-toggleable__content pre {margin: 0.2em;color: black;border-radius: 0.25em;background-color: #f0f8ff;}#sk-container-id-3 input.sk-toggleable__control:checked~div.sk-toggleable__content {max-height: 200px;max-width: 100%;overflow: auto;}#sk-container-id-3 input.sk-toggleable__control:checked~label.sk-toggleable__label-arrow:before {content: \"▾\";}#sk-container-id-3 div.sk-estimator input.sk-toggleable__control:checked~label.sk-toggleable__label {background-color: #d4ebff;}#sk-container-id-3 div.sk-label input.sk-toggleable__control:checked~label.sk-toggleable__label {background-color: #d4ebff;}#sk-container-id-3 input.sk-hidden--visually {border: 0;clip: rect(1px 1px 1px 1px);clip: rect(1px, 1px, 1px, 1px);height: 1px;margin: -1px;overflow: hidden;padding: 0;position: absolute;width: 1px;}#sk-container-id-3 div.sk-estimator {font-family: monospace;background-color: #f0f8ff;border: 1px dotted black;border-radius: 0.25em;box-sizing: border-box;margin-bottom: 0.5em;}#sk-container-id-3 div.sk-estimator:hover {background-color: #d4ebff;}#sk-container-id-3 div.sk-parallel-item::after {content: \"\";width: 100%;border-bottom: 1px solid gray;flex-grow: 1;}#sk-container-id-3 div.sk-label:hover label.sk-toggleable__label {background-color: #d4ebff;}#sk-container-id-3 div.sk-serial::before {content: \"\";position: absolute;border-left: 1px solid gray;box-sizing: border-box;top: 0;bottom: 0;left: 50%;z-index: 0;}#sk-container-id-3 div.sk-serial {display: flex;flex-direction: column;align-items: center;background-color: white;padding-right: 0.2em;padding-left: 0.2em;position: relative;}#sk-container-id-3 div.sk-item {position: relative;z-index: 1;}#sk-container-id-3 div.sk-parallel {display: flex;align-items: stretch;justify-content: center;background-color: white;position: relative;}#sk-container-id-3 div.sk-item::before, #sk-container-id-3 div.sk-parallel-item::before {content: \"\";position: absolute;border-left: 1px solid gray;box-sizing: border-box;top: 0;bottom: 0;left: 50%;z-index: -1;}#sk-container-id-3 div.sk-parallel-item {display: flex;flex-direction: column;z-index: 1;position: relative;background-color: white;}#sk-container-id-3 div.sk-parallel-item:first-child::after {align-self: flex-end;width: 50%;}#sk-container-id-3 div.sk-parallel-item:last-child::after {align-self: flex-start;width: 50%;}#sk-container-id-3 div.sk-parallel-item:only-child::after {width: 0;}#sk-container-id-3 div.sk-dashed-wrapped {border: 1px dashed gray;margin: 0 0.4em 0.5em 0.4em;box-sizing: border-box;padding-bottom: 0.4em;background-color: white;}#sk-container-id-3 div.sk-label label {font-family: monospace;font-weight: bold;display: inline-block;line-height: 1.2em;}#sk-container-id-3 div.sk-label-container {text-align: center;}#sk-container-id-3 div.sk-container {/* jupyter's `normalize.less` sets `[hidden] { display: none; }` but bootstrap.min.css set `[hidden] { display: none !important; }` so we also need the `!important` here to be able to override the default hidden behavior on the sphinx rendered scikit-learn.org. See: https://github.com/scikit-learn/scikit-learn/issues/21755 */display: inline-block !important;position: relative;}#sk-container-id-3 div.sk-text-repr-fallback {display: none;}</style><div id=\"sk-container-id-3\" class=\"sk-top-container\"><div class=\"sk-text-repr-fallback\"><pre>DecisionTreeClassifier(class_weight=&#x27;balanced&#x27;, max_depth=50,\n",
       "                       min_samples_leaf=100, min_samples_split=200,\n",
       "                       random_state=42)</pre><b>In a Jupyter environment, please rerun this cell to show the HTML representation or trust the notebook. <br />On GitHub, the HTML representation is unable to render, please try loading this page with nbviewer.org.</b></div><div class=\"sk-container\" hidden><div class=\"sk-item\"><div class=\"sk-estimator sk-toggleable\"><input class=\"sk-toggleable__control sk-hidden--visually\" id=\"sk-estimator-id-3\" type=\"checkbox\" checked><label for=\"sk-estimator-id-3\" class=\"sk-toggleable__label sk-toggleable__label-arrow\">DecisionTreeClassifier</label><div class=\"sk-toggleable__content\"><pre>DecisionTreeClassifier(class_weight=&#x27;balanced&#x27;, max_depth=50,\n",
       "                       min_samples_leaf=100, min_samples_split=200,\n",
       "                       random_state=42)</pre></div></div></div></div></div>"
      ],
      "text/plain": [
       "DecisionTreeClassifier(class_weight='balanced', max_depth=50,\n",
       "                       min_samples_leaf=100, min_samples_split=200,\n",
       "                       random_state=42)"
      ]
     },
     "execution_count": 57,
     "metadata": {},
     "output_type": "execute_result"
    }
   ],
   "source": [
    "model5.fit(X_train, y_train)"
   ]
  },
  {
   "cell_type": "code",
   "execution_count": 58,
   "id": "0ad3435e",
   "metadata": {},
   "outputs": [
    {
     "name": "stdout",
     "output_type": "stream",
     "text": [
      "DecisionTree Accuracy: 0.1296\n"
     ]
    }
   ],
   "source": [
    "y_pred_model5 = model5.predict(X_val)\n",
    "\n",
    "# Normal accuracy (will still be low because 100 classes)\n",
    "acc = accuracy_score(y_val, y_pred_model5)\n",
    "print(f\"DecisionTree Accuracy: {acc:.4f}\")"
   ]
  },
  {
   "cell_type": "code",
   "execution_count": 60,
   "id": "4c9d2aac",
   "metadata": {},
   "outputs": [
    {
     "name": "stdout",
     "output_type": "stream",
     "text": [
      "DecisionTree Top-1 Accuracy: 0.1299\n",
      "DecisionTree Top-5 Accuracy: 0.4467\n"
     ]
    }
   ],
   "source": [
    "import pandas as pd\n",
    "import numpy as np\n",
    "from sklearn.model_selection import train_test_split\n",
    "from sklearn.tree import DecisionTreeClassifier\n",
    "from sklearn.metrics import accuracy_score, top_k_accuracy_score\n",
    "\n",
    "# ==================================\n",
    "# 1. FILTER DATA\n",
    "# ==================================\n",
    "df_clean = df[df['stay_nights'] <= 30].copy()  # remove unrealistic long stays\n",
    "\n",
    "y = df_clean['hotel_cluster']\n",
    "X = df_clean.drop(['hotel_cluster'], axis=1)\n",
    "if 'orig_destination_distance' in X.columns:\n",
    "    X = X.drop(['orig_destination_distance'], axis=1)\n",
    "\n",
    "# Remove user_id if it exists\n",
    "if 'user_id' in X.columns:\n",
    "    X = X.drop(['user_id'], axis=1)\n",
    "\n",
    "# ==================================\n",
    "# 2. FEATURE ENGINEERING\n",
    "# ==================================\n",
    "X['people_count'] = X['srch_adults_cnt'] + X['srch_children_cnt']\n",
    "X['adults_per_room'] = X['srch_adults_cnt'] / (X['srch_rm_cnt'] + 1)\n",
    "X['children_per_room'] = X['srch_children_cnt'] / (X['srch_rm_cnt'] + 1)\n",
    "\n",
    "# seasonality\n",
    "X['search_season'] = X['search_month'] % 12 // 3\n",
    "X['checkin_season'] = X['ci_month'] % 12 // 3\n",
    "\n",
    "# log transforms\n",
    "X['lead_time_log'] = np.log1p(X['lead_time'])\n",
    "X['stay_nights_log'] = np.log1p(X['stay_nights'])\n",
    "\n",
    "# ==================================\n",
    "# 3. TRAIN/VALIDATION SPLIT\n",
    "# ==================================\n",
    "X_train, X_val, y_train, y_val = train_test_split(\n",
    "    X, y, test_size=0.2, random_state=42, stratify=y\n",
    ")\n",
    "\n",
    "# ==================================\n",
    "# 4. DECISION TREE MODEL\n",
    "# ==================================\n",
    "model = DecisionTreeClassifier(\n",
    "    max_depth=60,            # deeper tree to capture patterns\n",
    "    min_samples_split=200,   # avoid overfitting small branches\n",
    "    min_samples_leaf=100,\n",
    "    random_state=42,\n",
    "    class_weight=\"balanced\"\n",
    ")\n",
    "\n",
    "model.fit(X_train, y_train)\n",
    "\n",
    "# ==================================\n",
    "# 5. EVALUATION\n",
    "# ==================================\n",
    "y_pred = model.predict(X_val)\n",
    "\n",
    "acc = accuracy_score(y_val, y_pred)\n",
    "print(f\"DecisionTree Top-1 Accuracy: {acc:.4f}\")\n",
    "\n",
    "# More meaningful: Top-5 accuracy\n",
    "y_proba = model.predict_proba(X_val)\n",
    "top5_acc = top_k_accuracy_score(y_val, y_proba, k=5)\n",
    "print(f\"DecisionTree Top-5 Accuracy: {top5_acc:.4f}\")\n"
   ]
  },
  {
   "cell_type": "code",
   "execution_count": 61,
   "id": "5739ec5e",
   "metadata": {},
   "outputs": [
    {
     "name": "stdout",
     "output_type": "stream",
     "text": [
      "              precision    recall  f1-score   support\n",
      "\n",
      "           0       0.16      0.39      0.23      1252\n",
      "           1       0.35      0.16      0.22      2442\n",
      "           2       0.17      0.15      0.16      2924\n",
      "           3       0.05      0.11      0.07       778\n",
      "           4       0.15      0.17      0.16      2197\n",
      "           5       0.12      0.05      0.07      2741\n",
      "           6       0.15      0.10      0.12      2651\n",
      "           7       0.13      0.16      0.14      2047\n",
      "           8       0.20      0.36      0.26      1415\n",
      "           9       0.14      0.11      0.12      2930\n",
      "          10       0.09      0.05      0.07      1967\n",
      "          11       0.09      0.11      0.10      1790\n",
      "          12       0.11      0.30      0.17      1038\n",
      "          13       0.16      0.11      0.13      2613\n",
      "          14       0.04      0.07      0.05       910\n",
      "          15       0.16      0.13      0.14      2402\n",
      "          16       0.13      0.03      0.05      3365\n",
      "          17       0.08      0.11      0.09      1327\n",
      "          18       0.16      0.11      0.13      3469\n",
      "          19       0.13      0.22      0.17      1987\n",
      "          20       0.05      0.06      0.06       815\n",
      "          21       0.19      0.09      0.12      3248\n",
      "          22       0.16      0.32      0.21      1439\n",
      "          23       0.03      0.12      0.05       895\n",
      "          24       0.13      0.28      0.17       807\n",
      "          25       0.14      0.08      0.10      2946\n",
      "          26       0.20      0.36      0.26      1082\n",
      "          27       0.16      0.90      0.28       166\n",
      "          28       0.21      0.10      0.13      3904\n",
      "          29       0.12      0.13      0.13      2223\n",
      "          30       0.09      0.03      0.04      1778\n",
      "          31       0.09      0.33      0.14       773\n",
      "          32       0.14      0.15      0.14      2397\n",
      "          33       0.12      0.09      0.10      2331\n",
      "          34       0.11      0.25      0.16      1210\n",
      "          35       0.03      0.22      0.05       437\n",
      "          36       0.18      0.11      0.14      2604\n",
      "          37       0.15      0.07      0.09      2588\n",
      "          38       0.13      0.21      0.16      1046\n",
      "          39       0.10      0.13      0.11      2010\n",
      "          40       0.08      0.04      0.05      1713\n",
      "          41       0.16      0.03      0.05      3134\n",
      "          42       0.17      0.05      0.07      4438\n",
      "          43       0.16      0.17      0.16      2019\n",
      "          44       0.04      0.09      0.06       712\n",
      "          45       0.20      0.23      0.22      1182\n",
      "          46       0.26      0.20      0.22      2980\n",
      "          47       0.12      0.04      0.05      2493\n",
      "          48       0.19      0.02      0.03      5103\n",
      "          49       0.10      0.30      0.15      1452\n",
      "          50       0.14      0.03      0.05      3149\n",
      "          51       0.09      0.04      0.06      1763\n",
      "          52       0.18      0.31      0.23       556\n",
      "          53       0.03      0.30      0.06       327\n",
      "          54       0.48      0.46      0.47      1320\n",
      "          55       0.13      0.13      0.13      2252\n",
      "          56       0.21      0.59      0.31      1836\n",
      "          57       0.07      0.09      0.08       891\n",
      "          58       0.12      0.07      0.09      2035\n",
      "          59       0.26      0.10      0.14      4159\n",
      "          60       0.03      0.12      0.05       498\n",
      "          61       0.12      0.04      0.06      1736\n",
      "          62       0.13      0.04      0.06      2629\n",
      "          63       0.18      0.43      0.25       982\n",
      "          64       0.17      0.08      0.11      3137\n",
      "          65       0.34      0.21      0.26      1409\n",
      "          66       0.22      0.54      0.31       634\n",
      "          67       0.15      0.23      0.18      1446\n",
      "          68       0.12      0.09      0.10      2716\n",
      "          69       0.06      0.13      0.08      1191\n",
      "          70       0.16      0.14      0.15      2340\n",
      "          71       0.12      0.46      0.19       599\n",
      "          72       0.11      0.06      0.08      2701\n",
      "          73       0.07      0.16      0.10       946\n",
      "          74       0.31      0.94      0.47       152\n",
      "          75       0.08      0.32      0.12       709\n",
      "          76       0.04      0.06      0.05      1057\n",
      "          77       0.11      0.09      0.10      2307\n",
      "          78       0.08      0.03      0.05      1635\n",
      "          79       0.20      0.15      0.17      1359\n",
      "          80       0.16      0.69      0.26       509\n",
      "          81       0.19      0.14      0.16      1953\n",
      "          82       0.24      0.11      0.15      3441\n",
      "          83       0.12      0.08      0.09      2075\n",
      "          84       0.08      0.19      0.12       674\n",
      "          85       0.09      0.10      0.09      1500\n",
      "          86       0.05      0.25      0.08       486\n",
      "          87       0.08      0.28      0.13       413\n",
      "          88       0.07      0.39      0.12       465\n",
      "          89       0.08      0.16      0.11       956\n",
      "          90       0.05      0.04      0.04      1539\n",
      "          91       0.27      0.02      0.04      7363\n",
      "          92       0.06      0.33      0.10       413\n",
      "          93       0.02      0.08      0.04       585\n",
      "          94       0.09      0.17      0.12      1651\n",
      "          95       0.17      0.19      0.18      3472\n",
      "          96       0.08      0.16      0.10      1069\n",
      "          97       0.10      0.12      0.11      1878\n",
      "          98       0.19      0.13      0.16      3157\n",
      "          99       0.13      0.09      0.11      2496\n",
      "\n",
      "    accuracy                           0.13    186736\n",
      "   macro avg       0.14      0.18      0.13    186736\n",
      "weighted avg       0.15      0.13      0.12    186736\n",
      "\n"
     ]
    }
   ],
   "source": [
    "from sklearn.metrics import classification_report\n",
    "print(classification_report(y_val, y_pred))\n"
   ]
  },
  {
   "cell_type": "code",
   "execution_count": 66,
   "id": "eb06ba70",
   "metadata": {},
   "outputs": [
    {
     "name": "stdout",
     "output_type": "stream",
     "text": [
      "Cluster 58: Top-5 Recall = 0.315\n",
      "Cluster 56: Top-5 Recall = 0.857\n",
      "Cluster 4: Top-5 Recall = 0.543\n",
      "Cluster 28: Top-5 Recall = 0.361\n",
      "Cluster 19: Top-5 Recall = 0.539\n",
      "Cluster 48: Top-5 Recall = 0.198\n",
      "Cluster 12: Top-5 Recall = 0.630\n",
      "Cluster 30: Top-5 Recall = 0.197\n",
      "Cluster 91: Top-5 Recall = 0.257\n",
      "Cluster 90: Top-5 Recall = 0.265\n"
     ]
    }
   ],
   "source": [
    "import numpy as np\n",
    "from collections import defaultdict\n",
    "\n",
    "# Probabilities from decision tree\n",
    "y_proba = model.predict_proba(X_val)\n",
    "\n",
    "# Get top-5 predictions per sample\n",
    "top5_preds = np.argsort(y_proba, axis=1)[:, -5:]   # last 5 after sorting ascending\n",
    "\n",
    "# Initialize counters\n",
    "per_class_hits = defaultdict(int)\n",
    "per_class_total = defaultdict(int)\n",
    "\n",
    "# Loop over validation samples\n",
    "for true, preds in zip(y_val, top5_preds):\n",
    "    per_class_total[true] += 1\n",
    "    if true in preds:\n",
    "        per_class_hits[true] += 1\n",
    "\n",
    "# Compute per-class top-5 recall\n",
    "per_class_top5_recall = {\n",
    "    cls: per_class_hits[cls] / per_class_total[cls]\n",
    "    for cls in per_class_total\n",
    "}\n",
    "\n",
    "# Show some results\n",
    "for cls, score in list(per_class_top5_recall.items())[:10]:  # first 10 classes\n",
    "    print(f\"Cluster {cls}: Top-5 Recall = {score:.3f}\")\n"
   ]
  },
  {
   "cell_type": "code",
   "execution_count": 67,
   "id": "38915c7c",
   "metadata": {},
   "outputs": [
    {
     "data": {
      "application/vnd.microsoft.datawrangler.viewer.v0+json": {
       "columns": [
        {
         "name": "index",
         "rawType": "int64",
         "type": "integer"
        },
        {
         "name": "people_count",
         "rawType": "int64",
         "type": "integer"
        }
       ],
       "ref": "a00da4dc-6d50-470c-b0c2-39f50e0dd1c1",
       "rows": [
        [
         "0",
         "2"
        ],
        [
         "1",
         "2"
        ],
        [
         "2",
         "2"
        ],
        [
         "3",
         "2"
        ],
        [
         "4",
         "3"
        ]
       ],
       "shape": {
        "columns": 1,
        "rows": 5
       }
      },
      "text/plain": [
       "0    2\n",
       "1    2\n",
       "2    2\n",
       "3    2\n",
       "4    3\n",
       "Name: people_count, dtype: int64"
      ]
     },
     "execution_count": 67,
     "metadata": {},
     "output_type": "execute_result"
    }
   ],
   "source": [
    "X['people_count'].head()"
   ]
  },
  {
   "cell_type": "code",
   "execution_count": 86,
   "id": "5d53837c",
   "metadata": {},
   "outputs": [
    {
     "name": "stdout",
     "output_type": "stream",
     "text": [
      "[PCA] Destination features reduced: 149 -> 4 PCs (explained var ≈ 0.622)\n"
     ]
    }
   ],
   "source": [
    "\n",
    "from sklearn.decomposition import PCA\n",
    "from sklearn.preprocessing import StandardScaler\n",
    "from sklearn.pipeline import Pipeline\n",
    "from sklearn.model_selection import train_test_split\n",
    "from sklearn.tree import DecisionTreeClassifier\n",
    "from sklearn.metrics import accuracy_score, top_k_accuracy_score\n",
    "\n",
    "\n",
    "dest = pd.read_csv(\"data/raw_data/destinations.csv\")\n",
    "\n",
    "dest_id_col = \"srch_destination_id\"\n",
    "dest_feat_cols = [c for c in dest.columns if c != dest_id_col]\n",
    "\n",
    "# (Optional) sanity checks\n",
    "assert len(dest_feat_cols) == 149, f\"Expected 149 dest features, got {len(dest_feat_cols)}\"\n",
    "dest[dest_feat_cols] = dest[dest_feat_cols].apply(pd.to_numeric, errors=\"coerce\").fillna(0)\n",
    "\n",
    "PC_K = 4\n",
    "pca_pipe = Pipeline(steps=[\n",
    "    (\"scaler\", StandardScaler(with_mean=True, with_std=True)),\n",
    "    (\"pca\", PCA(n_components=PC_K, random_state=42)),\n",
    "])\n",
    "\n",
    "dest_pcs = pca_pipe.fit_transform(dest[dest_feat_cols])\n",
    "\n",
    "n_pcs = dest_pcs.shape[1]\n",
    "var = pca_pipe.named_steps[\"pca\"].explained_variance_ratio_.sum()\n",
    "print(f\"[PCA] Destination features reduced: 149 -> {n_pcs} PCs (explained var ≈ {var:.3f})\")\n",
    "\n",
    "pc_cols = [f\"dest_pca_{i+1}\" for i in range(n_pcs)]\n",
    "dest_pca_df = pd.DataFrame(dest_pcs, columns=pc_cols)\n",
    "\n",
    "# Keep dtype consistent with your bookings dataframe before merging\n",
    "dest_pca_df.insert(0, dest_id_col, dest[dest_id_col].astype(\"int64\"))\n",
    "\n"
   ]
  },
  {
   "cell_type": "code",
   "execution_count": 87,
   "id": "298d7531",
   "metadata": {},
   "outputs": [],
   "source": [
    "\n",
    "# ensure the ID dtypes match in both dataframes\n",
    "df_clean[dest_id_col] = df_clean[dest_id_col].astype(dest_pca_df[dest_id_col].dtype)\n",
    "\n",
    "df_clean[\"dest_missing\"] = ~df_clean[dest_id_col].isin(dest_pca_df[dest_id_col])\n",
    "df_merged = df_clean.merge(dest_pca_df, on=dest_id_col, how=\"left\")\n",
    "\n",
    "for c in pc_cols:\n",
    "    df_merged[c] = df_merged[c].fillna(0.0)  # PCs are mean-centered, 0 is safe\n"
   ]
  },
  {
   "cell_type": "code",
   "execution_count": 90,
   "id": "4e581fb3",
   "metadata": {},
   "outputs": [
    {
     "data": {
      "application/vnd.microsoft.datawrangler.viewer.v0+json": {
       "columns": [
        {
         "name": "index",
         "rawType": "int64",
         "type": "integer"
        },
        {
         "name": "site_name",
         "rawType": "int64",
         "type": "integer"
        },
        {
         "name": "posa_continent",
         "rawType": "int64",
         "type": "integer"
        },
        {
         "name": "user_location_country",
         "rawType": "int64",
         "type": "integer"
        },
        {
         "name": "user_location_region",
         "rawType": "int64",
         "type": "integer"
        },
        {
         "name": "user_location_city",
         "rawType": "int64",
         "type": "integer"
        },
        {
         "name": "orig_destination_distance",
         "rawType": "float64",
         "type": "float"
        },
        {
         "name": "user_id",
         "rawType": "int64",
         "type": "integer"
        },
        {
         "name": "is_mobile",
         "rawType": "int64",
         "type": "integer"
        },
        {
         "name": "is_package",
         "rawType": "int64",
         "type": "integer"
        },
        {
         "name": "channel",
         "rawType": "int64",
         "type": "integer"
        },
        {
         "name": "srch_adults_cnt",
         "rawType": "int64",
         "type": "integer"
        },
        {
         "name": "srch_children_cnt",
         "rawType": "int64",
         "type": "integer"
        },
        {
         "name": "srch_rm_cnt",
         "rawType": "int64",
         "type": "integer"
        },
        {
         "name": "srch_destination_id",
         "rawType": "int64",
         "type": "integer"
        },
        {
         "name": "srch_destination_type_id",
         "rawType": "int64",
         "type": "integer"
        },
        {
         "name": "hotel_continent",
         "rawType": "int64",
         "type": "integer"
        },
        {
         "name": "hotel_country",
         "rawType": "int64",
         "type": "integer"
        },
        {
         "name": "hotel_market",
         "rawType": "int64",
         "type": "integer"
        },
        {
         "name": "hotel_cluster",
         "rawType": "int64",
         "type": "integer"
        },
        {
         "name": "search_year",
         "rawType": "int32",
         "type": "integer"
        },
        {
         "name": "search_month",
         "rawType": "int32",
         "type": "integer"
        },
        {
         "name": "search_dayofweek",
         "rawType": "int32",
         "type": "integer"
        },
        {
         "name": "search_hour",
         "rawType": "int32",
         "type": "integer"
        },
        {
         "name": "lead_time",
         "rawType": "int64",
         "type": "integer"
        },
        {
         "name": "stay_nights",
         "rawType": "int64",
         "type": "integer"
        },
        {
         "name": "ci_year",
         "rawType": "int32",
         "type": "integer"
        },
        {
         "name": "ci_month",
         "rawType": "int32",
         "type": "integer"
        },
        {
         "name": "ci_day",
         "rawType": "int32",
         "type": "integer"
        },
        {
         "name": "ci_weekday",
         "rawType": "int32",
         "type": "integer"
        },
        {
         "name": "co_year",
         "rawType": "int32",
         "type": "integer"
        },
        {
         "name": "co_month",
         "rawType": "int32",
         "type": "integer"
        },
        {
         "name": "co_day",
         "rawType": "int32",
         "type": "integer"
        },
        {
         "name": "co_weekday",
         "rawType": "int32",
         "type": "integer"
        },
        {
         "name": "orig_destination_distance_log",
         "rawType": "float64",
         "type": "float"
        },
        {
         "name": "dest_missing",
         "rawType": "bool",
         "type": "boolean"
        }
       ],
       "ref": "e27f5823-d052-4d9e-bfc1-d817ffc203e2",
       "rows": [
        [
         "0",
         "2",
         "3",
         "66",
         "348",
         "48862",
         "2234.2641",
         "12",
         "0",
         "1",
         "9",
         "2",
         "0",
         "1",
         "8250",
         "1",
         "2",
         "50",
         "628",
         "1",
         "2014",
         "8",
         "0",
         "8",
         "17",
         "4",
         "2014",
         "8",
         "29",
         "4",
         "2014",
         "9",
         "2",
         "1",
         "7.712114665614769",
         "False"
        ],
        [
         "1",
         "2",
         "3",
         "66",
         "318",
         "52078",
         "907.0869",
         "756",
         "0",
         "1",
         "4",
         "2",
         "0",
         "1",
         "8291",
         "1",
         "2",
         "50",
         "191",
         "2",
         "2014",
         "2",
         "3",
         "18",
         "49",
         "2",
         "2014",
         "4",
         "18",
         "4",
         "2014",
         "4",
         "20",
         "6",
         "6.811340078867691",
         "False"
        ],
        [
         "2",
         "30",
         "4",
         "195",
         "548",
         "56440",
         "907.0869",
         "1048",
         "0",
         "1",
         "9",
         "2",
         "0",
         "1",
         "1385",
         "1",
         "0",
         "185",
         "185",
         "58",
         "2013",
         "6",
         "5",
         "15",
         "82",
         "8",
         "2013",
         "9",
         "6",
         "4",
         "2013",
         "9",
         "14",
         "5",
         "6.811340078867691",
         "False"
        ],
        [
         "3",
         "30",
         "4",
         "195",
         "991",
         "47725",
         "907.0869",
         "1048",
         "0",
         "0",
         "9",
         "2",
         "0",
         "1",
         "8803",
         "1",
         "3",
         "151",
         "69",
         "36",
         "2014",
         "11",
         "6",
         "18",
         "214",
         "2",
         "2015",
         "6",
         "26",
         "4",
         "2015",
         "6",
         "28",
         "6",
         "6.811340078867691",
         "False"
        ],
        [
         "4",
         "2",
         "3",
         "66",
         "462",
         "41898",
         "2454.8588",
         "1482",
         "0",
         "1",
         "1",
         "3",
         "0",
         "2",
         "12009",
         "1",
         "2",
         "50",
         "680",
         "95",
         "2014",
         "1",
         "4",
         "16",
         "49",
         "5",
         "2014",
         "2",
         "22",
         "5",
         "2014",
         "2",
         "27",
         "3",
         "7.806231795757635",
         "False"
        ]
       ],
       "shape": {
        "columns": 35,
        "rows": 5
       }
      },
      "text/html": [
       "<div>\n",
       "<style scoped>\n",
       "    .dataframe tbody tr th:only-of-type {\n",
       "        vertical-align: middle;\n",
       "    }\n",
       "\n",
       "    .dataframe tbody tr th {\n",
       "        vertical-align: top;\n",
       "    }\n",
       "\n",
       "    .dataframe thead th {\n",
       "        text-align: right;\n",
       "    }\n",
       "</style>\n",
       "<table border=\"1\" class=\"dataframe\">\n",
       "  <thead>\n",
       "    <tr style=\"text-align: right;\">\n",
       "      <th></th>\n",
       "      <th>site_name</th>\n",
       "      <th>posa_continent</th>\n",
       "      <th>user_location_country</th>\n",
       "      <th>user_location_region</th>\n",
       "      <th>user_location_city</th>\n",
       "      <th>orig_destination_distance</th>\n",
       "      <th>user_id</th>\n",
       "      <th>is_mobile</th>\n",
       "      <th>is_package</th>\n",
       "      <th>channel</th>\n",
       "      <th>...</th>\n",
       "      <th>ci_year</th>\n",
       "      <th>ci_month</th>\n",
       "      <th>ci_day</th>\n",
       "      <th>ci_weekday</th>\n",
       "      <th>co_year</th>\n",
       "      <th>co_month</th>\n",
       "      <th>co_day</th>\n",
       "      <th>co_weekday</th>\n",
       "      <th>orig_destination_distance_log</th>\n",
       "      <th>dest_missing</th>\n",
       "    </tr>\n",
       "  </thead>\n",
       "  <tbody>\n",
       "    <tr>\n",
       "      <th>0</th>\n",
       "      <td>2</td>\n",
       "      <td>3</td>\n",
       "      <td>66</td>\n",
       "      <td>348</td>\n",
       "      <td>48862</td>\n",
       "      <td>2234.26</td>\n",
       "      <td>12</td>\n",
       "      <td>0</td>\n",
       "      <td>1</td>\n",
       "      <td>9</td>\n",
       "      <td>...</td>\n",
       "      <td>2014</td>\n",
       "      <td>8</td>\n",
       "      <td>29</td>\n",
       "      <td>4</td>\n",
       "      <td>2014</td>\n",
       "      <td>9</td>\n",
       "      <td>2</td>\n",
       "      <td>1</td>\n",
       "      <td>7.71</td>\n",
       "      <td>False</td>\n",
       "    </tr>\n",
       "    <tr>\n",
       "      <th>1</th>\n",
       "      <td>2</td>\n",
       "      <td>3</td>\n",
       "      <td>66</td>\n",
       "      <td>318</td>\n",
       "      <td>52078</td>\n",
       "      <td>907.09</td>\n",
       "      <td>756</td>\n",
       "      <td>0</td>\n",
       "      <td>1</td>\n",
       "      <td>4</td>\n",
       "      <td>...</td>\n",
       "      <td>2014</td>\n",
       "      <td>4</td>\n",
       "      <td>18</td>\n",
       "      <td>4</td>\n",
       "      <td>2014</td>\n",
       "      <td>4</td>\n",
       "      <td>20</td>\n",
       "      <td>6</td>\n",
       "      <td>6.81</td>\n",
       "      <td>False</td>\n",
       "    </tr>\n",
       "    <tr>\n",
       "      <th>2</th>\n",
       "      <td>30</td>\n",
       "      <td>4</td>\n",
       "      <td>195</td>\n",
       "      <td>548</td>\n",
       "      <td>56440</td>\n",
       "      <td>907.09</td>\n",
       "      <td>1048</td>\n",
       "      <td>0</td>\n",
       "      <td>1</td>\n",
       "      <td>9</td>\n",
       "      <td>...</td>\n",
       "      <td>2013</td>\n",
       "      <td>9</td>\n",
       "      <td>6</td>\n",
       "      <td>4</td>\n",
       "      <td>2013</td>\n",
       "      <td>9</td>\n",
       "      <td>14</td>\n",
       "      <td>5</td>\n",
       "      <td>6.81</td>\n",
       "      <td>False</td>\n",
       "    </tr>\n",
       "    <tr>\n",
       "      <th>3</th>\n",
       "      <td>30</td>\n",
       "      <td>4</td>\n",
       "      <td>195</td>\n",
       "      <td>991</td>\n",
       "      <td>47725</td>\n",
       "      <td>907.09</td>\n",
       "      <td>1048</td>\n",
       "      <td>0</td>\n",
       "      <td>0</td>\n",
       "      <td>9</td>\n",
       "      <td>...</td>\n",
       "      <td>2015</td>\n",
       "      <td>6</td>\n",
       "      <td>26</td>\n",
       "      <td>4</td>\n",
       "      <td>2015</td>\n",
       "      <td>6</td>\n",
       "      <td>28</td>\n",
       "      <td>6</td>\n",
       "      <td>6.81</td>\n",
       "      <td>False</td>\n",
       "    </tr>\n",
       "    <tr>\n",
       "      <th>4</th>\n",
       "      <td>2</td>\n",
       "      <td>3</td>\n",
       "      <td>66</td>\n",
       "      <td>462</td>\n",
       "      <td>41898</td>\n",
       "      <td>2454.86</td>\n",
       "      <td>1482</td>\n",
       "      <td>0</td>\n",
       "      <td>1</td>\n",
       "      <td>1</td>\n",
       "      <td>...</td>\n",
       "      <td>2014</td>\n",
       "      <td>2</td>\n",
       "      <td>22</td>\n",
       "      <td>5</td>\n",
       "      <td>2014</td>\n",
       "      <td>2</td>\n",
       "      <td>27</td>\n",
       "      <td>3</td>\n",
       "      <td>7.81</td>\n",
       "      <td>False</td>\n",
       "    </tr>\n",
       "  </tbody>\n",
       "</table>\n",
       "<p>5 rows × 35 columns</p>\n",
       "</div>"
      ],
      "text/plain": [
       "   site_name  posa_continent  user_location_country  user_location_region   \n",
       "0          2               3                     66                   348  \\\n",
       "1          2               3                     66                   318   \n",
       "2         30               4                    195                   548   \n",
       "3         30               4                    195                   991   \n",
       "4          2               3                     66                   462   \n",
       "\n",
       "   user_location_city  orig_destination_distance  user_id  is_mobile   \n",
       "0               48862                    2234.26       12          0  \\\n",
       "1               52078                     907.09      756          0   \n",
       "2               56440                     907.09     1048          0   \n",
       "3               47725                     907.09     1048          0   \n",
       "4               41898                    2454.86     1482          0   \n",
       "\n",
       "   is_package  channel  ...  ci_year  ci_month  ci_day  ci_weekday  co_year   \n",
       "0           1        9  ...     2014         8      29           4     2014  \\\n",
       "1           1        4  ...     2014         4      18           4     2014   \n",
       "2           1        9  ...     2013         9       6           4     2013   \n",
       "3           0        9  ...     2015         6      26           4     2015   \n",
       "4           1        1  ...     2014         2      22           5     2014   \n",
       "\n",
       "   co_month  co_day  co_weekday  orig_destination_distance_log  dest_missing  \n",
       "0         9       2           1                           7.71         False  \n",
       "1         4      20           6                           6.81         False  \n",
       "2         9      14           5                           6.81         False  \n",
       "3         6      28           6                           6.81         False  \n",
       "4         2      27           3                           7.81         False  \n",
       "\n",
       "[5 rows x 35 columns]"
      ]
     },
     "execution_count": 90,
     "metadata": {},
     "output_type": "execute_result"
    }
   ],
   "source": [
    "df_clean.head()"
   ]
  },
  {
   "cell_type": "code",
   "execution_count": 92,
   "id": "35ee3a77",
   "metadata": {},
   "outputs": [
    {
     "name": "stdout",
     "output_type": "stream",
     "text": [
      "DecisionTree  Top-1 Acc: 0.1318\n",
      "DecisionTree  Top-5 Acc: 0.4502\n",
      "{'top_5_accuracy_micro': 0.45016720019992623, 'recall_at_5_macro': 0.5087213528166737, 'recall_at_5_weighted': 0.45016720019992623, 'n_classes_in_val': 100, 'n_samples': 168062}\n",
      "\n",
      "Top 5 clusters by recall@5:\n",
      " class  support  hits_at_k  recall_at_5\n",
      "    74      137        137        1.000\n",
      "    66      570        560        0.982\n",
      "     1     2198       2153        0.980\n",
      "    65     1268       1223        0.965\n",
      "    27      149        143        0.960\n",
      "\n",
      "Bottom 5 clusters by recall@5 (support ≥ 50):\n",
      " class  support  hits_at_k  recall_at_5\n",
      "    40     1542        283        0.184\n",
      "    30     1600        353        0.221\n",
      "     5     2467        545        0.221\n",
      "    51     1587        355        0.224\n",
      "    50     2834        662        0.234\n"
     ]
    }
   ],
   "source": [
    "\n",
    "\n",
    "# =========================================\n",
    "# 3) FEATURE ENGINEERING (lightweight, tree-friendly)\n",
    "# =========================================\n",
    "X = df_merged.drop(columns=['hotel_cluster']).copy()\n",
    "y = df_merged['hotel_cluster'].copy()\n",
    "\n",
    "# Keep only the log distance you already prepared\n",
    "# (No action needed if you already removed the raw distance above)\n",
    "\n",
    "# Drop 'user_id' if it sneaked back in (safety)\n",
    "\n",
    "# =========================================\n",
    "# 4) TRAIN / VALIDATION SPLIT\n",
    "# =========================================\n",
    "X_train, X_val, y_train, y_val = train_test_split(\n",
    "    X, y, test_size=0.18, random_state=42, stratify=y\n",
    ")\n",
    "\n",
    "# =========================================\n",
    "# 5) DECISION TREE (tuned for Top-5, not too deep, pruned a bit)\n",
    "# =========================================\n",
    "best_dt = DecisionTreeClassifier(\n",
    "    max_depth=80,            # large but bounded\n",
    "    min_samples_split=200,   # control overfitting\n",
    "    min_samples_leaf=120,    # smoother leaves\n",
    "    class_weight=\"balanced\", # mitigate class imbalance\n",
    "    max_features=0.8,        # consider 80% of features per split (helps generalization)\n",
    "    random_state=42\n",
    ")\n",
    "\n",
    "best_dt.fit(X_train, y_train)\n",
    "\n",
    "# =========================================\n",
    "# 6) EVALUATION (Top-1 + Top-5)\n",
    "# =========================================\n",
    "y_pred = best_dt.predict(X_val)\n",
    "y_proba = best_dt.predict_proba(X_val)\n",
    "\n",
    "top1 = accuracy_score(y_val, y_pred)\n",
    "top5 = top_k_accuracy_score(y_val, y_proba, k=5)\n",
    "print(f\"DecisionTree  Top-1 Acc: {top1:.4f}\")\n",
    "print(f\"DecisionTree  Top-5 Acc: {top5:.4f}\")\n",
    "\n",
    "# =========================================\n",
    "# 7) TOP-5 RECALL REPORT (overall + per class)\n",
    "# =========================================\n",
    "def topk_recall_report(y_true, y_prob, classes, k=5):\n",
    "    y_true = np.asarray(y_true)\n",
    "    y_prob = np.asarray(y_prob)\n",
    "    classes = np.asarray(classes)\n",
    "\n",
    "    # Efficient top-k without full sort\n",
    "    topk_idx = np.argpartition(y_prob, -k, axis=1)[:, -k:]\n",
    "    topk_labels = classes[topk_idx]\n",
    "    hits = (topk_labels == y_true[:, None]).any(axis=1)\n",
    "\n",
    "    # Per-class support & hits\n",
    "    support = pd.Series(y_true).value_counts().sort_index()\n",
    "    hits_per_class = pd.Series(y_true[hits]).value_counts().reindex(support.index, fill_value=0)\n",
    "    recall_per_class = (hits_per_class / support).fillna(0)\n",
    "\n",
    "    report_df = pd.DataFrame({\n",
    "        \"class\": support.index,\n",
    "        \"support\": support.values,\n",
    "        \"hits_at_k\": hits_per_class.values,\n",
    "        f\"recall_at_{k}\": recall_per_class.values\n",
    "    }).sort_values(by=f\"recall_at_{k}\", ascending=False).reset_index(drop=True)\n",
    "\n",
    "    micro = hits.mean()\n",
    "    macro = recall_per_class.mean()\n",
    "    weighted = (recall_per_class * (support / support.sum())).sum()\n",
    "\n",
    "    summary = {\n",
    "        f\"top_{k}_accuracy_micro\": float(micro),\n",
    "        f\"recall_at_{k}_macro\": float(macro),\n",
    "        f\"recall_at_{k}_weighted\": float(weighted),\n",
    "        \"n_classes_in_val\": int(len(support)),\n",
    "        \"n_samples\": int(len(y_true)),\n",
    "    }\n",
    "    return report_df, summary\n",
    "\n",
    "rep_df, rep_sum = topk_recall_report(y_val, y_proba, dt.classes_, k=5)\n",
    "print(rep_sum)\n",
    "\n",
    "cols = [\"class\", \"support\", \"hits_at_k\", \"recall_at_5\"]\n",
    "\n",
    "# Top 5 classes by recall@5 (tie-break by larger support, then class id)\n",
    "top5 = rep_df.sort_values([\"recall_at_5\", \"support\", \"class\"],\n",
    "                          ascending=[False, False, True]).head(5)\n",
    "print(\"\\nTop 5 clusters by recall@5:\")\n",
    "print(top5[cols].to_string(index=False, float_format=lambda x: f\"{x:.3f}\"))\n",
    "\n",
    "# Bottom 5 classes by recall@5 (optionally ignore tiny classes)\n",
    "min_support = 50  # tweak as you like to avoid noisy small classes\n",
    "bottom_pool = rep_df[rep_df[\"support\"] >= min_support] if \"support\" in rep_df else rep_df\n",
    "bottom5 = bottom_pool.sort_values([\"recall_at_5\", \"support\", \"class\"],\n",
    "                                  ascending=[True, False, True]).head(5)\n",
    "print(f\"\\nBottom 5 clusters by recall@5 (support ≥ {min_support}):\")\n",
    "print(bottom5[cols].to_string(index=False, float_format=lambda x: f\"{x:.3f}\"))\n",
    "\n"
   ]
  },
  {
   "cell_type": "markdown",
   "id": "9d25e589",
   "metadata": {},
   "source": [
    "# 1) Summary & Top-k accuracy curve"
   ]
  },
  {
   "cell_type": "code",
   "execution_count": 93,
   "id": "54ec71a2",
   "metadata": {},
   "outputs": [
    {
     "name": "stdout",
     "output_type": "stream",
     "text": [
      "    k  top_k_accuracy\n",
      "0   1            0.13\n",
      "1   3            0.32\n",
      "2   5            0.45\n",
      "3  10            0.65\n"
     ]
    },
    {
     "data": {
      "image/png": "[encoded data removed]",
      "text/plain": [
       "<Figure size 500x300 with 1 Axes>"
      ]
     },
     "metadata": {},
     "output_type": "display_data"
    },
    {
     "name": "stdout",
     "output_type": "stream",
     "text": [
      "Top-1: 0.13183825016958028\n",
      "Top-5: 0.45016720019992623\n"
     ]
    }
   ],
   "source": [
    "import numpy as np\n",
    "import pandas as pd\n",
    "from sklearn.metrics import accuracy_score, top_k_accuracy_score\n",
    "import matplotlib.pyplot as plt\n",
    "\n",
    "# Probabilities from your fitted model\n",
    "y_proba = best_dt.predict_proba(X_val)\n",
    "y_pred  = best_dt.predict(X_val)\n",
    "\n",
    "# ---- summary at common k's\n",
    "def topk_summary(y_true, y_prob, ks=(1,3,5,10)):\n",
    "    out = []\n",
    "    for k in ks:\n",
    "        out.append({\"k\": k, \"top_k_accuracy\": top_k_accuracy_score(y_true, y_prob, k=k)})\n",
    "    return pd.DataFrame(out)\n",
    "\n",
    "summary_df = topk_summary(y_val, y_proba)\n",
    "print(summary_df)\n",
    "\n",
    "# ---- Top-k curve\n",
    "ks = list(range(1, 11))\n",
    "vals = [top_k_accuracy_score(y_val, y_proba, k=k) for k in ks]\n",
    "plt.figure(figsize=(5,3))\n",
    "plt.plot(ks, vals, marker='o')\n",
    "plt.xlabel(\"k\")\n",
    "plt.ylabel(\"Top-k accuracy\")\n",
    "plt.title(\"Top-k Accuracy Curve\")\n",
    "plt.grid(True, linestyle='--', alpha=0.4)\n",
    "plt.show()\n",
    "\n",
    "print(\"Top-1:\", accuracy_score(y_val, y_pred))\n",
    "print(\"Top-5:\", top_k_accuracy_score(y_val, y_proba, k=5))\n"
   ]
  },
  {
   "cell_type": "code",
   "execution_count": 94,
   "id": "b1d77f78",
   "metadata": {},
   "outputs": [
    {
     "name": "stdout",
     "output_type": "stream",
     "text": [
      "\n",
      "Top 5 classes by recall@5:\n",
      " class  support  pred_in_topk  hits_at_k  recall_at_5  precision_at_5  f1_at_5\n",
      "    74      137           510        137         1.00            0.27     0.42\n",
      "    66      570          3663        560         0.98            0.15     0.26\n",
      "     1     2198          7352       2153         0.98            0.29     0.45\n",
      "    65     1268          4075       1223         0.96            0.30     0.46\n",
      "    27      149          1619        143         0.96            0.09     0.16\n",
      "\n",
      "Bottom 5 classes by recall@5:\n",
      " class  support  pred_in_topk  hits_at_k  recall_at_5  precision_at_5  f1_at_5\n",
      "    40     1542          7031        283         0.18            0.04     0.07\n",
      "    30     1600          5389        353         0.22            0.07     0.10\n",
      "     5     2467          6083        545         0.22            0.09     0.13\n",
      "    51     1587          7040        355         0.22            0.05     0.08\n",
      "    50     2834          7264        662         0.23            0.09     0.13\n",
      "\n",
      "Top 5 classes by precision@5:\n",
      " class  support  pred_in_topk  hits_at_k  recall_at_5  precision_at_5  f1_at_5\n",
      "    65     1268          4075       1223         0.96            0.30     0.46\n",
      "     1     2198          7352       2153         0.98            0.29     0.45\n",
      "    74      137           510        137         1.00            0.27     0.42\n",
      "    91     6626          8453       1676         0.25            0.20     0.22\n",
      "    54     1188          5265        900         0.76            0.17     0.28\n",
      "\n",
      "Bottom 5 classes by precision@5:\n",
      " class  support  pred_in_topk  hits_at_k  recall_at_5  precision_at_5  f1_at_5\n",
      "    93      526          7432        139         0.26            0.02     0.03\n",
      "    60      449          7785        160         0.36            0.02     0.04\n",
      "    53      294          6948        151         0.51            0.02     0.04\n",
      "    35      394          7889        180         0.46            0.02     0.04\n",
      "    86      438          7706        209         0.48            0.03     0.05\n"
     ]
    }
   ],
   "source": [
    "def topk_per_class_metrics(y_true, y_prob, classes, k=5, eps=1e-12):\n",
    "    y_true  = np.asarray(y_true)\n",
    "    y_prob  = np.asarray(y_prob)\n",
    "    classes = np.asarray(classes)\n",
    "\n",
    "    topk_idx = np.argpartition(y_prob, -k, axis=1)[:, -k:]\n",
    "    topk_lbl = classes[topk_idx]\n",
    "    row_hits = (topk_lbl == y_true[:, None]).any(axis=1)\n",
    "\n",
    "    support = pd.Series(y_true).value_counts().sort_index()\n",
    "    hits_per_class = pd.Series(y_true[row_hits]).value_counts().reindex(support.index, fill_value=0)\n",
    "    pred_counts = pd.Series(topk_lbl.ravel()).value_counts().reindex(support.index, fill_value=0)\n",
    "\n",
    "    recall_at_k    = (hits_per_class / (support + eps)).fillna(0.0)\n",
    "    precision_at_k = (hits_per_class / (pred_counts + eps)).fillna(0.0)\n",
    "    f1_at_k        = (2 * recall_at_k * precision_at_k / (recall_at_k + precision_at_k + eps)).fillna(0.0)\n",
    "\n",
    "    return pd.DataFrame({\n",
    "        \"class\": support.index,\n",
    "        \"support\": support.values,\n",
    "        \"pred_in_topk\": pred_counts.values,\n",
    "        \"hits_at_k\": hits_per_class.values,\n",
    "        f\"recall_at_{k}\": recall_at_k.values,\n",
    "        f\"precision_at_{k}\": precision_at_k.values,\n",
    "        f\"f1_at_{k}\": f1_at_k.values,\n",
    "    })\n",
    "\n",
    "metrics_df = topk_per_class_metrics(y_val, y_proba, best_dt.classes_, k=5)\n",
    "\n",
    "cols = [\"class\",\"support\",\"pred_in_topk\",\"hits_at_k\",\"recall_at_5\",\"precision_at_5\",\"f1_at_5\"]\n",
    "print(\"\\nTop 5 classes by recall@5:\")\n",
    "print(metrics_df.sort_values(\"recall_at_5\", ascending=False)[cols].head(5).to_string(index=False))\n",
    "\n",
    "print(\"\\nBottom 5 classes by recall@5:\")\n",
    "print(metrics_df.sort_values(\"recall_at_5\", ascending=True)[cols].head(5).to_string(index=False))\n",
    "\n",
    "print(\"\\nTop 5 classes by precision@5:\")\n",
    "print(metrics_df.sort_values(\"precision_at_5\", ascending=False)[cols].head(5).to_string(index=False))\n",
    "\n",
    "print(\"\\nBottom 5 classes by precision@5:\")\n",
    "print(metrics_df.sort_values(\"precision_at_5\", ascending=True)[cols].head(5).to_string(index=False))\n"
   ]
  },
  {
   "cell_type": "markdown",
   "id": "f8609acc",
   "metadata": {},
   "source": [
    "# Some categories are very well covered.\n",
    "\n",
    "For classes like 74, 66, 1, 65, recall is extremely high (close to 100%). This means customers almost always see the right option in the top 5.\n",
    "\n",
    "Precision is also comparatively better here, meaning the top 5 list is reasonably relevant.\n",
    "\n",
    "Other categories perform poorly.\n",
    "\n",
    "For classes like 40, 30, 5, 51, 50, recall is very low (below 25%). Customers in these categories often won’t find the correct option in the top 5, leading to frustration or missed opportunities.\n",
    "\n",
    "Precision for some classes is especially poor (e.g., classes 93, 60, 53, 35, 86 with 2–3%). This means many irrelevant suggestions appear, reducing trust in recommendations.\n",
    "\n",
    "Business impact:\n",
    "\n",
    "High-recall categories → strong customer experience, high likelihood of satisfaction, and efficiency gains.\n",
    "\n",
    "Low-recall/low-precision categories → risk of customer churn, wasted interactions, and potential revenue loss.\n",
    "\n",
    "Imbalanced performance suggests that certain product lines, services, or customer segments are underserved.\n",
    "\n",
    "Next steps:\n",
    "\n",
    "Investigate why weaker categories underperform (data imbalance, fewer examples, or harder to classify).\n",
    "\n",
    "Consider targeted improvements (data augmentation, category-specific tuning).\n",
    "\n",
    "Communicate to stakeholders that while the model works very well for some high-value areas, there are specific weak spots that need addressing before scaling broadly."
   ]
  },
  {
   "cell_type": "markdown",
   "id": "94fc420e",
   "metadata": {},
   "source": []
  }
 ],
 "metadata": {
  "kernelspec": {
   "display_name": "3.11.3",
   "language": "python",
   "name": "python3"
  },
  "language_info": {
   "codemirror_mode": {
    "name": "ipython",
    "version": 3
   },
   "file_extension": ".py",
   "mimetype": "text/x-python",
   "name": "python",
   "nbconvert_exporter": "python",
   "pygments_lexer": "ipython3",
   "version": "3.11.3"
  }
 },
 "nbformat": 4,
 "nbformat_minor": 5
}

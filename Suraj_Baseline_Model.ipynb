{
 "cells": [
  {
   "cell_type": "code",
   "execution_count": 2,
   "metadata": {},
   "outputs": [],
   "source": [
    "# Libraries\n",
    "\n",
    "import pandas as pd\n",
    "import numpy as np\n",
    "import warnings\n",
    "warnings.filterwarnings('ignore')\n",
    "import matplotlib.pyplot as plt\n",
    "import seaborn as sns\n",
    "from sklearn.model_selection import train_test_split\n",
    "from sklearn.ensemble import RandomForestClassifier\n",
    "from sklearn.metrics import classification_report, confusion_matrix\n",
    "from sklearn.preprocessing import LabelEncoder\n",
    "from sklearn.impute import SimpleImputer\n",
    "from sklearn.pipeline import Pipeline\n",
    "from sklearn.compose import ColumnTransformer\n",
    "from sklearn.model_selection import GridSearchCV"
   ]
  },
  {
   "cell_type": "code",
   "execution_count": 3,
   "metadata": {},
   "outputs": [
    {
     "data": {
      "application/vnd.microsoft.datawrangler.viewer.v0+json": {
       "columns": [
        {
         "name": "index",
         "rawType": "int64",
         "type": "integer"
        },
        {
         "name": "date_time",
         "rawType": "object",
         "type": "string"
        },
        {
         "name": "site_name",
         "rawType": "int64",
         "type": "integer"
        },
        {
         "name": "posa_continent",
         "rawType": "int64",
         "type": "integer"
        },
        {
         "name": "user_location_country",
         "rawType": "int64",
         "type": "integer"
        },
        {
         "name": "user_location_region",
         "rawType": "int64",
         "type": "integer"
        },
        {
         "name": "user_location_city",
         "rawType": "int64",
         "type": "integer"
        },
        {
         "name": "orig_destination_distance",
         "rawType": "float64",
         "type": "float"
        },
        {
         "name": "user_id",
         "rawType": "int64",
         "type": "integer"
        },
        {
         "name": "is_mobile",
         "rawType": "int64",
         "type": "integer"
        },
        {
         "name": "is_package",
         "rawType": "int64",
         "type": "integer"
        },
        {
         "name": "channel",
         "rawType": "int64",
         "type": "integer"
        },
        {
         "name": "srch_ci",
         "rawType": "object",
         "type": "string"
        },
        {
         "name": "srch_co",
         "rawType": "object",
         "type": "string"
        },
        {
         "name": "srch_adults_cnt",
         "rawType": "int64",
         "type": "integer"
        },
        {
         "name": "srch_children_cnt",
         "rawType": "int64",
         "type": "integer"
        },
        {
         "name": "srch_rm_cnt",
         "rawType": "int64",
         "type": "integer"
        },
        {
         "name": "srch_destination_id",
         "rawType": "int64",
         "type": "integer"
        },
        {
         "name": "srch_destination_type_id",
         "rawType": "int64",
         "type": "integer"
        },
        {
         "name": "is_booking",
         "rawType": "int64",
         "type": "integer"
        },
        {
         "name": "cnt",
         "rawType": "int64",
         "type": "integer"
        },
        {
         "name": "hotel_continent",
         "rawType": "int64",
         "type": "integer"
        },
        {
         "name": "hotel_country",
         "rawType": "int64",
         "type": "integer"
        },
        {
         "name": "hotel_market",
         "rawType": "int64",
         "type": "integer"
        },
        {
         "name": "hotel_cluster",
         "rawType": "int64",
         "type": "integer"
        }
       ],
       "ref": "b8000266-7460-490b-9d39-a3826ef82483",
       "rows": [
        [
         "0",
         "2014-08-11 07:46:59",
         "2",
         "3",
         "66",
         "348",
         "48862",
         "2234.2641",
         "12",
         "0",
         "1",
         "9",
         "2014-08-27",
         "2014-08-31",
         "2",
         "0",
         "1",
         "8250",
         "1",
         "0",
         "3",
         "2",
         "50",
         "628",
         "1"
        ],
        [
         "1",
         "2014-08-11 08:22:12",
         "2",
         "3",
         "66",
         "348",
         "48862",
         "2234.2641",
         "12",
         "0",
         "1",
         "9",
         "2014-08-29",
         "2014-09-02",
         "2",
         "0",
         "1",
         "8250",
         "1",
         "1",
         "1",
         "2",
         "50",
         "628",
         "1"
        ],
        [
         "2",
         "2014-02-27 18:01:32",
         "2",
         "3",
         "66",
         "318",
         "52078",
         null,
         "756",
         "0",
         "1",
         "4",
         "2014-04-18",
         "2014-04-20",
         "2",
         "0",
         "1",
         "8291",
         "1",
         "1",
         "1",
         "2",
         "50",
         "191",
         "2"
        ],
        [
         "3",
         "2013-06-15 15:38:05",
         "30",
         "4",
         "195",
         "548",
         "56440",
         null,
         "1048",
         "0",
         "1",
         "9",
         "2013-09-06",
         "2013-09-14",
         "2",
         "0",
         "1",
         "1385",
         "1",
         "1",
         "1",
         "0",
         "185",
         "185",
         "58"
        ],
        [
         "4",
         "2014-11-23 18:02:20",
         "30",
         "4",
         "195",
         "991",
         "47725",
         null,
         "1048",
         "0",
         "0",
         "9",
         "2015-06-26",
         "2015-06-28",
         "2",
         "0",
         "1",
         "8803",
         "1",
         "1",
         "1",
         "3",
         "151",
         "69",
         "36"
        ]
       ],
       "shape": {
        "columns": 24,
        "rows": 5
       }
      },
      "text/html": [
       "<div>\n",
       "<style scoped>\n",
       "    .dataframe tbody tr th:only-of-type {\n",
       "        vertical-align: middle;\n",
       "    }\n",
       "\n",
       "    .dataframe tbody tr th {\n",
       "        vertical-align: top;\n",
       "    }\n",
       "\n",
       "    .dataframe thead th {\n",
       "        text-align: right;\n",
       "    }\n",
       "</style>\n",
       "<table border=\"1\" class=\"dataframe\">\n",
       "  <thead>\n",
       "    <tr style=\"text-align: right;\">\n",
       "      <th></th>\n",
       "      <th>date_time</th>\n",
       "      <th>site_name</th>\n",
       "      <th>posa_continent</th>\n",
       "      <th>user_location_country</th>\n",
       "      <th>user_location_region</th>\n",
       "      <th>user_location_city</th>\n",
       "      <th>orig_destination_distance</th>\n",
       "      <th>user_id</th>\n",
       "      <th>is_mobile</th>\n",
       "      <th>is_package</th>\n",
       "      <th>...</th>\n",
       "      <th>srch_children_cnt</th>\n",
       "      <th>srch_rm_cnt</th>\n",
       "      <th>srch_destination_id</th>\n",
       "      <th>srch_destination_type_id</th>\n",
       "      <th>is_booking</th>\n",
       "      <th>cnt</th>\n",
       "      <th>hotel_continent</th>\n",
       "      <th>hotel_country</th>\n",
       "      <th>hotel_market</th>\n",
       "      <th>hotel_cluster</th>\n",
       "    </tr>\n",
       "  </thead>\n",
       "  <tbody>\n",
       "    <tr>\n",
       "      <th>0</th>\n",
       "      <td>2014-08-11 07:46:59</td>\n",
       "      <td>2</td>\n",
       "      <td>3</td>\n",
       "      <td>66</td>\n",
       "      <td>348</td>\n",
       "      <td>48862</td>\n",
       "      <td>2234.2641</td>\n",
       "      <td>12</td>\n",
       "      <td>0</td>\n",
       "      <td>1</td>\n",
       "      <td>...</td>\n",
       "      <td>0</td>\n",
       "      <td>1</td>\n",
       "      <td>8250</td>\n",
       "      <td>1</td>\n",
       "      <td>0</td>\n",
       "      <td>3</td>\n",
       "      <td>2</td>\n",
       "      <td>50</td>\n",
       "      <td>628</td>\n",
       "      <td>1</td>\n",
       "    </tr>\n",
       "    <tr>\n",
       "      <th>1</th>\n",
       "      <td>2014-08-11 08:22:12</td>\n",
       "      <td>2</td>\n",
       "      <td>3</td>\n",
       "      <td>66</td>\n",
       "      <td>348</td>\n",
       "      <td>48862</td>\n",
       "      <td>2234.2641</td>\n",
       "      <td>12</td>\n",
       "      <td>0</td>\n",
       "      <td>1</td>\n",
       "      <td>...</td>\n",
       "      <td>0</td>\n",
       "      <td>1</td>\n",
       "      <td>8250</td>\n",
       "      <td>1</td>\n",
       "      <td>1</td>\n",
       "      <td>1</td>\n",
       "      <td>2</td>\n",
       "      <td>50</td>\n",
       "      <td>628</td>\n",
       "      <td>1</td>\n",
       "    </tr>\n",
       "    <tr>\n",
       "      <th>2</th>\n",
       "      <td>2014-02-27 18:01:32</td>\n",
       "      <td>2</td>\n",
       "      <td>3</td>\n",
       "      <td>66</td>\n",
       "      <td>318</td>\n",
       "      <td>52078</td>\n",
       "      <td>NaN</td>\n",
       "      <td>756</td>\n",
       "      <td>0</td>\n",
       "      <td>1</td>\n",
       "      <td>...</td>\n",
       "      <td>0</td>\n",
       "      <td>1</td>\n",
       "      <td>8291</td>\n",
       "      <td>1</td>\n",
       "      <td>1</td>\n",
       "      <td>1</td>\n",
       "      <td>2</td>\n",
       "      <td>50</td>\n",
       "      <td>191</td>\n",
       "      <td>2</td>\n",
       "    </tr>\n",
       "    <tr>\n",
       "      <th>3</th>\n",
       "      <td>2013-06-15 15:38:05</td>\n",
       "      <td>30</td>\n",
       "      <td>4</td>\n",
       "      <td>195</td>\n",
       "      <td>548</td>\n",
       "      <td>56440</td>\n",
       "      <td>NaN</td>\n",
       "      <td>1048</td>\n",
       "      <td>0</td>\n",
       "      <td>1</td>\n",
       "      <td>...</td>\n",
       "      <td>0</td>\n",
       "      <td>1</td>\n",
       "      <td>1385</td>\n",
       "      <td>1</td>\n",
       "      <td>1</td>\n",
       "      <td>1</td>\n",
       "      <td>0</td>\n",
       "      <td>185</td>\n",
       "      <td>185</td>\n",
       "      <td>58</td>\n",
       "    </tr>\n",
       "    <tr>\n",
       "      <th>4</th>\n",
       "      <td>2014-11-23 18:02:20</td>\n",
       "      <td>30</td>\n",
       "      <td>4</td>\n",
       "      <td>195</td>\n",
       "      <td>991</td>\n",
       "      <td>47725</td>\n",
       "      <td>NaN</td>\n",
       "      <td>1048</td>\n",
       "      <td>0</td>\n",
       "      <td>0</td>\n",
       "      <td>...</td>\n",
       "      <td>0</td>\n",
       "      <td>1</td>\n",
       "      <td>8803</td>\n",
       "      <td>1</td>\n",
       "      <td>1</td>\n",
       "      <td>1</td>\n",
       "      <td>3</td>\n",
       "      <td>151</td>\n",
       "      <td>69</td>\n",
       "      <td>36</td>\n",
       "    </tr>\n",
       "  </tbody>\n",
       "</table>\n",
       "<p>5 rows × 24 columns</p>\n",
       "</div>"
      ],
      "text/plain": [
       "             date_time  site_name  posa_continent  user_location_country   \n",
       "0  2014-08-11 07:46:59          2               3                     66  \\\n",
       "1  2014-08-11 08:22:12          2               3                     66   \n",
       "2  2014-02-27 18:01:32          2               3                     66   \n",
       "3  2013-06-15 15:38:05         30               4                    195   \n",
       "4  2014-11-23 18:02:20         30               4                    195   \n",
       "\n",
       "   user_location_region  user_location_city  orig_destination_distance   \n",
       "0                   348               48862                  2234.2641  \\\n",
       "1                   348               48862                  2234.2641   \n",
       "2                   318               52078                        NaN   \n",
       "3                   548               56440                        NaN   \n",
       "4                   991               47725                        NaN   \n",
       "\n",
       "   user_id  is_mobile  is_package  ...  srch_children_cnt srch_rm_cnt   \n",
       "0       12          0           1  ...                  0           1  \\\n",
       "1       12          0           1  ...                  0           1   \n",
       "2      756          0           1  ...                  0           1   \n",
       "3     1048          0           1  ...                  0           1   \n",
       "4     1048          0           0  ...                  0           1   \n",
       "\n",
       "  srch_destination_id  srch_destination_type_id  is_booking  cnt   \n",
       "0                8250                         1           0    3  \\\n",
       "1                8250                         1           1    1   \n",
       "2                8291                         1           1    1   \n",
       "3                1385                         1           1    1   \n",
       "4                8803                         1           1    1   \n",
       "\n",
       "   hotel_continent  hotel_country  hotel_market  hotel_cluster  \n",
       "0                2             50           628              1  \n",
       "1                2             50           628              1  \n",
       "2                2             50           191              2  \n",
       "3                0            185           185             58  \n",
       "4                3            151            69             36  \n",
       "\n",
       "[5 rows x 24 columns]"
      ]
     },
     "execution_count": 3,
     "metadata": {},
     "output_type": "execute_result"
    }
   ],
   "source": [
    "# Reading the train data\n",
    "df = pd.read_csv(\"/Users/surajsharma/Desktop/AIPM_Bootcamp/Group-3-Expedia-Hotel-Recommendation/data/train_bookings_1.csv\")\n",
    "df.head()"
   ]
  },
  {
   "cell_type": "code",
   "execution_count": 4,
   "metadata": {},
   "outputs": [
    {
     "name": "stdout",
     "output_type": "stream",
     "text": [
      "<class 'pandas.core.frame.DataFrame'>\n",
      "RangeIndex: 1000001 entries, 0 to 1000000\n",
      "Data columns (total 24 columns):\n",
      " #   Column                     Non-Null Count    Dtype  \n",
      "---  ------                     --------------    -----  \n",
      " 0   date_time                  1000001 non-null  object \n",
      " 1   site_name                  1000001 non-null  int64  \n",
      " 2   posa_continent             1000001 non-null  int64  \n",
      " 3   user_location_country      1000001 non-null  int64  \n",
      " 4   user_location_region       1000001 non-null  int64  \n",
      " 5   user_location_city         1000001 non-null  int64  \n",
      " 6   orig_destination_distance  661222 non-null   float64\n",
      " 7   user_id                    1000001 non-null  int64  \n",
      " 8   is_mobile                  1000001 non-null  int64  \n",
      " 9   is_package                 1000001 non-null  int64  \n",
      " 10  channel                    1000001 non-null  int64  \n",
      " 11  srch_ci                    1000001 non-null  object \n",
      " 12  srch_co                    1000001 non-null  object \n",
      " 13  srch_adults_cnt            1000001 non-null  int64  \n",
      " 14  srch_children_cnt          1000001 non-null  int64  \n",
      " 15  srch_rm_cnt                1000001 non-null  int64  \n",
      " 16  srch_destination_id        1000001 non-null  int64  \n",
      " 17  srch_destination_type_id   1000001 non-null  int64  \n",
      " 18  is_booking                 1000001 non-null  int64  \n",
      " 19  cnt                        1000001 non-null  int64  \n",
      " 20  hotel_continent            1000001 non-null  int64  \n",
      " 21  hotel_country              1000001 non-null  int64  \n",
      " 22  hotel_market               1000001 non-null  int64  \n",
      " 23  hotel_cluster              1000001 non-null  int64  \n",
      "dtypes: float64(1), int64(20), object(3)\n",
      "memory usage: 183.1+ MB\n"
     ]
    }
   ],
   "source": [
    "df.info()"
   ]
  },
  {
   "cell_type": "code",
   "execution_count": 5,
   "metadata": {},
   "outputs": [
    {
     "data": {
      "application/vnd.microsoft.datawrangler.viewer.v0+json": {
       "columns": [
        {
         "name": "index",
         "rawType": "object",
         "type": "string"
        },
        {
         "name": "0",
         "rawType": "int64",
         "type": "integer"
        }
       ],
       "ref": "f7d68b6f-8d0c-4cca-949a-4f511b13f9d8",
       "rows": [
        [
         "date_time",
         "0"
        ],
        [
         "site_name",
         "0"
        ],
        [
         "posa_continent",
         "0"
        ],
        [
         "user_location_country",
         "0"
        ],
        [
         "user_location_region",
         "0"
        ],
        [
         "user_location_city",
         "0"
        ],
        [
         "orig_destination_distance",
         "338779"
        ],
        [
         "user_id",
         "0"
        ],
        [
         "is_mobile",
         "0"
        ],
        [
         "is_package",
         "0"
        ],
        [
         "channel",
         "0"
        ],
        [
         "srch_ci",
         "0"
        ],
        [
         "srch_co",
         "0"
        ],
        [
         "srch_adults_cnt",
         "0"
        ],
        [
         "srch_children_cnt",
         "0"
        ],
        [
         "srch_rm_cnt",
         "0"
        ],
        [
         "srch_destination_id",
         "0"
        ],
        [
         "srch_destination_type_id",
         "0"
        ],
        [
         "is_booking",
         "0"
        ],
        [
         "cnt",
         "0"
        ],
        [
         "hotel_continent",
         "0"
        ],
        [
         "hotel_country",
         "0"
        ],
        [
         "hotel_market",
         "0"
        ],
        [
         "hotel_cluster",
         "0"
        ]
       ],
       "shape": {
        "columns": 1,
        "rows": 24
       }
      },
      "text/plain": [
       "date_time                         0\n",
       "site_name                         0\n",
       "posa_continent                    0\n",
       "user_location_country             0\n",
       "user_location_region              0\n",
       "user_location_city                0\n",
       "orig_destination_distance    338779\n",
       "user_id                           0\n",
       "is_mobile                         0\n",
       "is_package                        0\n",
       "channel                           0\n",
       "srch_ci                           0\n",
       "srch_co                           0\n",
       "srch_adults_cnt                   0\n",
       "srch_children_cnt                 0\n",
       "srch_rm_cnt                       0\n",
       "srch_destination_id               0\n",
       "srch_destination_type_id          0\n",
       "is_booking                        0\n",
       "cnt                               0\n",
       "hotel_continent                   0\n",
       "hotel_country                     0\n",
       "hotel_market                      0\n",
       "hotel_cluster                     0\n",
       "dtype: int64"
      ]
     },
     "execution_count": 5,
     "metadata": {},
     "output_type": "execute_result"
    }
   ],
   "source": [
    "# missing values\n",
    "df.isnull().sum()"
   ]
  },
  {
   "cell_type": "code",
   "execution_count": 6,
   "metadata": {},
   "outputs": [
    {
     "data": {
      "application/vnd.microsoft.datawrangler.viewer.v0+json": {
       "columns": [
        {
         "name": "index",
         "rawType": "object",
         "type": "string"
        },
        {
         "name": "0",
         "rawType": "int64",
         "type": "integer"
        }
       ],
       "ref": "ddf99a13-c7f7-47d9-8502-c6ddd9aa733d",
       "rows": [
        [
         "date_time",
         "988343"
        ],
        [
         "site_name",
         "43"
        ],
        [
         "posa_continent",
         "5"
        ],
        [
         "user_location_country",
         "227"
        ],
        [
         "user_location_region",
         "904"
        ],
        [
         "user_location_city",
         "24512"
        ],
        [
         "orig_destination_distance",
         "523677"
        ],
        [
         "user_id",
         "269624"
        ],
        [
         "is_mobile",
         "2"
        ],
        [
         "is_package",
         "2"
        ],
        [
         "channel",
         "11"
        ],
        [
         "srch_ci",
         "1104"
        ],
        [
         "srch_co",
         "1109"
        ],
        [
         "srch_adults_cnt",
         "10"
        ],
        [
         "srch_children_cnt",
         "10"
        ],
        [
         "srch_rm_cnt",
         "9"
        ],
        [
         "srch_destination_id",
         "25558"
        ],
        [
         "srch_destination_type_id",
         "9"
        ],
        [
         "is_booking",
         "2"
        ],
        [
         "cnt",
         "14"
        ],
        [
         "hotel_continent",
         "7"
        ],
        [
         "hotel_country",
         "202"
        ],
        [
         "hotel_market",
         "2076"
        ],
        [
         "hotel_cluster",
         "100"
        ]
       ],
       "shape": {
        "columns": 1,
        "rows": 24
       }
      },
      "text/plain": [
       "date_time                    988343\n",
       "site_name                        43\n",
       "posa_continent                    5\n",
       "user_location_country           227\n",
       "user_location_region            904\n",
       "user_location_city            24512\n",
       "orig_destination_distance    523677\n",
       "user_id                      269624\n",
       "is_mobile                         2\n",
       "is_package                        2\n",
       "channel                          11\n",
       "srch_ci                        1104\n",
       "srch_co                        1109\n",
       "srch_adults_cnt                  10\n",
       "srch_children_cnt                10\n",
       "srch_rm_cnt                       9\n",
       "srch_destination_id           25558\n",
       "srch_destination_type_id          9\n",
       "is_booking                        2\n",
       "cnt                              14\n",
       "hotel_continent                   7\n",
       "hotel_country                   202\n",
       "hotel_market                   2076\n",
       "hotel_cluster                   100\n",
       "dtype: int64"
      ]
     },
     "execution_count": 6,
     "metadata": {},
     "output_type": "execute_result"
    }
   ],
   "source": [
    "# unique values in each column\n",
    "df.nunique()"
   ]
  },
  {
   "cell_type": "code",
   "execution_count": 7,
   "metadata": {},
   "outputs": [
    {
     "data": {
      "text/plain": [
       "0"
      ]
     },
     "execution_count": 7,
     "metadata": {},
     "output_type": "execute_result"
    }
   ],
   "source": [
    "# checking duplicate rows\n",
    "df.duplicated().sum()"
   ]
  },
  {
   "cell_type": "code",
   "execution_count": 8,
   "metadata": {},
   "outputs": [],
   "source": [
    "# parse only the datetime columns\n",
    "df['date_time'] = pd.to_datetime(df['date_time'])\n",
    "df['srch_ci']   = pd.to_datetime(df['srch_ci'], errors='coerce')\n",
    "df['srch_co']   = pd.to_datetime(df['srch_co'], errors='coerce')"
   ]
  },
  {
   "cell_type": "code",
   "execution_count": 9,
   "metadata": {},
   "outputs": [
    {
     "name": "stdout",
     "output_type": "stream",
     "text": [
      "<class 'pandas.core.frame.DataFrame'>\n",
      "RangeIndex: 1000001 entries, 0 to 1000000\n",
      "Data columns (total 24 columns):\n",
      " #   Column                     Non-Null Count    Dtype         \n",
      "---  ------                     --------------    -----         \n",
      " 0   date_time                  1000001 non-null  datetime64[ns]\n",
      " 1   site_name                  1000001 non-null  int64         \n",
      " 2   posa_continent             1000001 non-null  int64         \n",
      " 3   user_location_country      1000001 non-null  int64         \n",
      " 4   user_location_region       1000001 non-null  int64         \n",
      " 5   user_location_city         1000001 non-null  int64         \n",
      " 6   orig_destination_distance  661222 non-null   float64       \n",
      " 7   user_id                    1000001 non-null  int64         \n",
      " 8   is_mobile                  1000001 non-null  int64         \n",
      " 9   is_package                 1000001 non-null  int64         \n",
      " 10  channel                    1000001 non-null  int64         \n",
      " 11  srch_ci                    1000001 non-null  datetime64[ns]\n",
      " 12  srch_co                    1000001 non-null  datetime64[ns]\n",
      " 13  srch_adults_cnt            1000001 non-null  int64         \n",
      " 14  srch_children_cnt          1000001 non-null  int64         \n",
      " 15  srch_rm_cnt                1000001 non-null  int64         \n",
      " 16  srch_destination_id        1000001 non-null  int64         \n",
      " 17  srch_destination_type_id   1000001 non-null  int64         \n",
      " 18  is_booking                 1000001 non-null  int64         \n",
      " 19  cnt                        1000001 non-null  int64         \n",
      " 20  hotel_continent            1000001 non-null  int64         \n",
      " 21  hotel_country              1000001 non-null  int64         \n",
      " 22  hotel_market               1000001 non-null  int64         \n",
      " 23  hotel_cluster              1000001 non-null  int64         \n",
      "dtypes: datetime64[ns](3), float64(1), int64(20)\n",
      "memory usage: 183.1 MB\n"
     ]
    }
   ],
   "source": [
    "df.info()"
   ]
  },
  {
   "cell_type": "code",
   "execution_count": 10,
   "metadata": {},
   "outputs": [],
   "source": [
    "# add new column length_of_stay\n",
    "df['length_of_stay'] = (df['srch_co'] - df['srch_ci']).dt.days"
   ]
  },
  {
   "cell_type": "code",
   "execution_count": 11,
   "metadata": {},
   "outputs": [
    {
     "data": {
      "application/vnd.microsoft.datawrangler.viewer.v0+json": {
       "columns": [
        {
         "name": "index",
         "rawType": "object",
         "type": "string"
        },
        {
         "name": "length_of_stay",
         "rawType": "float64",
         "type": "float"
        }
       ],
       "ref": "42f93baf-4b61-431c-8a2e-0c8baad6a7d7",
       "rows": [
        [
         "count",
         "1000001.0"
        ],
        [
         "mean",
         "2.425104574895425"
        ],
        [
         "std",
         "2.0216500487693416"
        ],
        [
         "min",
         "-9.0"
        ],
        [
         "25%",
         "1.0"
        ],
        [
         "50%",
         "2.0"
        ],
        [
         "75%",
         "3.0"
        ],
        [
         "max",
         "33.0"
        ]
       ],
       "shape": {
        "columns": 1,
        "rows": 8
       }
      },
      "text/plain": [
       "count    1.000001e+06\n",
       "mean     2.425105e+00\n",
       "std      2.021650e+00\n",
       "min     -9.000000e+00\n",
       "25%      1.000000e+00\n",
       "50%      2.000000e+00\n",
       "75%      3.000000e+00\n",
       "max      3.300000e+01\n",
       "Name: length_of_stay, dtype: float64"
      ]
     },
     "execution_count": 11,
     "metadata": {},
     "output_type": "execute_result"
    }
   ],
   "source": [
    "df['length_of_stay'].describe()"
   ]
  },
  {
   "cell_type": "code",
   "execution_count": 12,
   "metadata": {},
   "outputs": [
    {
     "data": {
      "text/plain": [
       "array([ 4,  2,  8,  5,  3,  1,  6, 12, 10,  7, 15,  9, 14, 13, 22, 11, 21,\n",
       "       17, 19, 20, 18, 16, 28, 27, 24, 23, 25, 26, 30, 31, -9, 33])"
      ]
     },
     "execution_count": 12,
     "metadata": {},
     "output_type": "execute_result"
    }
   ],
   "source": [
    "df['length_of_stay'].unique()"
   ]
  },
  {
   "cell_type": "code",
   "execution_count": 13,
   "metadata": {},
   "outputs": [
    {
     "data": {
      "text/plain": [
       "(1000000, 25)"
      ]
     },
     "execution_count": 13,
     "metadata": {},
     "output_type": "execute_result"
    }
   ],
   "source": [
    "# from df dataframe, remove rows where length_of_stay < 0\n",
    "df = df[df['length_of_stay'] >= 0]\n",
    "df.shape"
   ]
  },
  {
   "cell_type": "code",
   "execution_count": 14,
   "metadata": {},
   "outputs": [
    {
     "data": {
      "text/plain": [
       "31"
      ]
     },
     "execution_count": 14,
     "metadata": {},
     "output_type": "execute_result"
    }
   ],
   "source": [
    "df['length_of_stay'].nunique()"
   ]
  },
  {
   "cell_type": "code",
   "execution_count": 15,
   "metadata": {},
   "outputs": [
    {
     "data": {
      "text/plain": [
       "(100,\n",
       " hotel_cluster\n",
       " 91    40385\n",
       " 48    28908\n",
       " 42    24499\n",
       " 59    22070\n",
       " 28    21108\n",
       " 16    18881\n",
       " 18    18723\n",
       " 95    18367\n",
       " 50    18213\n",
       " 82    18030\n",
       " 21    17202\n",
       " 41    16408\n",
       " 98    16327\n",
       " 64    16045\n",
       " 25    15361\n",
       " 46    15360\n",
       " 2     15127\n",
       " 9     15091\n",
       " 6     14748\n",
       " 47    14713\n",
       " Name: count, dtype: int64)"
      ]
     },
     "execution_count": 15,
     "metadata": {},
     "output_type": "execute_result"
    }
   ],
   "source": [
    "# How many clusters? Which are most common?\n",
    "df['hotel_cluster'].nunique(), df['hotel_cluster'].value_counts().head(20)"
   ]
  },
  {
   "cell_type": "markdown",
   "metadata": {},
   "source": [
    "### Train-test split"
   ]
  },
  {
   "cell_type": "code",
   "execution_count": 16,
   "metadata": {},
   "outputs": [],
   "source": [
    "# Split the data into features and target variable\n",
    "X = df.drop(columns=['hotel_cluster'])\n",
    "y = df['hotel_cluster']\n"
   ]
  },
  {
   "cell_type": "code",
   "execution_count": 17,
   "metadata": {},
   "outputs": [],
   "source": [
    "# Train-test split\n",
    "from sklearn.model_selection import train_test_split\n",
    "\n",
    "X_train, X_test, y_train, y_test = train_test_split(\n",
    "    X, y, \n",
    "    test_size=0.2,       # 20% test set\n",
    "    random_state=42,     # reproducible split\n",
    "    stratify=y           # keep same class distribution\n",
    ")\n"
   ]
  },
  {
   "cell_type": "code",
   "execution_count": 18,
   "metadata": {},
   "outputs": [
    {
     "name": "stdout",
     "output_type": "stream",
     "text": [
      "Train features: (800000, 24)\n",
      "Test features: (200000, 24)\n",
      "Train labels: (800000,)\n",
      "Test labels: (200000,)\n"
     ]
    }
   ],
   "source": [
    "# verify the shape of the splits\n",
    "print(\"Train features:\", X_train.shape)\n",
    "print(\"Test features:\", X_test.shape)\n",
    "print(\"Train labels:\", y_train.shape)\n",
    "print(\"Test labels:\", y_test.shape)\n"
   ]
  },
  {
   "cell_type": "code",
   "execution_count": 19,
   "metadata": {},
   "outputs": [],
   "source": [
    "from sklearn.linear_model import LogisticRegression\n",
    "\n",
    "# 1) Drop datetime columns\n",
    "drop_cols = ['date_time', 'srch_ci', 'srch_co']\n",
    "X_train_ = X_train.drop(columns=drop_cols)\n",
    "X_test_  = X_test.drop(columns=drop_cols)\n",
    "\n",
    "# 2) Handle missing values\n",
    "X_train_ = X_train_.fillna(-1)\n",
    "X_test_  = X_test_.fillna(-1)\n"
   ]
  },
  {
   "cell_type": "markdown",
   "metadata": {},
   "source": [
    "### Logistic Regression without scaling the features"
   ]
  },
  {
   "cell_type": "code",
   "execution_count": 20,
   "metadata": {},
   "outputs": [
    {
     "name": "stderr",
     "output_type": "stream",
     "text": [
      "/Users/surajsharma/Desktop/AIPM_Bootcamp/Group-3-Expedia-Hotel-Recommendation/.venv/lib/python3.11/site-packages/sklearn/linear_model/_logistic.py:458: ConvergenceWarning: lbfgs failed to converge (status=1):\n",
      "STOP: TOTAL NO. OF ITERATIONS REACHED LIMIT.\n",
      "\n",
      "Increase the number of iterations (max_iter) or scale the data as shown in:\n",
      "    https://scikit-learn.org/stable/modules/preprocessing.html\n",
      "Please also refer to the documentation for alternative solver options:\n",
      "    https://scikit-learn.org/stable/modules/linear_model.html#logistic-regression\n",
      "  n_iter_i = _check_optimize_result(\n"
     ]
    },
    {
     "data": {
      "text/html": [
       "<style>#sk-container-id-1 {color: black;background-color: white;}#sk-container-id-1 pre{padding: 0;}#sk-container-id-1 div.sk-toggleable {background-color: white;}#sk-container-id-1 label.sk-toggleable__label {cursor: pointer;display: block;width: 100%;margin-bottom: 0;padding: 0.3em;box-sizing: border-box;text-align: center;}#sk-container-id-1 label.sk-toggleable__label-arrow:before {content: \"▸\";float: left;margin-right: 0.25em;color: #696969;}#sk-container-id-1 label.sk-toggleable__label-arrow:hover:before {color: black;}#sk-container-id-1 div.sk-estimator:hover label.sk-toggleable__label-arrow:before {color: black;}#sk-container-id-1 div.sk-toggleable__content {max-height: 0;max-width: 0;overflow: hidden;text-align: left;background-color: #f0f8ff;}#sk-container-id-1 div.sk-toggleable__content pre {margin: 0.2em;color: black;border-radius: 0.25em;background-color: #f0f8ff;}#sk-container-id-1 input.sk-toggleable__control:checked~div.sk-toggleable__content {max-height: 200px;max-width: 100%;overflow: auto;}#sk-container-id-1 input.sk-toggleable__control:checked~label.sk-toggleable__label-arrow:before {content: \"▾\";}#sk-container-id-1 div.sk-estimator input.sk-toggleable__control:checked~label.sk-toggleable__label {background-color: #d4ebff;}#sk-container-id-1 div.sk-label input.sk-toggleable__control:checked~label.sk-toggleable__label {background-color: #d4ebff;}#sk-container-id-1 input.sk-hidden--visually {border: 0;clip: rect(1px 1px 1px 1px);clip: rect(1px, 1px, 1px, 1px);height: 1px;margin: -1px;overflow: hidden;padding: 0;position: absolute;width: 1px;}#sk-container-id-1 div.sk-estimator {font-family: monospace;background-color: #f0f8ff;border: 1px dotted black;border-radius: 0.25em;box-sizing: border-box;margin-bottom: 0.5em;}#sk-container-id-1 div.sk-estimator:hover {background-color: #d4ebff;}#sk-container-id-1 div.sk-parallel-item::after {content: \"\";width: 100%;border-bottom: 1px solid gray;flex-grow: 1;}#sk-container-id-1 div.sk-label:hover label.sk-toggleable__label {background-color: #d4ebff;}#sk-container-id-1 div.sk-serial::before {content: \"\";position: absolute;border-left: 1px solid gray;box-sizing: border-box;top: 0;bottom: 0;left: 50%;z-index: 0;}#sk-container-id-1 div.sk-serial {display: flex;flex-direction: column;align-items: center;background-color: white;padding-right: 0.2em;padding-left: 0.2em;position: relative;}#sk-container-id-1 div.sk-item {position: relative;z-index: 1;}#sk-container-id-1 div.sk-parallel {display: flex;align-items: stretch;justify-content: center;background-color: white;position: relative;}#sk-container-id-1 div.sk-item::before, #sk-container-id-1 div.sk-parallel-item::before {content: \"\";position: absolute;border-left: 1px solid gray;box-sizing: border-box;top: 0;bottom: 0;left: 50%;z-index: -1;}#sk-container-id-1 div.sk-parallel-item {display: flex;flex-direction: column;z-index: 1;position: relative;background-color: white;}#sk-container-id-1 div.sk-parallel-item:first-child::after {align-self: flex-end;width: 50%;}#sk-container-id-1 div.sk-parallel-item:last-child::after {align-self: flex-start;width: 50%;}#sk-container-id-1 div.sk-parallel-item:only-child::after {width: 0;}#sk-container-id-1 div.sk-dashed-wrapped {border: 1px dashed gray;margin: 0 0.4em 0.5em 0.4em;box-sizing: border-box;padding-bottom: 0.4em;background-color: white;}#sk-container-id-1 div.sk-label label {font-family: monospace;font-weight: bold;display: inline-block;line-height: 1.2em;}#sk-container-id-1 div.sk-label-container {text-align: center;}#sk-container-id-1 div.sk-container {/* jupyter's `normalize.less` sets `[hidden] { display: none; }` but bootstrap.min.css set `[hidden] { display: none !important; }` so we also need the `!important` here to be able to override the default hidden behavior on the sphinx rendered scikit-learn.org. See: https://github.com/scikit-learn/scikit-learn/issues/21755 */display: inline-block !important;position: relative;}#sk-container-id-1 div.sk-text-repr-fallback {display: none;}</style><div id=\"sk-container-id-1\" class=\"sk-top-container\"><div class=\"sk-text-repr-fallback\"><pre>LogisticRegression(max_iter=500, n_jobs=-1, random_state=42)</pre><b>In a Jupyter environment, please rerun this cell to show the HTML representation or trust the notebook. <br />On GitHub, the HTML representation is unable to render, please try loading this page with nbviewer.org.</b></div><div class=\"sk-container\" hidden><div class=\"sk-item\"><div class=\"sk-estimator sk-toggleable\"><input class=\"sk-toggleable__control sk-hidden--visually\" id=\"sk-estimator-id-1\" type=\"checkbox\" checked><label for=\"sk-estimator-id-1\" class=\"sk-toggleable__label sk-toggleable__label-arrow\">LogisticRegression</label><div class=\"sk-toggleable__content\"><pre>LogisticRegression(max_iter=500, n_jobs=-1, random_state=42)</pre></div></div></div></div></div>"
      ],
      "text/plain": [
       "LogisticRegression(max_iter=500, n_jobs=-1, random_state=42)"
      ]
     },
     "execution_count": 20,
     "metadata": {},
     "output_type": "execute_result"
    }
   ],
   "source": [
    "# 3) Train Logistic Regression\n",
    "model = LogisticRegression(max_iter=500, random_state=42, n_jobs=-1)\n",
    "model.fit(X_train_, y_train)"
   ]
  },
  {
   "cell_type": "code",
   "execution_count": 22,
   "metadata": {},
   "outputs": [
    {
     "name": "stdout",
     "output_type": "stream",
     "text": [
      "Accuracy: 0.04374\n",
      "              precision    recall  f1-score   support\n",
      "\n",
      "           0       0.00      0.00      0.00      1298\n",
      "           1       0.00      0.00      0.00      2541\n",
      "           2       0.00      0.00      0.00      3025\n",
      "           3       0.00      0.00      0.00       826\n",
      "           4       0.00      0.00      0.00      2390\n",
      "           5       0.00      0.00      0.00      2866\n",
      "           6       0.00      0.00      0.00      2950\n",
      "           7       0.00      0.00      0.00      2331\n",
      "           8       0.00      0.00      0.00      1470\n",
      "           9       0.00      0.00      0.00      3018\n",
      "          10       0.00      0.00      0.00      2081\n",
      "          11       0.00      0.00      0.00      1868\n",
      "          12       0.00      0.00      0.00      1081\n",
      "          13       0.00      0.00      0.00      2880\n",
      "          14       0.00      0.00      0.00      1040\n",
      "          15       0.00      0.00      0.00      2623\n",
      "          16       0.00      0.00      0.00      3776\n",
      "          17       0.00      0.00      0.00      1401\n",
      "          18       0.00      0.00      0.00      3745\n",
      "          19       0.00      0.00      0.00      2118\n",
      "          20       0.00      0.00      0.00       859\n",
      "          21       0.00      0.00      0.00      3441\n",
      "          22       0.00      0.00      0.00      1467\n",
      "          23       0.00      0.00      0.00      1087\n",
      "          24       0.00      0.00      0.00       824\n",
      "          25       0.00      0.00      0.00      3072\n",
      "          26       0.00      0.00      0.00      1102\n",
      "          27       0.00      0.00      0.00       172\n",
      "          28       0.00      0.00      0.00      4222\n",
      "          29       0.00      0.00      0.00      2328\n",
      "          30       0.00      0.00      0.00      1870\n",
      "          31       0.00      0.00      0.00       806\n",
      "          32       0.00      0.00      0.00      2805\n",
      "          33       0.00      0.00      0.00      2557\n",
      "          34       0.00      0.00      0.00      1270\n",
      "          35       0.00      0.00      0.00       480\n",
      "          36       0.03      0.00      0.00      2680\n",
      "          37       0.00      0.00      0.00      2679\n",
      "          38       0.00      0.00      0.00      1094\n",
      "          39       0.00      0.00      0.00      2468\n",
      "          40       0.00      0.00      0.00      2037\n",
      "          41       0.00      0.00      0.00      3282\n",
      "          42       0.00      0.00      0.00      4900\n",
      "          43       0.08      0.00      0.00      2160\n",
      "          44       0.00      0.00      0.00       731\n",
      "          45       0.00      0.00      0.00      1201\n",
      "          46       0.04      0.00      0.01      3072\n",
      "          47       0.00      0.00      0.00      2943\n",
      "          48       0.00      0.00      0.00      5782\n",
      "          49       0.00      0.00      0.00      1573\n",
      "          50       0.00      0.00      0.00      3643\n",
      "          51       0.00      0.00      0.00      2045\n",
      "          52       0.00      0.00      0.00       558\n",
      "          53       0.00      0.00      0.00       342\n",
      "          54       0.00      0.00      0.00      1420\n",
      "          55       0.00      0.00      0.00      2346\n",
      "          56       0.00      0.00      0.00      1915\n",
      "          57       0.00      0.00      0.00       949\n",
      "          58       0.00      0.00      0.00      2087\n",
      "          59       0.04      0.02      0.02      4414\n",
      "          60       0.00      0.00      0.00       545\n",
      "          61       0.00      0.00      0.00      1841\n",
      "          62       0.03      0.00      0.00      2718\n",
      "          63       0.00      0.00      0.00      1005\n",
      "          64       0.05      0.21      0.08      3209\n",
      "          65       0.00      0.00      0.00      1414\n",
      "          66       0.00      0.00      0.00       636\n",
      "          67       0.00      0.00      0.00      1484\n",
      "          68       0.00      0.00      0.00      2836\n",
      "          69       0.00      0.00      0.00      1238\n",
      "          70       0.00      0.00      0.00      2454\n",
      "          71       0.00      0.00      0.00       620\n",
      "          72       0.00      0.00      0.00      2883\n",
      "          73       0.00      0.00      0.00       969\n",
      "          74       0.00      0.00      0.00       159\n",
      "          75       0.00      0.00      0.00       750\n",
      "          76       0.00      0.00      0.00      1288\n",
      "          77       0.00      0.00      0.00      2641\n",
      "          78       0.00      0.00      0.00      1696\n",
      "          79       0.00      0.00      0.00      1421\n",
      "          80       0.00      0.00      0.00       517\n",
      "          81       0.00      0.00      0.00      2052\n",
      "          82       0.04      0.04      0.04      3606\n",
      "          83       0.00      0.00      0.00      2211\n",
      "          84       0.00      0.00      0.00       695\n",
      "          85       0.00      0.00      0.00      1574\n",
      "          86       0.00      0.00      0.00       498\n",
      "          87       0.00      0.00      0.00       419\n",
      "          88       0.00      0.00      0.00       475\n",
      "          89       0.00      0.00      0.00      1007\n",
      "          90       0.00      0.00      0.00      1598\n",
      "          91       0.04      0.97      0.08      8077\n",
      "          92       0.00      0.00      0.00       420\n",
      "          93       0.00      0.00      0.00       604\n",
      "          94       0.00      0.00      0.00      1835\n",
      "          95       0.00      0.00      0.00      3673\n",
      "          96       0.00      0.00      0.00      1110\n",
      "          97       0.00      0.00      0.00      1939\n",
      "          98       0.00      0.00      0.00      3265\n",
      "          99       0.00      0.00      0.00      2607\n",
      "\n",
      "    accuracy                           0.04    200000\n",
      "   macro avg       0.00      0.01      0.00    200000\n",
      "weighted avg       0.01      0.04      0.01    200000\n",
      "\n"
     ]
    }
   ],
   "source": [
    "# 4) Predict\n",
    "y_pred = model.predict(X_test_)\n",
    "\n",
    "from sklearn.metrics import accuracy_score, classification_report\n",
    "# 5) Evaluate\n",
    "print(\"Accuracy:\", accuracy_score(y_test, y_pred))\n",
    "print(classification_report(y_test, y_pred))"
   ]
  },
  {
   "cell_type": "markdown",
   "metadata": {},
   "source": [
    "#### Logistic Regression after scaling the features and introducing hyperparameter solver='saga'"
   ]
  },
  {
   "cell_type": "code",
   "execution_count": 30,
   "metadata": {},
   "outputs": [],
   "source": [
    "from sklearn.preprocessing import StandardScaler\n",
    "\n",
    "scaler = StandardScaler()\n",
    "X_train_scaled = scaler.fit_transform(X_train_)\n",
    "X_test_scaled  = scaler.transform(X_test_)\n"
   ]
  },
  {
   "cell_type": "code",
   "execution_count": 31,
   "metadata": {},
   "outputs": [
    {
     "data": {
      "text/html": [
       "<style>#sk-container-id-2 {color: black;background-color: white;}#sk-container-id-2 pre{padding: 0;}#sk-container-id-2 div.sk-toggleable {background-color: white;}#sk-container-id-2 label.sk-toggleable__label {cursor: pointer;display: block;width: 100%;margin-bottom: 0;padding: 0.3em;box-sizing: border-box;text-align: center;}#sk-container-id-2 label.sk-toggleable__label-arrow:before {content: \"▸\";float: left;margin-right: 0.25em;color: #696969;}#sk-container-id-2 label.sk-toggleable__label-arrow:hover:before {color: black;}#sk-container-id-2 div.sk-estimator:hover label.sk-toggleable__label-arrow:before {color: black;}#sk-container-id-2 div.sk-toggleable__content {max-height: 0;max-width: 0;overflow: hidden;text-align: left;background-color: #f0f8ff;}#sk-container-id-2 div.sk-toggleable__content pre {margin: 0.2em;color: black;border-radius: 0.25em;background-color: #f0f8ff;}#sk-container-id-2 input.sk-toggleable__control:checked~div.sk-toggleable__content {max-height: 200px;max-width: 100%;overflow: auto;}#sk-container-id-2 input.sk-toggleable__control:checked~label.sk-toggleable__label-arrow:before {content: \"▾\";}#sk-container-id-2 div.sk-estimator input.sk-toggleable__control:checked~label.sk-toggleable__label {background-color: #d4ebff;}#sk-container-id-2 div.sk-label input.sk-toggleable__control:checked~label.sk-toggleable__label {background-color: #d4ebff;}#sk-container-id-2 input.sk-hidden--visually {border: 0;clip: rect(1px 1px 1px 1px);clip: rect(1px, 1px, 1px, 1px);height: 1px;margin: -1px;overflow: hidden;padding: 0;position: absolute;width: 1px;}#sk-container-id-2 div.sk-estimator {font-family: monospace;background-color: #f0f8ff;border: 1px dotted black;border-radius: 0.25em;box-sizing: border-box;margin-bottom: 0.5em;}#sk-container-id-2 div.sk-estimator:hover {background-color: #d4ebff;}#sk-container-id-2 div.sk-parallel-item::after {content: \"\";width: 100%;border-bottom: 1px solid gray;flex-grow: 1;}#sk-container-id-2 div.sk-label:hover label.sk-toggleable__label {background-color: #d4ebff;}#sk-container-id-2 div.sk-serial::before {content: \"\";position: absolute;border-left: 1px solid gray;box-sizing: border-box;top: 0;bottom: 0;left: 50%;z-index: 0;}#sk-container-id-2 div.sk-serial {display: flex;flex-direction: column;align-items: center;background-color: white;padding-right: 0.2em;padding-left: 0.2em;position: relative;}#sk-container-id-2 div.sk-item {position: relative;z-index: 1;}#sk-container-id-2 div.sk-parallel {display: flex;align-items: stretch;justify-content: center;background-color: white;position: relative;}#sk-container-id-2 div.sk-item::before, #sk-container-id-2 div.sk-parallel-item::before {content: \"\";position: absolute;border-left: 1px solid gray;box-sizing: border-box;top: 0;bottom: 0;left: 50%;z-index: -1;}#sk-container-id-2 div.sk-parallel-item {display: flex;flex-direction: column;z-index: 1;position: relative;background-color: white;}#sk-container-id-2 div.sk-parallel-item:first-child::after {align-self: flex-end;width: 50%;}#sk-container-id-2 div.sk-parallel-item:last-child::after {align-self: flex-start;width: 50%;}#sk-container-id-2 div.sk-parallel-item:only-child::after {width: 0;}#sk-container-id-2 div.sk-dashed-wrapped {border: 1px dashed gray;margin: 0 0.4em 0.5em 0.4em;box-sizing: border-box;padding-bottom: 0.4em;background-color: white;}#sk-container-id-2 div.sk-label label {font-family: monospace;font-weight: bold;display: inline-block;line-height: 1.2em;}#sk-container-id-2 div.sk-label-container {text-align: center;}#sk-container-id-2 div.sk-container {/* jupyter's `normalize.less` sets `[hidden] { display: none; }` but bootstrap.min.css set `[hidden] { display: none !important; }` so we also need the `!important` here to be able to override the default hidden behavior on the sphinx rendered scikit-learn.org. See: https://github.com/scikit-learn/scikit-learn/issues/21755 */display: inline-block !important;position: relative;}#sk-container-id-2 div.sk-text-repr-fallback {display: none;}</style><div id=\"sk-container-id-2\" class=\"sk-top-container\"><div class=\"sk-text-repr-fallback\"><pre>LogisticRegression(max_iter=200, multi_class=&#x27;multinomial&#x27;, n_jobs=-1,\n",
       "                   random_state=42, solver=&#x27;saga&#x27;)</pre><b>In a Jupyter environment, please rerun this cell to show the HTML representation or trust the notebook. <br />On GitHub, the HTML representation is unable to render, please try loading this page with nbviewer.org.</b></div><div class=\"sk-container\" hidden><div class=\"sk-item\"><div class=\"sk-estimator sk-toggleable\"><input class=\"sk-toggleable__control sk-hidden--visually\" id=\"sk-estimator-id-2\" type=\"checkbox\" checked><label for=\"sk-estimator-id-2\" class=\"sk-toggleable__label sk-toggleable__label-arrow\">LogisticRegression</label><div class=\"sk-toggleable__content\"><pre>LogisticRegression(max_iter=200, multi_class=&#x27;multinomial&#x27;, n_jobs=-1,\n",
       "                   random_state=42, solver=&#x27;saga&#x27;)</pre></div></div></div></div></div>"
      ],
      "text/plain": [
       "LogisticRegression(max_iter=200, multi_class='multinomial', n_jobs=-1,\n",
       "                   random_state=42, solver='saga')"
      ]
     },
     "execution_count": 31,
     "metadata": {},
     "output_type": "execute_result"
    }
   ],
   "source": [
    "from sklearn.linear_model import LogisticRegression\n",
    "\n",
    "logreg = LogisticRegression(\n",
    "    solver=\"saga\",          # good for large, sparse-ish data\n",
    "    multi_class=\"multinomial\",\n",
    "    max_iter=200,\n",
    "    random_state=42,\n",
    "    n_jobs=-1\n",
    ")\n",
    "logreg.fit(X_train_scaled, y_train)\n"
   ]
  },
  {
   "cell_type": "code",
   "execution_count": 32,
   "metadata": {},
   "outputs": [
    {
     "name": "stdout",
     "output_type": "stream",
     "text": [
      "Accuracy: 0.0693\n",
      "              precision    recall  f1-score   support\n",
      "\n",
      "           0       0.06      0.01      0.01      1298\n",
      "           1       0.08      0.36      0.13      2541\n",
      "           2       0.06      0.04      0.05      3025\n",
      "           3       0.00      0.00      0.00       826\n",
      "           4       0.00      0.00      0.00      2390\n",
      "           5       0.05      0.02      0.03      2866\n",
      "           6       0.00      0.00      0.00      2950\n",
      "           7       0.01      0.00      0.00      2331\n",
      "           8       0.11      0.01      0.02      1470\n",
      "           9       0.04      0.06      0.04      3018\n",
      "          10       0.03      0.00      0.00      2081\n",
      "          11       0.00      0.00      0.00      1868\n",
      "          12       0.06      0.09      0.07      1081\n",
      "          13       0.00      0.00      0.00      2880\n",
      "          14       0.00      0.00      0.00      1040\n",
      "          15       0.04      0.01      0.01      2623\n",
      "          16       0.03      0.00      0.00      3776\n",
      "          17       0.00      0.00      0.00      1401\n",
      "          18       0.00      0.00      0.00      3745\n",
      "          19       0.00      0.00      0.00      2118\n",
      "          20       0.00      0.00      0.00       859\n",
      "          21       0.05      0.00      0.00      3441\n",
      "          22       0.06      0.00      0.01      1467\n",
      "          23       0.00      0.00      0.00      1087\n",
      "          24       0.00      0.00      0.00       824\n",
      "          25       0.06      0.02      0.03      3072\n",
      "          26       0.03      0.00      0.00      1102\n",
      "          27       0.00      0.00      0.00       172\n",
      "          28       0.05      0.06      0.05      4222\n",
      "          29       0.05      0.00      0.01      2328\n",
      "          30       0.10      0.00      0.00      1870\n",
      "          31       0.00      0.00      0.00       806\n",
      "          32       0.06      0.00      0.00      2805\n",
      "          33       0.00      0.00      0.00      2557\n",
      "          34       0.00      0.00      0.00      1270\n",
      "          35       0.00      0.00      0.00       480\n",
      "          36       0.07      0.04      0.05      2680\n",
      "          37       0.05      0.00      0.00      2679\n",
      "          38       0.00      0.00      0.00      1094\n",
      "          39       0.17      0.00      0.00      2468\n",
      "          40       0.00      0.00      0.00      2037\n",
      "          41       0.03      0.00      0.01      3282\n",
      "          42       0.02      0.00      0.01      4900\n",
      "          43       0.03      0.03      0.03      2160\n",
      "          44       0.00      0.00      0.00       731\n",
      "          45       0.11      0.01      0.01      1201\n",
      "          46       0.07      0.07      0.07      3072\n",
      "          47       0.00      0.00      0.00      2943\n",
      "          48       0.03      0.01      0.01      5782\n",
      "          49       0.00      0.00      0.00      1573\n",
      "          50       0.00      0.00      0.00      3643\n",
      "          51       0.00      0.00      0.00      2045\n",
      "          52       0.00      0.00      0.00       558\n",
      "          53       0.00      0.00      0.00       342\n",
      "          54       0.00      0.00      0.00      1420\n",
      "          55       0.06      0.02      0.03      2346\n",
      "          56       0.05      0.01      0.01      1915\n",
      "          57       0.00      0.00      0.00       949\n",
      "          58       0.03      0.00      0.00      2087\n",
      "          59       0.06      0.16      0.09      4414\n",
      "          60       0.00      0.00      0.00       545\n",
      "          61       0.00      0.00      0.00      1841\n",
      "          62       0.05      0.04      0.05      2718\n",
      "          63       0.09      0.02      0.03      1005\n",
      "          64       0.07      0.29      0.11      3209\n",
      "          65       0.17      0.79      0.28      1414\n",
      "          66       0.10      0.01      0.02       636\n",
      "          67       0.08      0.01      0.02      1484\n",
      "          68       0.00      0.00      0.00      2836\n",
      "          69       0.00      0.00      0.00      1238\n",
      "          70       0.00      0.00      0.00      2454\n",
      "          71       0.07      0.01      0.02       620\n",
      "          72       0.00      0.00      0.00      2883\n",
      "          73       0.00      0.00      0.00       969\n",
      "          74       0.00      0.00      0.00       159\n",
      "          75       0.00      0.00      0.00       750\n",
      "          76       0.00      0.00      0.00      1288\n",
      "          77       0.00      0.00      0.00      2641\n",
      "          78       0.00      0.00      0.00      1696\n",
      "          79       0.00      0.00      0.00      1421\n",
      "          80       0.00      0.00      0.00       517\n",
      "          81       0.07      0.03      0.04      2052\n",
      "          82       0.08      0.39      0.13      3606\n",
      "          83       0.00      0.00      0.00      2211\n",
      "          84       0.00      0.00      0.00       695\n",
      "          85       0.00      0.00      0.00      1574\n",
      "          86       0.00      0.00      0.00       498\n",
      "          87       0.00      0.00      0.00       419\n",
      "          88       0.00      0.00      0.00       475\n",
      "          89       0.00      0.00      0.00      1007\n",
      "          90       0.00      0.00      0.00      1598\n",
      "          91       0.07      0.85      0.13      8077\n",
      "          92       0.00      0.00      0.00       420\n",
      "          93       0.00      0.00      0.00       604\n",
      "          94       0.00      0.00      0.00      1835\n",
      "          95       0.05      0.06      0.05      3673\n",
      "          96       0.00      0.00      0.00      1110\n",
      "          97       0.03      0.00      0.01      1939\n",
      "          98       0.05      0.04      0.04      3265\n",
      "          99       0.06      0.00      0.00      2607\n",
      "\n",
      "    accuracy                           0.07    200000\n",
      "   macro avg       0.03      0.04      0.02    200000\n",
      "weighted avg       0.03      0.07      0.03    200000\n",
      "\n"
     ]
    }
   ],
   "source": [
    "from sklearn.metrics import accuracy_score, classification_report\n",
    "\n",
    "y_pred = logreg.predict(X_test_scaled)\n",
    "print(\"Accuracy:\", accuracy_score(y_test, y_pred))\n",
    "print(classification_report(y_test, y_pred, zero_division=0))\n"
   ]
  },
  {
   "cell_type": "markdown",
   "metadata": {},
   "source": [
    "### Linear Regression (This time we also drop other non-relevant features)"
   ]
  },
  {
   "cell_type": "code",
   "execution_count": 34,
   "metadata": {},
   "outputs": [
    {
     "name": "stdout",
     "output_type": "stream",
     "text": [
      "MSE: 841.2169768641178\n",
      "R²: 0.002472509922123889\n",
      "Rounded Accuracy: 0.01898\n"
     ]
    }
   ],
   "source": [
    "from sklearn.linear_model import LinearRegression\n",
    "from sklearn.metrics import mean_squared_error, r2_score\n",
    "import numpy as np\n",
    "\n",
    "# 1) Drop datetime cols\n",
    "drop_cols = [\n",
    "    'date_time', 'srch_ci', 'srch_co',\n",
    "    'cnt', 'is_booking', 'user_id',\n",
    "    'srch_destination_id', 'srch_destination_type_id',\n",
    "    'hotel_country', 'hotel_market'\n",
    "]\n",
    "\n",
    "X_train_lr = X_train.drop(columns=drop_cols).fillna(-1)\n",
    "X_test_lr  = X_test.drop(columns=drop_cols).fillna(-1)\n",
    "\n",
    "# 2) Train Linear Regression\n",
    "linreg = LinearRegression()\n",
    "linreg.fit(X_train_lr, y_train)\n",
    "\n",
    "# 3) Predict (continuous values)\n",
    "y_pred_cont = linreg.predict(X_test_lr)\n",
    "\n",
    "# 4) Round to nearest int to compare with hotel_cluster\n",
    "y_pred_round = np.rint(y_pred_cont).astype(int)\n",
    "\n",
    "# 5) Evaluate\n",
    "mse = mean_squared_error(y_test, y_pred_cont)\n",
    "r2  = r2_score(y_test, y_pred_cont)\n",
    "acc = (y_pred_round == y_test).mean()\n",
    "\n",
    "print(\"MSE:\", mse)\n",
    "print(\"R²:\", r2)\n",
    "print(\"Rounded Accuracy:\", acc)\n"
   ]
  },
  {
   "cell_type": "markdown",
   "metadata": {},
   "source": [
    "### Takeaway: It seems Regression is a no-go"
   ]
  },
  {
   "cell_type": "markdown",
   "metadata": {},
   "source": [
    "### Random Forest"
   ]
  },
  {
   "cell_type": "code",
   "execution_count": 36,
   "metadata": {},
   "outputs": [],
   "source": [
    "drop_cols = [\n",
    "    'date_time', 'srch_ci', 'srch_co',\n",
    "    'cnt', 'is_booking', 'user_id',\n",
    "    'srch_destination_id', 'srch_destination_type_id',\n",
    "    'hotel_country', 'hotel_market'\n",
    "]\n",
    "\n",
    "X_train_rf = X_train.drop(columns=drop_cols).fillna(-1)\n",
    "X_test_rf  = X_test.drop(columns=drop_cols).fillna(-1)\n"
   ]
  },
  {
   "cell_type": "code",
   "execution_count": 37,
   "metadata": {},
   "outputs": [
    {
     "data": {
      "text/html": [
       "<style>#sk-container-id-3 {color: black;background-color: white;}#sk-container-id-3 pre{padding: 0;}#sk-container-id-3 div.sk-toggleable {background-color: white;}#sk-container-id-3 label.sk-toggleable__label {cursor: pointer;display: block;width: 100%;margin-bottom: 0;padding: 0.3em;box-sizing: border-box;text-align: center;}#sk-container-id-3 label.sk-toggleable__label-arrow:before {content: \"▸\";float: left;margin-right: 0.25em;color: #696969;}#sk-container-id-3 label.sk-toggleable__label-arrow:hover:before {color: black;}#sk-container-id-3 div.sk-estimator:hover label.sk-toggleable__label-arrow:before {color: black;}#sk-container-id-3 div.sk-toggleable__content {max-height: 0;max-width: 0;overflow: hidden;text-align: left;background-color: #f0f8ff;}#sk-container-id-3 div.sk-toggleable__content pre {margin: 0.2em;color: black;border-radius: 0.25em;background-color: #f0f8ff;}#sk-container-id-3 input.sk-toggleable__control:checked~div.sk-toggleable__content {max-height: 200px;max-width: 100%;overflow: auto;}#sk-container-id-3 input.sk-toggleable__control:checked~label.sk-toggleable__label-arrow:before {content: \"▾\";}#sk-container-id-3 div.sk-estimator input.sk-toggleable__control:checked~label.sk-toggleable__label {background-color: #d4ebff;}#sk-container-id-3 div.sk-label input.sk-toggleable__control:checked~label.sk-toggleable__label {background-color: #d4ebff;}#sk-container-id-3 input.sk-hidden--visually {border: 0;clip: rect(1px 1px 1px 1px);clip: rect(1px, 1px, 1px, 1px);height: 1px;margin: -1px;overflow: hidden;padding: 0;position: absolute;width: 1px;}#sk-container-id-3 div.sk-estimator {font-family: monospace;background-color: #f0f8ff;border: 1px dotted black;border-radius: 0.25em;box-sizing: border-box;margin-bottom: 0.5em;}#sk-container-id-3 div.sk-estimator:hover {background-color: #d4ebff;}#sk-container-id-3 div.sk-parallel-item::after {content: \"\";width: 100%;border-bottom: 1px solid gray;flex-grow: 1;}#sk-container-id-3 div.sk-label:hover label.sk-toggleable__label {background-color: #d4ebff;}#sk-container-id-3 div.sk-serial::before {content: \"\";position: absolute;border-left: 1px solid gray;box-sizing: border-box;top: 0;bottom: 0;left: 50%;z-index: 0;}#sk-container-id-3 div.sk-serial {display: flex;flex-direction: column;align-items: center;background-color: white;padding-right: 0.2em;padding-left: 0.2em;position: relative;}#sk-container-id-3 div.sk-item {position: relative;z-index: 1;}#sk-container-id-3 div.sk-parallel {display: flex;align-items: stretch;justify-content: center;background-color: white;position: relative;}#sk-container-id-3 div.sk-item::before, #sk-container-id-3 div.sk-parallel-item::before {content: \"\";position: absolute;border-left: 1px solid gray;box-sizing: border-box;top: 0;bottom: 0;left: 50%;z-index: -1;}#sk-container-id-3 div.sk-parallel-item {display: flex;flex-direction: column;z-index: 1;position: relative;background-color: white;}#sk-container-id-3 div.sk-parallel-item:first-child::after {align-self: flex-end;width: 50%;}#sk-container-id-3 div.sk-parallel-item:last-child::after {align-self: flex-start;width: 50%;}#sk-container-id-3 div.sk-parallel-item:only-child::after {width: 0;}#sk-container-id-3 div.sk-dashed-wrapped {border: 1px dashed gray;margin: 0 0.4em 0.5em 0.4em;box-sizing: border-box;padding-bottom: 0.4em;background-color: white;}#sk-container-id-3 div.sk-label label {font-family: monospace;font-weight: bold;display: inline-block;line-height: 1.2em;}#sk-container-id-3 div.sk-label-container {text-align: center;}#sk-container-id-3 div.sk-container {/* jupyter's `normalize.less` sets `[hidden] { display: none; }` but bootstrap.min.css set `[hidden] { display: none !important; }` so we also need the `!important` here to be able to override the default hidden behavior on the sphinx rendered scikit-learn.org. See: https://github.com/scikit-learn/scikit-learn/issues/21755 */display: inline-block !important;position: relative;}#sk-container-id-3 div.sk-text-repr-fallback {display: none;}</style><div id=\"sk-container-id-3\" class=\"sk-top-container\"><div class=\"sk-text-repr-fallback\"><pre>RandomForestClassifier(max_depth=15, n_jobs=-1, random_state=42)</pre><b>In a Jupyter environment, please rerun this cell to show the HTML representation or trust the notebook. <br />On GitHub, the HTML representation is unable to render, please try loading this page with nbviewer.org.</b></div><div class=\"sk-container\" hidden><div class=\"sk-item\"><div class=\"sk-estimator sk-toggleable\"><input class=\"sk-toggleable__control sk-hidden--visually\" id=\"sk-estimator-id-3\" type=\"checkbox\" checked><label for=\"sk-estimator-id-3\" class=\"sk-toggleable__label sk-toggleable__label-arrow\">RandomForestClassifier</label><div class=\"sk-toggleable__content\"><pre>RandomForestClassifier(max_depth=15, n_jobs=-1, random_state=42)</pre></div></div></div></div></div>"
      ],
      "text/plain": [
       "RandomForestClassifier(max_depth=15, n_jobs=-1, random_state=42)"
      ]
     },
     "execution_count": 37,
     "metadata": {},
     "output_type": "execute_result"
    }
   ],
   "source": [
    "from sklearn.ensemble import RandomForestClassifier\n",
    "\n",
    "rf = RandomForestClassifier(\n",
    "    n_estimators=100,   # number of trees\n",
    "    max_depth=15,       # limit depth to avoid huge trees\n",
    "    random_state=42,\n",
    "    n_jobs=-1           # use all CPU cores\n",
    ")\n",
    "rf.fit(X_train_rf, y_train)\n"
   ]
  },
  {
   "cell_type": "code",
   "execution_count": 38,
   "metadata": {},
   "outputs": [
    {
     "name": "stdout",
     "output_type": "stream",
     "text": [
      "Accuracy: 0.09282\n",
      "              precision    recall  f1-score   support\n",
      "\n",
      "           0       0.15      0.18      0.17      1298\n",
      "           1       0.14      0.54      0.22      2541\n",
      "           2       0.09      0.07      0.08      3025\n",
      "           3       0.15      0.01      0.01       826\n",
      "           4       0.14      0.02      0.04      2390\n",
      "           5       0.09      0.03      0.05      2866\n",
      "           6       0.21      0.02      0.03      2950\n",
      "           7       0.10      0.00      0.00      2331\n",
      "           8       0.19      0.10      0.13      1470\n",
      "           9       0.12      0.02      0.04      3018\n",
      "          10       0.25      0.02      0.03      2081\n",
      "          11       0.10      0.01      0.02      1868\n",
      "          12       0.12      0.21      0.15      1081\n",
      "          13       0.11      0.01      0.01      2880\n",
      "          14       0.12      0.00      0.01      1040\n",
      "          15       0.17      0.01      0.02      2623\n",
      "          16       0.17      0.01      0.02      3776\n",
      "          17       0.18      0.01      0.01      1401\n",
      "          18       0.10      0.01      0.01      3745\n",
      "          19       0.12      0.01      0.03      2118\n",
      "          20       0.16      0.02      0.04       859\n",
      "          21       0.13      0.01      0.02      3441\n",
      "          22       0.09      0.07      0.08      1467\n",
      "          23       0.12      0.00      0.01      1087\n",
      "          24       0.18      0.02      0.03       824\n",
      "          25       0.07      0.03      0.05      3072\n",
      "          26       0.23      0.05      0.09      1102\n",
      "          27       0.11      0.01      0.02       172\n",
      "          28       0.09      0.04      0.05      4222\n",
      "          29       0.07      0.03      0.04      2328\n",
      "          30       0.09      0.04      0.06      1870\n",
      "          31       0.24      0.00      0.01       806\n",
      "          32       0.11      0.01      0.01      2805\n",
      "          33       0.17      0.01      0.02      2557\n",
      "          34       0.11      0.01      0.03      1270\n",
      "          35       0.27      0.02      0.04       480\n",
      "          36       0.09      0.15      0.11      2680\n",
      "          37       0.11      0.01      0.01      2679\n",
      "          38       0.19      0.09      0.12      1094\n",
      "          39       0.14      0.02      0.03      2468\n",
      "          40       0.20      0.01      0.01      2037\n",
      "          41       0.07      0.03      0.04      3282\n",
      "          42       0.09      0.01      0.02      4900\n",
      "          43       0.12      0.01      0.02      2160\n",
      "          44       0.16      0.01      0.02       731\n",
      "          45       0.24      0.08      0.12      1201\n",
      "          46       0.09      0.26      0.13      3072\n",
      "          47       0.13      0.00      0.01      2943\n",
      "          48       0.11      0.02      0.03      5782\n",
      "          49       0.20      0.01      0.02      1573\n",
      "          50       0.12      0.01      0.02      3643\n",
      "          51       0.16      0.00      0.01      2045\n",
      "          52       0.22      0.02      0.04       558\n",
      "          53       0.16      0.01      0.02       342\n",
      "          54       0.22      0.09      0.13      1420\n",
      "          55       0.09      0.03      0.05      2346\n",
      "          56       0.14      0.12      0.13      1915\n",
      "          57       0.14      0.04      0.07       949\n",
      "          58       0.11      0.02      0.03      2087\n",
      "          59       0.08      0.09      0.09      4414\n",
      "          60       0.22      0.02      0.04       545\n",
      "          61       0.15      0.03      0.06      1841\n",
      "          62       0.08      0.09      0.08      2718\n",
      "          63       0.14      0.11      0.12      1005\n",
      "          64       0.08      0.33      0.13      3209\n",
      "          65       0.23      0.90      0.37      1414\n",
      "          66       0.25      0.04      0.07       636\n",
      "          67       0.11      0.03      0.05      1484\n",
      "          68       0.15      0.02      0.03      2836\n",
      "          69       0.16      0.01      0.01      1238\n",
      "          70       0.08      0.04      0.05      2454\n",
      "          71       0.21      0.10      0.14       620\n",
      "          72       0.07      0.00      0.00      2883\n",
      "          73       0.26      0.01      0.03       969\n",
      "          74       0.25      0.14      0.18       159\n",
      "          75       0.18      0.01      0.02       750\n",
      "          76       0.19      0.00      0.01      1288\n",
      "          77       0.17      0.02      0.03      2641\n",
      "          78       0.11      0.02      0.03      1696\n",
      "          79       0.14      0.01      0.02      1421\n",
      "          80       0.17      0.03      0.05       517\n",
      "          81       0.09      0.11      0.10      2052\n",
      "          82       0.08      0.38      0.13      3606\n",
      "          83       0.14      0.01      0.02      2211\n",
      "          84       0.00      0.00      0.00       695\n",
      "          85       0.12      0.02      0.03      1574\n",
      "          86       0.25      0.01      0.01       498\n",
      "          87       0.29      0.01      0.02       419\n",
      "          88       0.00      0.00      0.00       475\n",
      "          89       0.05      0.00      0.00      1007\n",
      "          90       0.12      0.02      0.03      1598\n",
      "          91       0.08      0.87      0.14      8077\n",
      "          92       0.34      0.06      0.10       420\n",
      "          93       0.31      0.01      0.01       604\n",
      "          94       0.32      0.00      0.01      1835\n",
      "          95       0.12      0.05      0.07      3673\n",
      "          96       0.33      0.01      0.03      1110\n",
      "          97       0.15      0.01      0.02      1939\n",
      "          98       0.10      0.07      0.08      3265\n",
      "          99       0.16      0.02      0.04      2607\n",
      "\n",
      "    accuracy                           0.09    200000\n",
      "   macro avg       0.15      0.06      0.05    200000\n",
      "weighted avg       0.13      0.09      0.05    200000\n",
      "\n"
     ]
    }
   ],
   "source": [
    "from sklearn.metrics import accuracy_score, classification_report\n",
    "\n",
    "y_pred = rf.predict(X_test_rf)\n",
    "\n",
    "print(\"Accuracy:\", accuracy_score(y_test, y_pred))\n",
    "print(classification_report(y_test, y_pred, zero_division=0))\n"
   ]
  },
  {
   "cell_type": "markdown",
   "metadata": {},
   "source": [
    "#### Random Forests with Feature Importances"
   ]
  },
  {
   "cell_type": "code",
   "execution_count": 39,
   "metadata": {},
   "outputs": [],
   "source": [
    "import pandas as pd\n",
    "\n",
    "feat_importances = pd.DataFrame({\n",
    "    \"feature\": X_train_rf.columns,\n",
    "    \"importance\": rf.feature_importances_\n",
    "}).sort_values(by=\"importance\", ascending=False)\n"
   ]
  },
  {
   "cell_type": "code",
   "execution_count": 43,
   "metadata": {},
   "outputs": [
    {
     "data": {
      "image/png": "[encoded data removed]",
      "text/plain": [
       "<Figure size 1000x600 with 1 Axes>"
      ]
     },
     "metadata": {},
     "output_type": "display_data"
    }
   ],
   "source": [
    "import matplotlib.pyplot as plt\n",
    "\n",
    "top_n = 20\n",
    "top_feats = feat_importances.head(top_n)\n",
    "\n",
    "plt.figure(figsize=(10,6))\n",
    "bars = plt.barh(top_feats[\"feature\"], top_feats[\"importance\"])\n",
    "plt.gca().invert_yaxis()  # highest on top\n",
    "plt.xlabel(\"Importance\")\n",
    "plt.title(f\"Top {top_n} Feature Importances - Random Forest\")\n",
    "\n",
    "# Add text labels\n",
    "for bar, imp in zip(bars, top_feats[\"importance\"]):\n",
    "    plt.text(\n",
    "        bar.get_width(), \n",
    "        bar.get_y() + bar.get_height()/2,\n",
    "        f\"{imp:.3f}\",   # format to 3 decimals\n",
    "        va=\"center\", ha=\"left\"\n",
    "    )\n",
    "\n",
    "plt.show()\n"
   ]
  },
  {
   "cell_type": "code",
   "execution_count": 45,
   "metadata": {},
   "outputs": [],
   "source": [
    "# Creating a fallback dataframe of df before I modify it further\n",
    "df_fallback = df.copy()"
   ]
  },
  {
   "cell_type": "markdown",
   "metadata": {},
   "source": [
    "### Back to Logistic Regression for a bit, this time with OHE"
   ]
  },
  {
   "cell_type": "code",
   "execution_count": 46,
   "metadata": {},
   "outputs": [],
   "source": [
    "# Identify categorical columns for OHE\n",
    "categorical_cols = [\n",
    "    'posa_continent',   # 5\n",
    "    'hotel_continent',  # 7\n",
    "    'channel',          # 11\n",
    "    'is_package',       # 2\n",
    "    'is_mobile'         # 2\n",
    "]\n"
   ]
  },
  {
   "cell_type": "code",
   "execution_count": 54,
   "metadata": {},
   "outputs": [],
   "source": [
    "from sklearn.impute import SimpleImputer\n",
    "from sklearn.preprocessing import OneHotEncoder, StandardScaler\n",
    "from sklearn.compose import ColumnTransformer\n",
    "from sklearn.pipeline import Pipeline\n",
    "from sklearn.linear_model import SGDClassifier\n",
    "\n",
    "categorical_cols = ['posa_continent','hotel_continent','channel','is_package','is_mobile']\n",
    "numeric_cols = [c for c in X_train_lr.columns if c not in categorical_cols]\n",
    "\n",
    "pre = ColumnTransformer(\n",
    "    [\n",
    "        ('cat', Pipeline([\n",
    "            ('imp', SimpleImputer(strategy='most_frequent')),\n",
    "            ('ohe', OneHotEncoder(handle_unknown='ignore',\n",
    "                                  sparse_output=True,\n",
    "                                  dtype='float32'))\n",
    "        ]), categorical_cols),\n",
    "        ('num', Pipeline([\n",
    "            ('imp', SimpleImputer(strategy='median')),\n",
    "            ('sc', StandardScaler(with_mean=False))\n",
    "        ]), numeric_cols),\n",
    "    ],\n",
    "    remainder='drop'\n",
    ")\n",
    "\n",
    "sgd_logreg = SGDClassifier(\n",
    "    loss='log_loss',     # logistic regression\n",
    "    penalty='l2',\n",
    "    alpha=1e-4,\n",
    "    early_stopping=True, # fast + prevents overfitting\n",
    "    n_iter_no_change=3,\n",
    "    max_iter=1000,\n",
    "    tol=1e-3,\n",
    "    random_state=42\n",
    ")\n",
    "\n"
   ]
  },
  {
   "cell_type": "code",
   "execution_count": null,
   "metadata": {},
   "outputs": [
    {
     "data": {
      "text/html": [
       "<style>#sk-container-id-4 {color: black;background-color: white;}#sk-container-id-4 pre{padding: 0;}#sk-container-id-4 div.sk-toggleable {background-color: white;}#sk-container-id-4 label.sk-toggleable__label {cursor: pointer;display: block;width: 100%;margin-bottom: 0;padding: 0.3em;box-sizing: border-box;text-align: center;}#sk-container-id-4 label.sk-toggleable__label-arrow:before {content: \"▸\";float: left;margin-right: 0.25em;color: #696969;}#sk-container-id-4 label.sk-toggleable__label-arrow:hover:before {color: black;}#sk-container-id-4 div.sk-estimator:hover label.sk-toggleable__label-arrow:before {color: black;}#sk-container-id-4 div.sk-toggleable__content {max-height: 0;max-width: 0;overflow: hidden;text-align: left;background-color: #f0f8ff;}#sk-container-id-4 div.sk-toggleable__content pre {margin: 0.2em;color: black;border-radius: 0.25em;background-color: #f0f8ff;}#sk-container-id-4 input.sk-toggleable__control:checked~div.sk-toggleable__content {max-height: 200px;max-width: 100%;overflow: auto;}#sk-container-id-4 input.sk-toggleable__control:checked~label.sk-toggleable__label-arrow:before {content: \"▾\";}#sk-container-id-4 div.sk-estimator input.sk-toggleable__control:checked~label.sk-toggleable__label {background-color: #d4ebff;}#sk-container-id-4 div.sk-label input.sk-toggleable__control:checked~label.sk-toggleable__label {background-color: #d4ebff;}#sk-container-id-4 input.sk-hidden--visually {border: 0;clip: rect(1px 1px 1px 1px);clip: rect(1px, 1px, 1px, 1px);height: 1px;margin: -1px;overflow: hidden;padding: 0;position: absolute;width: 1px;}#sk-container-id-4 div.sk-estimator {font-family: monospace;background-color: #f0f8ff;border: 1px dotted black;border-radius: 0.25em;box-sizing: border-box;margin-bottom: 0.5em;}#sk-container-id-4 div.sk-estimator:hover {background-color: #d4ebff;}#sk-container-id-4 div.sk-parallel-item::after {content: \"\";width: 100%;border-bottom: 1px solid gray;flex-grow: 1;}#sk-container-id-4 div.sk-label:hover label.sk-toggleable__label {background-color: #d4ebff;}#sk-container-id-4 div.sk-serial::before {content: \"\";position: absolute;border-left: 1px solid gray;box-sizing: border-box;top: 0;bottom: 0;left: 50%;z-index: 0;}#sk-container-id-4 div.sk-serial {display: flex;flex-direction: column;align-items: center;background-color: white;padding-right: 0.2em;padding-left: 0.2em;position: relative;}#sk-container-id-4 div.sk-item {position: relative;z-index: 1;}#sk-container-id-4 div.sk-parallel {display: flex;align-items: stretch;justify-content: center;background-color: white;position: relative;}#sk-container-id-4 div.sk-item::before, #sk-container-id-4 div.sk-parallel-item::before {content: \"\";position: absolute;border-left: 1px solid gray;box-sizing: border-box;top: 0;bottom: 0;left: 50%;z-index: -1;}#sk-container-id-4 div.sk-parallel-item {display: flex;flex-direction: column;z-index: 1;position: relative;background-color: white;}#sk-container-id-4 div.sk-parallel-item:first-child::after {align-self: flex-end;width: 50%;}#sk-container-id-4 div.sk-parallel-item:last-child::after {align-self: flex-start;width: 50%;}#sk-container-id-4 div.sk-parallel-item:only-child::after {width: 0;}#sk-container-id-4 div.sk-dashed-wrapped {border: 1px dashed gray;margin: 0 0.4em 0.5em 0.4em;box-sizing: border-box;padding-bottom: 0.4em;background-color: white;}#sk-container-id-4 div.sk-label label {font-family: monospace;font-weight: bold;display: inline-block;line-height: 1.2em;}#sk-container-id-4 div.sk-label-container {text-align: center;}#sk-container-id-4 div.sk-container {/* jupyter's `normalize.less` sets `[hidden] { display: none; }` but bootstrap.min.css set `[hidden] { display: none !important; }` so we also need the `!important` here to be able to override the default hidden behavior on the sphinx rendered scikit-learn.org. See: https://github.com/scikit-learn/scikit-learn/issues/21755 */display: inline-block !important;position: relative;}#sk-container-id-4 div.sk-text-repr-fallback {display: none;}</style><div id=\"sk-container-id-4\" class=\"sk-top-container\"><div class=\"sk-text-repr-fallback\"><pre>Pipeline(steps=[(&#x27;pre&#x27;,\n",
       "                 ColumnTransformer(transformers=[(&#x27;cat&#x27;,\n",
       "                                                  Pipeline(steps=[(&#x27;imp&#x27;,\n",
       "                                                                   SimpleImputer(strategy=&#x27;most_frequent&#x27;)),\n",
       "                                                                  (&#x27;ohe&#x27;,\n",
       "                                                                   OneHotEncoder(dtype=&#x27;float32&#x27;,\n",
       "                                                                                 handle_unknown=&#x27;ignore&#x27;))]),\n",
       "                                                  [&#x27;posa_continent&#x27;,\n",
       "                                                   &#x27;hotel_continent&#x27;, &#x27;channel&#x27;,\n",
       "                                                   &#x27;is_package&#x27;, &#x27;is_mobile&#x27;]),\n",
       "                                                 (&#x27;num&#x27;,\n",
       "                                                  Pipeline(steps=[(&#x27;imp&#x27;,\n",
       "                                                                   SimpleImputer(strategy=&#x27;median&#x27;)),\n",
       "                                                                  (&#x27;sc&#x27;,\n",
       "                                                                   StandardScaler(with_mean=False))]),\n",
       "                                                  [&#x27;site_name&#x27;,\n",
       "                                                   &#x27;user_location_country&#x27;,\n",
       "                                                   &#x27;user_location_region&#x27;,\n",
       "                                                   &#x27;user_location_city&#x27;,\n",
       "                                                   &#x27;orig_destination_distance&#x27;,\n",
       "                                                   &#x27;srch_adults_cnt&#x27;,\n",
       "                                                   &#x27;srch_children_cnt&#x27;,\n",
       "                                                   &#x27;srch_rm_cnt&#x27;,\n",
       "                                                   &#x27;length_of_stay&#x27;])])),\n",
       "                (&#x27;clf&#x27;,\n",
       "                 SGDClassifier(early_stopping=True, loss=&#x27;log_loss&#x27;,\n",
       "                               n_iter_no_change=3, random_state=42))])</pre><b>In a Jupyter environment, please rerun this cell to show the HTML representation or trust the notebook. <br />On GitHub, the HTML representation is unable to render, please try loading this page with nbviewer.org.</b></div><div class=\"sk-container\" hidden><div class=\"sk-item sk-dashed-wrapped\"><div class=\"sk-label-container\"><div class=\"sk-label sk-toggleable\"><input class=\"sk-toggleable__control sk-hidden--visually\" id=\"sk-estimator-id-4\" type=\"checkbox\" ><label for=\"sk-estimator-id-4\" class=\"sk-toggleable__label sk-toggleable__label-arrow\">Pipeline</label><div class=\"sk-toggleable__content\"><pre>Pipeline(steps=[(&#x27;pre&#x27;,\n",
       "                 ColumnTransformer(transformers=[(&#x27;cat&#x27;,\n",
       "                                                  Pipeline(steps=[(&#x27;imp&#x27;,\n",
       "                                                                   SimpleImputer(strategy=&#x27;most_frequent&#x27;)),\n",
       "                                                                  (&#x27;ohe&#x27;,\n",
       "                                                                   OneHotEncoder(dtype=&#x27;float32&#x27;,\n",
       "                                                                                 handle_unknown=&#x27;ignore&#x27;))]),\n",
       "                                                  [&#x27;posa_continent&#x27;,\n",
       "                                                   &#x27;hotel_continent&#x27;, &#x27;channel&#x27;,\n",
       "                                                   &#x27;is_package&#x27;, &#x27;is_mobile&#x27;]),\n",
       "                                                 (&#x27;num&#x27;,\n",
       "                                                  Pipeline(steps=[(&#x27;imp&#x27;,\n",
       "                                                                   SimpleImputer(strategy=&#x27;median&#x27;)),\n",
       "                                                                  (&#x27;sc&#x27;,\n",
       "                                                                   StandardScaler(with_mean=False))]),\n",
       "                                                  [&#x27;site_name&#x27;,\n",
       "                                                   &#x27;user_location_country&#x27;,\n",
       "                                                   &#x27;user_location_region&#x27;,\n",
       "                                                   &#x27;user_location_city&#x27;,\n",
       "                                                   &#x27;orig_destination_distance&#x27;,\n",
       "                                                   &#x27;srch_adults_cnt&#x27;,\n",
       "                                                   &#x27;srch_children_cnt&#x27;,\n",
       "                                                   &#x27;srch_rm_cnt&#x27;,\n",
       "                                                   &#x27;length_of_stay&#x27;])])),\n",
       "                (&#x27;clf&#x27;,\n",
       "                 SGDClassifier(early_stopping=True, loss=&#x27;log_loss&#x27;,\n",
       "                               n_iter_no_change=3, random_state=42))])</pre></div></div></div><div class=\"sk-serial\"><div class=\"sk-item sk-dashed-wrapped\"><div class=\"sk-label-container\"><div class=\"sk-label sk-toggleable\"><input class=\"sk-toggleable__control sk-hidden--visually\" id=\"sk-estimator-id-5\" type=\"checkbox\" ><label for=\"sk-estimator-id-5\" class=\"sk-toggleable__label sk-toggleable__label-arrow\">pre: ColumnTransformer</label><div class=\"sk-toggleable__content\"><pre>ColumnTransformer(transformers=[(&#x27;cat&#x27;,\n",
       "                                 Pipeline(steps=[(&#x27;imp&#x27;,\n",
       "                                                  SimpleImputer(strategy=&#x27;most_frequent&#x27;)),\n",
       "                                                 (&#x27;ohe&#x27;,\n",
       "                                                  OneHotEncoder(dtype=&#x27;float32&#x27;,\n",
       "                                                                handle_unknown=&#x27;ignore&#x27;))]),\n",
       "                                 [&#x27;posa_continent&#x27;, &#x27;hotel_continent&#x27;,\n",
       "                                  &#x27;channel&#x27;, &#x27;is_package&#x27;, &#x27;is_mobile&#x27;]),\n",
       "                                (&#x27;num&#x27;,\n",
       "                                 Pipeline(steps=[(&#x27;imp&#x27;,\n",
       "                                                  SimpleImputer(strategy=&#x27;median&#x27;)),\n",
       "                                                 (&#x27;sc&#x27;,\n",
       "                                                  StandardScaler(with_mean=False))]),\n",
       "                                 [&#x27;site_name&#x27;, &#x27;user_location_country&#x27;,\n",
       "                                  &#x27;user_location_region&#x27;, &#x27;user_location_city&#x27;,\n",
       "                                  &#x27;orig_destination_distance&#x27;,\n",
       "                                  &#x27;srch_adults_cnt&#x27;, &#x27;srch_children_cnt&#x27;,\n",
       "                                  &#x27;srch_rm_cnt&#x27;, &#x27;length_of_stay&#x27;])])</pre></div></div></div><div class=\"sk-parallel\"><div class=\"sk-parallel-item\"><div class=\"sk-item\"><div class=\"sk-label-container\"><div class=\"sk-label sk-toggleable\"><input class=\"sk-toggleable__control sk-hidden--visually\" id=\"sk-estimator-id-6\" type=\"checkbox\" ><label for=\"sk-estimator-id-6\" class=\"sk-toggleable__label sk-toggleable__label-arrow\">cat</label><div class=\"sk-toggleable__content\"><pre>[&#x27;posa_continent&#x27;, &#x27;hotel_continent&#x27;, &#x27;channel&#x27;, &#x27;is_package&#x27;, &#x27;is_mobile&#x27;]</pre></div></div></div><div class=\"sk-serial\"><div class=\"sk-item\"><div class=\"sk-serial\"><div class=\"sk-item\"><div class=\"sk-estimator sk-toggleable\"><input class=\"sk-toggleable__control sk-hidden--visually\" id=\"sk-estimator-id-7\" type=\"checkbox\" ><label for=\"sk-estimator-id-7\" class=\"sk-toggleable__label sk-toggleable__label-arrow\">SimpleImputer</label><div class=\"sk-toggleable__content\"><pre>SimpleImputer(strategy=&#x27;most_frequent&#x27;)</pre></div></div></div><div class=\"sk-item\"><div class=\"sk-estimator sk-toggleable\"><input class=\"sk-toggleable__control sk-hidden--visually\" id=\"sk-estimator-id-8\" type=\"checkbox\" ><label for=\"sk-estimator-id-8\" class=\"sk-toggleable__label sk-toggleable__label-arrow\">OneHotEncoder</label><div class=\"sk-toggleable__content\"><pre>OneHotEncoder(dtype=&#x27;float32&#x27;, handle_unknown=&#x27;ignore&#x27;)</pre></div></div></div></div></div></div></div></div><div class=\"sk-parallel-item\"><div class=\"sk-item\"><div class=\"sk-label-container\"><div class=\"sk-label sk-toggleable\"><input class=\"sk-toggleable__control sk-hidden--visually\" id=\"sk-estimator-id-9\" type=\"checkbox\" ><label for=\"sk-estimator-id-9\" class=\"sk-toggleable__label sk-toggleable__label-arrow\">num</label><div class=\"sk-toggleable__content\"><pre>[&#x27;site_name&#x27;, &#x27;user_location_country&#x27;, &#x27;user_location_region&#x27;, &#x27;user_location_city&#x27;, &#x27;orig_destination_distance&#x27;, &#x27;srch_adults_cnt&#x27;, &#x27;srch_children_cnt&#x27;, &#x27;srch_rm_cnt&#x27;, &#x27;length_of_stay&#x27;]</pre></div></div></div><div class=\"sk-serial\"><div class=\"sk-item\"><div class=\"sk-serial\"><div class=\"sk-item\"><div class=\"sk-estimator sk-toggleable\"><input class=\"sk-toggleable__control sk-hidden--visually\" id=\"sk-estimator-id-10\" type=\"checkbox\" ><label for=\"sk-estimator-id-10\" class=\"sk-toggleable__label sk-toggleable__label-arrow\">SimpleImputer</label><div class=\"sk-toggleable__content\"><pre>SimpleImputer(strategy=&#x27;median&#x27;)</pre></div></div></div><div class=\"sk-item\"><div class=\"sk-estimator sk-toggleable\"><input class=\"sk-toggleable__control sk-hidden--visually\" id=\"sk-estimator-id-11\" type=\"checkbox\" ><label for=\"sk-estimator-id-11\" class=\"sk-toggleable__label sk-toggleable__label-arrow\">StandardScaler</label><div class=\"sk-toggleable__content\"><pre>StandardScaler(with_mean=False)</pre></div></div></div></div></div></div></div></div></div></div><div class=\"sk-item\"><div class=\"sk-estimator sk-toggleable\"><input class=\"sk-toggleable__control sk-hidden--visually\" id=\"sk-estimator-id-12\" type=\"checkbox\" ><label for=\"sk-estimator-id-12\" class=\"sk-toggleable__label sk-toggleable__label-arrow\">SGDClassifier</label><div class=\"sk-toggleable__content\"><pre>SGDClassifier(early_stopping=True, loss=&#x27;log_loss&#x27;, n_iter_no_change=3,\n",
       "              random_state=42)</pre></div></div></div></div></div></div></div>"
      ],
      "text/plain": [
       "Pipeline(steps=[('pre',\n",
       "                 ColumnTransformer(transformers=[('cat',\n",
       "                                                  Pipeline(steps=[('imp',\n",
       "                                                                   SimpleImputer(strategy='most_frequent')),\n",
       "                                                                  ('ohe',\n",
       "                                                                   OneHotEncoder(dtype='float32',\n",
       "                                                                                 handle_unknown='ignore'))]),\n",
       "                                                  ['posa_continent',\n",
       "                                                   'hotel_continent', 'channel',\n",
       "                                                   'is_package', 'is_mobile']),\n",
       "                                                 ('num',\n",
       "                                                  Pipeline(steps=[('imp',\n",
       "                                                                   SimpleImputer(strategy='median')),\n",
       "                                                                  ('sc',\n",
       "                                                                   StandardScaler(with_mean=False))]),\n",
       "                                                  ['site_name',\n",
       "                                                   'user_location_country',\n",
       "                                                   'user_location_region',\n",
       "                                                   'user_location_city',\n",
       "                                                   'orig_destination_distance',\n",
       "                                                   'srch_adults_cnt',\n",
       "                                                   'srch_children_cnt',\n",
       "                                                   'srch_rm_cnt',\n",
       "                                                   'length_of_stay'])])),\n",
       "                ('clf',\n",
       "                 SGDClassifier(early_stopping=True, loss='log_loss',\n",
       "                               n_iter_no_change=3, random_state=42))])"
      ]
     },
     "execution_count": 55,
     "metadata": {},
     "output_type": "execute_result"
    }
   ],
   "source": [
    "# Fitting the pipeline\n",
    "pipe = Pipeline([('pre', pre), ('clf', sgd_logreg)])\n",
    "pipe.fit(X_train_lr, y_train)"
   ]
  },
  {
   "cell_type": "code",
   "execution_count": 56,
   "metadata": {},
   "outputs": [
    {
     "name": "stdout",
     "output_type": "stream",
     "text": [
      "Accuracy: 0.06852\n"
     ]
    }
   ],
   "source": [
    "from sklearn.metrics import accuracy_score\n",
    "\n",
    "y_pred = pipe.predict(X_test_lr)\n",
    "print(\"Accuracy:\", accuracy_score(y_test, y_pred))\n"
   ]
  },
  {
   "cell_type": "markdown",
   "metadata": {},
   "source": [
    "#### Introducing top 5 accuracy in logistic regression"
   ]
  },
  {
   "cell_type": "code",
   "execution_count": 57,
   "metadata": {},
   "outputs": [
    {
     "name": "stdout",
     "output_type": "stream",
     "text": [
      "Top-5 Accuracy: 0.23025\n"
     ]
    }
   ],
   "source": [
    "import numpy as np\n",
    "\n",
    "def softmax(z):\n",
    "    z = z - z.max(axis=1, keepdims=True)\n",
    "    return np.exp(z) / np.exp(z).sum(axis=1, keepdims=True)\n",
    "\n",
    "# Try predict_proba; if unavailable, fall back to decision_function + softmax\n",
    "try:\n",
    "    proba = pipe.predict_proba(X_test_lr)\n",
    "except AttributeError:\n",
    "    scores = pipe.decision_function(X_test_lr)   # shape: [n_samples, n_classes]\n",
    "    proba = softmax(scores)\n",
    "\n",
    "top5_idx = np.argsort(proba, axis=1)[:, -5:]     # indices of top-5 classes\n",
    "top5_hit = np.fromiter((yt in row for yt, row in zip(y_test, top5_idx)), bool)\n",
    "print(\"Top-5 Accuracy:\", top5_hit.mean())\n"
   ]
  },
  {
   "cell_type": "markdown",
   "metadata": {},
   "source": [
    "## Focusing on Classification model"
   ]
  },
  {
   "cell_type": "code",
   "execution_count": 20,
   "metadata": {},
   "outputs": [
    {
     "name": "stdout",
     "output_type": "stream",
     "text": [
      "Top-1 Accuracy: 0.09282\n",
      "Top-5 Accuracy: 0.28971\n"
     ]
    }
   ],
   "source": [
    "# Random Forest with Top-5 Accuracy (Baseline)\n",
    "from sklearn.ensemble import RandomForestClassifier\n",
    "from sklearn.metrics import accuracy_score, classification_report\n",
    "import numpy as np\n",
    "\n",
    "# Drop irrelevant / leakage columns\n",
    "drop_cols = [\n",
    "    'date_time', 'srch_ci', 'srch_co',\n",
    "    'cnt', 'is_booking', 'user_id',\n",
    "    'srch_destination_id', 'srch_destination_type_id',\n",
    "    'hotel_country', 'hotel_market'\n",
    "]\n",
    "\n",
    "X_train_rf = X_train.drop(columns=drop_cols).fillna(-1)\n",
    "X_test_rf  = X_test.drop(columns=drop_cols).fillna(-1)\n",
    "\n",
    "# Random Forest\n",
    "rf = RandomForestClassifier(\n",
    "    n_estimators=100,\n",
    "    max_depth=15,\n",
    "    random_state=42,\n",
    "    n_jobs=-1\n",
    ")\n",
    "rf.fit(X_train_rf, y_train)\n",
    "\n",
    "# Predictions\n",
    "y_pred = rf.predict(X_test_rf)\n",
    "print(\"Top-1 Accuracy:\", accuracy_score(y_test, y_pred))\n",
    "\n",
    "# --- Top-5 Accuracy ---\n",
    "proba = rf.predict_proba(X_test_rf)\n",
    "top5 = np.argsort(proba, axis=1)[:, -5:]\n",
    "top5_acc = np.mean([y in row for y, row in zip(y_test, top5)])\n",
    "print(\"Top-5 Accuracy:\", top5_acc)\n"
   ]
  },
  {
   "cell_type": "markdown",
   "metadata": {},
   "source": [
    "### Feature Engineering"
   ]
  },
  {
   "cell_type": "code",
   "execution_count": 21,
   "metadata": {},
   "outputs": [],
   "source": [
    "# Fill missing numerical values with median\n",
    "X_train['orig_destination_distance'].fillna(X_train['orig_destination_distance'].median(), inplace=True)\n",
    "X_test['orig_destination_distance'].fillna(X_train['orig_destination_distance'].median(), inplace=True)"
   ]
  },
  {
   "cell_type": "code",
   "execution_count": 22,
   "metadata": {},
   "outputs": [],
   "source": [
    "# Apply log-transform to orig_destination_distance\n",
    "X_train['orig_destination_distance'] = np.log1p(X_train['orig_destination_distance'])\n",
    "X_test['orig_destination_distance'] = np.log1p(X_test['orig_destination_distance'])"
   ]
  },
  {
   "cell_type": "markdown",
   "metadata": {},
   "source": [
    "#### Introducing 4 new features"
   ]
  },
  {
   "cell_type": "code",
   "execution_count": 23,
   "metadata": {},
   "outputs": [],
   "source": [
    "# ensure datetime (won’t hurt if already done)\n",
    "for df_ in (X_train, X_test):\n",
    "    df_['srch_ci'] = pd.to_datetime(df_['srch_ci'], errors='coerce')\n",
    "    df_['date_time'] = pd.to_datetime(df_['date_time'], errors='coerce')\n",
    "\n",
    "# 1) month of check-in  2) weekday of check-in  3) was the search on weekend?  4) days between search and check-in\n",
    "for df_ in (X_train, X_test):\n",
    "    df_['checkin_month'] = df_['srch_ci'].dt.month.fillna(-1).astype('int16')\n",
    "    df_['checkin_weekday'] = df_['srch_ci'].dt.weekday.fillna(-1).astype('int8')\n",
    "    df_['is_weekend'] = df_['date_time'].dt.weekday.ge(5).fillna(False).astype('int8')\n",
    "    df_['advance_days'] = (df_['srch_ci'] - df_['date_time']).dt.days\n",
    "    df_['advance_days'] = df_['advance_days'].fillna(-1).clip(lower=-1).astype('int16')\n"
   ]
  },
  {
   "cell_type": "code",
   "execution_count": 24,
   "metadata": {},
   "outputs": [
    {
     "data": {
      "application/vnd.microsoft.datawrangler.viewer.v0+json": {
       "columns": [
        {
         "name": "index",
         "rawType": "int64",
         "type": "integer"
        },
        {
         "name": "checkin_month",
         "rawType": "int16",
         "type": "integer"
        },
        {
         "name": "checkin_weekday",
         "rawType": "int8",
         "type": "integer"
        },
        {
         "name": "is_weekend",
         "rawType": "int8",
         "type": "integer"
        },
        {
         "name": "advance_days",
         "rawType": "int16",
         "type": "integer"
        }
       ],
       "ref": "db8594cc-4b51-4727-bb14-156032db1e01",
       "rows": [
        [
         "275825",
         "7",
         "3",
         "0",
         "23"
        ],
        [
         "442208",
         "5",
         "3",
         "0",
         "-1"
        ],
        [
         "844070",
         "2",
         "2",
         "0",
         "14"
        ],
        [
         "815699",
         "5",
         "6",
         "1",
         "20"
        ],
        [
         "129347",
         "5",
         "6",
         "1",
         "34"
        ]
       ],
       "shape": {
        "columns": 4,
        "rows": 5
       }
      },
      "text/html": [
       "<div>\n",
       "<style scoped>\n",
       "    .dataframe tbody tr th:only-of-type {\n",
       "        vertical-align: middle;\n",
       "    }\n",
       "\n",
       "    .dataframe tbody tr th {\n",
       "        vertical-align: top;\n",
       "    }\n",
       "\n",
       "    .dataframe thead th {\n",
       "        text-align: right;\n",
       "    }\n",
       "</style>\n",
       "<table border=\"1\" class=\"dataframe\">\n",
       "  <thead>\n",
       "    <tr style=\"text-align: right;\">\n",
       "      <th></th>\n",
       "      <th>checkin_month</th>\n",
       "      <th>checkin_weekday</th>\n",
       "      <th>is_weekend</th>\n",
       "      <th>advance_days</th>\n",
       "    </tr>\n",
       "  </thead>\n",
       "  <tbody>\n",
       "    <tr>\n",
       "      <th>275825</th>\n",
       "      <td>7</td>\n",
       "      <td>3</td>\n",
       "      <td>0</td>\n",
       "      <td>23</td>\n",
       "    </tr>\n",
       "    <tr>\n",
       "      <th>442208</th>\n",
       "      <td>5</td>\n",
       "      <td>3</td>\n",
       "      <td>0</td>\n",
       "      <td>-1</td>\n",
       "    </tr>\n",
       "    <tr>\n",
       "      <th>844070</th>\n",
       "      <td>2</td>\n",
       "      <td>2</td>\n",
       "      <td>0</td>\n",
       "      <td>14</td>\n",
       "    </tr>\n",
       "    <tr>\n",
       "      <th>815699</th>\n",
       "      <td>5</td>\n",
       "      <td>6</td>\n",
       "      <td>1</td>\n",
       "      <td>20</td>\n",
       "    </tr>\n",
       "    <tr>\n",
       "      <th>129347</th>\n",
       "      <td>5</td>\n",
       "      <td>6</td>\n",
       "      <td>1</td>\n",
       "      <td>34</td>\n",
       "    </tr>\n",
       "  </tbody>\n",
       "</table>\n",
       "</div>"
      ],
      "text/plain": [
       "        checkin_month  checkin_weekday  is_weekend  advance_days\n",
       "275825              7                3           0            23\n",
       "442208              5                3           0            -1\n",
       "844070              2                2           0            14\n",
       "815699              5                6           1            20\n",
       "129347              5                6           1            34"
      ]
     },
     "execution_count": 24,
     "metadata": {},
     "output_type": "execute_result"
    }
   ],
   "source": [
    "# Preview the new features\n",
    "X_train[['checkin_month','checkin_weekday','is_weekend','advance_days']].head()\n"
   ]
  },
  {
   "cell_type": "markdown",
   "metadata": {},
   "source": [
    "### Retraining model after Feature Engg"
   ]
  },
  {
   "cell_type": "code",
   "execution_count": 25,
   "metadata": {},
   "outputs": [
    {
     "name": "stdout",
     "output_type": "stream",
     "text": [
      "Top-1 Accuracy: 0.16604\n",
      "Top-5 Accuracy: 0.46213\n"
     ]
    }
   ],
   "source": [
    "import pandas as pd\n",
    "from sklearn.ensemble import RandomForestClassifier\n",
    "from sklearn.metrics import accuracy_score, top_k_accuracy_score\n",
    "\n",
    "# 1) Drop raw datetime columns (we've already derived features from them)\n",
    "for df_ in (X_train, X_test):\n",
    "    for c in ['srch_ci', 'srch_co', 'date_time']:\n",
    "        if c in df_.columns:\n",
    "            df_.drop(columns=c, inplace=True)\n",
    "\n",
    "# 2) Encode any remaining object/string columns to integers (simple + safe for trees)\n",
    "cat_cols = X_train.select_dtypes(include=['object']).columns\n",
    "for col in cat_cols:\n",
    "    # make one mapping from TRAIN values; unseen in test -> -1\n",
    "    mapping = {v: i for i, v in enumerate(X_train[col].astype(str).unique())}\n",
    "    X_train[col] = X_train[col].astype(str).map(mapping).fillna(-1).astype('int32')\n",
    "    X_test[col]  = X_test[col].astype(str).map(mapping).fillna(-1).astype('int32')\n",
    "\n",
    "# 3) Fit + evaluate\n",
    "rf = RandomForestClassifier(\n",
    "    n_estimators=100,\n",
    "    max_depth=15,\n",
    "    random_state=42,\n",
    "    n_jobs=-1\n",
    ")\n",
    "rf.fit(X_train, y_train)\n",
    "\n",
    "y_pred = rf.predict(X_test)\n",
    "y_proba = rf.predict_proba(X_test)\n",
    "\n",
    "top1 = accuracy_score(y_test, y_pred)\n",
    "top5 = top_k_accuracy_score(y_test, y_proba, k=5)\n",
    "\n",
    "print(\"Top-1 Accuracy:\", top1)\n",
    "print(\"Top-5 Accuracy:\", top5)\n"
   ]
  },
  {
   "cell_type": "markdown",
   "metadata": {},
   "source": [
    "### Handling Categorical Features\n",
    "- Frequency encoding (For high cardinality columns like user_location_city)\n",
    "- One-hot for low cardinality features (channel)\n",
    "- Gradient Boosting (HGB)"
   ]
  },
  {
   "cell_type": "code",
   "execution_count": 26,
   "metadata": {},
   "outputs": [
    {
     "name": "stdout",
     "output_type": "stream",
     "text": [
      "Freq-enc added: ['user_location_city_freq', 'user_location_region_freq', 'hotel_market_freq']\n"
     ]
    }
   ],
   "source": [
    "import numpy as np, pandas as pd, gc\n",
    "\n",
    "high_card_cols = [c for c in ['user_location_city','user_location_region','hotel_market'] if c in X_train.columns]\n",
    "\n",
    "# drop old freq cols if you re-run\n",
    "for col in high_card_cols:\n",
    "    for df_ in (X_train, X_test):\n",
    "        if col + '_freq' in df_.columns:\n",
    "            df_.drop(columns=col + '_freq', inplace=True)\n",
    "\n",
    "# compute counts on TRAIN only; map to both\n",
    "for col in high_card_cols:\n",
    "    vc = X_train[col].value_counts()\n",
    "    X_train[col + '_freq'] = X_train[col].map(vc).fillna(0).astype('int32')\n",
    "    X_test[col + '_freq']  = X_test[col].map(vc).fillna(0).astype('int32')\n",
    "\n",
    "gc.collect()\n",
    "print(\"Freq-enc added:\", [c+'_freq' for c in high_card_cols])\n"
   ]
  },
  {
   "cell_type": "code",
   "execution_count": 27,
   "metadata": {},
   "outputs": [
    {
     "name": "stdout",
     "output_type": "stream",
     "text": [
      "Dummies done. Shapes: (800000, 38) (200000, 38)\n"
     ]
    }
   ],
   "source": [
    "low_card = [c for c in ['channel'] if c in X_train.columns]\n",
    "if low_card:\n",
    "    X_train = pd.get_dummies(X_train, columns=low_card, dtype='int8')\n",
    "    X_test  = pd.get_dummies(X_test,  columns=low_card, dtype='int8')\n",
    "    # align test columns to train\n",
    "    X_test = X_test.reindex(columns=X_train.columns, fill_value=0)\n",
    "\n",
    "gc.collect()\n",
    "print(\"Dummies done. Shapes:\", X_train.shape, X_test.shape)\n"
   ]
  },
  {
   "cell_type": "code",
   "execution_count": 28,
   "metadata": {},
   "outputs": [
    {
     "name": "stdout",
     "output_type": "stream",
     "text": [
      "Downcast complete.\n"
     ]
    }
   ],
   "source": [
    "# replace inf, fill NaNs; then downcast big dtypes\n",
    "for df_ in (X_train, X_test):\n",
    "    df_.replace([np.inf, -np.inf], np.nan, inplace=True)\n",
    "    df_.fillna(-1, inplace=True)\n",
    "\n",
    "# downcast float64 -> float32, int64 -> int32\n",
    "float_cols = X_train.select_dtypes(include=['float64']).columns\n",
    "int_cols   = X_train.select_dtypes(include=['int64']).columns\n",
    "X_train[float_cols] = X_train[float_cols].astype('float32')\n",
    "X_test[float_cols]  = X_test[float_cols].astype('float32')\n",
    "X_train[int_cols]   = X_train[int_cols].astype('int32')\n",
    "X_test[int_cols]    = X_test[int_cols].astype('int32')\n",
    "\n",
    "gc.collect()\n",
    "print(\"Downcast complete.\")\n"
   ]
  },
  {
   "cell_type": "code",
   "execution_count": 29,
   "metadata": {},
   "outputs": [
    {
     "name": "stdout",
     "output_type": "stream",
     "text": [
      "[RF ] Top-1: 0.20203 | Top-5: 0.51397\n"
     ]
    }
   ],
   "source": [
    "from sklearn.ensemble import RandomForestClassifier\n",
    "from sklearn.metrics import accuracy_score, top_k_accuracy_score\n",
    "\n",
    "rf = RandomForestClassifier(\n",
    "    n_estimators=150,     # lighter than 400 for RAM\n",
    "    max_depth=20,        # cap depth to control size\n",
    "    min_samples_leaf=2,\n",
    "    max_features='sqrt',\n",
    "    bootstrap=True,\n",
    "    random_state=42,\n",
    "    n_jobs=-1\n",
    ")\n",
    "rf.fit(X_train, y_train)\n",
    "\n",
    "y_pred = rf.predict(X_test)\n",
    "y_proba = rf.predict_proba(X_test)\n",
    "\n",
    "rf_top1 = accuracy_score(y_test, y_pred)\n",
    "rf_top5 = top_k_accuracy_score(y_test, y_proba, k=5)\n",
    "print(f\"[RF ] Top-1: {rf_top1:.5f} | Top-5: {rf_top5:.5f}\")\n"
   ]
  },
  {
   "cell_type": "code",
   "execution_count": 30,
   "metadata": {},
   "outputs": [
    {
     "name": "stdout",
     "output_type": "stream",
     "text": [
      "Added: ['user_location_city_freq_log', 'user_location_region_freq_log', 'hotel_market_freq_log']\n"
     ]
    }
   ],
   "source": [
    "import numpy as np\n",
    "\n",
    "# whichever you created earlier\n",
    "high_card_cols = [c for c in ['user_location_city','user_location_region','hotel_market'] if c in X_train.columns]\n",
    "\n",
    "# add log1p of *_freq\n",
    "for col in high_card_cols:\n",
    "    fcol = col + '_freq'\n",
    "    if fcol in X_train.columns:\n",
    "        X_train[fcol + '_log'] = np.log1p(X_train[fcol]).astype('float32')\n",
    "        X_test[fcol + '_log']  = np.log1p(X_test[fcol]).astype('float32')\n",
    "\n",
    "print(\"Added:\", [c+'_freq_log' for c in high_card_cols])\n"
   ]
  },
  {
   "cell_type": "code",
   "execution_count": 31,
   "metadata": {},
   "outputs": [
    {
     "name": "stdout",
     "output_type": "stream",
     "text": [
      "OOB score (rough): 0.22565625\n",
      "[RF ] Top-1: 0.22897 | Top-5: 0.54304\n"
     ]
    }
   ],
   "source": [
    "from sklearn.ensemble import RandomForestClassifier\n",
    "from sklearn.metrics import accuracy_score, top_k_accuracy_score\n",
    "\n",
    "rf = RandomForestClassifier(\n",
    "    n_estimators=300,     # up from 150\n",
    "    max_depth=24,        # still capped to control size\n",
    "    min_samples_leaf=2,\n",
    "    max_features='sqrt',\n",
    "    bootstrap=True,\n",
    "    oob_score=True,      # quick overfit sanity check\n",
    "    random_state=42,\n",
    "    n_jobs=-1\n",
    ")\n",
    "rf.fit(X_train, y_train)\n",
    "\n",
    "y_pred = rf.predict(X_test)\n",
    "y_proba = rf.predict_proba(X_test)\n",
    "\n",
    "print(\"OOB score (rough):\", getattr(rf, \"oob_score_\", None))\n",
    "print(f\"[RF ] Top-1: {accuracy_score(y_test, y_pred):.5f} | Top-5: {top_k_accuracy_score(y_test, y_proba, k=5):.5f}\")\n"
   ]
  },
  {
   "cell_type": "markdown",
   "metadata": {},
   "source": [
    "### More features and trying to make classes balanced"
   ]
  },
  {
   "cell_type": "code",
   "execution_count": 33,
   "metadata": {},
   "outputs": [
    {
     "name": "stdout",
     "output_type": "stream",
     "text": [
      "Added: total_guests, has_children, rooms_per_guest\n"
     ]
    }
   ],
   "source": [
    "import numpy as np, pandas as pd, gc\n",
    "\n",
    "for df_ in (X_train, X_test):\n",
    "    # total guests\n",
    "    if 'total_guests' not in df_.columns and {'srch_adults_cnt','srch_children_cnt'}.issubset(df_.columns):\n",
    "        df_['total_guests'] = (df_['srch_adults_cnt'] + df_['srch_children_cnt']).astype('int16')\n",
    "\n",
    "    # has children flag\n",
    "    if 'has_children' not in df_.columns and 'srch_children_cnt' in df_.columns:\n",
    "        df_['has_children'] = (df_['srch_children_cnt'] > 0).astype('int8')\n",
    "\n",
    "    # rooms per guest (avoid div by zero)\n",
    "    if 'rooms_per_guest' not in df_.columns and {'srch_room_cnt','total_guests'}.issubset(df_.columns):\n",
    "        df_['rooms_per_guest'] = (df_['srch_room_cnt'] / df_['total_guests'].clip(lower=1)).astype('float32')\n",
    "\n",
    "# cleanliness\n",
    "for df_ in (X_train, X_test):\n",
    "    df_.replace([np.inf, -np.inf], np.nan, inplace=True)\n",
    "    df_.fillna(-1, inplace=True)\n",
    "\n",
    "gc.collect()\n",
    "print(\"Added: total_guests, has_children, rooms_per_guest\")\n"
   ]
  },
  {
   "cell_type": "code",
   "execution_count": 34,
   "metadata": {},
   "outputs": [
    {
     "name": "stdout",
     "output_type": "stream",
     "text": [
      "Added pair features: ['ct_user_hotel_country', 'ct_posa_hotel_cont', 'ct_market_month'] and their *_log versions\n"
     ]
    }
   ],
   "source": [
    "import gc\n",
    "\n",
    "def add_pair_count_feature(Xtr, Xte, keys, new_name):\n",
    "    g = Xtr.groupby(keys).size().rename(new_name)\n",
    "    # join keeps row order + is memory-safe\n",
    "    Xtr = Xtr.join(g, on=keys)\n",
    "    Xte = Xte.join(g, on=keys)\n",
    "    Xtr[new_name] = Xtr[new_name].fillna(0).astype('int32')\n",
    "    Xte[new_name] = Xte[new_name].fillna(0).astype('int32')\n",
    "    # also add log version (smoother scale)\n",
    "    Xtr[new_name + '_log'] = np.log1p(Xtr[new_name]).astype('float32')\n",
    "    Xte[new_name + '_log'] = np.log1p(Xte[new_name]).astype('float32')\n",
    "    return Xtr, Xte\n",
    "\n",
    "pairs = []\n",
    "if {'user_location_country','hotel_country'}.issubset(X_train.columns):\n",
    "    pairs.append((['user_location_country','hotel_country'], 'ct_user_hotel_country'))\n",
    "if {'posa_continent','hotel_continent'}.issubset(X_train.columns):\n",
    "    pairs.append((['posa_continent','hotel_continent'], 'ct_posa_hotel_cont'))\n",
    "if {'hotel_market','checkin_month'}.issubset(X_train.columns):\n",
    "    pairs.append((['hotel_market','checkin_month'], 'ct_market_month'))\n",
    "\n",
    "for keys, name in pairs:\n",
    "    X_train, X_test = add_pair_count_feature(X_train, X_test, keys, name)\n",
    "\n",
    "gc.collect()\n",
    "print(\"Added pair features:\", [name for _, name in pairs], \"and their *_log versions\")\n"
   ]
  },
  {
   "cell_type": "code",
   "execution_count": 35,
   "metadata": {},
   "outputs": [
    {
     "name": "stdout",
     "output_type": "stream",
     "text": [
      "[RF ] Top-1: 0.22662 | Top-5: 0.53526\n"
     ]
    },
    {
     "data": {
      "text/plain": [
       "72"
      ]
     },
     "execution_count": 35,
     "metadata": {},
     "output_type": "execute_result"
    }
   ],
   "source": [
    "from sklearn.ensemble import RandomForestClassifier\n",
    "from sklearn.metrics import accuracy_score, top_k_accuracy_score\n",
    "import gc\n",
    "\n",
    "rf = RandomForestClassifier(\n",
    "    n_estimators=320,        # a bit more capacity\n",
    "    max_depth=26,           # still capped to control memory\n",
    "    min_samples_leaf=2,\n",
    "    max_features='sqrt',\n",
    "    class_weight='balanced_subsample',  # helps with cluster imbalance\n",
    "    bootstrap=True,\n",
    "    random_state=42,\n",
    "    n_jobs=-1\n",
    ")\n",
    "rf.fit(X_train, y_train)\n",
    "\n",
    "y_pred  = rf.predict(X_test)\n",
    "y_proba = rf.predict_proba(X_test)\n",
    "\n",
    "print(f\"[RF ] Top-1: {accuracy_score(y_test, y_pred):.5f} | Top-5: {top_k_accuracy_score(y_test, y_proba, k=5):.5f}\")\n",
    "\n",
    "gc.collect()\n"
   ]
  },
  {
   "cell_type": "markdown",
   "metadata": {},
   "source": [
    "### Rolling back the pair features additions"
   ]
  },
  {
   "cell_type": "code",
   "execution_count": 36,
   "metadata": {},
   "outputs": [
    {
     "name": "stdout",
     "output_type": "stream",
     "text": [
      "OOB score: 0.22286625\n",
      "[RF-rollback] Top-1: 0.22589 | Top-5: 0.54056\n"
     ]
    }
   ],
   "source": [
    "from sklearn.ensemble import RandomForestClassifier\n",
    "from sklearn.metrics import accuracy_score, top_k_accuracy_score\n",
    "\n",
    "# drop only if present\n",
    "to_drop = [\n",
    "    'ct_user_hotel_country','ct_user_hotel_country_log',\n",
    "    'ct_posa_hotel_cont','ct_posa_hotel_cont_log',\n",
    "    'ct_market_month','ct_market_month_log'\n",
    "]\n",
    "for c in to_drop:\n",
    "    if c in X_train.columns:\n",
    "        X_train.drop(columns=c, inplace=True, errors='ignore')\n",
    "        X_test.drop(columns=c, inplace=True, errors='ignore')\n",
    "\n",
    "# same settings that gave you ~0.543 before\n",
    "rf = RandomForestClassifier(\n",
    "    n_estimators=300,\n",
    "    max_depth=24,\n",
    "    min_samples_leaf=2,\n",
    "    max_features='sqrt',\n",
    "    bootstrap=True,\n",
    "    oob_score=True,\n",
    "    random_state=42,\n",
    "    n_jobs=-1\n",
    ")\n",
    "rf.fit(X_train, y_train)\n",
    "y_pred  = rf.predict(X_test)\n",
    "y_proba = rf.predict_proba(X_test)\n",
    "print(\"OOB score:\", getattr(rf, \"oob_score_\", None))\n",
    "print(f\"[RF-rollback] Top-1: {accuracy_score(y_test, y_pred):.5f} | Top-5: {top_k_accuracy_score(y_test, y_proba, k=5):.5f}\")\n"
   ]
  },
  {
   "cell_type": "markdown",
   "metadata": {},
   "source": [
    "### I'm hitting diminishing returns for each improvement now. Will focus again on the features"
   ]
  },
  {
   "cell_type": "code",
   "execution_count": 32,
   "metadata": {},
   "outputs": [
    {
     "name": "stdout",
     "output_type": "stream",
     "text": [
      "Kept: 32 of 41\n"
     ]
    }
   ],
   "source": [
    "# Reducing columns by cumulative importance\n",
    "\n",
    "import numpy as np\n",
    "import pandas as pd\n",
    "\n",
    "imp = pd.Series(rf.feature_importances_, index=X_train.columns).sort_values(ascending=False)\n",
    "cum = (imp.cumsum() / imp.sum())\n",
    "keep_cols = cum[cum <= 0.99].index  # keep features that explain 99% of importance\n",
    "# fallback: always keep at least 25 features\n",
    "if len(keep_cols) < 25: keep_cols = imp.index[:25]\n",
    "\n",
    "Xtr = X_train[keep_cols]\n",
    "Xte = X_test[keep_cols]\n",
    "print(\"Kept:\", len(keep_cols), \"of\", len(imp))\n"
   ]
  },
  {
   "cell_type": "code",
   "execution_count": 33,
   "metadata": {},
   "outputs": [
    {
     "name": "stdout",
     "output_type": "stream",
     "text": [
      "Non-numeric cols: []\n"
     ]
    }
   ],
   "source": [
    "import numpy as np, gc\n",
    "\n",
    "# free old big objects if they exist\n",
    "for name in ['rf','rf_reduced','hgb','et','y_pred','y_proba']:\n",
    "    if name in globals(): del globals()[name]\n",
    "gc.collect()\n",
    "\n",
    "# safety: numeric only + compact dtypes\n",
    "for df_ in (Xtr, Xte):\n",
    "    df_.replace([np.inf, -np.inf], np.nan, inplace=True)\n",
    "    df_.fillna(-1, inplace=True)\n",
    "    for c in df_.select_dtypes('float64').columns: df_[c] = df_[c].astype('float32')\n",
    "    for c in df_.select_dtypes('int64').columns:   df_[c] = df_[c].astype('int32')\n",
    "\n",
    "# quick check: any object/datetime left?\n",
    "print(\"Non-numeric cols:\", list(Xtr.select_dtypes(include=['object','datetime64[ns]']).columns))\n"
   ]
  },
  {
   "cell_type": "code",
   "execution_count": 34,
   "metadata": {},
   "outputs": [
    {
     "name": "stdout",
     "output_type": "stream",
     "text": [
      "RF(reduced) trained.\n"
     ]
    }
   ],
   "source": [
    "from sklearn.ensemble import RandomForestClassifier\n",
    "\n",
    "rf_reduced = RandomForestClassifier(\n",
    "    n_estimators=220,     # lighter\n",
    "    max_depth=22,        # cap tree size\n",
    "    min_samples_leaf=2,\n",
    "    max_features='sqrt',\n",
    "    bootstrap=True,\n",
    "    max_samples=0.6,     # each tree uses 60% rows -> big RAM saver\n",
    "    random_state=42,\n",
    "    n_jobs=-1\n",
    ")\n",
    "rf_reduced.fit(Xtr, y_train)\n",
    "print(\"RF(reduced) trained.\")\n"
   ]
  },
  {
   "cell_type": "code",
   "execution_count": 35,
   "metadata": {},
   "outputs": [
    {
     "name": "stdout",
     "output_type": "stream",
     "text": [
      "Top-5: 0.536725\n"
     ]
    }
   ],
   "source": [
    "import numpy as np\n",
    "\n",
    "def top5_acc_batch(model, X, y, batch=40000):\n",
    "    classes = model.classes_\n",
    "    y_arr = np.asarray(y); n = len(y_arr); correct = 0\n",
    "    for i in range(0, n, batch):\n",
    "        proba = model.predict_proba(X.iloc[i:i+batch])\n",
    "        top5_idx = np.argpartition(proba, -5, axis=1)[:, -5:]\n",
    "        correct += (y_arr[i:i+batch].reshape(-1,1) == classes[top5_idx]).any(axis=1).sum()\n",
    "    return correct / n\n",
    "\n",
    "print(\"Top-5:\", top5_acc_batch(rf_reduced, Xte, y_test, batch=30000))\n"
   ]
  },
  {
   "cell_type": "code",
   "execution_count": 36,
   "metadata": {},
   "outputs": [
    {
     "name": "stdout",
     "output_type": "stream",
     "text": [
      "Top-5 : 0.536725\n",
      "Top-10: 0.714225\n"
     ]
    }
   ],
   "source": [
    "# Top 5 and Top 10\n",
    "import numpy as np\n",
    "\n",
    "def topk_multi_acc_batch(model, X, y, ks=(5, 10), batch=40000):\n",
    "    classes = model.classes_\n",
    "    y_arr = np.asarray(y)\n",
    "    n = len(y_arr)\n",
    "    correct = {k: 0 for k in ks}\n",
    "\n",
    "    for i in range(0, n, batch):\n",
    "        Xb = X.iloc[i:i+batch]\n",
    "        yb = y_arr[i:i+batch].reshape(-1, 1)\n",
    "        proba = model.predict_proba(Xb)  # compute once per batch\n",
    "\n",
    "        for k in ks:\n",
    "            k_eff = min(k, proba.shape[1])              # safety if k > #classes\n",
    "            idx = np.argpartition(proba, -k_eff, axis=1)[:, -k_eff:]\n",
    "            labels = classes[idx]\n",
    "            correct[k] += (yb == labels).any(axis=1).sum()\n",
    "\n",
    "    return {k: correct[k] / n for k in ks}\n",
    "\n",
    "accs = topk_multi_acc_batch(rf_reduced, Xte, y_test, ks=(5, 10), batch=30000)\n",
    "print(f\"Top-5 : {accs[5]:.6f}\")\n",
    "print(f\"Top-10: {accs[10]:.6f}\")\n"
   ]
  },
  {
   "cell_type": "code",
   "execution_count": 38,
   "metadata": {},
   "outputs": [
    {
     "name": "stdout",
     "output_type": "stream",
     "text": [
      "              precision    recall  f1-score   support\n",
      "\n",
      "           0       0.22      0.47      0.30      1298\n",
      "           1       0.32      0.93      0.48      2541\n",
      "           2       0.21      0.23      0.22      3025\n",
      "           3       0.65      0.08      0.14       826\n",
      "           4       0.22      0.22      0.22      2390\n",
      "           5       0.17      0.14      0.16      2866\n",
      "           6       0.30      0.12      0.17      2950\n",
      "           7       0.29      0.12      0.17      2331\n",
      "           8       0.29      0.32      0.30      1470\n",
      "           9       0.20      0.21      0.21      3018\n",
      "          10       0.32      0.09      0.13      2081\n",
      "          11       0.25      0.12      0.16      1868\n",
      "          12       0.31      0.22      0.26      1081\n",
      "          13       0.26      0.11      0.16      2880\n",
      "          14       0.51      0.05      0.09      1040\n",
      "          15       0.30      0.14      0.19      2623\n",
      "          16       0.24      0.08      0.12      3776\n",
      "          17       0.28      0.08      0.12      1401\n",
      "          18       0.19      0.13      0.15      3745\n",
      "          19       0.20      0.14      0.16      2118\n",
      "          20       0.37      0.10      0.16       859\n",
      "          21       0.20      0.18      0.19      3441\n",
      "          22       0.21      0.32      0.25      1467\n",
      "          23       0.48      0.05      0.10      1087\n",
      "          24       0.62      0.10      0.17       824\n",
      "          25       0.18      0.19      0.18      3072\n",
      "          26       0.28      0.38      0.33      1102\n",
      "          27       0.83      0.69      0.76       172\n",
      "          28       0.24      0.20      0.22      4222\n",
      "          29       0.22      0.17      0.19      2328\n",
      "          30       0.27      0.10      0.15      1870\n",
      "          31       0.33      0.12      0.18       806\n",
      "          32       0.31      0.13      0.19      2805\n",
      "          33       0.25      0.09      0.14      2557\n",
      "          34       0.20      0.30      0.24      1270\n",
      "          35       0.39      0.06      0.10       480\n",
      "          36       0.24      0.30      0.27      2680\n",
      "          37       0.23      0.10      0.14      2679\n",
      "          38       0.35      0.20      0.25      1094\n",
      "          39       0.24      0.12      0.16      2468\n",
      "          40       0.47      0.07      0.12      2037\n",
      "          41       0.23      0.10      0.13      3282\n",
      "          42       0.21      0.18      0.20      4900\n",
      "          43       0.27      0.21      0.24      2160\n",
      "          44       0.37      0.09      0.14       731\n",
      "          45       0.42      0.18      0.25      1201\n",
      "          46       0.23      0.44      0.31      3072\n",
      "          47       0.41      0.07      0.12      2943\n",
      "          48       0.19      0.19      0.19      5782\n",
      "          49       0.22      0.12      0.15      1573\n",
      "          50       0.31      0.10      0.15      3643\n",
      "          51       0.45      0.06      0.11      2045\n",
      "          52       0.34      0.11      0.16       558\n",
      "          53       0.46      0.06      0.11       342\n",
      "          54       0.58      0.46      0.51      1420\n",
      "          55       0.25      0.18      0.21      2346\n",
      "          56       0.23      0.62      0.33      1915\n",
      "          57       0.41      0.10      0.16       949\n",
      "          58       0.20      0.11      0.14      2087\n",
      "          59       0.22      0.25      0.24      4414\n",
      "          60       0.43      0.07      0.12       545\n",
      "          61       0.33      0.13      0.19      1841\n",
      "          62       0.22      0.21      0.21      2718\n",
      "          63       0.29      0.45      0.35      1005\n",
      "          64       0.19      0.31      0.24      3209\n",
      "          65       0.36      0.85      0.51      1414\n",
      "          66       0.42      0.25      0.32       636\n",
      "          67       0.25      0.32      0.28      1484\n",
      "          68       0.19      0.11      0.14      2836\n",
      "          69       0.32      0.03      0.06      1238\n",
      "          70       0.20      0.20      0.20      2454\n",
      "          71       0.24      0.29      0.27       620\n",
      "          72       0.23      0.05      0.09      2883\n",
      "          73       0.30      0.13      0.18       969\n",
      "          74       0.95      0.89      0.92       159\n",
      "          75       0.32      0.13      0.19       750\n",
      "          76       0.56      0.05      0.09      1288\n",
      "          77       0.22      0.14      0.17      2641\n",
      "          78       0.27      0.12      0.17      1696\n",
      "          79       0.37      0.16      0.22      1421\n",
      "          80       0.46      0.50      0.48       517\n",
      "          81       0.28      0.26      0.27      2052\n",
      "          82       0.20      0.53      0.29      3606\n",
      "          83       0.18      0.10      0.13      2211\n",
      "          84       0.31      0.06      0.11       695\n",
      "          85       0.32      0.13      0.18      1574\n",
      "          86       0.33      0.06      0.10       498\n",
      "          87       0.49      0.09      0.15       419\n",
      "          88       0.62      0.03      0.05       475\n",
      "          89       0.52      0.05      0.10      1007\n",
      "          90       0.20      0.05      0.08      1598\n",
      "          91       0.13      0.66      0.22      8077\n",
      "          92       0.45      0.20      0.28       420\n",
      "          93       0.47      0.03      0.06       604\n",
      "          94       0.60      0.04      0.07      1835\n",
      "          95       0.15      0.41      0.22      3673\n",
      "          96       0.28      0.11      0.16      1110\n",
      "          97       0.20      0.13      0.16      1939\n",
      "          98       0.18      0.31      0.23      3265\n",
      "          99       0.23      0.18      0.20      2607\n",
      "\n",
      "    accuracy                           0.22    200000\n",
      "   macro avg       0.32      0.20      0.21    200000\n",
      "weighted avg       0.27      0.22      0.20    200000\n",
      "\n"
     ]
    }
   ],
   "source": [
    "from sklearn.metrics import classification_report\n",
    "\n",
    "y_pred_top1 = rf_reduced.predict(Xte)\n",
    "print(classification_report(y_test, y_pred_top1, zero_division=0))\n"
   ]
  },
  {
   "cell_type": "markdown",
   "metadata": {},
   "source": [
    "### Reducing no. of columns (32 down from 41) and training on 60% of the rows didn't impact the accuracy score negatively"
   ]
  }
 ],
 "metadata": {
  "kernelspec": {
   "display_name": ".venv",
   "language": "python",
   "name": "python3"
  },
  "language_info": {
   "codemirror_mode": {
    "name": "ipython",
    "version": 3
   },
   "file_extension": ".py",
   "mimetype": "text/x-python",
   "name": "python",
   "nbconvert_exporter": "python",
   "pygments_lexer": "ipython3",
   "version": "3.11.3"
  }
 },
 "nbformat": 4,
 "nbformat_minor": 4
}

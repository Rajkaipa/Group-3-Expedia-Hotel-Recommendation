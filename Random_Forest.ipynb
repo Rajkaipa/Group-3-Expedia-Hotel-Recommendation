{
 "cells": [
  {
   "cell_type": "code",
   "execution_count": 2,
   "id": "84bcc22e",
   "metadata": {},
   "outputs": [],
   "source": [
    "import numpy as np\n",
    "import pandas as pd\n",
    "import matplotlib as plt"
   ]
  },
  {
   "cell_type": "code",
   "execution_count": 3,
   "id": "2ca01c20",
   "metadata": {},
   "outputs": [],
   "source": [
    "df=pd.read_csv('data/train_1_only_bookings.csv')"
   ]
  },
  {
   "cell_type": "code",
   "execution_count": 4,
   "id": "19a407ce",
   "metadata": {},
   "outputs": [
    {
     "data": {
      "application/vnd.microsoft.datawrangler.viewer.v0+json": {
       "columns": [
        {
         "name": "index",
         "rawType": "int64",
         "type": "integer"
        },
        {
         "name": "date_time",
         "rawType": "object",
         "type": "string"
        },
        {
         "name": "site_name",
         "rawType": "int64",
         "type": "integer"
        },
        {
         "name": "posa_continent",
         "rawType": "int64",
         "type": "integer"
        },
        {
         "name": "user_location_country",
         "rawType": "int64",
         "type": "integer"
        },
        {
         "name": "user_location_region",
         "rawType": "int64",
         "type": "integer"
        },
        {
         "name": "user_location_city",
         "rawType": "int64",
         "type": "integer"
        },
        {
         "name": "orig_destination_distance",
         "rawType": "float64",
         "type": "float"
        },
        {
         "name": "user_id",
         "rawType": "int64",
         "type": "integer"
        },
        {
         "name": "is_mobile",
         "rawType": "int64",
         "type": "integer"
        },
        {
         "name": "is_package",
         "rawType": "int64",
         "type": "integer"
        },
        {
         "name": "channel",
         "rawType": "int64",
         "type": "integer"
        },
        {
         "name": "srch_ci",
         "rawType": "object",
         "type": "string"
        },
        {
         "name": "srch_co",
         "rawType": "object",
         "type": "string"
        },
        {
         "name": "srch_adults_cnt",
         "rawType": "int64",
         "type": "integer"
        },
        {
         "name": "srch_children_cnt",
         "rawType": "int64",
         "type": "integer"
        },
        {
         "name": "srch_rm_cnt",
         "rawType": "int64",
         "type": "integer"
        },
        {
         "name": "srch_destination_id",
         "rawType": "int64",
         "type": "integer"
        },
        {
         "name": "srch_destination_type_id",
         "rawType": "int64",
         "type": "integer"
        },
        {
         "name": "is_booking",
         "rawType": "int64",
         "type": "integer"
        },
        {
         "name": "cnt",
         "rawType": "int64",
         "type": "integer"
        },
        {
         "name": "hotel_continent",
         "rawType": "int64",
         "type": "integer"
        },
        {
         "name": "hotel_country",
         "rawType": "int64",
         "type": "integer"
        },
        {
         "name": "hotel_market",
         "rawType": "int64",
         "type": "integer"
        },
        {
         "name": "hotel_cluster",
         "rawType": "int64",
         "type": "integer"
        }
       ],
       "ref": "da9a5802-56b5-4259-9591-c519f9b867fe",
       "rows": [
        [
         "0",
         "2014-08-11 07:46:59",
         "2",
         "3",
         "66",
         "348",
         "48862",
         "2234.2641",
         "12",
         "0",
         "1",
         "9",
         "2014-08-27",
         "2014-08-31",
         "2",
         "0",
         "1",
         "8250",
         "1",
         "0",
         "3",
         "2",
         "50",
         "628",
         "1"
        ],
        [
         "1",
         "2014-08-11 08:22:12",
         "2",
         "3",
         "66",
         "348",
         "48862",
         "2234.2641",
         "12",
         "0",
         "1",
         "9",
         "2014-08-29",
         "2014-09-02",
         "2",
         "0",
         "1",
         "8250",
         "1",
         "1",
         "1",
         "2",
         "50",
         "628",
         "1"
        ],
        [
         "2",
         "2014-02-27 18:01:32",
         "2",
         "3",
         "66",
         "318",
         "52078",
         null,
         "756",
         "0",
         "1",
         "4",
         "2014-04-18",
         "2014-04-20",
         "2",
         "0",
         "1",
         "8291",
         "1",
         "1",
         "1",
         "2",
         "50",
         "191",
         "2"
        ],
        [
         "3",
         "2013-06-15 15:38:05",
         "30",
         "4",
         "195",
         "548",
         "56440",
         null,
         "1048",
         "0",
         "1",
         "9",
         "2013-09-06",
         "2013-09-14",
         "2",
         "0",
         "1",
         "1385",
         "1",
         "1",
         "1",
         "0",
         "185",
         "185",
         "58"
        ],
        [
         "4",
         "2014-11-23 18:02:20",
         "30",
         "4",
         "195",
         "991",
         "47725",
         null,
         "1048",
         "0",
         "0",
         "9",
         "2015-06-26",
         "2015-06-28",
         "2",
         "0",
         "1",
         "8803",
         "1",
         "1",
         "1",
         "3",
         "151",
         "69",
         "36"
        ]
       ],
       "shape": {
        "columns": 24,
        "rows": 5
       }
      },
      "text/html": [
       "<div>\n",
       "<style scoped>\n",
       "    .dataframe tbody tr th:only-of-type {\n",
       "        vertical-align: middle;\n",
       "    }\n",
       "\n",
       "    .dataframe tbody tr th {\n",
       "        vertical-align: top;\n",
       "    }\n",
       "\n",
       "    .dataframe thead th {\n",
       "        text-align: right;\n",
       "    }\n",
       "</style>\n",
       "<table border=\"1\" class=\"dataframe\">\n",
       "  <thead>\n",
       "    <tr style=\"text-align: right;\">\n",
       "      <th></th>\n",
       "      <th>date_time</th>\n",
       "      <th>site_name</th>\n",
       "      <th>posa_continent</th>\n",
       "      <th>user_location_country</th>\n",
       "      <th>user_location_region</th>\n",
       "      <th>user_location_city</th>\n",
       "      <th>orig_destination_distance</th>\n",
       "      <th>user_id</th>\n",
       "      <th>is_mobile</th>\n",
       "      <th>is_package</th>\n",
       "      <th>...</th>\n",
       "      <th>srch_children_cnt</th>\n",
       "      <th>srch_rm_cnt</th>\n",
       "      <th>srch_destination_id</th>\n",
       "      <th>srch_destination_type_id</th>\n",
       "      <th>is_booking</th>\n",
       "      <th>cnt</th>\n",
       "      <th>hotel_continent</th>\n",
       "      <th>hotel_country</th>\n",
       "      <th>hotel_market</th>\n",
       "      <th>hotel_cluster</th>\n",
       "    </tr>\n",
       "  </thead>\n",
       "  <tbody>\n",
       "    <tr>\n",
       "      <th>0</th>\n",
       "      <td>2014-08-11 07:46:59</td>\n",
       "      <td>2</td>\n",
       "      <td>3</td>\n",
       "      <td>66</td>\n",
       "      <td>348</td>\n",
       "      <td>48862</td>\n",
       "      <td>2234.2641</td>\n",
       "      <td>12</td>\n",
       "      <td>0</td>\n",
       "      <td>1</td>\n",
       "      <td>...</td>\n",
       "      <td>0</td>\n",
       "      <td>1</td>\n",
       "      <td>8250</td>\n",
       "      <td>1</td>\n",
       "      <td>0</td>\n",
       "      <td>3</td>\n",
       "      <td>2</td>\n",
       "      <td>50</td>\n",
       "      <td>628</td>\n",
       "      <td>1</td>\n",
       "    </tr>\n",
       "    <tr>\n",
       "      <th>1</th>\n",
       "      <td>2014-08-11 08:22:12</td>\n",
       "      <td>2</td>\n",
       "      <td>3</td>\n",
       "      <td>66</td>\n",
       "      <td>348</td>\n",
       "      <td>48862</td>\n",
       "      <td>2234.2641</td>\n",
       "      <td>12</td>\n",
       "      <td>0</td>\n",
       "      <td>1</td>\n",
       "      <td>...</td>\n",
       "      <td>0</td>\n",
       "      <td>1</td>\n",
       "      <td>8250</td>\n",
       "      <td>1</td>\n",
       "      <td>1</td>\n",
       "      <td>1</td>\n",
       "      <td>2</td>\n",
       "      <td>50</td>\n",
       "      <td>628</td>\n",
       "      <td>1</td>\n",
       "    </tr>\n",
       "    <tr>\n",
       "      <th>2</th>\n",
       "      <td>2014-02-27 18:01:32</td>\n",
       "      <td>2</td>\n",
       "      <td>3</td>\n",
       "      <td>66</td>\n",
       "      <td>318</td>\n",
       "      <td>52078</td>\n",
       "      <td>NaN</td>\n",
       "      <td>756</td>\n",
       "      <td>0</td>\n",
       "      <td>1</td>\n",
       "      <td>...</td>\n",
       "      <td>0</td>\n",
       "      <td>1</td>\n",
       "      <td>8291</td>\n",
       "      <td>1</td>\n",
       "      <td>1</td>\n",
       "      <td>1</td>\n",
       "      <td>2</td>\n",
       "      <td>50</td>\n",
       "      <td>191</td>\n",
       "      <td>2</td>\n",
       "    </tr>\n",
       "    <tr>\n",
       "      <th>3</th>\n",
       "      <td>2013-06-15 15:38:05</td>\n",
       "      <td>30</td>\n",
       "      <td>4</td>\n",
       "      <td>195</td>\n",
       "      <td>548</td>\n",
       "      <td>56440</td>\n",
       "      <td>NaN</td>\n",
       "      <td>1048</td>\n",
       "      <td>0</td>\n",
       "      <td>1</td>\n",
       "      <td>...</td>\n",
       "      <td>0</td>\n",
       "      <td>1</td>\n",
       "      <td>1385</td>\n",
       "      <td>1</td>\n",
       "      <td>1</td>\n",
       "      <td>1</td>\n",
       "      <td>0</td>\n",
       "      <td>185</td>\n",
       "      <td>185</td>\n",
       "      <td>58</td>\n",
       "    </tr>\n",
       "    <tr>\n",
       "      <th>4</th>\n",
       "      <td>2014-11-23 18:02:20</td>\n",
       "      <td>30</td>\n",
       "      <td>4</td>\n",
       "      <td>195</td>\n",
       "      <td>991</td>\n",
       "      <td>47725</td>\n",
       "      <td>NaN</td>\n",
       "      <td>1048</td>\n",
       "      <td>0</td>\n",
       "      <td>0</td>\n",
       "      <td>...</td>\n",
       "      <td>0</td>\n",
       "      <td>1</td>\n",
       "      <td>8803</td>\n",
       "      <td>1</td>\n",
       "      <td>1</td>\n",
       "      <td>1</td>\n",
       "      <td>3</td>\n",
       "      <td>151</td>\n",
       "      <td>69</td>\n",
       "      <td>36</td>\n",
       "    </tr>\n",
       "  </tbody>\n",
       "</table>\n",
       "<p>5 rows × 24 columns</p>\n",
       "</div>"
      ],
      "text/plain": [
       "             date_time  site_name  posa_continent  user_location_country   \n",
       "0  2014-08-11 07:46:59          2               3                     66  \\\n",
       "1  2014-08-11 08:22:12          2               3                     66   \n",
       "2  2014-02-27 18:01:32          2               3                     66   \n",
       "3  2013-06-15 15:38:05         30               4                    195   \n",
       "4  2014-11-23 18:02:20         30               4                    195   \n",
       "\n",
       "   user_location_region  user_location_city  orig_destination_distance   \n",
       "0                   348               48862                  2234.2641  \\\n",
       "1                   348               48862                  2234.2641   \n",
       "2                   318               52078                        NaN   \n",
       "3                   548               56440                        NaN   \n",
       "4                   991               47725                        NaN   \n",
       "\n",
       "   user_id  is_mobile  is_package  ...  srch_children_cnt srch_rm_cnt   \n",
       "0       12          0           1  ...                  0           1  \\\n",
       "1       12          0           1  ...                  0           1   \n",
       "2      756          0           1  ...                  0           1   \n",
       "3     1048          0           1  ...                  0           1   \n",
       "4     1048          0           0  ...                  0           1   \n",
       "\n",
       "  srch_destination_id  srch_destination_type_id  is_booking  cnt   \n",
       "0                8250                         1           0    3  \\\n",
       "1                8250                         1           1    1   \n",
       "2                8291                         1           1    1   \n",
       "3                1385                         1           1    1   \n",
       "4                8803                         1           1    1   \n",
       "\n",
       "   hotel_continent  hotel_country  hotel_market  hotel_cluster  \n",
       "0                2             50           628              1  \n",
       "1                2             50           628              1  \n",
       "2                2             50           191              2  \n",
       "3                0            185           185             58  \n",
       "4                3            151            69             36  \n",
       "\n",
       "[5 rows x 24 columns]"
      ]
     },
     "execution_count": 4,
     "metadata": {},
     "output_type": "execute_result"
    }
   ],
   "source": [
    "df.head()"
   ]
  },
  {
   "cell_type": "code",
   "execution_count": 5,
   "id": "f2d9d4c9",
   "metadata": {},
   "outputs": [
    {
     "data": {
      "text/plain": [
       "0"
      ]
     },
     "execution_count": 5,
     "metadata": {},
     "output_type": "execute_result"
    }
   ],
   "source": [
    "df.duplicated().sum()"
   ]
  },
  {
   "cell_type": "code",
   "execution_count": 6,
   "id": "a432165e",
   "metadata": {},
   "outputs": [],
   "source": [
    "df = df.iloc[1:].reset_index(drop=True)"
   ]
  },
  {
   "cell_type": "code",
   "execution_count": 6,
   "id": "9e2d5faf",
   "metadata": {},
   "outputs": [
    {
     "data": {
      "application/vnd.microsoft.datawrangler.viewer.v0+json": {
       "columns": [
        {
         "name": "index",
         "rawType": "int64",
         "type": "integer"
        },
        {
         "name": "date_time",
         "rawType": "object",
         "type": "string"
        },
        {
         "name": "site_name",
         "rawType": "int64",
         "type": "integer"
        },
        {
         "name": "posa_continent",
         "rawType": "int64",
         "type": "integer"
        },
        {
         "name": "user_location_country",
         "rawType": "int64",
         "type": "integer"
        },
        {
         "name": "user_location_region",
         "rawType": "int64",
         "type": "integer"
        },
        {
         "name": "user_location_city",
         "rawType": "int64",
         "type": "integer"
        },
        {
         "name": "orig_destination_distance",
         "rawType": "float64",
         "type": "float"
        },
        {
         "name": "user_id",
         "rawType": "int64",
         "type": "integer"
        },
        {
         "name": "is_mobile",
         "rawType": "int64",
         "type": "integer"
        },
        {
         "name": "is_package",
         "rawType": "int64",
         "type": "integer"
        },
        {
         "name": "channel",
         "rawType": "int64",
         "type": "integer"
        },
        {
         "name": "srch_ci",
         "rawType": "object",
         "type": "string"
        },
        {
         "name": "srch_co",
         "rawType": "object",
         "type": "string"
        },
        {
         "name": "srch_adults_cnt",
         "rawType": "int64",
         "type": "integer"
        },
        {
         "name": "srch_children_cnt",
         "rawType": "int64",
         "type": "integer"
        },
        {
         "name": "srch_rm_cnt",
         "rawType": "int64",
         "type": "integer"
        },
        {
         "name": "srch_destination_id",
         "rawType": "int64",
         "type": "integer"
        },
        {
         "name": "srch_destination_type_id",
         "rawType": "int64",
         "type": "integer"
        },
        {
         "name": "is_booking",
         "rawType": "int64",
         "type": "integer"
        },
        {
         "name": "cnt",
         "rawType": "int64",
         "type": "integer"
        },
        {
         "name": "hotel_continent",
         "rawType": "int64",
         "type": "integer"
        },
        {
         "name": "hotel_country",
         "rawType": "int64",
         "type": "integer"
        },
        {
         "name": "hotel_market",
         "rawType": "int64",
         "type": "integer"
        },
        {
         "name": "hotel_cluster",
         "rawType": "int64",
         "type": "integer"
        }
       ],
       "ref": "977b2c3f-a13f-4437-8bf7-99bbaad5bd28",
       "rows": [
        [
         "0",
         "2014-08-11 08:22:12",
         "2",
         "3",
         "66",
         "348",
         "48862",
         "2234.2641",
         "12",
         "0",
         "1",
         "9",
         "2014-08-29",
         "2014-09-02",
         "2",
         "0",
         "1",
         "8250",
         "1",
         "1",
         "1",
         "2",
         "50",
         "628",
         "1"
        ],
        [
         "1",
         "2014-02-27 18:01:32",
         "2",
         "3",
         "66",
         "318",
         "52078",
         null,
         "756",
         "0",
         "1",
         "4",
         "2014-04-18",
         "2014-04-20",
         "2",
         "0",
         "1",
         "8291",
         "1",
         "1",
         "1",
         "2",
         "50",
         "191",
         "2"
        ],
        [
         "2",
         "2013-06-15 15:38:05",
         "30",
         "4",
         "195",
         "548",
         "56440",
         null,
         "1048",
         "0",
         "1",
         "9",
         "2013-09-06",
         "2013-09-14",
         "2",
         "0",
         "1",
         "1385",
         "1",
         "1",
         "1",
         "0",
         "185",
         "185",
         "58"
        ],
        [
         "3",
         "2014-11-23 18:02:20",
         "30",
         "4",
         "195",
         "991",
         "47725",
         null,
         "1048",
         "0",
         "0",
         "9",
         "2015-06-26",
         "2015-06-28",
         "2",
         "0",
         "1",
         "8803",
         "1",
         "1",
         "1",
         "3",
         "151",
         "69",
         "36"
        ],
        [
         "4",
         "2014-01-03 16:30:17",
         "2",
         "3",
         "66",
         "462",
         "41898",
         "2454.8588",
         "1482",
         "0",
         "1",
         "1",
         "2014-02-22",
         "2014-02-27",
         "3",
         "0",
         "2",
         "12009",
         "1",
         "1",
         "1",
         "2",
         "50",
         "680",
         "95"
        ]
       ],
       "shape": {
        "columns": 24,
        "rows": 5
       }
      },
      "text/html": [
       "<div>\n",
       "<style scoped>\n",
       "    .dataframe tbody tr th:only-of-type {\n",
       "        vertical-align: middle;\n",
       "    }\n",
       "\n",
       "    .dataframe tbody tr th {\n",
       "        vertical-align: top;\n",
       "    }\n",
       "\n",
       "    .dataframe thead th {\n",
       "        text-align: right;\n",
       "    }\n",
       "</style>\n",
       "<table border=\"1\" class=\"dataframe\">\n",
       "  <thead>\n",
       "    <tr style=\"text-align: right;\">\n",
       "      <th></th>\n",
       "      <th>date_time</th>\n",
       "      <th>site_name</th>\n",
       "      <th>posa_continent</th>\n",
       "      <th>user_location_country</th>\n",
       "      <th>user_location_region</th>\n",
       "      <th>user_location_city</th>\n",
       "      <th>orig_destination_distance</th>\n",
       "      <th>user_id</th>\n",
       "      <th>is_mobile</th>\n",
       "      <th>is_package</th>\n",
       "      <th>...</th>\n",
       "      <th>srch_children_cnt</th>\n",
       "      <th>srch_rm_cnt</th>\n",
       "      <th>srch_destination_id</th>\n",
       "      <th>srch_destination_type_id</th>\n",
       "      <th>is_booking</th>\n",
       "      <th>cnt</th>\n",
       "      <th>hotel_continent</th>\n",
       "      <th>hotel_country</th>\n",
       "      <th>hotel_market</th>\n",
       "      <th>hotel_cluster</th>\n",
       "    </tr>\n",
       "  </thead>\n",
       "  <tbody>\n",
       "    <tr>\n",
       "      <th>0</th>\n",
       "      <td>2014-08-11 08:22:12</td>\n",
       "      <td>2</td>\n",
       "      <td>3</td>\n",
       "      <td>66</td>\n",
       "      <td>348</td>\n",
       "      <td>48862</td>\n",
       "      <td>2234.2641</td>\n",
       "      <td>12</td>\n",
       "      <td>0</td>\n",
       "      <td>1</td>\n",
       "      <td>...</td>\n",
       "      <td>0</td>\n",
       "      <td>1</td>\n",
       "      <td>8250</td>\n",
       "      <td>1</td>\n",
       "      <td>1</td>\n",
       "      <td>1</td>\n",
       "      <td>2</td>\n",
       "      <td>50</td>\n",
       "      <td>628</td>\n",
       "      <td>1</td>\n",
       "    </tr>\n",
       "    <tr>\n",
       "      <th>1</th>\n",
       "      <td>2014-02-27 18:01:32</td>\n",
       "      <td>2</td>\n",
       "      <td>3</td>\n",
       "      <td>66</td>\n",
       "      <td>318</td>\n",
       "      <td>52078</td>\n",
       "      <td>NaN</td>\n",
       "      <td>756</td>\n",
       "      <td>0</td>\n",
       "      <td>1</td>\n",
       "      <td>...</td>\n",
       "      <td>0</td>\n",
       "      <td>1</td>\n",
       "      <td>8291</td>\n",
       "      <td>1</td>\n",
       "      <td>1</td>\n",
       "      <td>1</td>\n",
       "      <td>2</td>\n",
       "      <td>50</td>\n",
       "      <td>191</td>\n",
       "      <td>2</td>\n",
       "    </tr>\n",
       "    <tr>\n",
       "      <th>2</th>\n",
       "      <td>2013-06-15 15:38:05</td>\n",
       "      <td>30</td>\n",
       "      <td>4</td>\n",
       "      <td>195</td>\n",
       "      <td>548</td>\n",
       "      <td>56440</td>\n",
       "      <td>NaN</td>\n",
       "      <td>1048</td>\n",
       "      <td>0</td>\n",
       "      <td>1</td>\n",
       "      <td>...</td>\n",
       "      <td>0</td>\n",
       "      <td>1</td>\n",
       "      <td>1385</td>\n",
       "      <td>1</td>\n",
       "      <td>1</td>\n",
       "      <td>1</td>\n",
       "      <td>0</td>\n",
       "      <td>185</td>\n",
       "      <td>185</td>\n",
       "      <td>58</td>\n",
       "    </tr>\n",
       "    <tr>\n",
       "      <th>3</th>\n",
       "      <td>2014-11-23 18:02:20</td>\n",
       "      <td>30</td>\n",
       "      <td>4</td>\n",
       "      <td>195</td>\n",
       "      <td>991</td>\n",
       "      <td>47725</td>\n",
       "      <td>NaN</td>\n",
       "      <td>1048</td>\n",
       "      <td>0</td>\n",
       "      <td>0</td>\n",
       "      <td>...</td>\n",
       "      <td>0</td>\n",
       "      <td>1</td>\n",
       "      <td>8803</td>\n",
       "      <td>1</td>\n",
       "      <td>1</td>\n",
       "      <td>1</td>\n",
       "      <td>3</td>\n",
       "      <td>151</td>\n",
       "      <td>69</td>\n",
       "      <td>36</td>\n",
       "    </tr>\n",
       "    <tr>\n",
       "      <th>4</th>\n",
       "      <td>2014-01-03 16:30:17</td>\n",
       "      <td>2</td>\n",
       "      <td>3</td>\n",
       "      <td>66</td>\n",
       "      <td>462</td>\n",
       "      <td>41898</td>\n",
       "      <td>2454.8588</td>\n",
       "      <td>1482</td>\n",
       "      <td>0</td>\n",
       "      <td>1</td>\n",
       "      <td>...</td>\n",
       "      <td>0</td>\n",
       "      <td>2</td>\n",
       "      <td>12009</td>\n",
       "      <td>1</td>\n",
       "      <td>1</td>\n",
       "      <td>1</td>\n",
       "      <td>2</td>\n",
       "      <td>50</td>\n",
       "      <td>680</td>\n",
       "      <td>95</td>\n",
       "    </tr>\n",
       "  </tbody>\n",
       "</table>\n",
       "<p>5 rows × 24 columns</p>\n",
       "</div>"
      ],
      "text/plain": [
       "             date_time  site_name  posa_continent  user_location_country   \n",
       "0  2014-08-11 08:22:12          2               3                     66  \\\n",
       "1  2014-02-27 18:01:32          2               3                     66   \n",
       "2  2013-06-15 15:38:05         30               4                    195   \n",
       "3  2014-11-23 18:02:20         30               4                    195   \n",
       "4  2014-01-03 16:30:17          2               3                     66   \n",
       "\n",
       "   user_location_region  user_location_city  orig_destination_distance   \n",
       "0                   348               48862                  2234.2641  \\\n",
       "1                   318               52078                        NaN   \n",
       "2                   548               56440                        NaN   \n",
       "3                   991               47725                        NaN   \n",
       "4                   462               41898                  2454.8588   \n",
       "\n",
       "   user_id  is_mobile  is_package  ...  srch_children_cnt srch_rm_cnt   \n",
       "0       12          0           1  ...                  0           1  \\\n",
       "1      756          0           1  ...                  0           1   \n",
       "2     1048          0           1  ...                  0           1   \n",
       "3     1048          0           0  ...                  0           1   \n",
       "4     1482          0           1  ...                  0           2   \n",
       "\n",
       "  srch_destination_id  srch_destination_type_id  is_booking  cnt   \n",
       "0                8250                         1           1    1  \\\n",
       "1                8291                         1           1    1   \n",
       "2                1385                         1           1    1   \n",
       "3                8803                         1           1    1   \n",
       "4               12009                         1           1    1   \n",
       "\n",
       "   hotel_continent  hotel_country  hotel_market  hotel_cluster  \n",
       "0                2             50           628              1  \n",
       "1                2             50           191              2  \n",
       "2                0            185           185             58  \n",
       "3                3            151            69             36  \n",
       "4                2             50           680             95  \n",
       "\n",
       "[5 rows x 24 columns]"
      ]
     },
     "execution_count": 6,
     "metadata": {},
     "output_type": "execute_result"
    }
   ],
   "source": [
    "df.head()"
   ]
  },
  {
   "cell_type": "code",
   "execution_count": 7,
   "id": "ee5eccb3",
   "metadata": {},
   "outputs": [
    {
     "data": {
      "application/vnd.microsoft.datawrangler.viewer.v0+json": {
       "columns": [
        {
         "name": "index",
         "rawType": "object",
         "type": "string"
        },
        {
         "name": "0",
         "rawType": "int64",
         "type": "integer"
        }
       ],
       "ref": "2e9e87fd-5540-4766-8222-6df56eec1484",
       "rows": [
        [
         "date_time",
         "0"
        ],
        [
         "site_name",
         "0"
        ],
        [
         "posa_continent",
         "0"
        ],
        [
         "user_location_country",
         "0"
        ],
        [
         "user_location_region",
         "0"
        ],
        [
         "user_location_city",
         "0"
        ],
        [
         "orig_destination_distance",
         "338779"
        ],
        [
         "user_id",
         "0"
        ],
        [
         "is_mobile",
         "0"
        ],
        [
         "is_package",
         "0"
        ],
        [
         "channel",
         "0"
        ],
        [
         "srch_ci",
         "0"
        ],
        [
         "srch_co",
         "0"
        ],
        [
         "srch_adults_cnt",
         "0"
        ],
        [
         "srch_children_cnt",
         "0"
        ],
        [
         "srch_rm_cnt",
         "0"
        ],
        [
         "srch_destination_id",
         "0"
        ],
        [
         "srch_destination_type_id",
         "0"
        ],
        [
         "is_booking",
         "0"
        ],
        [
         "cnt",
         "0"
        ],
        [
         "hotel_continent",
         "0"
        ],
        [
         "hotel_country",
         "0"
        ],
        [
         "hotel_market",
         "0"
        ],
        [
         "hotel_cluster",
         "0"
        ]
       ],
       "shape": {
        "columns": 1,
        "rows": 24
       }
      },
      "text/plain": [
       "date_time                         0\n",
       "site_name                         0\n",
       "posa_continent                    0\n",
       "user_location_country             0\n",
       "user_location_region              0\n",
       "user_location_city                0\n",
       "orig_destination_distance    338779\n",
       "user_id                           0\n",
       "is_mobile                         0\n",
       "is_package                        0\n",
       "channel                           0\n",
       "srch_ci                           0\n",
       "srch_co                           0\n",
       "srch_adults_cnt                   0\n",
       "srch_children_cnt                 0\n",
       "srch_rm_cnt                       0\n",
       "srch_destination_id               0\n",
       "srch_destination_type_id          0\n",
       "is_booking                        0\n",
       "cnt                               0\n",
       "hotel_continent                   0\n",
       "hotel_country                     0\n",
       "hotel_market                      0\n",
       "hotel_cluster                     0\n",
       "dtype: int64"
      ]
     },
     "execution_count": 7,
     "metadata": {},
     "output_type": "execute_result"
    }
   ],
   "source": [
    "df.isna().sum()"
   ]
  },
  {
   "cell_type": "code",
   "execution_count": 8,
   "id": "50b2cae7",
   "metadata": {},
   "outputs": [],
   "source": [
    "from sklearn.tree import DecisionTreeClassifier\n",
    "from sklearn.model_selection import train_test_split\n",
    "from sklearn.preprocessing import LabelEncoder\n",
    "import warnings\n",
    "warnings.filterwarnings(\"ignore\")   \n",
    "from sklearn.metrics import accuracy_score, classification_report, confusion_matrix, f1_score, precision_score, recall_score\n"
   ]
  },
  {
   "cell_type": "code",
   "execution_count": 9,
   "id": "37051a0a",
   "metadata": {},
   "outputs": [],
   "source": [
    "features = ['user_location_country', 'user_location_region', 'hotel_market', 'srch_destination_type_id']\n",
    "X_train = df[features]\n",
    "X_test = df[features]\n",
    "y_train = df['hotel_cluster']\n"
   ]
  },
  {
   "cell_type": "code",
   "execution_count": 10,
   "id": "9f9b3683",
   "metadata": {},
   "outputs": [],
   "source": [
    "model = DecisionTreeClassifier(max_depth=5)\n",
    "model.fit(X_train, y_train)\n",
    "y_pred = model.predict(X_test)"
   ]
  },
  {
   "cell_type": "code",
   "execution_count": 11,
   "id": "61866461",
   "metadata": {},
   "outputs": [
    {
     "name": "stdout",
     "output_type": "stream",
     "text": [
      "Accuracy: 0.0868\n"
     ]
    }
   ],
   "source": [
    "accuracy = accuracy_score(y_train, y_pred)\n",
    "print(f\"Accuracy: {accuracy:.4f}\")"
   ]
  },
  {
   "cell_type": "code",
   "execution_count": 12,
   "id": "dcd0887a",
   "metadata": {},
   "outputs": [
    {
     "name": "stdout",
     "output_type": "stream",
     "text": [
      "Precision (macro): 0.0202\n",
      "Precision (weighted): 0.0287\n",
      "Recall (macro): 0.0561\n",
      "Recall (weighted): 0.0868\n",
      "F1-score (macro): 0.0246\n",
      "F1-score (weighted): 0.0349\n",
      "Confusion Matrix:\n",
      "[[ 2054   268     0 ...     0     0     0]\n",
      " [    0 12686     0 ...     0     0     0]\n",
      " [  699     0  2482 ...     0  1056     0]\n",
      " ...\n",
      " [ 1443     0   321 ...     0  1610     0]\n",
      " [  761     0   148 ...     0  4605     0]\n",
      " [  590    27   621 ...     0   789     0]]\n",
      "Classification Report:\n",
      "              precision    recall  f1-score   support\n",
      "\n",
      "           0       0.04      0.32      0.07      6492\n",
      "           1       0.26      1.00      0.41     12704\n",
      "           2       0.08      0.16      0.11     15127\n",
      "           3       0.00      0.00      0.00      4131\n",
      "           4       0.00      0.00      0.00     11950\n",
      "           5       0.09      0.11      0.10     14328\n",
      "           6       0.00      0.00      0.00     14748\n",
      "           7       0.06      0.06      0.06     11655\n",
      "           8       0.00      0.00      0.00      7350\n",
      "           9       0.05      0.04      0.04     15091\n",
      "          10       0.00      0.00      0.00     10404\n",
      "          11       0.00      0.00      0.00      9339\n",
      "          12       0.00      0.00      0.00      5405\n",
      "          13       0.00      0.00      0.00     14399\n",
      "          14       0.00      0.00      0.00      5200\n",
      "          15       0.00      0.00      0.00     13117\n",
      "          16       0.00      0.00      0.00     18881\n",
      "          17       0.00      0.00      0.00      7005\n",
      "          18       0.00      0.00      0.00     18724\n",
      "          19       0.00      0.00      0.00     10588\n",
      "          20       0.00      0.00      0.00      4294\n",
      "          21       0.07      0.06      0.07     17202\n",
      "          22       0.09      0.22      0.13      7336\n",
      "          23       0.00      0.00      0.00      5435\n",
      "          24       0.00      0.00      0.00      4122\n",
      "          25       0.00      0.00      0.00     15361\n",
      "          26       0.00      0.00      0.00      5509\n",
      "          27       0.00      0.00      0.00       859\n",
      "          28       0.00      0.00      0.00     21108\n",
      "          29       0.13      0.06      0.08     11642\n",
      "          30       0.00      0.00      0.00      9351\n",
      "          31       0.00      0.00      0.00      4030\n",
      "          32       0.00      0.00      0.00     14027\n",
      "          33       0.00      0.00      0.00     12783\n",
      "          34       0.00      0.00      0.00      6348\n",
      "          35       0.00      0.00      0.00      2402\n",
      "          36       0.12      0.08      0.10     13399\n",
      "          37       0.00      0.00      0.00     13397\n",
      "          38       0.00      0.00      0.00      5469\n",
      "          39       0.00      0.00      0.00     12338\n",
      "          40       0.00      0.00      0.00     10183\n",
      "          41       0.00      0.00      0.00     16408\n",
      "          42       0.00      0.00      0.00     24499\n",
      "          43       0.08      0.09      0.08     10801\n",
      "          44       0.00      0.00      0.00      3654\n",
      "          45       0.00      0.00      0.00      6005\n",
      "          46       0.07      0.30      0.11     15360\n",
      "          47       0.00      0.00      0.00     14713\n",
      "          48       0.05      0.12      0.07     28908\n",
      "          49       0.00      0.00      0.00      7867\n",
      "          50       0.00      0.00      0.00     18213\n",
      "          51       0.00      0.00      0.00     10224\n",
      "          52       0.00      0.00      0.00      2792\n",
      "          53       0.00      0.00      0.00      1712\n",
      "          54       0.00      0.00      0.00      7102\n",
      "          55       0.00      0.00      0.00     11729\n",
      "          56       0.21      0.68      0.32      9576\n",
      "          57       0.00      0.00      0.00      4746\n",
      "          58       0.00      0.00      0.00     10434\n",
      "          59       0.09      0.02      0.04     22070\n",
      "          60       0.00      0.00      0.00      2727\n",
      "          61       0.00      0.00      0.00      9204\n",
      "          62       0.00      0.00      0.00     13589\n",
      "          63       0.09      0.09      0.09      5023\n",
      "          64       0.09      0.02      0.04     16045\n",
      "          65       0.09      0.96      0.16      7072\n",
      "          66       0.00      0.00      0.00      3180\n",
      "          67       0.00      0.00      0.00      7422\n",
      "          68       0.00      0.00      0.00     14179\n",
      "          69       0.00      0.00      0.00      6192\n",
      "          70       0.00      0.00      0.00     12268\n",
      "          71       0.00      0.00      0.00      3101\n",
      "          72       0.00      0.00      0.00     14414\n",
      "          73       0.00      0.00      0.00      4846\n",
      "          74       0.00      0.00      0.00       797\n",
      "          75       0.00      0.00      0.00      3752\n",
      "          76       0.00      0.00      0.00      6438\n",
      "          77       0.00      0.00      0.00     13204\n",
      "          78       0.00      0.00      0.00      8481\n",
      "          79       0.00      0.00      0.00      7106\n",
      "          80       0.00      0.00      0.00      2585\n",
      "          81       0.00      0.00      0.00     10260\n",
      "          82       0.11      0.18      0.14     18030\n",
      "          83       0.00      0.00      0.00     11057\n",
      "          84       0.00      0.00      0.00      3473\n",
      "          85       0.00      0.00      0.00      7871\n",
      "          86       0.00      0.00      0.00      2492\n",
      "          87       0.00      0.00      0.00      2094\n",
      "          88       0.00      0.00      0.00      2374\n",
      "          89       0.00      0.00      0.00      5036\n",
      "          90       0.00      0.00      0.00      7988\n",
      "          91       0.08      0.77      0.14     40385\n",
      "          92       0.00      0.00      0.00      2101\n",
      "          93       0.00      0.00      0.00      3019\n",
      "          94       0.00      0.00      0.00      9173\n",
      "          95       0.00      0.00      0.00     18367\n",
      "          96       0.00      0.00      0.00      5548\n",
      "          97       0.00      0.00      0.00      9697\n",
      "          98       0.07      0.28      0.11     16327\n",
      "          99       0.00      0.00      0.00     13037\n",
      "\n",
      "    accuracy                           0.09   1000000\n",
      "   macro avg       0.02      0.06      0.02   1000000\n",
      "weighted avg       0.03      0.09      0.03   1000000\n",
      "\n"
     ]
    }
   ],
   "source": [
    "# 4. Precision, Recall, F1 (macro and weighted)\n",
    "precision_macro = precision_score(y_train, y_pred, average='macro')\n",
    "precision_weighted = precision_score(y_train, y_pred, average='weighted')\n",
    "recall_macro = recall_score(y_train, y_pred, average='macro')\n",
    "recall_weighted = recall_score(y_train, y_pred, average='weighted')\n",
    "f1_macro = f1_score(y_train, y_pred, average='macro')\n",
    "f1_weighted = f1_score(y_train, y_pred, average='weighted')\n",
    "\n",
    "print(f\"Precision (macro): {precision_macro:.4f}\")\n",
    "print(f\"Precision (weighted): {precision_weighted:.4f}\")\n",
    "print(f\"Recall (macro): {recall_macro:.4f}\")\n",
    "print(f\"Recall (weighted): {recall_weighted:.4f}\")\n",
    "print(f\"F1-score (macro): {f1_macro:.4f}\")\n",
    "print(f\"F1-score (weighted): {f1_weighted:.4f}\")\n",
    "\n",
    "# 5. Confusion Matrix\n",
    "cm = confusion_matrix(y_train, y_pred)\n",
    "print(\"Confusion Matrix:\")\n",
    "print(cm)\n",
    "\n",
    "# 6. Full Classification Report\n",
    "print(\"Classification Report:\")\n",
    "print(classification_report(y_train, y_pred))"
   ]
  },
  {
   "cell_type": "code",
   "execution_count": 13,
   "id": "1f12a15f",
   "metadata": {},
   "outputs": [],
   "source": [
    "df['date_time'] = pd.to_datetime(df['date_time'], errors='coerce')\n",
    "\n",
    "# Now you can extract the year\n",
    "df['search_year'] = df['date_time'].dt.year"
   ]
  },
  {
   "cell_type": "code",
   "execution_count": 14,
   "id": "bb9ab5c0",
   "metadata": {},
   "outputs": [],
   "source": [
    "df['search_month'] = df['date_time'].dt.month\n",
    "df['search_dayofweek'] = df['date_time'].dt.dayofweek\n",
    "df['search_hour'] = df['date_time'].dt.hour"
   ]
  },
  {
   "cell_type": "code",
   "execution_count": 15,
   "id": "81f54ad2",
   "metadata": {},
   "outputs": [],
   "source": [
    "df['srch_ci']   = pd.to_datetime(df['srch_ci'], errors='coerce')\n",
    "df['lead_time'] = (df['srch_ci'] - df['date_time']).dt.days\n",
    "\n",
    "df['srch_co'] = pd.to_datetime(df['srch_co'], errors='coerce')\n",
    "df['stay_nights'] = (df['srch_co'] - df['srch_ci']).dt.days"
   ]
  },
  {
   "cell_type": "code",
   "execution_count": 16,
   "id": "62390827",
   "metadata": {},
   "outputs": [
    {
     "name": "stdout",
     "output_type": "stream",
     "text": [
      "       lead_time  stay_nights\n",
      "count 1000000.00   1000000.00\n",
      "mean       34.91         2.43\n",
      "std        51.87         2.02\n",
      "min        -5.00        -9.00\n",
      "25%         3.00         1.00\n",
      "50%        15.00         2.00\n",
      "75%        44.00         3.00\n",
      "max       495.00        33.00\n",
      "negative lead_time: 66321\n",
      "long stays >365: 0\n"
     ]
    }
   ],
   "source": [
    "\n",
    "# Set pandas to display floats in normal notation\n",
    "pd.set_option('display.float_format', '{:.2f}'.format)\n",
    "\n",
    "# Quick descriptive statistics\n",
    "print(df[['lead_time','stay_nights']].describe())\n",
    "\n",
    "# Negative/absurd values\n",
    "print('negative lead_time:', (df['lead_time'] < 0).sum())\n",
    "print('long stays >365:', (df['stay_nights'] > 365).sum())"
   ]
  },
  {
   "cell_type": "code",
   "execution_count": 17,
   "id": "924d6df5",
   "metadata": {},
   "outputs": [],
   "source": [
    "df = df[(df['lead_time'] >= 0) & (df['stay_nights'] >= 0)]\n"
   ]
  },
  {
   "cell_type": "code",
   "execution_count": 18,
   "id": "725dccf1",
   "metadata": {},
   "outputs": [
    {
     "data": {
      "application/vnd.microsoft.datawrangler.viewer.v0+json": {
       "columns": [
        {
         "name": "index",
         "rawType": "int64",
         "type": "integer"
        },
        {
         "name": "date_time",
         "rawType": "datetime64[ns]",
         "type": "datetime"
        },
        {
         "name": "site_name",
         "rawType": "int64",
         "type": "integer"
        },
        {
         "name": "posa_continent",
         "rawType": "int64",
         "type": "integer"
        },
        {
         "name": "user_location_country",
         "rawType": "int64",
         "type": "integer"
        },
        {
         "name": "user_location_region",
         "rawType": "int64",
         "type": "integer"
        },
        {
         "name": "user_location_city",
         "rawType": "int64",
         "type": "integer"
        },
        {
         "name": "orig_destination_distance",
         "rawType": "float64",
         "type": "float"
        },
        {
         "name": "user_id",
         "rawType": "int64",
         "type": "integer"
        },
        {
         "name": "is_mobile",
         "rawType": "int64",
         "type": "integer"
        },
        {
         "name": "is_package",
         "rawType": "int64",
         "type": "integer"
        },
        {
         "name": "channel",
         "rawType": "int64",
         "type": "integer"
        },
        {
         "name": "srch_ci",
         "rawType": "datetime64[ns]",
         "type": "datetime"
        },
        {
         "name": "srch_co",
         "rawType": "datetime64[ns]",
         "type": "datetime"
        },
        {
         "name": "srch_adults_cnt",
         "rawType": "int64",
         "type": "integer"
        },
        {
         "name": "srch_children_cnt",
         "rawType": "int64",
         "type": "integer"
        },
        {
         "name": "srch_rm_cnt",
         "rawType": "int64",
         "type": "integer"
        },
        {
         "name": "srch_destination_id",
         "rawType": "int64",
         "type": "integer"
        },
        {
         "name": "srch_destination_type_id",
         "rawType": "int64",
         "type": "integer"
        },
        {
         "name": "is_booking",
         "rawType": "int64",
         "type": "integer"
        },
        {
         "name": "cnt",
         "rawType": "int64",
         "type": "integer"
        },
        {
         "name": "hotel_continent",
         "rawType": "int64",
         "type": "integer"
        },
        {
         "name": "hotel_country",
         "rawType": "int64",
         "type": "integer"
        },
        {
         "name": "hotel_market",
         "rawType": "int64",
         "type": "integer"
        },
        {
         "name": "hotel_cluster",
         "rawType": "int64",
         "type": "integer"
        },
        {
         "name": "search_year",
         "rawType": "int32",
         "type": "integer"
        },
        {
         "name": "search_month",
         "rawType": "int32",
         "type": "integer"
        },
        {
         "name": "search_dayofweek",
         "rawType": "int32",
         "type": "integer"
        },
        {
         "name": "search_hour",
         "rawType": "int32",
         "type": "integer"
        },
        {
         "name": "lead_time",
         "rawType": "int64",
         "type": "integer"
        },
        {
         "name": "stay_nights",
         "rawType": "int64",
         "type": "integer"
        }
       ],
       "ref": "e7edcc37-a741-4887-a7cb-4d7ae9a9f2d7",
       "rows": [
        [
         "0",
         "2014-08-11 08:22:12",
         "2",
         "3",
         "66",
         "348",
         "48862",
         "2234.2641",
         "12",
         "0",
         "1",
         "9",
         "2014-08-29 00:00:00",
         "2014-09-02 00:00:00",
         "2",
         "0",
         "1",
         "8250",
         "1",
         "1",
         "1",
         "2",
         "50",
         "628",
         "1",
         "2014",
         "8",
         "0",
         "8",
         "17",
         "4"
        ],
        [
         "1",
         "2014-02-27 18:01:32",
         "2",
         "3",
         "66",
         "318",
         "52078",
         null,
         "756",
         "0",
         "1",
         "4",
         "2014-04-18 00:00:00",
         "2014-04-20 00:00:00",
         "2",
         "0",
         "1",
         "8291",
         "1",
         "1",
         "1",
         "2",
         "50",
         "191",
         "2",
         "2014",
         "2",
         "3",
         "18",
         "49",
         "2"
        ],
        [
         "2",
         "2013-06-15 15:38:05",
         "30",
         "4",
         "195",
         "548",
         "56440",
         null,
         "1048",
         "0",
         "1",
         "9",
         "2013-09-06 00:00:00",
         "2013-09-14 00:00:00",
         "2",
         "0",
         "1",
         "1385",
         "1",
         "1",
         "1",
         "0",
         "185",
         "185",
         "58",
         "2013",
         "6",
         "5",
         "15",
         "82",
         "8"
        ],
        [
         "3",
         "2014-11-23 18:02:20",
         "30",
         "4",
         "195",
         "991",
         "47725",
         null,
         "1048",
         "0",
         "0",
         "9",
         "2015-06-26 00:00:00",
         "2015-06-28 00:00:00",
         "2",
         "0",
         "1",
         "8803",
         "1",
         "1",
         "1",
         "3",
         "151",
         "69",
         "36",
         "2014",
         "11",
         "6",
         "18",
         "214",
         "2"
        ],
        [
         "4",
         "2014-01-03 16:30:17",
         "2",
         "3",
         "66",
         "462",
         "41898",
         "2454.8588",
         "1482",
         "0",
         "1",
         "1",
         "2014-02-22 00:00:00",
         "2014-02-27 00:00:00",
         "3",
         "0",
         "2",
         "12009",
         "1",
         "1",
         "1",
         "2",
         "50",
         "680",
         "95",
         "2014",
         "1",
         "4",
         "16",
         "49",
         "5"
        ]
       ],
       "shape": {
        "columns": 30,
        "rows": 5
       }
      },
      "text/html": [
       "<div>\n",
       "<style scoped>\n",
       "    .dataframe tbody tr th:only-of-type {\n",
       "        vertical-align: middle;\n",
       "    }\n",
       "\n",
       "    .dataframe tbody tr th {\n",
       "        vertical-align: top;\n",
       "    }\n",
       "\n",
       "    .dataframe thead th {\n",
       "        text-align: right;\n",
       "    }\n",
       "</style>\n",
       "<table border=\"1\" class=\"dataframe\">\n",
       "  <thead>\n",
       "    <tr style=\"text-align: right;\">\n",
       "      <th></th>\n",
       "      <th>date_time</th>\n",
       "      <th>site_name</th>\n",
       "      <th>posa_continent</th>\n",
       "      <th>user_location_country</th>\n",
       "      <th>user_location_region</th>\n",
       "      <th>user_location_city</th>\n",
       "      <th>orig_destination_distance</th>\n",
       "      <th>user_id</th>\n",
       "      <th>is_mobile</th>\n",
       "      <th>is_package</th>\n",
       "      <th>...</th>\n",
       "      <th>hotel_continent</th>\n",
       "      <th>hotel_country</th>\n",
       "      <th>hotel_market</th>\n",
       "      <th>hotel_cluster</th>\n",
       "      <th>search_year</th>\n",
       "      <th>search_month</th>\n",
       "      <th>search_dayofweek</th>\n",
       "      <th>search_hour</th>\n",
       "      <th>lead_time</th>\n",
       "      <th>stay_nights</th>\n",
       "    </tr>\n",
       "  </thead>\n",
       "  <tbody>\n",
       "    <tr>\n",
       "      <th>0</th>\n",
       "      <td>2014-08-11 08:22:12</td>\n",
       "      <td>2</td>\n",
       "      <td>3</td>\n",
       "      <td>66</td>\n",
       "      <td>348</td>\n",
       "      <td>48862</td>\n",
       "      <td>2234.26</td>\n",
       "      <td>12</td>\n",
       "      <td>0</td>\n",
       "      <td>1</td>\n",
       "      <td>...</td>\n",
       "      <td>2</td>\n",
       "      <td>50</td>\n",
       "      <td>628</td>\n",
       "      <td>1</td>\n",
       "      <td>2014</td>\n",
       "      <td>8</td>\n",
       "      <td>0</td>\n",
       "      <td>8</td>\n",
       "      <td>17</td>\n",
       "      <td>4</td>\n",
       "    </tr>\n",
       "    <tr>\n",
       "      <th>1</th>\n",
       "      <td>2014-02-27 18:01:32</td>\n",
       "      <td>2</td>\n",
       "      <td>3</td>\n",
       "      <td>66</td>\n",
       "      <td>318</td>\n",
       "      <td>52078</td>\n",
       "      <td>NaN</td>\n",
       "      <td>756</td>\n",
       "      <td>0</td>\n",
       "      <td>1</td>\n",
       "      <td>...</td>\n",
       "      <td>2</td>\n",
       "      <td>50</td>\n",
       "      <td>191</td>\n",
       "      <td>2</td>\n",
       "      <td>2014</td>\n",
       "      <td>2</td>\n",
       "      <td>3</td>\n",
       "      <td>18</td>\n",
       "      <td>49</td>\n",
       "      <td>2</td>\n",
       "    </tr>\n",
       "    <tr>\n",
       "      <th>2</th>\n",
       "      <td>2013-06-15 15:38:05</td>\n",
       "      <td>30</td>\n",
       "      <td>4</td>\n",
       "      <td>195</td>\n",
       "      <td>548</td>\n",
       "      <td>56440</td>\n",
       "      <td>NaN</td>\n",
       "      <td>1048</td>\n",
       "      <td>0</td>\n",
       "      <td>1</td>\n",
       "      <td>...</td>\n",
       "      <td>0</td>\n",
       "      <td>185</td>\n",
       "      <td>185</td>\n",
       "      <td>58</td>\n",
       "      <td>2013</td>\n",
       "      <td>6</td>\n",
       "      <td>5</td>\n",
       "      <td>15</td>\n",
       "      <td>82</td>\n",
       "      <td>8</td>\n",
       "    </tr>\n",
       "    <tr>\n",
       "      <th>3</th>\n",
       "      <td>2014-11-23 18:02:20</td>\n",
       "      <td>30</td>\n",
       "      <td>4</td>\n",
       "      <td>195</td>\n",
       "      <td>991</td>\n",
       "      <td>47725</td>\n",
       "      <td>NaN</td>\n",
       "      <td>1048</td>\n",
       "      <td>0</td>\n",
       "      <td>0</td>\n",
       "      <td>...</td>\n",
       "      <td>3</td>\n",
       "      <td>151</td>\n",
       "      <td>69</td>\n",
       "      <td>36</td>\n",
       "      <td>2014</td>\n",
       "      <td>11</td>\n",
       "      <td>6</td>\n",
       "      <td>18</td>\n",
       "      <td>214</td>\n",
       "      <td>2</td>\n",
       "    </tr>\n",
       "    <tr>\n",
       "      <th>4</th>\n",
       "      <td>2014-01-03 16:30:17</td>\n",
       "      <td>2</td>\n",
       "      <td>3</td>\n",
       "      <td>66</td>\n",
       "      <td>462</td>\n",
       "      <td>41898</td>\n",
       "      <td>2454.86</td>\n",
       "      <td>1482</td>\n",
       "      <td>0</td>\n",
       "      <td>1</td>\n",
       "      <td>...</td>\n",
       "      <td>2</td>\n",
       "      <td>50</td>\n",
       "      <td>680</td>\n",
       "      <td>95</td>\n",
       "      <td>2014</td>\n",
       "      <td>1</td>\n",
       "      <td>4</td>\n",
       "      <td>16</td>\n",
       "      <td>49</td>\n",
       "      <td>5</td>\n",
       "    </tr>\n",
       "  </tbody>\n",
       "</table>\n",
       "<p>5 rows × 30 columns</p>\n",
       "</div>"
      ],
      "text/plain": [
       "            date_time  site_name  posa_continent  user_location_country   \n",
       "0 2014-08-11 08:22:12          2               3                     66  \\\n",
       "1 2014-02-27 18:01:32          2               3                     66   \n",
       "2 2013-06-15 15:38:05         30               4                    195   \n",
       "3 2014-11-23 18:02:20         30               4                    195   \n",
       "4 2014-01-03 16:30:17          2               3                     66   \n",
       "\n",
       "   user_location_region  user_location_city  orig_destination_distance   \n",
       "0                   348               48862                    2234.26  \\\n",
       "1                   318               52078                        NaN   \n",
       "2                   548               56440                        NaN   \n",
       "3                   991               47725                        NaN   \n",
       "4                   462               41898                    2454.86   \n",
       "\n",
       "   user_id  is_mobile  is_package  ...  hotel_continent hotel_country   \n",
       "0       12          0           1  ...                2            50  \\\n",
       "1      756          0           1  ...                2            50   \n",
       "2     1048          0           1  ...                0           185   \n",
       "3     1048          0           0  ...                3           151   \n",
       "4     1482          0           1  ...                2            50   \n",
       "\n",
       "  hotel_market  hotel_cluster  search_year  search_month  search_dayofweek   \n",
       "0          628              1         2014             8                 0  \\\n",
       "1          191              2         2014             2                 3   \n",
       "2          185             58         2013             6                 5   \n",
       "3           69             36         2014            11                 6   \n",
       "4          680             95         2014             1                 4   \n",
       "\n",
       "   search_hour  lead_time  stay_nights  \n",
       "0            8         17            4  \n",
       "1           18         49            2  \n",
       "2           15         82            8  \n",
       "3           18        214            2  \n",
       "4           16         49            5  \n",
       "\n",
       "[5 rows x 30 columns]"
      ]
     },
     "execution_count": 18,
     "metadata": {},
     "output_type": "execute_result"
    }
   ],
   "source": [
    "df.head()"
   ]
  },
  {
   "cell_type": "code",
   "execution_count": 19,
   "id": "7df5516c",
   "metadata": {},
   "outputs": [],
   "source": [
    "df=df.drop(columns=['date_time'])"
   ]
  },
  {
   "cell_type": "code",
   "execution_count": 20,
   "id": "78e57d0c",
   "metadata": {},
   "outputs": [
    {
     "data": {
      "application/vnd.microsoft.datawrangler.viewer.v0+json": {
       "columns": [
        {
         "name": "index",
         "rawType": "int64",
         "type": "integer"
        },
        {
         "name": "site_name",
         "rawType": "int64",
         "type": "integer"
        },
        {
         "name": "posa_continent",
         "rawType": "int64",
         "type": "integer"
        },
        {
         "name": "user_location_country",
         "rawType": "int64",
         "type": "integer"
        },
        {
         "name": "user_location_region",
         "rawType": "int64",
         "type": "integer"
        },
        {
         "name": "user_location_city",
         "rawType": "int64",
         "type": "integer"
        },
        {
         "name": "orig_destination_distance",
         "rawType": "float64",
         "type": "float"
        },
        {
         "name": "user_id",
         "rawType": "int64",
         "type": "integer"
        },
        {
         "name": "is_mobile",
         "rawType": "int64",
         "type": "integer"
        },
        {
         "name": "is_package",
         "rawType": "int64",
         "type": "integer"
        },
        {
         "name": "channel",
         "rawType": "int64",
         "type": "integer"
        },
        {
         "name": "srch_ci",
         "rawType": "datetime64[ns]",
         "type": "datetime"
        },
        {
         "name": "srch_co",
         "rawType": "datetime64[ns]",
         "type": "datetime"
        },
        {
         "name": "srch_adults_cnt",
         "rawType": "int64",
         "type": "integer"
        },
        {
         "name": "srch_children_cnt",
         "rawType": "int64",
         "type": "integer"
        },
        {
         "name": "srch_rm_cnt",
         "rawType": "int64",
         "type": "integer"
        },
        {
         "name": "srch_destination_id",
         "rawType": "int64",
         "type": "integer"
        },
        {
         "name": "srch_destination_type_id",
         "rawType": "int64",
         "type": "integer"
        },
        {
         "name": "is_booking",
         "rawType": "int64",
         "type": "integer"
        },
        {
         "name": "cnt",
         "rawType": "int64",
         "type": "integer"
        },
        {
         "name": "hotel_continent",
         "rawType": "int64",
         "type": "integer"
        },
        {
         "name": "hotel_country",
         "rawType": "int64",
         "type": "integer"
        },
        {
         "name": "hotel_market",
         "rawType": "int64",
         "type": "integer"
        },
        {
         "name": "hotel_cluster",
         "rawType": "int64",
         "type": "integer"
        },
        {
         "name": "search_year",
         "rawType": "int32",
         "type": "integer"
        },
        {
         "name": "search_month",
         "rawType": "int32",
         "type": "integer"
        },
        {
         "name": "search_dayofweek",
         "rawType": "int32",
         "type": "integer"
        },
        {
         "name": "search_hour",
         "rawType": "int32",
         "type": "integer"
        },
        {
         "name": "lead_time",
         "rawType": "int64",
         "type": "integer"
        },
        {
         "name": "stay_nights",
         "rawType": "int64",
         "type": "integer"
        }
       ],
       "ref": "9400b2a2-40b0-447a-b089-d05ddbbeb010",
       "rows": [
        [
         "0",
         "2",
         "3",
         "66",
         "348",
         "48862",
         "2234.2641",
         "12",
         "0",
         "1",
         "9",
         "2014-08-29 00:00:00",
         "2014-09-02 00:00:00",
         "2",
         "0",
         "1",
         "8250",
         "1",
         "1",
         "1",
         "2",
         "50",
         "628",
         "1",
         "2014",
         "8",
         "0",
         "8",
         "17",
         "4"
        ],
        [
         "1",
         "2",
         "3",
         "66",
         "318",
         "52078",
         null,
         "756",
         "0",
         "1",
         "4",
         "2014-04-18 00:00:00",
         "2014-04-20 00:00:00",
         "2",
         "0",
         "1",
         "8291",
         "1",
         "1",
         "1",
         "2",
         "50",
         "191",
         "2",
         "2014",
         "2",
         "3",
         "18",
         "49",
         "2"
        ],
        [
         "2",
         "30",
         "4",
         "195",
         "548",
         "56440",
         null,
         "1048",
         "0",
         "1",
         "9",
         "2013-09-06 00:00:00",
         "2013-09-14 00:00:00",
         "2",
         "0",
         "1",
         "1385",
         "1",
         "1",
         "1",
         "0",
         "185",
         "185",
         "58",
         "2013",
         "6",
         "5",
         "15",
         "82",
         "8"
        ],
        [
         "3",
         "30",
         "4",
         "195",
         "991",
         "47725",
         null,
         "1048",
         "0",
         "0",
         "9",
         "2015-06-26 00:00:00",
         "2015-06-28 00:00:00",
         "2",
         "0",
         "1",
         "8803",
         "1",
         "1",
         "1",
         "3",
         "151",
         "69",
         "36",
         "2014",
         "11",
         "6",
         "18",
         "214",
         "2"
        ],
        [
         "4",
         "2",
         "3",
         "66",
         "462",
         "41898",
         "2454.8588",
         "1482",
         "0",
         "1",
         "1",
         "2014-02-22 00:00:00",
         "2014-02-27 00:00:00",
         "3",
         "0",
         "2",
         "12009",
         "1",
         "1",
         "1",
         "2",
         "50",
         "680",
         "95",
         "2014",
         "1",
         "4",
         "16",
         "49",
         "5"
        ]
       ],
       "shape": {
        "columns": 29,
        "rows": 5
       }
      },
      "text/html": [
       "<div>\n",
       "<style scoped>\n",
       "    .dataframe tbody tr th:only-of-type {\n",
       "        vertical-align: middle;\n",
       "    }\n",
       "\n",
       "    .dataframe tbody tr th {\n",
       "        vertical-align: top;\n",
       "    }\n",
       "\n",
       "    .dataframe thead th {\n",
       "        text-align: right;\n",
       "    }\n",
       "</style>\n",
       "<table border=\"1\" class=\"dataframe\">\n",
       "  <thead>\n",
       "    <tr style=\"text-align: right;\">\n",
       "      <th></th>\n",
       "      <th>site_name</th>\n",
       "      <th>posa_continent</th>\n",
       "      <th>user_location_country</th>\n",
       "      <th>user_location_region</th>\n",
       "      <th>user_location_city</th>\n",
       "      <th>orig_destination_distance</th>\n",
       "      <th>user_id</th>\n",
       "      <th>is_mobile</th>\n",
       "      <th>is_package</th>\n",
       "      <th>channel</th>\n",
       "      <th>...</th>\n",
       "      <th>hotel_continent</th>\n",
       "      <th>hotel_country</th>\n",
       "      <th>hotel_market</th>\n",
       "      <th>hotel_cluster</th>\n",
       "      <th>search_year</th>\n",
       "      <th>search_month</th>\n",
       "      <th>search_dayofweek</th>\n",
       "      <th>search_hour</th>\n",
       "      <th>lead_time</th>\n",
       "      <th>stay_nights</th>\n",
       "    </tr>\n",
       "  </thead>\n",
       "  <tbody>\n",
       "    <tr>\n",
       "      <th>0</th>\n",
       "      <td>2</td>\n",
       "      <td>3</td>\n",
       "      <td>66</td>\n",
       "      <td>348</td>\n",
       "      <td>48862</td>\n",
       "      <td>2234.26</td>\n",
       "      <td>12</td>\n",
       "      <td>0</td>\n",
       "      <td>1</td>\n",
       "      <td>9</td>\n",
       "      <td>...</td>\n",
       "      <td>2</td>\n",
       "      <td>50</td>\n",
       "      <td>628</td>\n",
       "      <td>1</td>\n",
       "      <td>2014</td>\n",
       "      <td>8</td>\n",
       "      <td>0</td>\n",
       "      <td>8</td>\n",
       "      <td>17</td>\n",
       "      <td>4</td>\n",
       "    </tr>\n",
       "    <tr>\n",
       "      <th>1</th>\n",
       "      <td>2</td>\n",
       "      <td>3</td>\n",
       "      <td>66</td>\n",
       "      <td>318</td>\n",
       "      <td>52078</td>\n",
       "      <td>NaN</td>\n",
       "      <td>756</td>\n",
       "      <td>0</td>\n",
       "      <td>1</td>\n",
       "      <td>4</td>\n",
       "      <td>...</td>\n",
       "      <td>2</td>\n",
       "      <td>50</td>\n",
       "      <td>191</td>\n",
       "      <td>2</td>\n",
       "      <td>2014</td>\n",
       "      <td>2</td>\n",
       "      <td>3</td>\n",
       "      <td>18</td>\n",
       "      <td>49</td>\n",
       "      <td>2</td>\n",
       "    </tr>\n",
       "    <tr>\n",
       "      <th>2</th>\n",
       "      <td>30</td>\n",
       "      <td>4</td>\n",
       "      <td>195</td>\n",
       "      <td>548</td>\n",
       "      <td>56440</td>\n",
       "      <td>NaN</td>\n",
       "      <td>1048</td>\n",
       "      <td>0</td>\n",
       "      <td>1</td>\n",
       "      <td>9</td>\n",
       "      <td>...</td>\n",
       "      <td>0</td>\n",
       "      <td>185</td>\n",
       "      <td>185</td>\n",
       "      <td>58</td>\n",
       "      <td>2013</td>\n",
       "      <td>6</td>\n",
       "      <td>5</td>\n",
       "      <td>15</td>\n",
       "      <td>82</td>\n",
       "      <td>8</td>\n",
       "    </tr>\n",
       "    <tr>\n",
       "      <th>3</th>\n",
       "      <td>30</td>\n",
       "      <td>4</td>\n",
       "      <td>195</td>\n",
       "      <td>991</td>\n",
       "      <td>47725</td>\n",
       "      <td>NaN</td>\n",
       "      <td>1048</td>\n",
       "      <td>0</td>\n",
       "      <td>0</td>\n",
       "      <td>9</td>\n",
       "      <td>...</td>\n",
       "      <td>3</td>\n",
       "      <td>151</td>\n",
       "      <td>69</td>\n",
       "      <td>36</td>\n",
       "      <td>2014</td>\n",
       "      <td>11</td>\n",
       "      <td>6</td>\n",
       "      <td>18</td>\n",
       "      <td>214</td>\n",
       "      <td>2</td>\n",
       "    </tr>\n",
       "    <tr>\n",
       "      <th>4</th>\n",
       "      <td>2</td>\n",
       "      <td>3</td>\n",
       "      <td>66</td>\n",
       "      <td>462</td>\n",
       "      <td>41898</td>\n",
       "      <td>2454.86</td>\n",
       "      <td>1482</td>\n",
       "      <td>0</td>\n",
       "      <td>1</td>\n",
       "      <td>1</td>\n",
       "      <td>...</td>\n",
       "      <td>2</td>\n",
       "      <td>50</td>\n",
       "      <td>680</td>\n",
       "      <td>95</td>\n",
       "      <td>2014</td>\n",
       "      <td>1</td>\n",
       "      <td>4</td>\n",
       "      <td>16</td>\n",
       "      <td>49</td>\n",
       "      <td>5</td>\n",
       "    </tr>\n",
       "  </tbody>\n",
       "</table>\n",
       "<p>5 rows × 29 columns</p>\n",
       "</div>"
      ],
      "text/plain": [
       "   site_name  posa_continent  user_location_country  user_location_region   \n",
       "0          2               3                     66                   348  \\\n",
       "1          2               3                     66                   318   \n",
       "2         30               4                    195                   548   \n",
       "3         30               4                    195                   991   \n",
       "4          2               3                     66                   462   \n",
       "\n",
       "   user_location_city  orig_destination_distance  user_id  is_mobile   \n",
       "0               48862                    2234.26       12          0  \\\n",
       "1               52078                        NaN      756          0   \n",
       "2               56440                        NaN     1048          0   \n",
       "3               47725                        NaN     1048          0   \n",
       "4               41898                    2454.86     1482          0   \n",
       "\n",
       "   is_package  channel  ... hotel_continent hotel_country  hotel_market   \n",
       "0           1        9  ...               2            50           628  \\\n",
       "1           1        4  ...               2            50           191   \n",
       "2           1        9  ...               0           185           185   \n",
       "3           0        9  ...               3           151            69   \n",
       "4           1        1  ...               2            50           680   \n",
       "\n",
       "   hotel_cluster  search_year  search_month  search_dayofweek  search_hour   \n",
       "0              1         2014             8                 0            8  \\\n",
       "1              2         2014             2                 3           18   \n",
       "2             58         2013             6                 5           15   \n",
       "3             36         2014            11                 6           18   \n",
       "4             95         2014             1                 4           16   \n",
       "\n",
       "   lead_time  stay_nights  \n",
       "0         17            4  \n",
       "1         49            2  \n",
       "2         82            8  \n",
       "3        214            2  \n",
       "4         49            5  \n",
       "\n",
       "[5 rows x 29 columns]"
      ]
     },
     "execution_count": 20,
     "metadata": {},
     "output_type": "execute_result"
    }
   ],
   "source": [
    "df.head()"
   ]
  },
  {
   "cell_type": "code",
   "execution_count": 20,
   "id": "e8b6f125",
   "metadata": {},
   "outputs": [],
   "source": [
    "df=df.drop(columns=['is_booking','cnt'])"
   ]
  },
  {
   "cell_type": "code",
   "execution_count": 21,
   "id": "63a32ed9",
   "metadata": {},
   "outputs": [],
   "source": [
    "\n",
    "# Convert srch_ci and srch_co to datetime (if not already)\n",
    "df['srch_ci'] = pd.to_datetime(df['srch_ci'], errors='coerce')\n",
    "df['srch_co'] = pd.to_datetime(df['srch_co'], errors='coerce')\n",
    "\n",
    "# Extract year, month, day from check-in\n",
    "df['ci_year'] = df['srch_ci'].dt.year\n",
    "df['ci_month'] = df['srch_ci'].dt.month\n",
    "df['ci_day'] = df['srch_ci'].dt.day\n",
    "df['ci_weekday'] = df['srch_ci'].dt.weekday  # 0=Monday, 6=Sunday\n",
    "\n",
    "# Extract year, month, day from check-out (optional)\n",
    "df['co_year'] = df['srch_co'].dt.year\n",
    "df['co_month'] = df['srch_co'].dt.month\n",
    "df['co_day'] = df['srch_co'].dt.day\n",
    "df['co_weekday'] = df['srch_co'].dt.weekday\n",
    "\n",
    "# Stay length in days\n",
    "df['stay_length'] = (df['srch_co'] - df['srch_ci']).dt.days\n",
    "\n",
    "# Drop original date columns (if not needed)\n",
    "df = df.drop(['srch_ci', 'srch_co'], axis=1)\n"
   ]
  },
  {
   "cell_type": "code",
   "execution_count": 22,
   "id": "71277791",
   "metadata": {},
   "outputs": [],
   "source": [
    "df=df.drop(columns=['stay_length'], axis=1)"
   ]
  },
  {
   "cell_type": "code",
   "execution_count": 23,
   "id": "db215f95",
   "metadata": {},
   "outputs": [
    {
     "data": {
      "application/vnd.microsoft.datawrangler.viewer.v0+json": {
       "columns": [
        {
         "name": "index",
         "rawType": "int64",
         "type": "integer"
        },
        {
         "name": "site_name",
         "rawType": "int64",
         "type": "integer"
        },
        {
         "name": "posa_continent",
         "rawType": "int64",
         "type": "integer"
        },
        {
         "name": "user_location_country",
         "rawType": "int64",
         "type": "integer"
        },
        {
         "name": "user_location_region",
         "rawType": "int64",
         "type": "integer"
        },
        {
         "name": "user_location_city",
         "rawType": "int64",
         "type": "integer"
        },
        {
         "name": "orig_destination_distance",
         "rawType": "float64",
         "type": "float"
        },
        {
         "name": "user_id",
         "rawType": "int64",
         "type": "integer"
        },
        {
         "name": "is_mobile",
         "rawType": "int64",
         "type": "integer"
        },
        {
         "name": "is_package",
         "rawType": "int64",
         "type": "integer"
        },
        {
         "name": "channel",
         "rawType": "int64",
         "type": "integer"
        },
        {
         "name": "srch_adults_cnt",
         "rawType": "int64",
         "type": "integer"
        },
        {
         "name": "srch_children_cnt",
         "rawType": "int64",
         "type": "integer"
        },
        {
         "name": "srch_rm_cnt",
         "rawType": "int64",
         "type": "integer"
        },
        {
         "name": "srch_destination_id",
         "rawType": "int64",
         "type": "integer"
        },
        {
         "name": "srch_destination_type_id",
         "rawType": "int64",
         "type": "integer"
        },
        {
         "name": "hotel_continent",
         "rawType": "int64",
         "type": "integer"
        },
        {
         "name": "hotel_country",
         "rawType": "int64",
         "type": "integer"
        },
        {
         "name": "hotel_market",
         "rawType": "int64",
         "type": "integer"
        },
        {
         "name": "hotel_cluster",
         "rawType": "int64",
         "type": "integer"
        },
        {
         "name": "search_year",
         "rawType": "int32",
         "type": "integer"
        },
        {
         "name": "search_month",
         "rawType": "int32",
         "type": "integer"
        },
        {
         "name": "search_dayofweek",
         "rawType": "int32",
         "type": "integer"
        },
        {
         "name": "search_hour",
         "rawType": "int32",
         "type": "integer"
        },
        {
         "name": "lead_time",
         "rawType": "int64",
         "type": "integer"
        },
        {
         "name": "stay_nights",
         "rawType": "int64",
         "type": "integer"
        },
        {
         "name": "ci_year",
         "rawType": "int32",
         "type": "integer"
        },
        {
         "name": "ci_month",
         "rawType": "int32",
         "type": "integer"
        },
        {
         "name": "ci_day",
         "rawType": "int32",
         "type": "integer"
        },
        {
         "name": "ci_weekday",
         "rawType": "int32",
         "type": "integer"
        },
        {
         "name": "co_year",
         "rawType": "int32",
         "type": "integer"
        },
        {
         "name": "co_month",
         "rawType": "int32",
         "type": "integer"
        },
        {
         "name": "co_day",
         "rawType": "int32",
         "type": "integer"
        },
        {
         "name": "co_weekday",
         "rawType": "int32",
         "type": "integer"
        }
       ],
       "ref": "bdf23f65-462e-4c7f-a9e6-f31674b6741a",
       "rows": [
        [
         "0",
         "2",
         "3",
         "66",
         "348",
         "48862",
         "2234.2641",
         "12",
         "0",
         "1",
         "9",
         "2",
         "0",
         "1",
         "8250",
         "1",
         "2",
         "50",
         "628",
         "1",
         "2014",
         "8",
         "0",
         "8",
         "17",
         "4",
         "2014",
         "8",
         "29",
         "4",
         "2014",
         "9",
         "2",
         "1"
        ],
        [
         "1",
         "2",
         "3",
         "66",
         "318",
         "52078",
         null,
         "756",
         "0",
         "1",
         "4",
         "2",
         "0",
         "1",
         "8291",
         "1",
         "2",
         "50",
         "191",
         "2",
         "2014",
         "2",
         "3",
         "18",
         "49",
         "2",
         "2014",
         "4",
         "18",
         "4",
         "2014",
         "4",
         "20",
         "6"
        ],
        [
         "2",
         "30",
         "4",
         "195",
         "548",
         "56440",
         null,
         "1048",
         "0",
         "1",
         "9",
         "2",
         "0",
         "1",
         "1385",
         "1",
         "0",
         "185",
         "185",
         "58",
         "2013",
         "6",
         "5",
         "15",
         "82",
         "8",
         "2013",
         "9",
         "6",
         "4",
         "2013",
         "9",
         "14",
         "5"
        ],
        [
         "3",
         "30",
         "4",
         "195",
         "991",
         "47725",
         null,
         "1048",
         "0",
         "0",
         "9",
         "2",
         "0",
         "1",
         "8803",
         "1",
         "3",
         "151",
         "69",
         "36",
         "2014",
         "11",
         "6",
         "18",
         "214",
         "2",
         "2015",
         "6",
         "26",
         "4",
         "2015",
         "6",
         "28",
         "6"
        ],
        [
         "4",
         "2",
         "3",
         "66",
         "462",
         "41898",
         "2454.8588",
         "1482",
         "0",
         "1",
         "1",
         "3",
         "0",
         "2",
         "12009",
         "1",
         "2",
         "50",
         "680",
         "95",
         "2014",
         "1",
         "4",
         "16",
         "49",
         "5",
         "2014",
         "2",
         "22",
         "5",
         "2014",
         "2",
         "27",
         "3"
        ]
       ],
       "shape": {
        "columns": 33,
        "rows": 5
       }
      },
      "text/html": [
       "<div>\n",
       "<style scoped>\n",
       "    .dataframe tbody tr th:only-of-type {\n",
       "        vertical-align: middle;\n",
       "    }\n",
       "\n",
       "    .dataframe tbody tr th {\n",
       "        vertical-align: top;\n",
       "    }\n",
       "\n",
       "    .dataframe thead th {\n",
       "        text-align: right;\n",
       "    }\n",
       "</style>\n",
       "<table border=\"1\" class=\"dataframe\">\n",
       "  <thead>\n",
       "    <tr style=\"text-align: right;\">\n",
       "      <th></th>\n",
       "      <th>site_name</th>\n",
       "      <th>posa_continent</th>\n",
       "      <th>user_location_country</th>\n",
       "      <th>user_location_region</th>\n",
       "      <th>user_location_city</th>\n",
       "      <th>orig_destination_distance</th>\n",
       "      <th>user_id</th>\n",
       "      <th>is_mobile</th>\n",
       "      <th>is_package</th>\n",
       "      <th>channel</th>\n",
       "      <th>...</th>\n",
       "      <th>lead_time</th>\n",
       "      <th>stay_nights</th>\n",
       "      <th>ci_year</th>\n",
       "      <th>ci_month</th>\n",
       "      <th>ci_day</th>\n",
       "      <th>ci_weekday</th>\n",
       "      <th>co_year</th>\n",
       "      <th>co_month</th>\n",
       "      <th>co_day</th>\n",
       "      <th>co_weekday</th>\n",
       "    </tr>\n",
       "  </thead>\n",
       "  <tbody>\n",
       "    <tr>\n",
       "      <th>0</th>\n",
       "      <td>2</td>\n",
       "      <td>3</td>\n",
       "      <td>66</td>\n",
       "      <td>348</td>\n",
       "      <td>48862</td>\n",
       "      <td>2234.26</td>\n",
       "      <td>12</td>\n",
       "      <td>0</td>\n",
       "      <td>1</td>\n",
       "      <td>9</td>\n",
       "      <td>...</td>\n",
       "      <td>17</td>\n",
       "      <td>4</td>\n",
       "      <td>2014</td>\n",
       "      <td>8</td>\n",
       "      <td>29</td>\n",
       "      <td>4</td>\n",
       "      <td>2014</td>\n",
       "      <td>9</td>\n",
       "      <td>2</td>\n",
       "      <td>1</td>\n",
       "    </tr>\n",
       "    <tr>\n",
       "      <th>1</th>\n",
       "      <td>2</td>\n",
       "      <td>3</td>\n",
       "      <td>66</td>\n",
       "      <td>318</td>\n",
       "      <td>52078</td>\n",
       "      <td>NaN</td>\n",
       "      <td>756</td>\n",
       "      <td>0</td>\n",
       "      <td>1</td>\n",
       "      <td>4</td>\n",
       "      <td>...</td>\n",
       "      <td>49</td>\n",
       "      <td>2</td>\n",
       "      <td>2014</td>\n",
       "      <td>4</td>\n",
       "      <td>18</td>\n",
       "      <td>4</td>\n",
       "      <td>2014</td>\n",
       "      <td>4</td>\n",
       "      <td>20</td>\n",
       "      <td>6</td>\n",
       "    </tr>\n",
       "    <tr>\n",
       "      <th>2</th>\n",
       "      <td>30</td>\n",
       "      <td>4</td>\n",
       "      <td>195</td>\n",
       "      <td>548</td>\n",
       "      <td>56440</td>\n",
       "      <td>NaN</td>\n",
       "      <td>1048</td>\n",
       "      <td>0</td>\n",
       "      <td>1</td>\n",
       "      <td>9</td>\n",
       "      <td>...</td>\n",
       "      <td>82</td>\n",
       "      <td>8</td>\n",
       "      <td>2013</td>\n",
       "      <td>9</td>\n",
       "      <td>6</td>\n",
       "      <td>4</td>\n",
       "      <td>2013</td>\n",
       "      <td>9</td>\n",
       "      <td>14</td>\n",
       "      <td>5</td>\n",
       "    </tr>\n",
       "    <tr>\n",
       "      <th>3</th>\n",
       "      <td>30</td>\n",
       "      <td>4</td>\n",
       "      <td>195</td>\n",
       "      <td>991</td>\n",
       "      <td>47725</td>\n",
       "      <td>NaN</td>\n",
       "      <td>1048</td>\n",
       "      <td>0</td>\n",
       "      <td>0</td>\n",
       "      <td>9</td>\n",
       "      <td>...</td>\n",
       "      <td>214</td>\n",
       "      <td>2</td>\n",
       "      <td>2015</td>\n",
       "      <td>6</td>\n",
       "      <td>26</td>\n",
       "      <td>4</td>\n",
       "      <td>2015</td>\n",
       "      <td>6</td>\n",
       "      <td>28</td>\n",
       "      <td>6</td>\n",
       "    </tr>\n",
       "    <tr>\n",
       "      <th>4</th>\n",
       "      <td>2</td>\n",
       "      <td>3</td>\n",
       "      <td>66</td>\n",
       "      <td>462</td>\n",
       "      <td>41898</td>\n",
       "      <td>2454.86</td>\n",
       "      <td>1482</td>\n",
       "      <td>0</td>\n",
       "      <td>1</td>\n",
       "      <td>1</td>\n",
       "      <td>...</td>\n",
       "      <td>49</td>\n",
       "      <td>5</td>\n",
       "      <td>2014</td>\n",
       "      <td>2</td>\n",
       "      <td>22</td>\n",
       "      <td>5</td>\n",
       "      <td>2014</td>\n",
       "      <td>2</td>\n",
       "      <td>27</td>\n",
       "      <td>3</td>\n",
       "    </tr>\n",
       "  </tbody>\n",
       "</table>\n",
       "<p>5 rows × 33 columns</p>\n",
       "</div>"
      ],
      "text/plain": [
       "   site_name  posa_continent  user_location_country  user_location_region   \n",
       "0          2               3                     66                   348  \\\n",
       "1          2               3                     66                   318   \n",
       "2         30               4                    195                   548   \n",
       "3         30               4                    195                   991   \n",
       "4          2               3                     66                   462   \n",
       "\n",
       "   user_location_city  orig_destination_distance  user_id  is_mobile   \n",
       "0               48862                    2234.26       12          0  \\\n",
       "1               52078                        NaN      756          0   \n",
       "2               56440                        NaN     1048          0   \n",
       "3               47725                        NaN     1048          0   \n",
       "4               41898                    2454.86     1482          0   \n",
       "\n",
       "   is_package  channel  ...  lead_time  stay_nights  ci_year  ci_month   \n",
       "0           1        9  ...         17            4     2014         8  \\\n",
       "1           1        4  ...         49            2     2014         4   \n",
       "2           1        9  ...         82            8     2013         9   \n",
       "3           0        9  ...        214            2     2015         6   \n",
       "4           1        1  ...         49            5     2014         2   \n",
       "\n",
       "   ci_day  ci_weekday  co_year  co_month  co_day  co_weekday  \n",
       "0      29           4     2014         9       2           1  \n",
       "1      18           4     2014         4      20           6  \n",
       "2       6           4     2013         9      14           5  \n",
       "3      26           4     2015         6      28           6  \n",
       "4      22           5     2014         2      27           3  \n",
       "\n",
       "[5 rows x 33 columns]"
      ]
     },
     "execution_count": 23,
     "metadata": {},
     "output_type": "execute_result"
    }
   ],
   "source": [
    "df.head()"
   ]
  },
  {
   "cell_type": "code",
   "execution_count": 24,
   "id": "252159b8",
   "metadata": {},
   "outputs": [],
   "source": [
    "X= df.drop(['hotel_cluster','orig_destination_distance'], axis=1)\n",
    "y= df['hotel_cluster']"
   ]
  },
  {
   "cell_type": "code",
   "execution_count": 25,
   "id": "637f9ebf",
   "metadata": {},
   "outputs": [],
   "source": [
    "X_train, X_test, y_train, y_test = train_test_split(X, y, test_size=0.2, random_state=42)"
   ]
  },
  {
   "cell_type": "code",
   "execution_count": 26,
   "id": "573d63ac",
   "metadata": {},
   "outputs": [],
   "source": [
    "model1=DecisionTreeClassifier(max_depth=5)\n",
    "model1.fit(X_train, y_train)\n",
    "y_pred = model1.predict(X_test)"
   ]
  },
  {
   "cell_type": "code",
   "execution_count": 27,
   "id": "d6a72ee0",
   "metadata": {},
   "outputs": [
    {
     "name": "stdout",
     "output_type": "stream",
     "text": [
      "DecisionTreeClassifier Accuracy: 0.0959\n"
     ]
    }
   ],
   "source": [
    "accuracy = accuracy_score(y_test, y_pred)\n",
    "print(f\"DecisionTreeClassifier Accuracy: {accuracy:.4f}\")"
   ]
  },
  {
   "cell_type": "markdown",
   "id": "04e19301",
   "metadata": {},
   "source": [
    "# Simple Logistic regression"
   ]
  },
  {
   "cell_type": "code",
   "execution_count": 28,
   "id": "d8d4fecd",
   "metadata": {},
   "outputs": [],
   "source": [
    "from sklearn.linear_model import LogisticRegression\n"
   ]
  },
  {
   "cell_type": "code",
   "execution_count": 29,
   "id": "1abd862d",
   "metadata": {},
   "outputs": [],
   "source": [
    "model2 = LogisticRegression(multi_class='multinomial', max_iter=100, solver='lbfgs')\n",
    "model2.fit(X_train, y_train)\n",
    "probs = model2.predict_proba(X_test)\n",
    "top5 = np.argsort(probs, axis=1)[:, -5:]"
   ]
  },
  {
   "cell_type": "code",
   "execution_count": 30,
   "id": "31afc2cd",
   "metadata": {},
   "outputs": [
    {
     "name": "stdout",
     "output_type": "stream",
     "text": [
      "LogisticRegression Top-1 Accuracy: 0.0396\n"
     ]
    }
   ],
   "source": [
    "y_pred = model2.predict(X_test)\n",
    "acc = accuracy_score(y_test, y_pred)\n",
    "print(f\"LogisticRegression Top-1 Accuracy: {acc:.4f}\")"
   ]
  },
  {
   "cell_type": "code",
   "execution_count": 31,
   "id": "5a94db39",
   "metadata": {},
   "outputs": [
    {
     "data": {
      "application/vnd.microsoft.datawrangler.viewer.v0+json": {
       "columns": [
        {
         "name": "index",
         "rawType": "int64",
         "type": "integer"
        },
        {
         "name": "site_name",
         "rawType": "int64",
         "type": "integer"
        },
        {
         "name": "posa_continent",
         "rawType": "int64",
         "type": "integer"
        },
        {
         "name": "user_location_country",
         "rawType": "int64",
         "type": "integer"
        },
        {
         "name": "user_location_region",
         "rawType": "int64",
         "type": "integer"
        },
        {
         "name": "user_location_city",
         "rawType": "int64",
         "type": "integer"
        },
        {
         "name": "orig_destination_distance",
         "rawType": "float64",
         "type": "float"
        },
        {
         "name": "user_id",
         "rawType": "int64",
         "type": "integer"
        },
        {
         "name": "is_mobile",
         "rawType": "int64",
         "type": "integer"
        },
        {
         "name": "is_package",
         "rawType": "int64",
         "type": "integer"
        },
        {
         "name": "channel",
         "rawType": "int64",
         "type": "integer"
        },
        {
         "name": "srch_adults_cnt",
         "rawType": "int64",
         "type": "integer"
        },
        {
         "name": "srch_children_cnt",
         "rawType": "int64",
         "type": "integer"
        },
        {
         "name": "srch_rm_cnt",
         "rawType": "int64",
         "type": "integer"
        },
        {
         "name": "srch_destination_id",
         "rawType": "int64",
         "type": "integer"
        },
        {
         "name": "srch_destination_type_id",
         "rawType": "int64",
         "type": "integer"
        },
        {
         "name": "hotel_continent",
         "rawType": "int64",
         "type": "integer"
        },
        {
         "name": "hotel_country",
         "rawType": "int64",
         "type": "integer"
        },
        {
         "name": "hotel_market",
         "rawType": "int64",
         "type": "integer"
        },
        {
         "name": "hotel_cluster",
         "rawType": "int64",
         "type": "integer"
        },
        {
         "name": "search_year",
         "rawType": "int32",
         "type": "integer"
        },
        {
         "name": "search_month",
         "rawType": "int32",
         "type": "integer"
        },
        {
         "name": "search_dayofweek",
         "rawType": "int32",
         "type": "integer"
        },
        {
         "name": "search_hour",
         "rawType": "int32",
         "type": "integer"
        },
        {
         "name": "lead_time",
         "rawType": "int64",
         "type": "integer"
        },
        {
         "name": "stay_nights",
         "rawType": "int64",
         "type": "integer"
        },
        {
         "name": "ci_year",
         "rawType": "int32",
         "type": "integer"
        },
        {
         "name": "ci_month",
         "rawType": "int32",
         "type": "integer"
        },
        {
         "name": "ci_day",
         "rawType": "int32",
         "type": "integer"
        },
        {
         "name": "ci_weekday",
         "rawType": "int32",
         "type": "integer"
        },
        {
         "name": "co_year",
         "rawType": "int32",
         "type": "integer"
        },
        {
         "name": "co_month",
         "rawType": "int32",
         "type": "integer"
        },
        {
         "name": "co_day",
         "rawType": "int32",
         "type": "integer"
        },
        {
         "name": "co_weekday",
         "rawType": "int32",
         "type": "integer"
        }
       ],
       "ref": "2e971cd8-a407-46c0-b11c-93d686fd99c5",
       "rows": [
        [
         "0",
         "2",
         "3",
         "66",
         "348",
         "48862",
         "2234.2641",
         "12",
         "0",
         "1",
         "9",
         "2",
         "0",
         "1",
         "8250",
         "1",
         "2",
         "50",
         "628",
         "1",
         "2014",
         "8",
         "0",
         "8",
         "17",
         "4",
         "2014",
         "8",
         "29",
         "4",
         "2014",
         "9",
         "2",
         "1"
        ],
        [
         "1",
         "2",
         "3",
         "66",
         "318",
         "52078",
         null,
         "756",
         "0",
         "1",
         "4",
         "2",
         "0",
         "1",
         "8291",
         "1",
         "2",
         "50",
         "191",
         "2",
         "2014",
         "2",
         "3",
         "18",
         "49",
         "2",
         "2014",
         "4",
         "18",
         "4",
         "2014",
         "4",
         "20",
         "6"
        ],
        [
         "2",
         "30",
         "4",
         "195",
         "548",
         "56440",
         null,
         "1048",
         "0",
         "1",
         "9",
         "2",
         "0",
         "1",
         "1385",
         "1",
         "0",
         "185",
         "185",
         "58",
         "2013",
         "6",
         "5",
         "15",
         "82",
         "8",
         "2013",
         "9",
         "6",
         "4",
         "2013",
         "9",
         "14",
         "5"
        ],
        [
         "3",
         "30",
         "4",
         "195",
         "991",
         "47725",
         null,
         "1048",
         "0",
         "0",
         "9",
         "2",
         "0",
         "1",
         "8803",
         "1",
         "3",
         "151",
         "69",
         "36",
         "2014",
         "11",
         "6",
         "18",
         "214",
         "2",
         "2015",
         "6",
         "26",
         "4",
         "2015",
         "6",
         "28",
         "6"
        ],
        [
         "4",
         "2",
         "3",
         "66",
         "462",
         "41898",
         "2454.8588",
         "1482",
         "0",
         "1",
         "1",
         "3",
         "0",
         "2",
         "12009",
         "1",
         "2",
         "50",
         "680",
         "95",
         "2014",
         "1",
         "4",
         "16",
         "49",
         "5",
         "2014",
         "2",
         "22",
         "5",
         "2014",
         "2",
         "27",
         "3"
        ]
       ],
       "shape": {
        "columns": 33,
        "rows": 5
       }
      },
      "text/html": [
       "<div>\n",
       "<style scoped>\n",
       "    .dataframe tbody tr th:only-of-type {\n",
       "        vertical-align: middle;\n",
       "    }\n",
       "\n",
       "    .dataframe tbody tr th {\n",
       "        vertical-align: top;\n",
       "    }\n",
       "\n",
       "    .dataframe thead th {\n",
       "        text-align: right;\n",
       "    }\n",
       "</style>\n",
       "<table border=\"1\" class=\"dataframe\">\n",
       "  <thead>\n",
       "    <tr style=\"text-align: right;\">\n",
       "      <th></th>\n",
       "      <th>site_name</th>\n",
       "      <th>posa_continent</th>\n",
       "      <th>user_location_country</th>\n",
       "      <th>user_location_region</th>\n",
       "      <th>user_location_city</th>\n",
       "      <th>orig_destination_distance</th>\n",
       "      <th>user_id</th>\n",
       "      <th>is_mobile</th>\n",
       "      <th>is_package</th>\n",
       "      <th>channel</th>\n",
       "      <th>...</th>\n",
       "      <th>lead_time</th>\n",
       "      <th>stay_nights</th>\n",
       "      <th>ci_year</th>\n",
       "      <th>ci_month</th>\n",
       "      <th>ci_day</th>\n",
       "      <th>ci_weekday</th>\n",
       "      <th>co_year</th>\n",
       "      <th>co_month</th>\n",
       "      <th>co_day</th>\n",
       "      <th>co_weekday</th>\n",
       "    </tr>\n",
       "  </thead>\n",
       "  <tbody>\n",
       "    <tr>\n",
       "      <th>0</th>\n",
       "      <td>2</td>\n",
       "      <td>3</td>\n",
       "      <td>66</td>\n",
       "      <td>348</td>\n",
       "      <td>48862</td>\n",
       "      <td>2234.26</td>\n",
       "      <td>12</td>\n",
       "      <td>0</td>\n",
       "      <td>1</td>\n",
       "      <td>9</td>\n",
       "      <td>...</td>\n",
       "      <td>17</td>\n",
       "      <td>4</td>\n",
       "      <td>2014</td>\n",
       "      <td>8</td>\n",
       "      <td>29</td>\n",
       "      <td>4</td>\n",
       "      <td>2014</td>\n",
       "      <td>9</td>\n",
       "      <td>2</td>\n",
       "      <td>1</td>\n",
       "    </tr>\n",
       "    <tr>\n",
       "      <th>1</th>\n",
       "      <td>2</td>\n",
       "      <td>3</td>\n",
       "      <td>66</td>\n",
       "      <td>318</td>\n",
       "      <td>52078</td>\n",
       "      <td>NaN</td>\n",
       "      <td>756</td>\n",
       "      <td>0</td>\n",
       "      <td>1</td>\n",
       "      <td>4</td>\n",
       "      <td>...</td>\n",
       "      <td>49</td>\n",
       "      <td>2</td>\n",
       "      <td>2014</td>\n",
       "      <td>4</td>\n",
       "      <td>18</td>\n",
       "      <td>4</td>\n",
       "      <td>2014</td>\n",
       "      <td>4</td>\n",
       "      <td>20</td>\n",
       "      <td>6</td>\n",
       "    </tr>\n",
       "    <tr>\n",
       "      <th>2</th>\n",
       "      <td>30</td>\n",
       "      <td>4</td>\n",
       "      <td>195</td>\n",
       "      <td>548</td>\n",
       "      <td>56440</td>\n",
       "      <td>NaN</td>\n",
       "      <td>1048</td>\n",
       "      <td>0</td>\n",
       "      <td>1</td>\n",
       "      <td>9</td>\n",
       "      <td>...</td>\n",
       "      <td>82</td>\n",
       "      <td>8</td>\n",
       "      <td>2013</td>\n",
       "      <td>9</td>\n",
       "      <td>6</td>\n",
       "      <td>4</td>\n",
       "      <td>2013</td>\n",
       "      <td>9</td>\n",
       "      <td>14</td>\n",
       "      <td>5</td>\n",
       "    </tr>\n",
       "    <tr>\n",
       "      <th>3</th>\n",
       "      <td>30</td>\n",
       "      <td>4</td>\n",
       "      <td>195</td>\n",
       "      <td>991</td>\n",
       "      <td>47725</td>\n",
       "      <td>NaN</td>\n",
       "      <td>1048</td>\n",
       "      <td>0</td>\n",
       "      <td>0</td>\n",
       "      <td>9</td>\n",
       "      <td>...</td>\n",
       "      <td>214</td>\n",
       "      <td>2</td>\n",
       "      <td>2015</td>\n",
       "      <td>6</td>\n",
       "      <td>26</td>\n",
       "      <td>4</td>\n",
       "      <td>2015</td>\n",
       "      <td>6</td>\n",
       "      <td>28</td>\n",
       "      <td>6</td>\n",
       "    </tr>\n",
       "    <tr>\n",
       "      <th>4</th>\n",
       "      <td>2</td>\n",
       "      <td>3</td>\n",
       "      <td>66</td>\n",
       "      <td>462</td>\n",
       "      <td>41898</td>\n",
       "      <td>2454.86</td>\n",
       "      <td>1482</td>\n",
       "      <td>0</td>\n",
       "      <td>1</td>\n",
       "      <td>1</td>\n",
       "      <td>...</td>\n",
       "      <td>49</td>\n",
       "      <td>5</td>\n",
       "      <td>2014</td>\n",
       "      <td>2</td>\n",
       "      <td>22</td>\n",
       "      <td>5</td>\n",
       "      <td>2014</td>\n",
       "      <td>2</td>\n",
       "      <td>27</td>\n",
       "      <td>3</td>\n",
       "    </tr>\n",
       "  </tbody>\n",
       "</table>\n",
       "<p>5 rows × 33 columns</p>\n",
       "</div>"
      ],
      "text/plain": [
       "   site_name  posa_continent  user_location_country  user_location_region   \n",
       "0          2               3                     66                   348  \\\n",
       "1          2               3                     66                   318   \n",
       "2         30               4                    195                   548   \n",
       "3         30               4                    195                   991   \n",
       "4          2               3                     66                   462   \n",
       "\n",
       "   user_location_city  orig_destination_distance  user_id  is_mobile   \n",
       "0               48862                    2234.26       12          0  \\\n",
       "1               52078                        NaN      756          0   \n",
       "2               56440                        NaN     1048          0   \n",
       "3               47725                        NaN     1048          0   \n",
       "4               41898                    2454.86     1482          0   \n",
       "\n",
       "   is_package  channel  ...  lead_time  stay_nights  ci_year  ci_month   \n",
       "0           1        9  ...         17            4     2014         8  \\\n",
       "1           1        4  ...         49            2     2014         4   \n",
       "2           1        9  ...         82            8     2013         9   \n",
       "3           0        9  ...        214            2     2015         6   \n",
       "4           1        1  ...         49            5     2014         2   \n",
       "\n",
       "   ci_day  ci_weekday  co_year  co_month  co_day  co_weekday  \n",
       "0      29           4     2014         9       2           1  \n",
       "1      18           4     2014         4      20           6  \n",
       "2       6           4     2013         9      14           5  \n",
       "3      26           4     2015         6      28           6  \n",
       "4      22           5     2014         2      27           3  \n",
       "\n",
       "[5 rows x 33 columns]"
      ]
     },
     "execution_count": 31,
     "metadata": {},
     "output_type": "execute_result"
    }
   ],
   "source": [
    "df.head()"
   ]
  },
  {
   "cell_type": "code",
   "execution_count": 32,
   "id": "7b0842a6",
   "metadata": {},
   "outputs": [
    {
     "data": {
      "text/plain": [
       "322733"
      ]
     },
     "execution_count": 32,
     "metadata": {},
     "output_type": "execute_result"
    }
   ],
   "source": [
    "df['orig_destination_distance'].isna().sum()"
   ]
  },
  {
   "cell_type": "code",
   "execution_count": 33,
   "id": "d8620f92",
   "metadata": {},
   "outputs": [],
   "source": [
    "df['orig_destination_distance'] = df['orig_destination_distance'].fillna(df['orig_destination_distance'].median())"
   ]
  },
  {
   "cell_type": "code",
   "execution_count": 34,
   "id": "7ca56f2a",
   "metadata": {},
   "outputs": [
    {
     "data": {
      "application/vnd.microsoft.datawrangler.viewer.v0+json": {
       "columns": [
        {
         "name": "index",
         "rawType": "object",
         "type": "string"
        },
        {
         "name": "0",
         "rawType": "int64",
         "type": "integer"
        }
       ],
       "ref": "a15772d7-9d0a-45da-898c-f043a0ad46a8",
       "rows": [
        [
         "site_name",
         "0"
        ],
        [
         "posa_continent",
         "0"
        ],
        [
         "user_location_country",
         "0"
        ],
        [
         "user_location_region",
         "0"
        ],
        [
         "user_location_city",
         "0"
        ],
        [
         "orig_destination_distance",
         "0"
        ],
        [
         "user_id",
         "0"
        ],
        [
         "is_mobile",
         "0"
        ],
        [
         "is_package",
         "0"
        ],
        [
         "channel",
         "0"
        ],
        [
         "srch_adults_cnt",
         "0"
        ],
        [
         "srch_children_cnt",
         "0"
        ],
        [
         "srch_rm_cnt",
         "0"
        ],
        [
         "srch_destination_id",
         "0"
        ],
        [
         "srch_destination_type_id",
         "0"
        ],
        [
         "hotel_continent",
         "0"
        ],
        [
         "hotel_country",
         "0"
        ],
        [
         "hotel_market",
         "0"
        ],
        [
         "hotel_cluster",
         "0"
        ],
        [
         "search_year",
         "0"
        ],
        [
         "search_month",
         "0"
        ],
        [
         "search_dayofweek",
         "0"
        ],
        [
         "search_hour",
         "0"
        ],
        [
         "lead_time",
         "0"
        ],
        [
         "stay_nights",
         "0"
        ],
        [
         "ci_year",
         "0"
        ],
        [
         "ci_month",
         "0"
        ],
        [
         "ci_day",
         "0"
        ],
        [
         "ci_weekday",
         "0"
        ],
        [
         "co_year",
         "0"
        ],
        [
         "co_month",
         "0"
        ],
        [
         "co_day",
         "0"
        ],
        [
         "co_weekday",
         "0"
        ]
       ],
       "shape": {
        "columns": 1,
        "rows": 33
       }
      },
      "text/plain": [
       "site_name                    0\n",
       "posa_continent               0\n",
       "user_location_country        0\n",
       "user_location_region         0\n",
       "user_location_city           0\n",
       "orig_destination_distance    0\n",
       "user_id                      0\n",
       "is_mobile                    0\n",
       "is_package                   0\n",
       "channel                      0\n",
       "srch_adults_cnt              0\n",
       "srch_children_cnt            0\n",
       "srch_rm_cnt                  0\n",
       "srch_destination_id          0\n",
       "srch_destination_type_id     0\n",
       "hotel_continent              0\n",
       "hotel_country                0\n",
       "hotel_market                 0\n",
       "hotel_cluster                0\n",
       "search_year                  0\n",
       "search_month                 0\n",
       "search_dayofweek             0\n",
       "search_hour                  0\n",
       "lead_time                    0\n",
       "stay_nights                  0\n",
       "ci_year                      0\n",
       "ci_month                     0\n",
       "ci_day                       0\n",
       "ci_weekday                   0\n",
       "co_year                      0\n",
       "co_month                     0\n",
       "co_day                       0\n",
       "co_weekday                   0\n",
       "dtype: int64"
      ]
     },
     "execution_count": 34,
     "metadata": {},
     "output_type": "execute_result"
    }
   ],
   "source": [
    "df.isna().sum()"
   ]
  },
  {
   "cell_type": "code",
   "execution_count": null,
   "id": "2b31129f",
   "metadata": {},
   "outputs": [],
   "source": []
  },
  {
   "cell_type": "markdown",
   "id": "a1cd499e",
   "metadata": {},
   "source": [
    "# Model 2 : Decision tree after imputation"
   ]
  },
  {
   "cell_type": "code",
   "execution_count": 35,
   "id": "6e828999",
   "metadata": {},
   "outputs": [
    {
     "data": {
      "application/vnd.microsoft.datawrangler.viewer.v0+json": {
       "columns": [
        {
         "name": "index",
         "rawType": "int64",
         "type": "integer"
        },
        {
         "name": "site_name",
         "rawType": "int64",
         "type": "integer"
        },
        {
         "name": "posa_continent",
         "rawType": "int64",
         "type": "integer"
        },
        {
         "name": "user_location_country",
         "rawType": "int64",
         "type": "integer"
        },
        {
         "name": "user_location_region",
         "rawType": "int64",
         "type": "integer"
        },
        {
         "name": "user_location_city",
         "rawType": "int64",
         "type": "integer"
        },
        {
         "name": "orig_destination_distance",
         "rawType": "float64",
         "type": "float"
        },
        {
         "name": "user_id",
         "rawType": "int64",
         "type": "integer"
        },
        {
         "name": "is_mobile",
         "rawType": "int64",
         "type": "integer"
        },
        {
         "name": "is_package",
         "rawType": "int64",
         "type": "integer"
        },
        {
         "name": "channel",
         "rawType": "int64",
         "type": "integer"
        },
        {
         "name": "srch_adults_cnt",
         "rawType": "int64",
         "type": "integer"
        },
        {
         "name": "srch_children_cnt",
         "rawType": "int64",
         "type": "integer"
        },
        {
         "name": "srch_rm_cnt",
         "rawType": "int64",
         "type": "integer"
        },
        {
         "name": "srch_destination_id",
         "rawType": "int64",
         "type": "integer"
        },
        {
         "name": "srch_destination_type_id",
         "rawType": "int64",
         "type": "integer"
        },
        {
         "name": "hotel_continent",
         "rawType": "int64",
         "type": "integer"
        },
        {
         "name": "hotel_country",
         "rawType": "int64",
         "type": "integer"
        },
        {
         "name": "hotel_market",
         "rawType": "int64",
         "type": "integer"
        },
        {
         "name": "hotel_cluster",
         "rawType": "int64",
         "type": "integer"
        },
        {
         "name": "search_year",
         "rawType": "int32",
         "type": "integer"
        },
        {
         "name": "search_month",
         "rawType": "int32",
         "type": "integer"
        },
        {
         "name": "search_dayofweek",
         "rawType": "int32",
         "type": "integer"
        },
        {
         "name": "search_hour",
         "rawType": "int32",
         "type": "integer"
        },
        {
         "name": "lead_time",
         "rawType": "int64",
         "type": "integer"
        },
        {
         "name": "stay_nights",
         "rawType": "int64",
         "type": "integer"
        },
        {
         "name": "ci_year",
         "rawType": "int32",
         "type": "integer"
        },
        {
         "name": "ci_month",
         "rawType": "int32",
         "type": "integer"
        },
        {
         "name": "ci_day",
         "rawType": "int32",
         "type": "integer"
        },
        {
         "name": "ci_weekday",
         "rawType": "int32",
         "type": "integer"
        },
        {
         "name": "co_year",
         "rawType": "int32",
         "type": "integer"
        },
        {
         "name": "co_month",
         "rawType": "int32",
         "type": "integer"
        },
        {
         "name": "co_day",
         "rawType": "int32",
         "type": "integer"
        },
        {
         "name": "co_weekday",
         "rawType": "int32",
         "type": "integer"
        }
       ],
       "ref": "ceab1424-6c8c-4243-a283-54c5ceb60e24",
       "rows": [
        [
         "0",
         "2",
         "3",
         "66",
         "348",
         "48862",
         "2234.2641",
         "12",
         "0",
         "1",
         "9",
         "2",
         "0",
         "1",
         "8250",
         "1",
         "2",
         "50",
         "628",
         "1",
         "2014",
         "8",
         "0",
         "8",
         "17",
         "4",
         "2014",
         "8",
         "29",
         "4",
         "2014",
         "9",
         "2",
         "1"
        ],
        [
         "1",
         "2",
         "3",
         "66",
         "318",
         "52078",
         "907.0869",
         "756",
         "0",
         "1",
         "4",
         "2",
         "0",
         "1",
         "8291",
         "1",
         "2",
         "50",
         "191",
         "2",
         "2014",
         "2",
         "3",
         "18",
         "49",
         "2",
         "2014",
         "4",
         "18",
         "4",
         "2014",
         "4",
         "20",
         "6"
        ],
        [
         "2",
         "30",
         "4",
         "195",
         "548",
         "56440",
         "907.0869",
         "1048",
         "0",
         "1",
         "9",
         "2",
         "0",
         "1",
         "1385",
         "1",
         "0",
         "185",
         "185",
         "58",
         "2013",
         "6",
         "5",
         "15",
         "82",
         "8",
         "2013",
         "9",
         "6",
         "4",
         "2013",
         "9",
         "14",
         "5"
        ],
        [
         "3",
         "30",
         "4",
         "195",
         "991",
         "47725",
         "907.0869",
         "1048",
         "0",
         "0",
         "9",
         "2",
         "0",
         "1",
         "8803",
         "1",
         "3",
         "151",
         "69",
         "36",
         "2014",
         "11",
         "6",
         "18",
         "214",
         "2",
         "2015",
         "6",
         "26",
         "4",
         "2015",
         "6",
         "28",
         "6"
        ],
        [
         "4",
         "2",
         "3",
         "66",
         "462",
         "41898",
         "2454.8588",
         "1482",
         "0",
         "1",
         "1",
         "3",
         "0",
         "2",
         "12009",
         "1",
         "2",
         "50",
         "680",
         "95",
         "2014",
         "1",
         "4",
         "16",
         "49",
         "5",
         "2014",
         "2",
         "22",
         "5",
         "2014",
         "2",
         "27",
         "3"
        ]
       ],
       "shape": {
        "columns": 33,
        "rows": 5
       }
      },
      "text/html": [
       "<div>\n",
       "<style scoped>\n",
       "    .dataframe tbody tr th:only-of-type {\n",
       "        vertical-align: middle;\n",
       "    }\n",
       "\n",
       "    .dataframe tbody tr th {\n",
       "        vertical-align: top;\n",
       "    }\n",
       "\n",
       "    .dataframe thead th {\n",
       "        text-align: right;\n",
       "    }\n",
       "</style>\n",
       "<table border=\"1\" class=\"dataframe\">\n",
       "  <thead>\n",
       "    <tr style=\"text-align: right;\">\n",
       "      <th></th>\n",
       "      <th>site_name</th>\n",
       "      <th>posa_continent</th>\n",
       "      <th>user_location_country</th>\n",
       "      <th>user_location_region</th>\n",
       "      <th>user_location_city</th>\n",
       "      <th>orig_destination_distance</th>\n",
       "      <th>user_id</th>\n",
       "      <th>is_mobile</th>\n",
       "      <th>is_package</th>\n",
       "      <th>channel</th>\n",
       "      <th>...</th>\n",
       "      <th>lead_time</th>\n",
       "      <th>stay_nights</th>\n",
       "      <th>ci_year</th>\n",
       "      <th>ci_month</th>\n",
       "      <th>ci_day</th>\n",
       "      <th>ci_weekday</th>\n",
       "      <th>co_year</th>\n",
       "      <th>co_month</th>\n",
       "      <th>co_day</th>\n",
       "      <th>co_weekday</th>\n",
       "    </tr>\n",
       "  </thead>\n",
       "  <tbody>\n",
       "    <tr>\n",
       "      <th>0</th>\n",
       "      <td>2</td>\n",
       "      <td>3</td>\n",
       "      <td>66</td>\n",
       "      <td>348</td>\n",
       "      <td>48862</td>\n",
       "      <td>2234.26</td>\n",
       "      <td>12</td>\n",
       "      <td>0</td>\n",
       "      <td>1</td>\n",
       "      <td>9</td>\n",
       "      <td>...</td>\n",
       "      <td>17</td>\n",
       "      <td>4</td>\n",
       "      <td>2014</td>\n",
       "      <td>8</td>\n",
       "      <td>29</td>\n",
       "      <td>4</td>\n",
       "      <td>2014</td>\n",
       "      <td>9</td>\n",
       "      <td>2</td>\n",
       "      <td>1</td>\n",
       "    </tr>\n",
       "    <tr>\n",
       "      <th>1</th>\n",
       "      <td>2</td>\n",
       "      <td>3</td>\n",
       "      <td>66</td>\n",
       "      <td>318</td>\n",
       "      <td>52078</td>\n",
       "      <td>907.09</td>\n",
       "      <td>756</td>\n",
       "      <td>0</td>\n",
       "      <td>1</td>\n",
       "      <td>4</td>\n",
       "      <td>...</td>\n",
       "      <td>49</td>\n",
       "      <td>2</td>\n",
       "      <td>2014</td>\n",
       "      <td>4</td>\n",
       "      <td>18</td>\n",
       "      <td>4</td>\n",
       "      <td>2014</td>\n",
       "      <td>4</td>\n",
       "      <td>20</td>\n",
       "      <td>6</td>\n",
       "    </tr>\n",
       "    <tr>\n",
       "      <th>2</th>\n",
       "      <td>30</td>\n",
       "      <td>4</td>\n",
       "      <td>195</td>\n",
       "      <td>548</td>\n",
       "      <td>56440</td>\n",
       "      <td>907.09</td>\n",
       "      <td>1048</td>\n",
       "      <td>0</td>\n",
       "      <td>1</td>\n",
       "      <td>9</td>\n",
       "      <td>...</td>\n",
       "      <td>82</td>\n",
       "      <td>8</td>\n",
       "      <td>2013</td>\n",
       "      <td>9</td>\n",
       "      <td>6</td>\n",
       "      <td>4</td>\n",
       "      <td>2013</td>\n",
       "      <td>9</td>\n",
       "      <td>14</td>\n",
       "      <td>5</td>\n",
       "    </tr>\n",
       "    <tr>\n",
       "      <th>3</th>\n",
       "      <td>30</td>\n",
       "      <td>4</td>\n",
       "      <td>195</td>\n",
       "      <td>991</td>\n",
       "      <td>47725</td>\n",
       "      <td>907.09</td>\n",
       "      <td>1048</td>\n",
       "      <td>0</td>\n",
       "      <td>0</td>\n",
       "      <td>9</td>\n",
       "      <td>...</td>\n",
       "      <td>214</td>\n",
       "      <td>2</td>\n",
       "      <td>2015</td>\n",
       "      <td>6</td>\n",
       "      <td>26</td>\n",
       "      <td>4</td>\n",
       "      <td>2015</td>\n",
       "      <td>6</td>\n",
       "      <td>28</td>\n",
       "      <td>6</td>\n",
       "    </tr>\n",
       "    <tr>\n",
       "      <th>4</th>\n",
       "      <td>2</td>\n",
       "      <td>3</td>\n",
       "      <td>66</td>\n",
       "      <td>462</td>\n",
       "      <td>41898</td>\n",
       "      <td>2454.86</td>\n",
       "      <td>1482</td>\n",
       "      <td>0</td>\n",
       "      <td>1</td>\n",
       "      <td>1</td>\n",
       "      <td>...</td>\n",
       "      <td>49</td>\n",
       "      <td>5</td>\n",
       "      <td>2014</td>\n",
       "      <td>2</td>\n",
       "      <td>22</td>\n",
       "      <td>5</td>\n",
       "      <td>2014</td>\n",
       "      <td>2</td>\n",
       "      <td>27</td>\n",
       "      <td>3</td>\n",
       "    </tr>\n",
       "  </tbody>\n",
       "</table>\n",
       "<p>5 rows × 33 columns</p>\n",
       "</div>"
      ],
      "text/plain": [
       "   site_name  posa_continent  user_location_country  user_location_region   \n",
       "0          2               3                     66                   348  \\\n",
       "1          2               3                     66                   318   \n",
       "2         30               4                    195                   548   \n",
       "3         30               4                    195                   991   \n",
       "4          2               3                     66                   462   \n",
       "\n",
       "   user_location_city  orig_destination_distance  user_id  is_mobile   \n",
       "0               48862                    2234.26       12          0  \\\n",
       "1               52078                     907.09      756          0   \n",
       "2               56440                     907.09     1048          0   \n",
       "3               47725                     907.09     1048          0   \n",
       "4               41898                    2454.86     1482          0   \n",
       "\n",
       "   is_package  channel  ...  lead_time  stay_nights  ci_year  ci_month   \n",
       "0           1        9  ...         17            4     2014         8  \\\n",
       "1           1        4  ...         49            2     2014         4   \n",
       "2           1        9  ...         82            8     2013         9   \n",
       "3           0        9  ...        214            2     2015         6   \n",
       "4           1        1  ...         49            5     2014         2   \n",
       "\n",
       "   ci_day  ci_weekday  co_year  co_month  co_day  co_weekday  \n",
       "0      29           4     2014         9       2           1  \n",
       "1      18           4     2014         4      20           6  \n",
       "2       6           4     2013         9      14           5  \n",
       "3      26           4     2015         6      28           6  \n",
       "4      22           5     2014         2      27           3  \n",
       "\n",
       "[5 rows x 33 columns]"
      ]
     },
     "execution_count": 35,
     "metadata": {},
     "output_type": "execute_result"
    }
   ],
   "source": [
    "df.head()"
   ]
  },
  {
   "cell_type": "code",
   "execution_count": 36,
   "id": "7bde0816",
   "metadata": {},
   "outputs": [],
   "source": [
    "X= df.drop(['hotel_cluster'], axis=1)\n",
    "y= df['hotel_cluster']"
   ]
  },
  {
   "cell_type": "code",
   "execution_count": 37,
   "id": "ed0eb130",
   "metadata": {},
   "outputs": [],
   "source": [
    "model2=DecisionTreeClassifier(max_depth=5)\n",
    "model2.fit(X_train, y_train)\n",
    "y_pred_model2 = model2.predict(X_test)"
   ]
  },
  {
   "cell_type": "code",
   "execution_count": 38,
   "id": "aaf8722e",
   "metadata": {},
   "outputs": [
    {
     "name": "stdout",
     "output_type": "stream",
     "text": [
      "DecisionTreeClassifier Accuracy: 0.0959\n"
     ]
    }
   ],
   "source": [
    "accuracy = accuracy_score(y_test, y_pred_model2)\n",
    "print(f\"DecisionTreeClassifier Accuracy: {accuracy:.4f}\")"
   ]
  },
  {
   "cell_type": "markdown",
   "id": "9c2d1908",
   "metadata": {},
   "source": [
    "# Decision tree classifier with more depth"
   ]
  },
  {
   "cell_type": "code",
   "execution_count": 39,
   "id": "535cc038",
   "metadata": {},
   "outputs": [
    {
     "data": {
      "text/html": [
       "<style>#sk-container-id-1 {color: black;background-color: white;}#sk-container-id-1 pre{padding: 0;}#sk-container-id-1 div.sk-toggleable {background-color: white;}#sk-container-id-1 label.sk-toggleable__label {cursor: pointer;display: block;width: 100%;margin-bottom: 0;padding: 0.3em;box-sizing: border-box;text-align: center;}#sk-container-id-1 label.sk-toggleable__label-arrow:before {content: \"▸\";float: left;margin-right: 0.25em;color: #696969;}#sk-container-id-1 label.sk-toggleable__label-arrow:hover:before {color: black;}#sk-container-id-1 div.sk-estimator:hover label.sk-toggleable__label-arrow:before {color: black;}#sk-container-id-1 div.sk-toggleable__content {max-height: 0;max-width: 0;overflow: hidden;text-align: left;background-color: #f0f8ff;}#sk-container-id-1 div.sk-toggleable__content pre {margin: 0.2em;color: black;border-radius: 0.25em;background-color: #f0f8ff;}#sk-container-id-1 input.sk-toggleable__control:checked~div.sk-toggleable__content {max-height: 200px;max-width: 100%;overflow: auto;}#sk-container-id-1 input.sk-toggleable__control:checked~label.sk-toggleable__label-arrow:before {content: \"▾\";}#sk-container-id-1 div.sk-estimator input.sk-toggleable__control:checked~label.sk-toggleable__label {background-color: #d4ebff;}#sk-container-id-1 div.sk-label input.sk-toggleable__control:checked~label.sk-toggleable__label {background-color: #d4ebff;}#sk-container-id-1 input.sk-hidden--visually {border: 0;clip: rect(1px 1px 1px 1px);clip: rect(1px, 1px, 1px, 1px);height: 1px;margin: -1px;overflow: hidden;padding: 0;position: absolute;width: 1px;}#sk-container-id-1 div.sk-estimator {font-family: monospace;background-color: #f0f8ff;border: 1px dotted black;border-radius: 0.25em;box-sizing: border-box;margin-bottom: 0.5em;}#sk-container-id-1 div.sk-estimator:hover {background-color: #d4ebff;}#sk-container-id-1 div.sk-parallel-item::after {content: \"\";width: 100%;border-bottom: 1px solid gray;flex-grow: 1;}#sk-container-id-1 div.sk-label:hover label.sk-toggleable__label {background-color: #d4ebff;}#sk-container-id-1 div.sk-serial::before {content: \"\";position: absolute;border-left: 1px solid gray;box-sizing: border-box;top: 0;bottom: 0;left: 50%;z-index: 0;}#sk-container-id-1 div.sk-serial {display: flex;flex-direction: column;align-items: center;background-color: white;padding-right: 0.2em;padding-left: 0.2em;position: relative;}#sk-container-id-1 div.sk-item {position: relative;z-index: 1;}#sk-container-id-1 div.sk-parallel {display: flex;align-items: stretch;justify-content: center;background-color: white;position: relative;}#sk-container-id-1 div.sk-item::before, #sk-container-id-1 div.sk-parallel-item::before {content: \"\";position: absolute;border-left: 1px solid gray;box-sizing: border-box;top: 0;bottom: 0;left: 50%;z-index: -1;}#sk-container-id-1 div.sk-parallel-item {display: flex;flex-direction: column;z-index: 1;position: relative;background-color: white;}#sk-container-id-1 div.sk-parallel-item:first-child::after {align-self: flex-end;width: 50%;}#sk-container-id-1 div.sk-parallel-item:last-child::after {align-self: flex-start;width: 50%;}#sk-container-id-1 div.sk-parallel-item:only-child::after {width: 0;}#sk-container-id-1 div.sk-dashed-wrapped {border: 1px dashed gray;margin: 0 0.4em 0.5em 0.4em;box-sizing: border-box;padding-bottom: 0.4em;background-color: white;}#sk-container-id-1 div.sk-label label {font-family: monospace;font-weight: bold;display: inline-block;line-height: 1.2em;}#sk-container-id-1 div.sk-label-container {text-align: center;}#sk-container-id-1 div.sk-container {/* jupyter's `normalize.less` sets `[hidden] { display: none; }` but bootstrap.min.css set `[hidden] { display: none !important; }` so we also need the `!important` here to be able to override the default hidden behavior on the sphinx rendered scikit-learn.org. See: https://github.com/scikit-learn/scikit-learn/issues/21755 */display: inline-block !important;position: relative;}#sk-container-id-1 div.sk-text-repr-fallback {display: none;}</style><div id=\"sk-container-id-1\" class=\"sk-top-container\"><div class=\"sk-text-repr-fallback\"><pre>DecisionTreeClassifier(max_depth=20, min_samples_split=50, random_state=42)</pre><b>In a Jupyter environment, please rerun this cell to show the HTML representation or trust the notebook. <br />On GitHub, the HTML representation is unable to render, please try loading this page with nbviewer.org.</b></div><div class=\"sk-container\" hidden><div class=\"sk-item\"><div class=\"sk-estimator sk-toggleable\"><input class=\"sk-toggleable__control sk-hidden--visually\" id=\"sk-estimator-id-1\" type=\"checkbox\" checked><label for=\"sk-estimator-id-1\" class=\"sk-toggleable__label sk-toggleable__label-arrow\">DecisionTreeClassifier</label><div class=\"sk-toggleable__content\"><pre>DecisionTreeClassifier(max_depth=20, min_samples_split=50, random_state=42)</pre></div></div></div></div></div>"
      ],
      "text/plain": [
       "DecisionTreeClassifier(max_depth=20, min_samples_split=50, random_state=42)"
      ]
     },
     "execution_count": 39,
     "metadata": {},
     "output_type": "execute_result"
    }
   ],
   "source": [
    "model3 = DecisionTreeClassifier(max_depth=20, min_samples_split=50, random_state=42)\n",
    "model3.fit(X_train, y_train)\n"
   ]
  },
  {
   "cell_type": "code",
   "execution_count": 40,
   "id": "ff036df7",
   "metadata": {},
   "outputs": [],
   "source": [
    "y_pred_model3 = model3.predict(X_test)"
   ]
  },
  {
   "cell_type": "code",
   "execution_count": 41,
   "id": "6c6e6725",
   "metadata": {},
   "outputs": [
    {
     "name": "stdout",
     "output_type": "stream",
     "text": [
      "DecisionTreeClassifier Accuracy: 0.1764\n"
     ]
    }
   ],
   "source": [
    "accuracy = accuracy_score(y_test, y_pred_model3)\n",
    "print(f\"DecisionTreeClassifier Accuracy: {accuracy:.4f}\")"
   ]
  },
  {
   "cell_type": "markdown",
   "id": "d9bd584f",
   "metadata": {},
   "source": [
    "# Decision tree classifier after log transformation"
   ]
  },
  {
   "cell_type": "code",
   "execution_count": 76,
   "id": "2e15ebca",
   "metadata": {},
   "outputs": [],
   "source": [
    "df['orig_destination_distance_log'] = np.log1p(df['orig_destination_distance'])"
   ]
  },
  {
   "cell_type": "code",
   "execution_count": 77,
   "id": "1bebb715",
   "metadata": {},
   "outputs": [
    {
     "data": {
      "application/vnd.microsoft.datawrangler.viewer.v0+json": {
       "columns": [
        {
         "name": "index",
         "rawType": "int64",
         "type": "integer"
        },
        {
         "name": "site_name",
         "rawType": "int64",
         "type": "integer"
        },
        {
         "name": "posa_continent",
         "rawType": "int64",
         "type": "integer"
        },
        {
         "name": "user_location_country",
         "rawType": "int64",
         "type": "integer"
        },
        {
         "name": "user_location_region",
         "rawType": "int64",
         "type": "integer"
        },
        {
         "name": "user_location_city",
         "rawType": "int64",
         "type": "integer"
        },
        {
         "name": "orig_destination_distance",
         "rawType": "float64",
         "type": "float"
        },
        {
         "name": "user_id",
         "rawType": "int64",
         "type": "integer"
        },
        {
         "name": "is_mobile",
         "rawType": "int64",
         "type": "integer"
        },
        {
         "name": "is_package",
         "rawType": "int64",
         "type": "integer"
        },
        {
         "name": "channel",
         "rawType": "int64",
         "type": "integer"
        },
        {
         "name": "srch_adults_cnt",
         "rawType": "int64",
         "type": "integer"
        },
        {
         "name": "srch_children_cnt",
         "rawType": "int64",
         "type": "integer"
        },
        {
         "name": "srch_rm_cnt",
         "rawType": "int64",
         "type": "integer"
        },
        {
         "name": "srch_destination_id",
         "rawType": "int64",
         "type": "integer"
        },
        {
         "name": "srch_destination_type_id",
         "rawType": "int64",
         "type": "integer"
        },
        {
         "name": "hotel_continent",
         "rawType": "int64",
         "type": "integer"
        },
        {
         "name": "hotel_country",
         "rawType": "int64",
         "type": "integer"
        },
        {
         "name": "hotel_market",
         "rawType": "int64",
         "type": "integer"
        },
        {
         "name": "hotel_cluster",
         "rawType": "int64",
         "type": "integer"
        },
        {
         "name": "search_year",
         "rawType": "int32",
         "type": "integer"
        },
        {
         "name": "search_month",
         "rawType": "int32",
         "type": "integer"
        },
        {
         "name": "search_dayofweek",
         "rawType": "int32",
         "type": "integer"
        },
        {
         "name": "search_hour",
         "rawType": "int32",
         "type": "integer"
        },
        {
         "name": "lead_time",
         "rawType": "int64",
         "type": "integer"
        },
        {
         "name": "stay_nights",
         "rawType": "int64",
         "type": "integer"
        },
        {
         "name": "ci_year",
         "rawType": "int32",
         "type": "integer"
        },
        {
         "name": "ci_month",
         "rawType": "int32",
         "type": "integer"
        },
        {
         "name": "ci_day",
         "rawType": "int32",
         "type": "integer"
        },
        {
         "name": "ci_weekday",
         "rawType": "int32",
         "type": "integer"
        },
        {
         "name": "co_year",
         "rawType": "int32",
         "type": "integer"
        },
        {
         "name": "co_month",
         "rawType": "int32",
         "type": "integer"
        },
        {
         "name": "co_day",
         "rawType": "int32",
         "type": "integer"
        },
        {
         "name": "co_weekday",
         "rawType": "int32",
         "type": "integer"
        },
        {
         "name": "orig_destination_distance_log",
         "rawType": "float64",
         "type": "float"
        }
       ],
       "ref": "2db0d13b-09ef-477f-a5ec-fb0959023df2",
       "rows": [
        [
         "0",
         "2",
         "3",
         "66",
         "348",
         "48862",
         "2234.2641",
         "12",
         "0",
         "1",
         "9",
         "2",
         "0",
         "1",
         "8250",
         "1",
         "2",
         "50",
         "628",
         "1",
         "2014",
         "8",
         "0",
         "8",
         "17",
         "4",
         "2014",
         "8",
         "29",
         "4",
         "2014",
         "9",
         "2",
         "1",
         "7.712114665614769"
        ],
        [
         "1",
         "2",
         "3",
         "66",
         "318",
         "52078",
         "907.0869",
         "756",
         "0",
         "1",
         "4",
         "2",
         "0",
         "1",
         "8291",
         "1",
         "2",
         "50",
         "191",
         "2",
         "2014",
         "2",
         "3",
         "18",
         "49",
         "2",
         "2014",
         "4",
         "18",
         "4",
         "2014",
         "4",
         "20",
         "6",
         "6.811340078867691"
        ],
        [
         "2",
         "30",
         "4",
         "195",
         "548",
         "56440",
         "907.0869",
         "1048",
         "0",
         "1",
         "9",
         "2",
         "0",
         "1",
         "1385",
         "1",
         "0",
         "185",
         "185",
         "58",
         "2013",
         "6",
         "5",
         "15",
         "82",
         "8",
         "2013",
         "9",
         "6",
         "4",
         "2013",
         "9",
         "14",
         "5",
         "6.811340078867691"
        ],
        [
         "3",
         "30",
         "4",
         "195",
         "991",
         "47725",
         "907.0869",
         "1048",
         "0",
         "0",
         "9",
         "2",
         "0",
         "1",
         "8803",
         "1",
         "3",
         "151",
         "69",
         "36",
         "2014",
         "11",
         "6",
         "18",
         "214",
         "2",
         "2015",
         "6",
         "26",
         "4",
         "2015",
         "6",
         "28",
         "6",
         "6.811340078867691"
        ],
        [
         "4",
         "2",
         "3",
         "66",
         "462",
         "41898",
         "2454.8588",
         "1482",
         "0",
         "1",
         "1",
         "3",
         "0",
         "2",
         "12009",
         "1",
         "2",
         "50",
         "680",
         "95",
         "2014",
         "1",
         "4",
         "16",
         "49",
         "5",
         "2014",
         "2",
         "22",
         "5",
         "2014",
         "2",
         "27",
         "3",
         "7.806231795757635"
        ]
       ],
       "shape": {
        "columns": 34,
        "rows": 5
       }
      },
      "text/html": [
       "<div>\n",
       "<style scoped>\n",
       "    .dataframe tbody tr th:only-of-type {\n",
       "        vertical-align: middle;\n",
       "    }\n",
       "\n",
       "    .dataframe tbody tr th {\n",
       "        vertical-align: top;\n",
       "    }\n",
       "\n",
       "    .dataframe thead th {\n",
       "        text-align: right;\n",
       "    }\n",
       "</style>\n",
       "<table border=\"1\" class=\"dataframe\">\n",
       "  <thead>\n",
       "    <tr style=\"text-align: right;\">\n",
       "      <th></th>\n",
       "      <th>site_name</th>\n",
       "      <th>posa_continent</th>\n",
       "      <th>user_location_country</th>\n",
       "      <th>user_location_region</th>\n",
       "      <th>user_location_city</th>\n",
       "      <th>orig_destination_distance</th>\n",
       "      <th>user_id</th>\n",
       "      <th>is_mobile</th>\n",
       "      <th>is_package</th>\n",
       "      <th>channel</th>\n",
       "      <th>...</th>\n",
       "      <th>stay_nights</th>\n",
       "      <th>ci_year</th>\n",
       "      <th>ci_month</th>\n",
       "      <th>ci_day</th>\n",
       "      <th>ci_weekday</th>\n",
       "      <th>co_year</th>\n",
       "      <th>co_month</th>\n",
       "      <th>co_day</th>\n",
       "      <th>co_weekday</th>\n",
       "      <th>orig_destination_distance_log</th>\n",
       "    </tr>\n",
       "  </thead>\n",
       "  <tbody>\n",
       "    <tr>\n",
       "      <th>0</th>\n",
       "      <td>2</td>\n",
       "      <td>3</td>\n",
       "      <td>66</td>\n",
       "      <td>348</td>\n",
       "      <td>48862</td>\n",
       "      <td>2234.26</td>\n",
       "      <td>12</td>\n",
       "      <td>0</td>\n",
       "      <td>1</td>\n",
       "      <td>9</td>\n",
       "      <td>...</td>\n",
       "      <td>4</td>\n",
       "      <td>2014</td>\n",
       "      <td>8</td>\n",
       "      <td>29</td>\n",
       "      <td>4</td>\n",
       "      <td>2014</td>\n",
       "      <td>9</td>\n",
       "      <td>2</td>\n",
       "      <td>1</td>\n",
       "      <td>7.71</td>\n",
       "    </tr>\n",
       "    <tr>\n",
       "      <th>1</th>\n",
       "      <td>2</td>\n",
       "      <td>3</td>\n",
       "      <td>66</td>\n",
       "      <td>318</td>\n",
       "      <td>52078</td>\n",
       "      <td>907.09</td>\n",
       "      <td>756</td>\n",
       "      <td>0</td>\n",
       "      <td>1</td>\n",
       "      <td>4</td>\n",
       "      <td>...</td>\n",
       "      <td>2</td>\n",
       "      <td>2014</td>\n",
       "      <td>4</td>\n",
       "      <td>18</td>\n",
       "      <td>4</td>\n",
       "      <td>2014</td>\n",
       "      <td>4</td>\n",
       "      <td>20</td>\n",
       "      <td>6</td>\n",
       "      <td>6.81</td>\n",
       "    </tr>\n",
       "    <tr>\n",
       "      <th>2</th>\n",
       "      <td>30</td>\n",
       "      <td>4</td>\n",
       "      <td>195</td>\n",
       "      <td>548</td>\n",
       "      <td>56440</td>\n",
       "      <td>907.09</td>\n",
       "      <td>1048</td>\n",
       "      <td>0</td>\n",
       "      <td>1</td>\n",
       "      <td>9</td>\n",
       "      <td>...</td>\n",
       "      <td>8</td>\n",
       "      <td>2013</td>\n",
       "      <td>9</td>\n",
       "      <td>6</td>\n",
       "      <td>4</td>\n",
       "      <td>2013</td>\n",
       "      <td>9</td>\n",
       "      <td>14</td>\n",
       "      <td>5</td>\n",
       "      <td>6.81</td>\n",
       "    </tr>\n",
       "    <tr>\n",
       "      <th>3</th>\n",
       "      <td>30</td>\n",
       "      <td>4</td>\n",
       "      <td>195</td>\n",
       "      <td>991</td>\n",
       "      <td>47725</td>\n",
       "      <td>907.09</td>\n",
       "      <td>1048</td>\n",
       "      <td>0</td>\n",
       "      <td>0</td>\n",
       "      <td>9</td>\n",
       "      <td>...</td>\n",
       "      <td>2</td>\n",
       "      <td>2015</td>\n",
       "      <td>6</td>\n",
       "      <td>26</td>\n",
       "      <td>4</td>\n",
       "      <td>2015</td>\n",
       "      <td>6</td>\n",
       "      <td>28</td>\n",
       "      <td>6</td>\n",
       "      <td>6.81</td>\n",
       "    </tr>\n",
       "    <tr>\n",
       "      <th>4</th>\n",
       "      <td>2</td>\n",
       "      <td>3</td>\n",
       "      <td>66</td>\n",
       "      <td>462</td>\n",
       "      <td>41898</td>\n",
       "      <td>2454.86</td>\n",
       "      <td>1482</td>\n",
       "      <td>0</td>\n",
       "      <td>1</td>\n",
       "      <td>1</td>\n",
       "      <td>...</td>\n",
       "      <td>5</td>\n",
       "      <td>2014</td>\n",
       "      <td>2</td>\n",
       "      <td>22</td>\n",
       "      <td>5</td>\n",
       "      <td>2014</td>\n",
       "      <td>2</td>\n",
       "      <td>27</td>\n",
       "      <td>3</td>\n",
       "      <td>7.81</td>\n",
       "    </tr>\n",
       "  </tbody>\n",
       "</table>\n",
       "<p>5 rows × 34 columns</p>\n",
       "</div>"
      ],
      "text/plain": [
       "   site_name  posa_continent  user_location_country  user_location_region   \n",
       "0          2               3                     66                   348  \\\n",
       "1          2               3                     66                   318   \n",
       "2         30               4                    195                   548   \n",
       "3         30               4                    195                   991   \n",
       "4          2               3                     66                   462   \n",
       "\n",
       "   user_location_city  orig_destination_distance  user_id  is_mobile   \n",
       "0               48862                    2234.26       12          0  \\\n",
       "1               52078                     907.09      756          0   \n",
       "2               56440                     907.09     1048          0   \n",
       "3               47725                     907.09     1048          0   \n",
       "4               41898                    2454.86     1482          0   \n",
       "\n",
       "   is_package  channel  ...  stay_nights  ci_year  ci_month  ci_day   \n",
       "0           1        9  ...            4     2014         8      29  \\\n",
       "1           1        4  ...            2     2014         4      18   \n",
       "2           1        9  ...            8     2013         9       6   \n",
       "3           0        9  ...            2     2015         6      26   \n",
       "4           1        1  ...            5     2014         2      22   \n",
       "\n",
       "   ci_weekday  co_year  co_month  co_day  co_weekday   \n",
       "0           4     2014         9       2           1  \\\n",
       "1           4     2014         4      20           6   \n",
       "2           4     2013         9      14           5   \n",
       "3           4     2015         6      28           6   \n",
       "4           5     2014         2      27           3   \n",
       "\n",
       "   orig_destination_distance_log  \n",
       "0                           7.71  \n",
       "1                           6.81  \n",
       "2                           6.81  \n",
       "3                           6.81  \n",
       "4                           7.81  \n",
       "\n",
       "[5 rows x 34 columns]"
      ]
     },
     "execution_count": 77,
     "metadata": {},
     "output_type": "execute_result"
    }
   ],
   "source": [
    "df.head()"
   ]
  },
  {
   "cell_type": "code",
   "execution_count": 78,
   "id": "29ac5c4a",
   "metadata": {},
   "outputs": [
    {
     "data": {
      "application/vnd.microsoft.datawrangler.viewer.v0+json": {
       "columns": [
        {
         "name": "posa_continent",
         "rawType": "int64",
         "type": "integer"
        },
        {
         "name": "count",
         "rawType": "int64",
         "type": "integer"
        }
       ],
       "ref": "ffbf9f80-3369-4442-b154-821fc1203743",
       "rows": [
        [
         "3",
         "721067"
        ],
        [
         "1",
         "113666"
        ],
        [
         "2",
         "67098"
        ],
        [
         "4",
         "25792"
        ],
        [
         "0",
         "6055"
        ]
       ],
       "shape": {
        "columns": 1,
        "rows": 5
       }
      },
      "text/plain": [
       "posa_continent\n",
       "3    721067\n",
       "1    113666\n",
       "2     67098\n",
       "4     25792\n",
       "0      6055\n",
       "Name: count, dtype: int64"
      ]
     },
     "execution_count": 78,
     "metadata": {},
     "output_type": "execute_result"
    }
   ],
   "source": [
    "df['posa_continent'].value_counts()"
   ]
  },
  {
   "cell_type": "code",
   "execution_count": 103,
   "id": "d971798c",
   "metadata": {},
   "outputs": [],
   "source": [
    "X= df.drop(['orig_destination_distance','hotel_cluster','user_id'], axis=1)\n",
    "y= df['hotel_cluster']"
   ]
  },
  {
   "cell_type": "code",
   "execution_count": 104,
   "id": "84c1f483",
   "metadata": {},
   "outputs": [],
   "source": [
    "X_train, X_test, y_train, y_test = train_test_split(X, y, test_size=0.2, random_state=42)"
   ]
  },
  {
   "cell_type": "code",
   "execution_count": 105,
   "id": "9ce96cbb",
   "metadata": {},
   "outputs": [
    {
     "data": {
      "text/html": [
       "<style>#sk-container-id-6 {color: black;background-color: white;}#sk-container-id-6 pre{padding: 0;}#sk-container-id-6 div.sk-toggleable {background-color: white;}#sk-container-id-6 label.sk-toggleable__label {cursor: pointer;display: block;width: 100%;margin-bottom: 0;padding: 0.3em;box-sizing: border-box;text-align: center;}#sk-container-id-6 label.sk-toggleable__label-arrow:before {content: \"▸\";float: left;margin-right: 0.25em;color: #696969;}#sk-container-id-6 label.sk-toggleable__label-arrow:hover:before {color: black;}#sk-container-id-6 div.sk-estimator:hover label.sk-toggleable__label-arrow:before {color: black;}#sk-container-id-6 div.sk-toggleable__content {max-height: 0;max-width: 0;overflow: hidden;text-align: left;background-color: #f0f8ff;}#sk-container-id-6 div.sk-toggleable__content pre {margin: 0.2em;color: black;border-radius: 0.25em;background-color: #f0f8ff;}#sk-container-id-6 input.sk-toggleable__control:checked~div.sk-toggleable__content {max-height: 200px;max-width: 100%;overflow: auto;}#sk-container-id-6 input.sk-toggleable__control:checked~label.sk-toggleable__label-arrow:before {content: \"▾\";}#sk-container-id-6 div.sk-estimator input.sk-toggleable__control:checked~label.sk-toggleable__label {background-color: #d4ebff;}#sk-container-id-6 div.sk-label input.sk-toggleable__control:checked~label.sk-toggleable__label {background-color: #d4ebff;}#sk-container-id-6 input.sk-hidden--visually {border: 0;clip: rect(1px 1px 1px 1px);clip: rect(1px, 1px, 1px, 1px);height: 1px;margin: -1px;overflow: hidden;padding: 0;position: absolute;width: 1px;}#sk-container-id-6 div.sk-estimator {font-family: monospace;background-color: #f0f8ff;border: 1px dotted black;border-radius: 0.25em;box-sizing: border-box;margin-bottom: 0.5em;}#sk-container-id-6 div.sk-estimator:hover {background-color: #d4ebff;}#sk-container-id-6 div.sk-parallel-item::after {content: \"\";width: 100%;border-bottom: 1px solid gray;flex-grow: 1;}#sk-container-id-6 div.sk-label:hover label.sk-toggleable__label {background-color: #d4ebff;}#sk-container-id-6 div.sk-serial::before {content: \"\";position: absolute;border-left: 1px solid gray;box-sizing: border-box;top: 0;bottom: 0;left: 50%;z-index: 0;}#sk-container-id-6 div.sk-serial {display: flex;flex-direction: column;align-items: center;background-color: white;padding-right: 0.2em;padding-left: 0.2em;position: relative;}#sk-container-id-6 div.sk-item {position: relative;z-index: 1;}#sk-container-id-6 div.sk-parallel {display: flex;align-items: stretch;justify-content: center;background-color: white;position: relative;}#sk-container-id-6 div.sk-item::before, #sk-container-id-6 div.sk-parallel-item::before {content: \"\";position: absolute;border-left: 1px solid gray;box-sizing: border-box;top: 0;bottom: 0;left: 50%;z-index: -1;}#sk-container-id-6 div.sk-parallel-item {display: flex;flex-direction: column;z-index: 1;position: relative;background-color: white;}#sk-container-id-6 div.sk-parallel-item:first-child::after {align-self: flex-end;width: 50%;}#sk-container-id-6 div.sk-parallel-item:last-child::after {align-self: flex-start;width: 50%;}#sk-container-id-6 div.sk-parallel-item:only-child::after {width: 0;}#sk-container-id-6 div.sk-dashed-wrapped {border: 1px dashed gray;margin: 0 0.4em 0.5em 0.4em;box-sizing: border-box;padding-bottom: 0.4em;background-color: white;}#sk-container-id-6 div.sk-label label {font-family: monospace;font-weight: bold;display: inline-block;line-height: 1.2em;}#sk-container-id-6 div.sk-label-container {text-align: center;}#sk-container-id-6 div.sk-container {/* jupyter's `normalize.less` sets `[hidden] { display: none; }` but bootstrap.min.css set `[hidden] { display: none !important; }` so we also need the `!important` here to be able to override the default hidden behavior on the sphinx rendered scikit-learn.org. See: https://github.com/scikit-learn/scikit-learn/issues/21755 */display: inline-block !important;position: relative;}#sk-container-id-6 div.sk-text-repr-fallback {display: none;}</style><div id=\"sk-container-id-6\" class=\"sk-top-container\"><div class=\"sk-text-repr-fallback\"><pre>DecisionTreeClassifier(max_depth=20, min_samples_split=50, random_state=42)</pre><b>In a Jupyter environment, please rerun this cell to show the HTML representation or trust the notebook. <br />On GitHub, the HTML representation is unable to render, please try loading this page with nbviewer.org.</b></div><div class=\"sk-container\" hidden><div class=\"sk-item\"><div class=\"sk-estimator sk-toggleable\"><input class=\"sk-toggleable__control sk-hidden--visually\" id=\"sk-estimator-id-6\" type=\"checkbox\" checked><label for=\"sk-estimator-id-6\" class=\"sk-toggleable__label sk-toggleable__label-arrow\">DecisionTreeClassifier</label><div class=\"sk-toggleable__content\"><pre>DecisionTreeClassifier(max_depth=20, min_samples_split=50, random_state=42)</pre></div></div></div></div></div>"
      ],
      "text/plain": [
       "DecisionTreeClassifier(max_depth=20, min_samples_split=50, random_state=42)"
      ]
     },
     "execution_count": 105,
     "metadata": {},
     "output_type": "execute_result"
    }
   ],
   "source": [
    "model4 = DecisionTreeClassifier(max_depth=20, min_samples_split=50, random_state=42)\n",
    "model4.fit(X_train, y_train)"
   ]
  },
  {
   "cell_type": "code",
   "execution_count": 106,
   "id": "058c5a23",
   "metadata": {},
   "outputs": [],
   "source": [
    "y_pred_model4 = model4.predict(X_test)"
   ]
  },
  {
   "cell_type": "code",
   "execution_count": 107,
   "id": "9493f6af",
   "metadata": {},
   "outputs": [
    {
     "name": "stdout",
     "output_type": "stream",
     "text": [
      "DecisionTreeClassifier Accuracy: 0.1768\n"
     ]
    }
   ],
   "source": [
    "accuracy = accuracy_score(y_test, y_pred_model4)\n",
    "print(f\"DecisionTreeClassifier Accuracy: {accuracy:.4f}\")"
   ]
  },
  {
   "cell_type": "markdown",
   "id": "81370320",
   "metadata": {},
   "source": [
    "# Feature Engineering"
   ]
  },
  {
   "cell_type": "code",
   "execution_count": 108,
   "id": "a7edd89a",
   "metadata": {},
   "outputs": [
    {
     "data": {
      "application/vnd.microsoft.datawrangler.viewer.v0+json": {
       "columns": [
        {
         "name": "index",
         "rawType": "int64",
         "type": "integer"
        },
        {
         "name": "site_name",
         "rawType": "int64",
         "type": "integer"
        },
        {
         "name": "posa_continent",
         "rawType": "int64",
         "type": "integer"
        },
        {
         "name": "user_location_country",
         "rawType": "int64",
         "type": "integer"
        },
        {
         "name": "user_location_region",
         "rawType": "int64",
         "type": "integer"
        },
        {
         "name": "user_location_city",
         "rawType": "int64",
         "type": "integer"
        },
        {
         "name": "orig_destination_distance",
         "rawType": "float64",
         "type": "float"
        },
        {
         "name": "user_id",
         "rawType": "int64",
         "type": "integer"
        },
        {
         "name": "is_mobile",
         "rawType": "int64",
         "type": "integer"
        },
        {
         "name": "is_package",
         "rawType": "int64",
         "type": "integer"
        },
        {
         "name": "channel",
         "rawType": "int64",
         "type": "integer"
        },
        {
         "name": "srch_adults_cnt",
         "rawType": "int64",
         "type": "integer"
        },
        {
         "name": "srch_children_cnt",
         "rawType": "int64",
         "type": "integer"
        },
        {
         "name": "srch_rm_cnt",
         "rawType": "int64",
         "type": "integer"
        },
        {
         "name": "srch_destination_id",
         "rawType": "int64",
         "type": "integer"
        },
        {
         "name": "srch_destination_type_id",
         "rawType": "int64",
         "type": "integer"
        },
        {
         "name": "hotel_continent",
         "rawType": "int64",
         "type": "integer"
        },
        {
         "name": "hotel_country",
         "rawType": "int64",
         "type": "integer"
        },
        {
         "name": "hotel_market",
         "rawType": "int64",
         "type": "integer"
        },
        {
         "name": "hotel_cluster",
         "rawType": "int64",
         "type": "integer"
        },
        {
         "name": "search_year",
         "rawType": "int32",
         "type": "integer"
        },
        {
         "name": "search_month",
         "rawType": "int32",
         "type": "integer"
        },
        {
         "name": "search_dayofweek",
         "rawType": "int32",
         "type": "integer"
        },
        {
         "name": "search_hour",
         "rawType": "int32",
         "type": "integer"
        },
        {
         "name": "lead_time",
         "rawType": "int64",
         "type": "integer"
        },
        {
         "name": "stay_nights",
         "rawType": "int64",
         "type": "integer"
        },
        {
         "name": "ci_year",
         "rawType": "int32",
         "type": "integer"
        },
        {
         "name": "ci_month",
         "rawType": "int32",
         "type": "integer"
        },
        {
         "name": "ci_day",
         "rawType": "int32",
         "type": "integer"
        },
        {
         "name": "ci_weekday",
         "rawType": "int32",
         "type": "integer"
        },
        {
         "name": "co_year",
         "rawType": "int32",
         "type": "integer"
        },
        {
         "name": "co_month",
         "rawType": "int32",
         "type": "integer"
        },
        {
         "name": "co_day",
         "rawType": "int32",
         "type": "integer"
        },
        {
         "name": "co_weekday",
         "rawType": "int32",
         "type": "integer"
        },
        {
         "name": "orig_destination_distance_log",
         "rawType": "float64",
         "type": "float"
        }
       ],
       "ref": "fc51c956-6769-4b6f-aa36-b70d7c7d1009",
       "rows": [
        [
         "0",
         "2",
         "3",
         "66",
         "348",
         "48862",
         "2234.2641",
         "12",
         "0",
         "1",
         "9",
         "2",
         "0",
         "1",
         "8250",
         "1",
         "2",
         "50",
         "628",
         "1",
         "2014",
         "8",
         "0",
         "8",
         "17",
         "4",
         "2014",
         "8",
         "29",
         "4",
         "2014",
         "9",
         "2",
         "1",
         "7.712114665614769"
        ],
        [
         "1",
         "2",
         "3",
         "66",
         "318",
         "52078",
         "907.0869",
         "756",
         "0",
         "1",
         "4",
         "2",
         "0",
         "1",
         "8291",
         "1",
         "2",
         "50",
         "191",
         "2",
         "2014",
         "2",
         "3",
         "18",
         "49",
         "2",
         "2014",
         "4",
         "18",
         "4",
         "2014",
         "4",
         "20",
         "6",
         "6.811340078867691"
        ],
        [
         "2",
         "30",
         "4",
         "195",
         "548",
         "56440",
         "907.0869",
         "1048",
         "0",
         "1",
         "9",
         "2",
         "0",
         "1",
         "1385",
         "1",
         "0",
         "185",
         "185",
         "58",
         "2013",
         "6",
         "5",
         "15",
         "82",
         "8",
         "2013",
         "9",
         "6",
         "4",
         "2013",
         "9",
         "14",
         "5",
         "6.811340078867691"
        ],
        [
         "3",
         "30",
         "4",
         "195",
         "991",
         "47725",
         "907.0869",
         "1048",
         "0",
         "0",
         "9",
         "2",
         "0",
         "1",
         "8803",
         "1",
         "3",
         "151",
         "69",
         "36",
         "2014",
         "11",
         "6",
         "18",
         "214",
         "2",
         "2015",
         "6",
         "26",
         "4",
         "2015",
         "6",
         "28",
         "6",
         "6.811340078867691"
        ],
        [
         "4",
         "2",
         "3",
         "66",
         "462",
         "41898",
         "2454.8588",
         "1482",
         "0",
         "1",
         "1",
         "3",
         "0",
         "2",
         "12009",
         "1",
         "2",
         "50",
         "680",
         "95",
         "2014",
         "1",
         "4",
         "16",
         "49",
         "5",
         "2014",
         "2",
         "22",
         "5",
         "2014",
         "2",
         "27",
         "3",
         "7.806231795757635"
        ]
       ],
       "shape": {
        "columns": 34,
        "rows": 5
       }
      },
      "text/html": [
       "<div>\n",
       "<style scoped>\n",
       "    .dataframe tbody tr th:only-of-type {\n",
       "        vertical-align: middle;\n",
       "    }\n",
       "\n",
       "    .dataframe tbody tr th {\n",
       "        vertical-align: top;\n",
       "    }\n",
       "\n",
       "    .dataframe thead th {\n",
       "        text-align: right;\n",
       "    }\n",
       "</style>\n",
       "<table border=\"1\" class=\"dataframe\">\n",
       "  <thead>\n",
       "    <tr style=\"text-align: right;\">\n",
       "      <th></th>\n",
       "      <th>site_name</th>\n",
       "      <th>posa_continent</th>\n",
       "      <th>user_location_country</th>\n",
       "      <th>user_location_region</th>\n",
       "      <th>user_location_city</th>\n",
       "      <th>orig_destination_distance</th>\n",
       "      <th>user_id</th>\n",
       "      <th>is_mobile</th>\n",
       "      <th>is_package</th>\n",
       "      <th>channel</th>\n",
       "      <th>...</th>\n",
       "      <th>stay_nights</th>\n",
       "      <th>ci_year</th>\n",
       "      <th>ci_month</th>\n",
       "      <th>ci_day</th>\n",
       "      <th>ci_weekday</th>\n",
       "      <th>co_year</th>\n",
       "      <th>co_month</th>\n",
       "      <th>co_day</th>\n",
       "      <th>co_weekday</th>\n",
       "      <th>orig_destination_distance_log</th>\n",
       "    </tr>\n",
       "  </thead>\n",
       "  <tbody>\n",
       "    <tr>\n",
       "      <th>0</th>\n",
       "      <td>2</td>\n",
       "      <td>3</td>\n",
       "      <td>66</td>\n",
       "      <td>348</td>\n",
       "      <td>48862</td>\n",
       "      <td>2234.26</td>\n",
       "      <td>12</td>\n",
       "      <td>0</td>\n",
       "      <td>1</td>\n",
       "      <td>9</td>\n",
       "      <td>...</td>\n",
       "      <td>4</td>\n",
       "      <td>2014</td>\n",
       "      <td>8</td>\n",
       "      <td>29</td>\n",
       "      <td>4</td>\n",
       "      <td>2014</td>\n",
       "      <td>9</td>\n",
       "      <td>2</td>\n",
       "      <td>1</td>\n",
       "      <td>7.71</td>\n",
       "    </tr>\n",
       "    <tr>\n",
       "      <th>1</th>\n",
       "      <td>2</td>\n",
       "      <td>3</td>\n",
       "      <td>66</td>\n",
       "      <td>318</td>\n",
       "      <td>52078</td>\n",
       "      <td>907.09</td>\n",
       "      <td>756</td>\n",
       "      <td>0</td>\n",
       "      <td>1</td>\n",
       "      <td>4</td>\n",
       "      <td>...</td>\n",
       "      <td>2</td>\n",
       "      <td>2014</td>\n",
       "      <td>4</td>\n",
       "      <td>18</td>\n",
       "      <td>4</td>\n",
       "      <td>2014</td>\n",
       "      <td>4</td>\n",
       "      <td>20</td>\n",
       "      <td>6</td>\n",
       "      <td>6.81</td>\n",
       "    </tr>\n",
       "    <tr>\n",
       "      <th>2</th>\n",
       "      <td>30</td>\n",
       "      <td>4</td>\n",
       "      <td>195</td>\n",
       "      <td>548</td>\n",
       "      <td>56440</td>\n",
       "      <td>907.09</td>\n",
       "      <td>1048</td>\n",
       "      <td>0</td>\n",
       "      <td>1</td>\n",
       "      <td>9</td>\n",
       "      <td>...</td>\n",
       "      <td>8</td>\n",
       "      <td>2013</td>\n",
       "      <td>9</td>\n",
       "      <td>6</td>\n",
       "      <td>4</td>\n",
       "      <td>2013</td>\n",
       "      <td>9</td>\n",
       "      <td>14</td>\n",
       "      <td>5</td>\n",
       "      <td>6.81</td>\n",
       "    </tr>\n",
       "    <tr>\n",
       "      <th>3</th>\n",
       "      <td>30</td>\n",
       "      <td>4</td>\n",
       "      <td>195</td>\n",
       "      <td>991</td>\n",
       "      <td>47725</td>\n",
       "      <td>907.09</td>\n",
       "      <td>1048</td>\n",
       "      <td>0</td>\n",
       "      <td>0</td>\n",
       "      <td>9</td>\n",
       "      <td>...</td>\n",
       "      <td>2</td>\n",
       "      <td>2015</td>\n",
       "      <td>6</td>\n",
       "      <td>26</td>\n",
       "      <td>4</td>\n",
       "      <td>2015</td>\n",
       "      <td>6</td>\n",
       "      <td>28</td>\n",
       "      <td>6</td>\n",
       "      <td>6.81</td>\n",
       "    </tr>\n",
       "    <tr>\n",
       "      <th>4</th>\n",
       "      <td>2</td>\n",
       "      <td>3</td>\n",
       "      <td>66</td>\n",
       "      <td>462</td>\n",
       "      <td>41898</td>\n",
       "      <td>2454.86</td>\n",
       "      <td>1482</td>\n",
       "      <td>0</td>\n",
       "      <td>1</td>\n",
       "      <td>1</td>\n",
       "      <td>...</td>\n",
       "      <td>5</td>\n",
       "      <td>2014</td>\n",
       "      <td>2</td>\n",
       "      <td>22</td>\n",
       "      <td>5</td>\n",
       "      <td>2014</td>\n",
       "      <td>2</td>\n",
       "      <td>27</td>\n",
       "      <td>3</td>\n",
       "      <td>7.81</td>\n",
       "    </tr>\n",
       "  </tbody>\n",
       "</table>\n",
       "<p>5 rows × 34 columns</p>\n",
       "</div>"
      ],
      "text/plain": [
       "   site_name  posa_continent  user_location_country  user_location_region   \n",
       "0          2               3                     66                   348  \\\n",
       "1          2               3                     66                   318   \n",
       "2         30               4                    195                   548   \n",
       "3         30               4                    195                   991   \n",
       "4          2               3                     66                   462   \n",
       "\n",
       "   user_location_city  orig_destination_distance  user_id  is_mobile   \n",
       "0               48862                    2234.26       12          0  \\\n",
       "1               52078                     907.09      756          0   \n",
       "2               56440                     907.09     1048          0   \n",
       "3               47725                     907.09     1048          0   \n",
       "4               41898                    2454.86     1482          0   \n",
       "\n",
       "   is_package  channel  ...  stay_nights  ci_year  ci_month  ci_day   \n",
       "0           1        9  ...            4     2014         8      29  \\\n",
       "1           1        4  ...            2     2014         4      18   \n",
       "2           1        9  ...            8     2013         9       6   \n",
       "3           0        9  ...            2     2015         6      26   \n",
       "4           1        1  ...            5     2014         2      22   \n",
       "\n",
       "   ci_weekday  co_year  co_month  co_day  co_weekday   \n",
       "0           4     2014         9       2           1  \\\n",
       "1           4     2014         4      20           6   \n",
       "2           4     2013         9      14           5   \n",
       "3           4     2015         6      28           6   \n",
       "4           5     2014         2      27           3   \n",
       "\n",
       "   orig_destination_distance_log  \n",
       "0                           7.71  \n",
       "1                           6.81  \n",
       "2                           6.81  \n",
       "3                           6.81  \n",
       "4                           7.81  \n",
       "\n",
       "[5 rows x 34 columns]"
      ]
     },
     "execution_count": 108,
     "metadata": {},
     "output_type": "execute_result"
    }
   ],
   "source": [
    "df.head()"
   ]
  },
  {
   "cell_type": "markdown",
   "id": "a4cc4d41",
   "metadata": {},
   "source": [
    "# A. Total party size\n"
   ]
  },
  {
   "cell_type": "code",
   "execution_count": 109,
   "id": "e42a10bc",
   "metadata": {},
   "outputs": [],
   "source": [
    "df['total_party'] = df['srch_adults_cnt'] + df['srch_children_cnt']"
   ]
  },
  {
   "cell_type": "markdown",
   "id": "c051e0ed",
   "metadata": {},
   "source": [
    "# B. Frequency encoding for high-cardinality categorical IDs"
   ]
  },
  {
   "cell_type": "code",
   "execution_count": 110,
   "id": "1d0b7048",
   "metadata": {},
   "outputs": [],
   "source": [
    "categorical_cols = ['site_name', 'user_location_country', 'user_location_region', \n",
    "                    'user_location_city', 'srch_destination_id', 'hotel_market']\n",
    "\n",
    "for col in categorical_cols:\n",
    "    freq = df[col].value_counts() / len(df)\n",
    "    df[col + '_freq'] = df[col].map(freq)\n"
   ]
  },
  {
   "cell_type": "markdown",
   "id": "c6979ea9",
   "metadata": {},
   "source": [
    "# C. Interaction features"
   ]
  },
  {
   "cell_type": "code",
   "execution_count": 111,
   "id": "018b5fd4",
   "metadata": {},
   "outputs": [],
   "source": [
    "df['user_country_hotel_country'] = df['user_location_country'].astype(str) + '_' + df['hotel_country'].astype(str)\n",
    "df['user_country_hotel_country_freq'] = df['user_country_hotel_country'].map(df['user_country_hotel_country'].value_counts() / len(df))"
   ]
  },
  {
   "cell_type": "markdown",
   "id": "d9ad0ec7",
   "metadata": {},
   "source": [
    "# E. Optional: Bucket party size"
   ]
  },
  {
   "cell_type": "code",
   "execution_count": 112,
   "id": "d3eb69a6",
   "metadata": {},
   "outputs": [],
   "source": [
    "df['party_size_bucket'] = pd.cut(df['total_party'], bins=[0,1,2,4,10], labels=['1','2','3-4','5+'])"
   ]
  },
  {
   "cell_type": "markdown",
   "id": "7656598c",
   "metadata": {},
   "source": [
    "# F. Drop original IDs after encoding"
   ]
  },
  {
   "cell_type": "code",
   "execution_count": 113,
   "id": "6e0865ca",
   "metadata": {},
   "outputs": [],
   "source": [
    "df = df.drop(columns=['site_name', 'user_location_country', 'user_location_region', \n",
    "                      'user_location_city', 'srch_destination_id', 'hotel_market', \n",
    "                      'user_country_hotel_country'])"
   ]
  },
  {
   "cell_type": "code",
   "execution_count": 114,
   "id": "cd9e706a",
   "metadata": {},
   "outputs": [
    {
     "name": "stdout",
     "output_type": "stream",
     "text": [
      "<class 'pandas.core.frame.DataFrame'>\n",
      "Index: 933678 entries, 0 to 999999\n",
      "Data columns (total 37 columns):\n",
      " #   Column                           Non-Null Count   Dtype   \n",
      "---  ------                           --------------   -----   \n",
      " 0   posa_continent                   933678 non-null  int64   \n",
      " 1   orig_destination_distance        933678 non-null  float64 \n",
      " 2   user_id                          933678 non-null  int64   \n",
      " 3   is_mobile                        933678 non-null  int64   \n",
      " 4   is_package                       933678 non-null  int64   \n",
      " 5   channel                          933678 non-null  int64   \n",
      " 6   srch_adults_cnt                  933678 non-null  int64   \n",
      " 7   srch_children_cnt                933678 non-null  int64   \n",
      " 8   srch_rm_cnt                      933678 non-null  int64   \n",
      " 9   srch_destination_type_id         933678 non-null  int64   \n",
      " 10  hotel_continent                  933678 non-null  int64   \n",
      " 11  hotel_country                    933678 non-null  int64   \n",
      " 12  hotel_cluster                    933678 non-null  int64   \n",
      " 13  search_year                      933678 non-null  int32   \n",
      " 14  search_month                     933678 non-null  int32   \n",
      " 15  search_dayofweek                 933678 non-null  int32   \n",
      " 16  search_hour                      933678 non-null  int32   \n",
      " 17  lead_time                        933678 non-null  int64   \n",
      " 18  stay_nights                      933678 non-null  int64   \n",
      " 19  ci_year                          933678 non-null  int32   \n",
      " 20  ci_month                         933678 non-null  int32   \n",
      " 21  ci_day                           933678 non-null  int32   \n",
      " 22  ci_weekday                       933678 non-null  int32   \n",
      " 23  co_year                          933678 non-null  int32   \n",
      " 24  co_month                         933678 non-null  int32   \n",
      " 25  co_day                           933678 non-null  int32   \n",
      " 26  co_weekday                       933678 non-null  int32   \n",
      " 27  orig_destination_distance_log    933678 non-null  float64 \n",
      " 28  total_party                      933678 non-null  int64   \n",
      " 29  site_name_freq                   933678 non-null  float64 \n",
      " 30  user_location_country_freq       933678 non-null  float64 \n",
      " 31  user_location_region_freq        933678 non-null  float64 \n",
      " 32  user_location_city_freq          933678 non-null  float64 \n",
      " 33  srch_destination_id_freq         933678 non-null  float64 \n",
      " 34  hotel_market_freq                933678 non-null  float64 \n",
      " 35  user_country_hotel_country_freq  933678 non-null  float64 \n",
      " 36  party_size_bucket                931517 non-null  category\n",
      "dtypes: category(1), float64(9), int32(12), int64(15)\n",
      "memory usage: 221.7 MB\n"
     ]
    }
   ],
   "source": [
    "df.info()"
   ]
  },
  {
   "cell_type": "code",
   "execution_count": 115,
   "id": "7f2aa138",
   "metadata": {},
   "outputs": [
    {
     "data": {
      "application/vnd.microsoft.datawrangler.viewer.v0+json": {
       "columns": [
        {
         "name": "index",
         "rawType": "int64",
         "type": "integer"
        },
        {
         "name": "posa_continent",
         "rawType": "int64",
         "type": "integer"
        },
        {
         "name": "orig_destination_distance",
         "rawType": "float64",
         "type": "float"
        },
        {
         "name": "user_id",
         "rawType": "int64",
         "type": "integer"
        },
        {
         "name": "is_mobile",
         "rawType": "int64",
         "type": "integer"
        },
        {
         "name": "is_package",
         "rawType": "int64",
         "type": "integer"
        },
        {
         "name": "channel",
         "rawType": "int64",
         "type": "integer"
        },
        {
         "name": "srch_adults_cnt",
         "rawType": "int64",
         "type": "integer"
        },
        {
         "name": "srch_children_cnt",
         "rawType": "int64",
         "type": "integer"
        },
        {
         "name": "srch_rm_cnt",
         "rawType": "int64",
         "type": "integer"
        },
        {
         "name": "srch_destination_type_id",
         "rawType": "int64",
         "type": "integer"
        },
        {
         "name": "hotel_continent",
         "rawType": "int64",
         "type": "integer"
        },
        {
         "name": "hotel_country",
         "rawType": "int64",
         "type": "integer"
        },
        {
         "name": "hotel_cluster",
         "rawType": "int64",
         "type": "integer"
        },
        {
         "name": "search_year",
         "rawType": "int32",
         "type": "integer"
        },
        {
         "name": "search_month",
         "rawType": "int32",
         "type": "integer"
        },
        {
         "name": "search_dayofweek",
         "rawType": "int32",
         "type": "integer"
        },
        {
         "name": "search_hour",
         "rawType": "int32",
         "type": "integer"
        },
        {
         "name": "lead_time",
         "rawType": "int64",
         "type": "integer"
        },
        {
         "name": "stay_nights",
         "rawType": "int64",
         "type": "integer"
        },
        {
         "name": "ci_year",
         "rawType": "int32",
         "type": "integer"
        },
        {
         "name": "ci_month",
         "rawType": "int32",
         "type": "integer"
        },
        {
         "name": "ci_day",
         "rawType": "int32",
         "type": "integer"
        },
        {
         "name": "ci_weekday",
         "rawType": "int32",
         "type": "integer"
        },
        {
         "name": "co_year",
         "rawType": "int32",
         "type": "integer"
        },
        {
         "name": "co_month",
         "rawType": "int32",
         "type": "integer"
        },
        {
         "name": "co_day",
         "rawType": "int32",
         "type": "integer"
        },
        {
         "name": "co_weekday",
         "rawType": "int32",
         "type": "integer"
        },
        {
         "name": "orig_destination_distance_log",
         "rawType": "float64",
         "type": "float"
        },
        {
         "name": "total_party",
         "rawType": "int64",
         "type": "integer"
        },
        {
         "name": "site_name_freq",
         "rawType": "float64",
         "type": "float"
        },
        {
         "name": "user_location_country_freq",
         "rawType": "float64",
         "type": "float"
        },
        {
         "name": "user_location_region_freq",
         "rawType": "float64",
         "type": "float"
        },
        {
         "name": "user_location_city_freq",
         "rawType": "float64",
         "type": "float"
        },
        {
         "name": "srch_destination_id_freq",
         "rawType": "float64",
         "type": "float"
        },
        {
         "name": "hotel_market_freq",
         "rawType": "float64",
         "type": "float"
        },
        {
         "name": "user_country_hotel_country_freq",
         "rawType": "float64",
         "type": "float"
        },
        {
         "name": "party_size_bucket",
         "rawType": "category",
         "type": "unknown"
        }
       ],
       "ref": "1ef47336-9273-43cc-a616-ee9db3b43e3f",
       "rows": [
        [
         "0",
         "3",
         "2234.2641",
         "12",
         "0",
         "1",
         "9",
         "2",
         "0",
         "1",
         "1",
         "2",
         "50",
         "1",
         "2014",
         "8",
         "0",
         "8",
         "17",
         "4",
         "2014",
         "8",
         "29",
         "4",
         "2014",
         "9",
         "2",
         "1",
         "7.712114665614769",
         "2",
         "0.6465537369414295",
         "0.5476513316153964",
         "0.0445132047665255",
         "0.016936245686414376",
         "0.03331876728379591",
         "0.04442966418829618",
         "0.41445766099233355",
         "2"
        ],
        [
         "1",
         "3",
         "907.0869",
         "756",
         "0",
         "1",
         "4",
         "2",
         "0",
         "1",
         "1",
         "2",
         "50",
         "2",
         "2014",
         "2",
         "3",
         "18",
         "49",
         "2",
         "2014",
         "4",
         "18",
         "4",
         "2014",
         "4",
         "20",
         "6",
         "6.811340078867691",
         "2",
         "0.6465537369414295",
         "0.5476513316153964",
         "0.014304717472190627",
         "8.24695451751032e-05",
         "0.005943162417878541",
         "0.012697096857803226",
         "0.41445766099233355",
         "2"
        ],
        [
         "2",
         "4",
         "907.0869",
         "1048",
         "0",
         "1",
         "9",
         "2",
         "0",
         "1",
         "1",
         "0",
         "185",
         "58",
         "2013",
         "6",
         "5",
         "15",
         "82",
         "8",
         "2013",
         "9",
         "6",
         "4",
         "2013",
         "9",
         "14",
         "5",
         "6.811340078867691",
         "2",
         "0.006417630060898939",
         "0.006692885555834024",
         "0.004169531680086711",
         "0.0029378436677312734",
         "7.283024768710412e-05",
         "8.675367739199168e-05",
         "3.962822300621842e-05",
         "2"
        ],
        [
         "3",
         "4",
         "907.0869",
         "1048",
         "0",
         "0",
         "9",
         "2",
         "0",
         "1",
         "1",
         "3",
         "151",
         "36",
         "2014",
         "11",
         "6",
         "18",
         "214",
         "2",
         "2015",
         "6",
         "26",
         "4",
         "2015",
         "6",
         "28",
         "6",
         "6.811340078867691",
         "2",
         "0.006417630060898939",
         "0.006692885555834024",
         "0.0007989906584497011",
         "3.213099162666358e-06",
         "0.0018089748285811597",
         "0.0022395301163784516",
         "6.640404936177141e-05",
         "2"
        ],
        [
         "4",
         "3",
         "2454.8588",
         "1482",
         "0",
         "1",
         "1",
         "3",
         "0",
         "2",
         "1",
         "2",
         "50",
         "95",
         "2014",
         "1",
         "4",
         "16",
         "49",
         "5",
         "2014",
         "2",
         "22",
         "5",
         "2014",
         "2",
         "27",
         "3",
         "7.806231795757635",
         "3",
         "0.6465537369414295",
         "0.5476513316153964",
         "0.028098552177517302",
         "0.00044340768444795745",
         "0.0007882803279074799",
         "0.0015176538378327432",
         "0.41445766099233355",
         "3-4"
        ]
       ],
       "shape": {
        "columns": 37,
        "rows": 5
       }
      },
      "text/html": [
       "<div>\n",
       "<style scoped>\n",
       "    .dataframe tbody tr th:only-of-type {\n",
       "        vertical-align: middle;\n",
       "    }\n",
       "\n",
       "    .dataframe tbody tr th {\n",
       "        vertical-align: top;\n",
       "    }\n",
       "\n",
       "    .dataframe thead th {\n",
       "        text-align: right;\n",
       "    }\n",
       "</style>\n",
       "<table border=\"1\" class=\"dataframe\">\n",
       "  <thead>\n",
       "    <tr style=\"text-align: right;\">\n",
       "      <th></th>\n",
       "      <th>posa_continent</th>\n",
       "      <th>orig_destination_distance</th>\n",
       "      <th>user_id</th>\n",
       "      <th>is_mobile</th>\n",
       "      <th>is_package</th>\n",
       "      <th>channel</th>\n",
       "      <th>srch_adults_cnt</th>\n",
       "      <th>srch_children_cnt</th>\n",
       "      <th>srch_rm_cnt</th>\n",
       "      <th>srch_destination_type_id</th>\n",
       "      <th>...</th>\n",
       "      <th>orig_destination_distance_log</th>\n",
       "      <th>total_party</th>\n",
       "      <th>site_name_freq</th>\n",
       "      <th>user_location_country_freq</th>\n",
       "      <th>user_location_region_freq</th>\n",
       "      <th>user_location_city_freq</th>\n",
       "      <th>srch_destination_id_freq</th>\n",
       "      <th>hotel_market_freq</th>\n",
       "      <th>user_country_hotel_country_freq</th>\n",
       "      <th>party_size_bucket</th>\n",
       "    </tr>\n",
       "  </thead>\n",
       "  <tbody>\n",
       "    <tr>\n",
       "      <th>0</th>\n",
       "      <td>3</td>\n",
       "      <td>2234.26</td>\n",
       "      <td>12</td>\n",
       "      <td>0</td>\n",
       "      <td>1</td>\n",
       "      <td>9</td>\n",
       "      <td>2</td>\n",
       "      <td>0</td>\n",
       "      <td>1</td>\n",
       "      <td>1</td>\n",
       "      <td>...</td>\n",
       "      <td>7.71</td>\n",
       "      <td>2</td>\n",
       "      <td>0.65</td>\n",
       "      <td>0.55</td>\n",
       "      <td>0.04</td>\n",
       "      <td>0.02</td>\n",
       "      <td>0.03</td>\n",
       "      <td>0.04</td>\n",
       "      <td>0.41</td>\n",
       "      <td>2</td>\n",
       "    </tr>\n",
       "    <tr>\n",
       "      <th>1</th>\n",
       "      <td>3</td>\n",
       "      <td>907.09</td>\n",
       "      <td>756</td>\n",
       "      <td>0</td>\n",
       "      <td>1</td>\n",
       "      <td>4</td>\n",
       "      <td>2</td>\n",
       "      <td>0</td>\n",
       "      <td>1</td>\n",
       "      <td>1</td>\n",
       "      <td>...</td>\n",
       "      <td>6.81</td>\n",
       "      <td>2</td>\n",
       "      <td>0.65</td>\n",
       "      <td>0.55</td>\n",
       "      <td>0.01</td>\n",
       "      <td>0.00</td>\n",
       "      <td>0.01</td>\n",
       "      <td>0.01</td>\n",
       "      <td>0.41</td>\n",
       "      <td>2</td>\n",
       "    </tr>\n",
       "    <tr>\n",
       "      <th>2</th>\n",
       "      <td>4</td>\n",
       "      <td>907.09</td>\n",
       "      <td>1048</td>\n",
       "      <td>0</td>\n",
       "      <td>1</td>\n",
       "      <td>9</td>\n",
       "      <td>2</td>\n",
       "      <td>0</td>\n",
       "      <td>1</td>\n",
       "      <td>1</td>\n",
       "      <td>...</td>\n",
       "      <td>6.81</td>\n",
       "      <td>2</td>\n",
       "      <td>0.01</td>\n",
       "      <td>0.01</td>\n",
       "      <td>0.00</td>\n",
       "      <td>0.00</td>\n",
       "      <td>0.00</td>\n",
       "      <td>0.00</td>\n",
       "      <td>0.00</td>\n",
       "      <td>2</td>\n",
       "    </tr>\n",
       "    <tr>\n",
       "      <th>3</th>\n",
       "      <td>4</td>\n",
       "      <td>907.09</td>\n",
       "      <td>1048</td>\n",
       "      <td>0</td>\n",
       "      <td>0</td>\n",
       "      <td>9</td>\n",
       "      <td>2</td>\n",
       "      <td>0</td>\n",
       "      <td>1</td>\n",
       "      <td>1</td>\n",
       "      <td>...</td>\n",
       "      <td>6.81</td>\n",
       "      <td>2</td>\n",
       "      <td>0.01</td>\n",
       "      <td>0.01</td>\n",
       "      <td>0.00</td>\n",
       "      <td>0.00</td>\n",
       "      <td>0.00</td>\n",
       "      <td>0.00</td>\n",
       "      <td>0.00</td>\n",
       "      <td>2</td>\n",
       "    </tr>\n",
       "    <tr>\n",
       "      <th>4</th>\n",
       "      <td>3</td>\n",
       "      <td>2454.86</td>\n",
       "      <td>1482</td>\n",
       "      <td>0</td>\n",
       "      <td>1</td>\n",
       "      <td>1</td>\n",
       "      <td>3</td>\n",
       "      <td>0</td>\n",
       "      <td>2</td>\n",
       "      <td>1</td>\n",
       "      <td>...</td>\n",
       "      <td>7.81</td>\n",
       "      <td>3</td>\n",
       "      <td>0.65</td>\n",
       "      <td>0.55</td>\n",
       "      <td>0.03</td>\n",
       "      <td>0.00</td>\n",
       "      <td>0.00</td>\n",
       "      <td>0.00</td>\n",
       "      <td>0.41</td>\n",
       "      <td>3-4</td>\n",
       "    </tr>\n",
       "  </tbody>\n",
       "</table>\n",
       "<p>5 rows × 37 columns</p>\n",
       "</div>"
      ],
      "text/plain": [
       "   posa_continent  orig_destination_distance  user_id  is_mobile  is_package   \n",
       "0               3                    2234.26       12          0           1  \\\n",
       "1               3                     907.09      756          0           1   \n",
       "2               4                     907.09     1048          0           1   \n",
       "3               4                     907.09     1048          0           0   \n",
       "4               3                    2454.86     1482          0           1   \n",
       "\n",
       "   channel  srch_adults_cnt  srch_children_cnt  srch_rm_cnt   \n",
       "0        9                2                  0            1  \\\n",
       "1        4                2                  0            1   \n",
       "2        9                2                  0            1   \n",
       "3        9                2                  0            1   \n",
       "4        1                3                  0            2   \n",
       "\n",
       "   srch_destination_type_id  ...  orig_destination_distance_log  total_party   \n",
       "0                         1  ...                           7.71            2  \\\n",
       "1                         1  ...                           6.81            2   \n",
       "2                         1  ...                           6.81            2   \n",
       "3                         1  ...                           6.81            2   \n",
       "4                         1  ...                           7.81            3   \n",
       "\n",
       "   site_name_freq  user_location_country_freq  user_location_region_freq   \n",
       "0            0.65                        0.55                       0.04  \\\n",
       "1            0.65                        0.55                       0.01   \n",
       "2            0.01                        0.01                       0.00   \n",
       "3            0.01                        0.01                       0.00   \n",
       "4            0.65                        0.55                       0.03   \n",
       "\n",
       "   user_location_city_freq  srch_destination_id_freq  hotel_market_freq   \n",
       "0                     0.02                      0.03               0.04  \\\n",
       "1                     0.00                      0.01               0.01   \n",
       "2                     0.00                      0.00               0.00   \n",
       "3                     0.00                      0.00               0.00   \n",
       "4                     0.00                      0.00               0.00   \n",
       "\n",
       "   user_country_hotel_country_freq  party_size_bucket  \n",
       "0                             0.41                  2  \n",
       "1                             0.41                  2  \n",
       "2                             0.00                  2  \n",
       "3                             0.00                  2  \n",
       "4                             0.41                3-4  \n",
       "\n",
       "[5 rows x 37 columns]"
      ]
     },
     "execution_count": 115,
     "metadata": {},
     "output_type": "execute_result"
    }
   ],
   "source": [
    "df.head()"
   ]
  },
  {
   "cell_type": "code",
   "execution_count": 116,
   "id": "8223f373",
   "metadata": {},
   "outputs": [],
   "source": [
    "df = df.drop(columns=['user_id'])"
   ]
  },
  {
   "cell_type": "code",
   "execution_count": 117,
   "id": "0ece01b7",
   "metadata": {},
   "outputs": [
    {
     "data": {
      "application/vnd.microsoft.datawrangler.viewer.v0+json": {
       "columns": [
        {
         "name": "index",
         "rawType": "int64",
         "type": "integer"
        },
        {
         "name": "posa_continent",
         "rawType": "int64",
         "type": "integer"
        },
        {
         "name": "orig_destination_distance",
         "rawType": "float64",
         "type": "float"
        },
        {
         "name": "is_mobile",
         "rawType": "int64",
         "type": "integer"
        },
        {
         "name": "is_package",
         "rawType": "int64",
         "type": "integer"
        },
        {
         "name": "channel",
         "rawType": "int64",
         "type": "integer"
        },
        {
         "name": "srch_adults_cnt",
         "rawType": "int64",
         "type": "integer"
        },
        {
         "name": "srch_children_cnt",
         "rawType": "int64",
         "type": "integer"
        },
        {
         "name": "srch_rm_cnt",
         "rawType": "int64",
         "type": "integer"
        },
        {
         "name": "srch_destination_type_id",
         "rawType": "int64",
         "type": "integer"
        },
        {
         "name": "hotel_continent",
         "rawType": "int64",
         "type": "integer"
        },
        {
         "name": "hotel_country",
         "rawType": "int64",
         "type": "integer"
        },
        {
         "name": "hotel_cluster",
         "rawType": "int64",
         "type": "integer"
        },
        {
         "name": "search_year",
         "rawType": "int32",
         "type": "integer"
        },
        {
         "name": "search_month",
         "rawType": "int32",
         "type": "integer"
        },
        {
         "name": "search_dayofweek",
         "rawType": "int32",
         "type": "integer"
        },
        {
         "name": "search_hour",
         "rawType": "int32",
         "type": "integer"
        },
        {
         "name": "lead_time",
         "rawType": "int64",
         "type": "integer"
        },
        {
         "name": "stay_nights",
         "rawType": "int64",
         "type": "integer"
        },
        {
         "name": "ci_year",
         "rawType": "int32",
         "type": "integer"
        },
        {
         "name": "ci_month",
         "rawType": "int32",
         "type": "integer"
        },
        {
         "name": "ci_day",
         "rawType": "int32",
         "type": "integer"
        },
        {
         "name": "ci_weekday",
         "rawType": "int32",
         "type": "integer"
        },
        {
         "name": "co_year",
         "rawType": "int32",
         "type": "integer"
        },
        {
         "name": "co_month",
         "rawType": "int32",
         "type": "integer"
        },
        {
         "name": "co_day",
         "rawType": "int32",
         "type": "integer"
        },
        {
         "name": "co_weekday",
         "rawType": "int32",
         "type": "integer"
        },
        {
         "name": "orig_destination_distance_log",
         "rawType": "float64",
         "type": "float"
        },
        {
         "name": "total_party",
         "rawType": "int64",
         "type": "integer"
        },
        {
         "name": "site_name_freq",
         "rawType": "float64",
         "type": "float"
        },
        {
         "name": "user_location_country_freq",
         "rawType": "float64",
         "type": "float"
        },
        {
         "name": "user_location_region_freq",
         "rawType": "float64",
         "type": "float"
        },
        {
         "name": "user_location_city_freq",
         "rawType": "float64",
         "type": "float"
        },
        {
         "name": "srch_destination_id_freq",
         "rawType": "float64",
         "type": "float"
        },
        {
         "name": "hotel_market_freq",
         "rawType": "float64",
         "type": "float"
        },
        {
         "name": "user_country_hotel_country_freq",
         "rawType": "float64",
         "type": "float"
        },
        {
         "name": "party_size_bucket",
         "rawType": "category",
         "type": "unknown"
        }
       ],
       "ref": "802be21b-e80b-4e4c-8f8c-cb0515e3619a",
       "rows": [
        [
         "0",
         "3",
         "2234.2641",
         "0",
         "1",
         "9",
         "2",
         "0",
         "1",
         "1",
         "2",
         "50",
         "1",
         "2014",
         "8",
         "0",
         "8",
         "17",
         "4",
         "2014",
         "8",
         "29",
         "4",
         "2014",
         "9",
         "2",
         "1",
         "7.712114665614769",
         "2",
         "0.6465537369414295",
         "0.5476513316153964",
         "0.0445132047665255",
         "0.016936245686414376",
         "0.03331876728379591",
         "0.04442966418829618",
         "0.41445766099233355",
         "2"
        ],
        [
         "1",
         "3",
         "907.0869",
         "0",
         "1",
         "4",
         "2",
         "0",
         "1",
         "1",
         "2",
         "50",
         "2",
         "2014",
         "2",
         "3",
         "18",
         "49",
         "2",
         "2014",
         "4",
         "18",
         "4",
         "2014",
         "4",
         "20",
         "6",
         "6.811340078867691",
         "2",
         "0.6465537369414295",
         "0.5476513316153964",
         "0.014304717472190627",
         "8.24695451751032e-05",
         "0.005943162417878541",
         "0.012697096857803226",
         "0.41445766099233355",
         "2"
        ],
        [
         "2",
         "4",
         "907.0869",
         "0",
         "1",
         "9",
         "2",
         "0",
         "1",
         "1",
         "0",
         "185",
         "58",
         "2013",
         "6",
         "5",
         "15",
         "82",
         "8",
         "2013",
         "9",
         "6",
         "4",
         "2013",
         "9",
         "14",
         "5",
         "6.811340078867691",
         "2",
         "0.006417630060898939",
         "0.006692885555834024",
         "0.004169531680086711",
         "0.0029378436677312734",
         "7.283024768710412e-05",
         "8.675367739199168e-05",
         "3.962822300621842e-05",
         "2"
        ],
        [
         "3",
         "4",
         "907.0869",
         "0",
         "0",
         "9",
         "2",
         "0",
         "1",
         "1",
         "3",
         "151",
         "36",
         "2014",
         "11",
         "6",
         "18",
         "214",
         "2",
         "2015",
         "6",
         "26",
         "4",
         "2015",
         "6",
         "28",
         "6",
         "6.811340078867691",
         "2",
         "0.006417630060898939",
         "0.006692885555834024",
         "0.0007989906584497011",
         "3.213099162666358e-06",
         "0.0018089748285811597",
         "0.0022395301163784516",
         "6.640404936177141e-05",
         "2"
        ],
        [
         "4",
         "3",
         "2454.8588",
         "0",
         "1",
         "1",
         "3",
         "0",
         "2",
         "1",
         "2",
         "50",
         "95",
         "2014",
         "1",
         "4",
         "16",
         "49",
         "5",
         "2014",
         "2",
         "22",
         "5",
         "2014",
         "2",
         "27",
         "3",
         "7.806231795757635",
         "3",
         "0.6465537369414295",
         "0.5476513316153964",
         "0.028098552177517302",
         "0.00044340768444795745",
         "0.0007882803279074799",
         "0.0015176538378327432",
         "0.41445766099233355",
         "3-4"
        ]
       ],
       "shape": {
        "columns": 36,
        "rows": 5
       }
      },
      "text/html": [
       "<div>\n",
       "<style scoped>\n",
       "    .dataframe tbody tr th:only-of-type {\n",
       "        vertical-align: middle;\n",
       "    }\n",
       "\n",
       "    .dataframe tbody tr th {\n",
       "        vertical-align: top;\n",
       "    }\n",
       "\n",
       "    .dataframe thead th {\n",
       "        text-align: right;\n",
       "    }\n",
       "</style>\n",
       "<table border=\"1\" class=\"dataframe\">\n",
       "  <thead>\n",
       "    <tr style=\"text-align: right;\">\n",
       "      <th></th>\n",
       "      <th>posa_continent</th>\n",
       "      <th>orig_destination_distance</th>\n",
       "      <th>is_mobile</th>\n",
       "      <th>is_package</th>\n",
       "      <th>channel</th>\n",
       "      <th>srch_adults_cnt</th>\n",
       "      <th>srch_children_cnt</th>\n",
       "      <th>srch_rm_cnt</th>\n",
       "      <th>srch_destination_type_id</th>\n",
       "      <th>hotel_continent</th>\n",
       "      <th>...</th>\n",
       "      <th>orig_destination_distance_log</th>\n",
       "      <th>total_party</th>\n",
       "      <th>site_name_freq</th>\n",
       "      <th>user_location_country_freq</th>\n",
       "      <th>user_location_region_freq</th>\n",
       "      <th>user_location_city_freq</th>\n",
       "      <th>srch_destination_id_freq</th>\n",
       "      <th>hotel_market_freq</th>\n",
       "      <th>user_country_hotel_country_freq</th>\n",
       "      <th>party_size_bucket</th>\n",
       "    </tr>\n",
       "  </thead>\n",
       "  <tbody>\n",
       "    <tr>\n",
       "      <th>0</th>\n",
       "      <td>3</td>\n",
       "      <td>2234.26</td>\n",
       "      <td>0</td>\n",
       "      <td>1</td>\n",
       "      <td>9</td>\n",
       "      <td>2</td>\n",
       "      <td>0</td>\n",
       "      <td>1</td>\n",
       "      <td>1</td>\n",
       "      <td>2</td>\n",
       "      <td>...</td>\n",
       "      <td>7.71</td>\n",
       "      <td>2</td>\n",
       "      <td>0.65</td>\n",
       "      <td>0.55</td>\n",
       "      <td>0.04</td>\n",
       "      <td>0.02</td>\n",
       "      <td>0.03</td>\n",
       "      <td>0.04</td>\n",
       "      <td>0.41</td>\n",
       "      <td>2</td>\n",
       "    </tr>\n",
       "    <tr>\n",
       "      <th>1</th>\n",
       "      <td>3</td>\n",
       "      <td>907.09</td>\n",
       "      <td>0</td>\n",
       "      <td>1</td>\n",
       "      <td>4</td>\n",
       "      <td>2</td>\n",
       "      <td>0</td>\n",
       "      <td>1</td>\n",
       "      <td>1</td>\n",
       "      <td>2</td>\n",
       "      <td>...</td>\n",
       "      <td>6.81</td>\n",
       "      <td>2</td>\n",
       "      <td>0.65</td>\n",
       "      <td>0.55</td>\n",
       "      <td>0.01</td>\n",
       "      <td>0.00</td>\n",
       "      <td>0.01</td>\n",
       "      <td>0.01</td>\n",
       "      <td>0.41</td>\n",
       "      <td>2</td>\n",
       "    </tr>\n",
       "    <tr>\n",
       "      <th>2</th>\n",
       "      <td>4</td>\n",
       "      <td>907.09</td>\n",
       "      <td>0</td>\n",
       "      <td>1</td>\n",
       "      <td>9</td>\n",
       "      <td>2</td>\n",
       "      <td>0</td>\n",
       "      <td>1</td>\n",
       "      <td>1</td>\n",
       "      <td>0</td>\n",
       "      <td>...</td>\n",
       "      <td>6.81</td>\n",
       "      <td>2</td>\n",
       "      <td>0.01</td>\n",
       "      <td>0.01</td>\n",
       "      <td>0.00</td>\n",
       "      <td>0.00</td>\n",
       "      <td>0.00</td>\n",
       "      <td>0.00</td>\n",
       "      <td>0.00</td>\n",
       "      <td>2</td>\n",
       "    </tr>\n",
       "    <tr>\n",
       "      <th>3</th>\n",
       "      <td>4</td>\n",
       "      <td>907.09</td>\n",
       "      <td>0</td>\n",
       "      <td>0</td>\n",
       "      <td>9</td>\n",
       "      <td>2</td>\n",
       "      <td>0</td>\n",
       "      <td>1</td>\n",
       "      <td>1</td>\n",
       "      <td>3</td>\n",
       "      <td>...</td>\n",
       "      <td>6.81</td>\n",
       "      <td>2</td>\n",
       "      <td>0.01</td>\n",
       "      <td>0.01</td>\n",
       "      <td>0.00</td>\n",
       "      <td>0.00</td>\n",
       "      <td>0.00</td>\n",
       "      <td>0.00</td>\n",
       "      <td>0.00</td>\n",
       "      <td>2</td>\n",
       "    </tr>\n",
       "    <tr>\n",
       "      <th>4</th>\n",
       "      <td>3</td>\n",
       "      <td>2454.86</td>\n",
       "      <td>0</td>\n",
       "      <td>1</td>\n",
       "      <td>1</td>\n",
       "      <td>3</td>\n",
       "      <td>0</td>\n",
       "      <td>2</td>\n",
       "      <td>1</td>\n",
       "      <td>2</td>\n",
       "      <td>...</td>\n",
       "      <td>7.81</td>\n",
       "      <td>3</td>\n",
       "      <td>0.65</td>\n",
       "      <td>0.55</td>\n",
       "      <td>0.03</td>\n",
       "      <td>0.00</td>\n",
       "      <td>0.00</td>\n",
       "      <td>0.00</td>\n",
       "      <td>0.41</td>\n",
       "      <td>3-4</td>\n",
       "    </tr>\n",
       "  </tbody>\n",
       "</table>\n",
       "<p>5 rows × 36 columns</p>\n",
       "</div>"
      ],
      "text/plain": [
       "   posa_continent  orig_destination_distance  is_mobile  is_package  channel   \n",
       "0               3                    2234.26          0           1        9  \\\n",
       "1               3                     907.09          0           1        4   \n",
       "2               4                     907.09          0           1        9   \n",
       "3               4                     907.09          0           0        9   \n",
       "4               3                    2454.86          0           1        1   \n",
       "\n",
       "   srch_adults_cnt  srch_children_cnt  srch_rm_cnt  srch_destination_type_id   \n",
       "0                2                  0            1                         1  \\\n",
       "1                2                  0            1                         1   \n",
       "2                2                  0            1                         1   \n",
       "3                2                  0            1                         1   \n",
       "4                3                  0            2                         1   \n",
       "\n",
       "   hotel_continent  ...  orig_destination_distance_log  total_party   \n",
       "0                2  ...                           7.71            2  \\\n",
       "1                2  ...                           6.81            2   \n",
       "2                0  ...                           6.81            2   \n",
       "3                3  ...                           6.81            2   \n",
       "4                2  ...                           7.81            3   \n",
       "\n",
       "   site_name_freq  user_location_country_freq  user_location_region_freq   \n",
       "0            0.65                        0.55                       0.04  \\\n",
       "1            0.65                        0.55                       0.01   \n",
       "2            0.01                        0.01                       0.00   \n",
       "3            0.01                        0.01                       0.00   \n",
       "4            0.65                        0.55                       0.03   \n",
       "\n",
       "   user_location_city_freq  srch_destination_id_freq  hotel_market_freq   \n",
       "0                     0.02                      0.03               0.04  \\\n",
       "1                     0.00                      0.01               0.01   \n",
       "2                     0.00                      0.00               0.00   \n",
       "3                     0.00                      0.00               0.00   \n",
       "4                     0.00                      0.00               0.00   \n",
       "\n",
       "   user_country_hotel_country_freq  party_size_bucket  \n",
       "0                             0.41                  2  \n",
       "1                             0.41                  2  \n",
       "2                             0.00                  2  \n",
       "3                             0.00                  2  \n",
       "4                             0.41                3-4  \n",
       "\n",
       "[5 rows x 36 columns]"
      ]
     },
     "execution_count": 117,
     "metadata": {},
     "output_type": "execute_result"
    }
   ],
   "source": [
    "df.head()"
   ]
  },
  {
   "cell_type": "code",
   "execution_count": 120,
   "id": "c185a6b9",
   "metadata": {},
   "outputs": [],
   "source": [
    "X = df.drop(columns=['hotel_cluster','orig_destination_distance'])\n",
    "y = df['hotel_cluster']"
   ]
  },
  {
   "cell_type": "code",
   "execution_count": 121,
   "id": "48fa47ea",
   "metadata": {},
   "outputs": [],
   "source": [
    "X_train, X_test, y_train, y_test = train_test_split(X, y, test_size=0.2, random_state=42, stratify=y)\n"
   ]
  },
  {
   "cell_type": "code",
   "execution_count": 122,
   "id": "c921dbb1",
   "metadata": {},
   "outputs": [],
   "source": [
    "numeric_features = ['orig_destination_distance_log', 'total_party']\n",
    "categorical_features = ['party_size_bucket']"
   ]
  },
  {
   "cell_type": "code",
   "execution_count": 125,
   "id": "f20273aa",
   "metadata": {},
   "outputs": [],
   "source": [
    "from sklearn.compose import ColumnTransformer\n",
    "from sklearn.preprocessing import StandardScaler, OneHotEncoder"
   ]
  },
  {
   "cell_type": "code",
   "execution_count": 126,
   "id": "4f041009",
   "metadata": {},
   "outputs": [],
   "source": [
    "preprocessor = ColumnTransformer( transformers=[('num', StandardScaler(), numeric_features),\n",
    "                                                ('cat', OneHotEncoder(handle_unknown='ignore'), categorical_features)])"
   ]
  },
  {
   "cell_type": "code",
   "execution_count": 127,
   "id": "f9f7b7d1",
   "metadata": {},
   "outputs": [
    {
     "data": {
      "text/plain": [
       "(746942, 34)"
      ]
     },
     "execution_count": 127,
     "metadata": {},
     "output_type": "execute_result"
    }
   ],
   "source": [
    "X_train.shape"
   ]
  },
  {
   "cell_type": "code",
   "execution_count": 128,
   "id": "bd2f8eff",
   "metadata": {},
   "outputs": [
    {
     "data": {
      "text/plain": [
       "(746942,)"
      ]
     },
     "execution_count": 128,
     "metadata": {},
     "output_type": "execute_result"
    }
   ],
   "source": [
    "y_train.shape"
   ]
  },
  {
   "cell_type": "code",
   "execution_count": 2,
   "id": "60327860",
   "metadata": {},
   "outputs": [],
   "source": [
    "from sklearn.pipeline import Pipeline"
   ]
  },
  {
   "cell_type": "code",
   "execution_count": 5,
   "id": "331ff904",
   "metadata": {},
   "outputs": [
    {
     "ename": "ModuleNotFoundError",
     "evalue": "No module named 'imblearn'",
     "output_type": "error",
     "traceback": [
      "\u001b[31m---------------------------------------------------------------------------\u001b[39m",
      "\u001b[31mModuleNotFoundError\u001b[39m                       Traceback (most recent call last)",
      "\u001b[36mCell\u001b[39m\u001b[36m \u001b[39m\u001b[32mIn[5]\u001b[39m\u001b[32m, line 1\u001b[39m\n\u001b[32m----> \u001b[39m\u001b[32m1\u001b[39m \u001b[38;5;28;01mfrom\u001b[39;00m\u001b[38;5;250m \u001b[39m\u001b[34;01mimblearn\u001b[39;00m\u001b[34;01m.\u001b[39;00m\u001b[34;01mover_sampling\u001b[39;00m\u001b[38;5;250m \u001b[39m\u001b[38;5;28;01mimport\u001b[39;00m SMOTE\n",
      "\u001b[31mModuleNotFoundError\u001b[39m: No module named 'imblearn'"
     ]
    }
   ],
   "source": [
    "from imblearn.over_sampling import SMOTE"
   ]
  },
  {
   "cell_type": "code",
   "execution_count": 145,
   "id": "f36eb737",
   "metadata": {},
   "outputs": [
    {
     "ename": "NameError",
     "evalue": "name 'SMOTE' is not defined",
     "output_type": "error",
     "traceback": [
      "\u001b[31m---------------------------------------------------------------------------\u001b[39m",
      "\u001b[31mNameError\u001b[39m                                 Traceback (most recent call last)",
      "\u001b[36mCell\u001b[39m\u001b[36m \u001b[39m\u001b[32mIn[145]\u001b[39m\u001b[32m, line 1\u001b[39m\n\u001b[32m----> \u001b[39m\u001b[32m1\u001b[39m smote = \u001b[43mSMOTE\u001b[49m(random_state=\u001b[32m42\u001b[39m)\n\u001b[32m      2\u001b[39m X_train_res, y_train_res = smote.fit_resample(X_train, y_train)\n",
      "\u001b[31mNameError\u001b[39m: name 'SMOTE' is not defined"
     ]
    }
   ],
   "source": [
    "smote = SMOTE(random_state=42)\n",
    "X_train_res, y_train_res = smote.fit_resample(X_train, y_train)"
   ]
  },
  {
   "cell_type": "code",
   "execution_count": 140,
   "id": "80210182",
   "metadata": {},
   "outputs": [],
   "source": [
    "model_5 = Pipeline(steps=[\n",
    "    ('preprocessor', preprocessor),\n",
    "    ('classifier', DecisionTreeClassifier(max_depth=20, min_samples_split=50, class_weight='balanced', random_state=42))\n",
    "])\n"
   ]
  },
  {
   "cell_type": "code",
   "execution_count": 141,
   "id": "a8576c25",
   "metadata": {},
   "outputs": [
    {
     "data": {
      "text/html": [
       "<style>#sk-container-id-7 {color: black;background-color: white;}#sk-container-id-7 pre{padding: 0;}#sk-container-id-7 div.sk-toggleable {background-color: white;}#sk-container-id-7 label.sk-toggleable__label {cursor: pointer;display: block;width: 100%;margin-bottom: 0;padding: 0.3em;box-sizing: border-box;text-align: center;}#sk-container-id-7 label.sk-toggleable__label-arrow:before {content: \"▸\";float: left;margin-right: 0.25em;color: #696969;}#sk-container-id-7 label.sk-toggleable__label-arrow:hover:before {color: black;}#sk-container-id-7 div.sk-estimator:hover label.sk-toggleable__label-arrow:before {color: black;}#sk-container-id-7 div.sk-toggleable__content {max-height: 0;max-width: 0;overflow: hidden;text-align: left;background-color: #f0f8ff;}#sk-container-id-7 div.sk-toggleable__content pre {margin: 0.2em;color: black;border-radius: 0.25em;background-color: #f0f8ff;}#sk-container-id-7 input.sk-toggleable__control:checked~div.sk-toggleable__content {max-height: 200px;max-width: 100%;overflow: auto;}#sk-container-id-7 input.sk-toggleable__control:checked~label.sk-toggleable__label-arrow:before {content: \"▾\";}#sk-container-id-7 div.sk-estimator input.sk-toggleable__control:checked~label.sk-toggleable__label {background-color: #d4ebff;}#sk-container-id-7 div.sk-label input.sk-toggleable__control:checked~label.sk-toggleable__label {background-color: #d4ebff;}#sk-container-id-7 input.sk-hidden--visually {border: 0;clip: rect(1px 1px 1px 1px);clip: rect(1px, 1px, 1px, 1px);height: 1px;margin: -1px;overflow: hidden;padding: 0;position: absolute;width: 1px;}#sk-container-id-7 div.sk-estimator {font-family: monospace;background-color: #f0f8ff;border: 1px dotted black;border-radius: 0.25em;box-sizing: border-box;margin-bottom: 0.5em;}#sk-container-id-7 div.sk-estimator:hover {background-color: #d4ebff;}#sk-container-id-7 div.sk-parallel-item::after {content: \"\";width: 100%;border-bottom: 1px solid gray;flex-grow: 1;}#sk-container-id-7 div.sk-label:hover label.sk-toggleable__label {background-color: #d4ebff;}#sk-container-id-7 div.sk-serial::before {content: \"\";position: absolute;border-left: 1px solid gray;box-sizing: border-box;top: 0;bottom: 0;left: 50%;z-index: 0;}#sk-container-id-7 div.sk-serial {display: flex;flex-direction: column;align-items: center;background-color: white;padding-right: 0.2em;padding-left: 0.2em;position: relative;}#sk-container-id-7 div.sk-item {position: relative;z-index: 1;}#sk-container-id-7 div.sk-parallel {display: flex;align-items: stretch;justify-content: center;background-color: white;position: relative;}#sk-container-id-7 div.sk-item::before, #sk-container-id-7 div.sk-parallel-item::before {content: \"\";position: absolute;border-left: 1px solid gray;box-sizing: border-box;top: 0;bottom: 0;left: 50%;z-index: -1;}#sk-container-id-7 div.sk-parallel-item {display: flex;flex-direction: column;z-index: 1;position: relative;background-color: white;}#sk-container-id-7 div.sk-parallel-item:first-child::after {align-self: flex-end;width: 50%;}#sk-container-id-7 div.sk-parallel-item:last-child::after {align-self: flex-start;width: 50%;}#sk-container-id-7 div.sk-parallel-item:only-child::after {width: 0;}#sk-container-id-7 div.sk-dashed-wrapped {border: 1px dashed gray;margin: 0 0.4em 0.5em 0.4em;box-sizing: border-box;padding-bottom: 0.4em;background-color: white;}#sk-container-id-7 div.sk-label label {font-family: monospace;font-weight: bold;display: inline-block;line-height: 1.2em;}#sk-container-id-7 div.sk-label-container {text-align: center;}#sk-container-id-7 div.sk-container {/* jupyter's `normalize.less` sets `[hidden] { display: none; }` but bootstrap.min.css set `[hidden] { display: none !important; }` so we also need the `!important` here to be able to override the default hidden behavior on the sphinx rendered scikit-learn.org. See: https://github.com/scikit-learn/scikit-learn/issues/21755 */display: inline-block !important;position: relative;}#sk-container-id-7 div.sk-text-repr-fallback {display: none;}</style><div id=\"sk-container-id-7\" class=\"sk-top-container\"><div class=\"sk-text-repr-fallback\"><pre>Pipeline(steps=[(&#x27;preprocessor&#x27;,\n",
       "                 ColumnTransformer(transformers=[(&#x27;num&#x27;, StandardScaler(),\n",
       "                                                  [&#x27;orig_destination_distance_log&#x27;,\n",
       "                                                   &#x27;total_party&#x27;]),\n",
       "                                                 (&#x27;cat&#x27;,\n",
       "                                                  OneHotEncoder(handle_unknown=&#x27;ignore&#x27;),\n",
       "                                                  [&#x27;party_size_bucket&#x27;])])),\n",
       "                (&#x27;classifier&#x27;,\n",
       "                 DecisionTreeClassifier(class_weight=&#x27;balanced&#x27;, max_depth=20,\n",
       "                                        min_samples_split=50,\n",
       "                                        random_state=42))])</pre><b>In a Jupyter environment, please rerun this cell to show the HTML representation or trust the notebook. <br />On GitHub, the HTML representation is unable to render, please try loading this page with nbviewer.org.</b></div><div class=\"sk-container\" hidden><div class=\"sk-item sk-dashed-wrapped\"><div class=\"sk-label-container\"><div class=\"sk-label sk-toggleable\"><input class=\"sk-toggleable__control sk-hidden--visually\" id=\"sk-estimator-id-7\" type=\"checkbox\" ><label for=\"sk-estimator-id-7\" class=\"sk-toggleable__label sk-toggleable__label-arrow\">Pipeline</label><div class=\"sk-toggleable__content\"><pre>Pipeline(steps=[(&#x27;preprocessor&#x27;,\n",
       "                 ColumnTransformer(transformers=[(&#x27;num&#x27;, StandardScaler(),\n",
       "                                                  [&#x27;orig_destination_distance_log&#x27;,\n",
       "                                                   &#x27;total_party&#x27;]),\n",
       "                                                 (&#x27;cat&#x27;,\n",
       "                                                  OneHotEncoder(handle_unknown=&#x27;ignore&#x27;),\n",
       "                                                  [&#x27;party_size_bucket&#x27;])])),\n",
       "                (&#x27;classifier&#x27;,\n",
       "                 DecisionTreeClassifier(class_weight=&#x27;balanced&#x27;, max_depth=20,\n",
       "                                        min_samples_split=50,\n",
       "                                        random_state=42))])</pre></div></div></div><div class=\"sk-serial\"><div class=\"sk-item sk-dashed-wrapped\"><div class=\"sk-label-container\"><div class=\"sk-label sk-toggleable\"><input class=\"sk-toggleable__control sk-hidden--visually\" id=\"sk-estimator-id-8\" type=\"checkbox\" ><label for=\"sk-estimator-id-8\" class=\"sk-toggleable__label sk-toggleable__label-arrow\">preprocessor: ColumnTransformer</label><div class=\"sk-toggleable__content\"><pre>ColumnTransformer(transformers=[(&#x27;num&#x27;, StandardScaler(),\n",
       "                                 [&#x27;orig_destination_distance_log&#x27;,\n",
       "                                  &#x27;total_party&#x27;]),\n",
       "                                (&#x27;cat&#x27;, OneHotEncoder(handle_unknown=&#x27;ignore&#x27;),\n",
       "                                 [&#x27;party_size_bucket&#x27;])])</pre></div></div></div><div class=\"sk-parallel\"><div class=\"sk-parallel-item\"><div class=\"sk-item\"><div class=\"sk-label-container\"><div class=\"sk-label sk-toggleable\"><input class=\"sk-toggleable__control sk-hidden--visually\" id=\"sk-estimator-id-9\" type=\"checkbox\" ><label for=\"sk-estimator-id-9\" class=\"sk-toggleable__label sk-toggleable__label-arrow\">num</label><div class=\"sk-toggleable__content\"><pre>[&#x27;orig_destination_distance_log&#x27;, &#x27;total_party&#x27;]</pre></div></div></div><div class=\"sk-serial\"><div class=\"sk-item\"><div class=\"sk-estimator sk-toggleable\"><input class=\"sk-toggleable__control sk-hidden--visually\" id=\"sk-estimator-id-10\" type=\"checkbox\" ><label for=\"sk-estimator-id-10\" class=\"sk-toggleable__label sk-toggleable__label-arrow\">StandardScaler</label><div class=\"sk-toggleable__content\"><pre>StandardScaler()</pre></div></div></div></div></div></div><div class=\"sk-parallel-item\"><div class=\"sk-item\"><div class=\"sk-label-container\"><div class=\"sk-label sk-toggleable\"><input class=\"sk-toggleable__control sk-hidden--visually\" id=\"sk-estimator-id-11\" type=\"checkbox\" ><label for=\"sk-estimator-id-11\" class=\"sk-toggleable__label sk-toggleable__label-arrow\">cat</label><div class=\"sk-toggleable__content\"><pre>[&#x27;party_size_bucket&#x27;]</pre></div></div></div><div class=\"sk-serial\"><div class=\"sk-item\"><div class=\"sk-estimator sk-toggleable\"><input class=\"sk-toggleable__control sk-hidden--visually\" id=\"sk-estimator-id-12\" type=\"checkbox\" ><label for=\"sk-estimator-id-12\" class=\"sk-toggleable__label sk-toggleable__label-arrow\">OneHotEncoder</label><div class=\"sk-toggleable__content\"><pre>OneHotEncoder(handle_unknown=&#x27;ignore&#x27;)</pre></div></div></div></div></div></div></div></div><div class=\"sk-item\"><div class=\"sk-estimator sk-toggleable\"><input class=\"sk-toggleable__control sk-hidden--visually\" id=\"sk-estimator-id-13\" type=\"checkbox\" ><label for=\"sk-estimator-id-13\" class=\"sk-toggleable__label sk-toggleable__label-arrow\">DecisionTreeClassifier</label><div class=\"sk-toggleable__content\"><pre>DecisionTreeClassifier(class_weight=&#x27;balanced&#x27;, max_depth=20,\n",
       "                       min_samples_split=50, random_state=42)</pre></div></div></div></div></div></div></div>"
      ],
      "text/plain": [
       "Pipeline(steps=[('preprocessor',\n",
       "                 ColumnTransformer(transformers=[('num', StandardScaler(),\n",
       "                                                  ['orig_destination_distance_log',\n",
       "                                                   'total_party']),\n",
       "                                                 ('cat',\n",
       "                                                  OneHotEncoder(handle_unknown='ignore'),\n",
       "                                                  ['party_size_bucket'])])),\n",
       "                ('classifier',\n",
       "                 DecisionTreeClassifier(class_weight='balanced', max_depth=20,\n",
       "                                        min_samples_split=50,\n",
       "                                        random_state=42))])"
      ]
     },
     "execution_count": 141,
     "metadata": {},
     "output_type": "execute_result"
    }
   ],
   "source": [
    "model_5.fit(X_train, y_train)"
   ]
  },
  {
   "cell_type": "code",
   "execution_count": 143,
   "id": "e3d9ab74",
   "metadata": {},
   "outputs": [],
   "source": [
    "from sklearn.metrics import top_k_accuracy_score, accuracy_score, f1_score"
   ]
  },
  {
   "cell_type": "code",
   "execution_count": 144,
   "id": "a2e85e67",
   "metadata": {},
   "outputs": [
    {
     "name": "stdout",
     "output_type": "stream",
     "text": [
      "Decision Tree Accuracy: 0.0409\n",
      "Decision Tree Macro F1-score: 0.0008\n",
      "Decision Tree Top-5 Accuracy: 0.1313\n"
     ]
    }
   ],
   "source": [
    "y_pred_model5 = model_5.predict(X_test)\n",
    "y_proba = model_5.predict_proba(X_test)\n",
    "\n",
    "accuracy = accuracy_score(y_test, y_pred_model5)\n",
    "f1 = f1_score(y_test, y_pred, average='macro')\n",
    "top5 = top_k_accuracy_score(y_test, y_proba, k=5)\n",
    "\n",
    "print(f\"Decision Tree Accuracy: {accuracy:.4f}\")\n",
    "print(f\"Decision Tree Macro F1-score: {f1:.4f}\")\n",
    "print(f\"Decision Tree Top-5 Accuracy: {top5:.4f}\")"
   ]
  }
 ],
 "metadata": {
  "kernelspec": {
   "display_name": "3.11.3",
   "language": "python",
   "name": "python3"
  },
  "language_info": {
   "codemirror_mode": {
    "name": "ipython",
    "version": 3
   },
   "file_extension": ".py",
   "mimetype": "text/x-python",
   "name": "python",
   "nbconvert_exporter": "python",
   "pygments_lexer": "ipython3",
   "version": "3.11.3"
  }
 },
 "nbformat": 4,
 "nbformat_minor": 5
}
